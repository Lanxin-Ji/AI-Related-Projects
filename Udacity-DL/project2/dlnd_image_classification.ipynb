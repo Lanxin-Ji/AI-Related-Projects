{
 "cells": [
  {
   "cell_type": "markdown",
   "metadata": {
    "collapsed": true
   },
   "source": [
    "# Image Classification\n",
    "In this project, you'll classify images from the [CIFAR-10 dataset](https://www.cs.toronto.edu/~kriz/cifar.html).  The dataset consists of airplanes, dogs, cats, and other objects. You'll preprocess the images, then train a convolutional neural network on all the samples. The images need to be normalized and the labels need to be one-hot encoded.  You'll get to apply what you learned and build a convolutional, max pooling, dropout, and fully connected layers.  At the end, you'll get to see your neural network's predictions on the sample images.\n",
    "## Get the Data\n",
    "Run the following cell to download the [CIFAR-10 dataset for python](https://www.cs.toronto.edu/~kriz/cifar-10-python.tar.gz)."
   ]
  },
  {
   "cell_type": "code",
   "execution_count": 3,
   "metadata": {},
   "outputs": [
    {
     "ename": "AssertionError",
     "evalue": "Missing files in directory: ['cifar-10-batches-py/data_batch_1', 'cifar-10-batches-py/data_batch_2', 'cifar-10-batches-py/data_batch_3', 'cifar-10-batches-py/data_batch_5', 'cifar-10-batches-py/batches.meta', 'cifar-10-batches-py/test_batch']",
     "output_type": "error",
     "traceback": [
      "\u001b[0;31m---------------------------------------------------------------------------\u001b[0m",
      "\u001b[0;31mAssertionError\u001b[0m                            Traceback (most recent call last)",
      "\u001b[0;32m<ipython-input-3-d0a4413c56c9>\u001b[0m in \u001b[0;36m<module>\u001b[0;34m()\u001b[0m\n\u001b[1;32m     38\u001b[0m \u001b[0;34m\u001b[0m\u001b[0m\n\u001b[1;32m     39\u001b[0m \u001b[0;34m\u001b[0m\u001b[0m\n\u001b[0;32m---> 40\u001b[0;31m \u001b[0mtests\u001b[0m\u001b[0;34m.\u001b[0m\u001b[0mtest_folder_path\u001b[0m\u001b[0;34m(\u001b[0m\u001b[0mcifar10_dataset_folder_path\u001b[0m\u001b[0;34m)\u001b[0m\u001b[0;34m\u001b[0m\u001b[0m\n\u001b[0m",
      "\u001b[0;32m~/Documents/udacity_DL/project2/problem_unittests.py\u001b[0m in \u001b[0;36mtest_folder_path\u001b[0;34m(cifar10_dataset_folder_path)\u001b[0m\n\u001b[1;32m     25\u001b[0m \u001b[0;34m\u001b[0m\u001b[0m\n\u001b[1;32m     26\u001b[0m     \u001b[0;32massert\u001b[0m \u001b[0;32mnot\u001b[0m \u001b[0mmissing_files\u001b[0m\u001b[0;34m,\u001b[0m\u001b[0;31m\\\u001b[0m\u001b[0;34m\u001b[0m\u001b[0m\n\u001b[0;32m---> 27\u001b[0;31m         \u001b[0;34m'Missing files in directory: {}'\u001b[0m\u001b[0;34m.\u001b[0m\u001b[0mformat\u001b[0m\u001b[0;34m(\u001b[0m\u001b[0mmissing_files\u001b[0m\u001b[0;34m)\u001b[0m\u001b[0;34m\u001b[0m\u001b[0m\n\u001b[0m\u001b[1;32m     28\u001b[0m \u001b[0;34m\u001b[0m\u001b[0m\n\u001b[1;32m     29\u001b[0m     \u001b[0mprint\u001b[0m\u001b[0;34m(\u001b[0m\u001b[0;34m'All files found!'\u001b[0m\u001b[0;34m)\u001b[0m\u001b[0;34m\u001b[0m\u001b[0m\n",
      "\u001b[0;31mAssertionError\u001b[0m: Missing files in directory: ['cifar-10-batches-py/data_batch_1', 'cifar-10-batches-py/data_batch_2', 'cifar-10-batches-py/data_batch_3', 'cifar-10-batches-py/data_batch_5', 'cifar-10-batches-py/batches.meta', 'cifar-10-batches-py/test_batch']"
     ]
    }
   ],
   "source": [
    "\"\"\"\n",
    "DON'T MODIFY ANYTHING IN THIS CELL THAT IS BELOW THIS LINE\n",
    "\"\"\"\n",
    "from urllib.request import urlretrieve\n",
    "from os.path import isfile, isdir\n",
    "from tqdm import tqdm\n",
    "import problem_unittests as tests\n",
    "import tarfile\n",
    "\n",
    "cifar10_dataset_folder_path = 'cifar-10-batches-py'\n",
    "\n",
    "# Use Floyd's cifar-10 dataset if present\n",
    "floyd_cifar10_location = '/cifar/cifar-10-python.tar.gz'\n",
    "if isfile(floyd_cifar10_location):\n",
    "    tar_gz_path = floyd_cifar10_location\n",
    "else:\n",
    "    tar_gz_path = 'cifar-10-python.tar.gz'\n",
    "\n",
    "class DLProgress(tqdm):\n",
    "    last_block = 0\n",
    "\n",
    "    def hook(self, block_num=1, block_size=1, total_size=None):\n",
    "        self.total = total_size\n",
    "        self.update((block_num - self.last_block) * block_size)\n",
    "        self.last_block = block_num\n",
    "\n",
    "if not isfile(tar_gz_path):\n",
    "    with DLProgress(unit='B', unit_scale=True, miniters=1, desc='CIFAR-10 Dataset') as pbar:\n",
    "        urlretrieve(\n",
    "            'https://www.cs.toronto.edu/~kriz/cifar-10-python.tar.gz',\n",
    "            tar_gz_path,\n",
    "            pbar.hook)\n",
    "\n",
    "if not isdir(cifar10_dataset_folder_path):\n",
    "    with tarfile.open(tar_gz_path) as tar:\n",
    "        tar.extractall()\n",
    "        tar.close()\n",
    "\n",
    "\n",
    "tests.test_folder_path(cifar10_dataset_folder_path)"
   ]
  },
  {
   "cell_type": "markdown",
   "metadata": {},
   "source": [
    "## Explore the Data\n",
    "The dataset is broken into batches to prevent your machine from running out of memory.  The CIFAR-10 dataset consists of 5 batches, named `data_batch_1`, `data_batch_2`, etc.. Each batch contains the labels and images that are one of the following:\n",
    "* airplane\n",
    "* automobile\n",
    "* bird\n",
    "* cat\n",
    "* deer\n",
    "* dog\n",
    "* frog\n",
    "* horse\n",
    "* ship\n",
    "* truck\n",
    "\n",
    "Understanding a dataset is part of making predictions on the data.  Play around with the code cell below by changing the `batch_id` and `sample_id`. The `batch_id` is the id for a batch (1-5). The `sample_id` is the id for a image and label pair in the batch.\n",
    "\n",
    "Ask yourself \"What are all possible labels?\", \"What is the range of values for the image data?\", \"Are the labels in order or random?\".  Answers to questions like these will help you preprocess the data and end up with better predictions."
   ]
  },
  {
   "cell_type": "code",
   "execution_count": 5,
   "metadata": {},
   "outputs": [
    {
     "ename": "FileNotFoundError",
     "evalue": "[Errno 2] No such file or directory: 'cifar-10-batches-py/data_batch_1'",
     "output_type": "error",
     "traceback": [
      "\u001b[0;31m---------------------------------------------------------------------------\u001b[0m",
      "\u001b[0;31mFileNotFoundError\u001b[0m                         Traceback (most recent call last)",
      "\u001b[0;32m<ipython-input-5-0734582b9a3d>\u001b[0m in \u001b[0;36m<module>\u001b[0;34m()\u001b[0m\n\u001b[1;32m      8\u001b[0m \u001b[0mbatch_id\u001b[0m \u001b[0;34m=\u001b[0m \u001b[0;36m1\u001b[0m\u001b[0;34m\u001b[0m\u001b[0m\n\u001b[1;32m      9\u001b[0m \u001b[0msample_id\u001b[0m \u001b[0;34m=\u001b[0m \u001b[0;36m20\u001b[0m\u001b[0;34m\u001b[0m\u001b[0m\n\u001b[0;32m---> 10\u001b[0;31m \u001b[0mhelper\u001b[0m\u001b[0;34m.\u001b[0m\u001b[0mdisplay_stats\u001b[0m\u001b[0;34m(\u001b[0m\u001b[0mcifar10_dataset_folder_path\u001b[0m\u001b[0;34m,\u001b[0m \u001b[0mbatch_id\u001b[0m\u001b[0;34m,\u001b[0m \u001b[0msample_id\u001b[0m\u001b[0;34m)\u001b[0m\u001b[0;34m\u001b[0m\u001b[0m\n\u001b[0m",
      "\u001b[0;32m~/Documents/udacity_DL/project2/helper.py\u001b[0m in \u001b[0;36mdisplay_stats\u001b[0;34m(cifar10_dataset_folder_path, batch_id, sample_id)\u001b[0m\n\u001b[1;32m     35\u001b[0m         \u001b[0;32mreturn\u001b[0m \u001b[0;32mNone\u001b[0m\u001b[0;34m\u001b[0m\u001b[0m\n\u001b[1;32m     36\u001b[0m \u001b[0;34m\u001b[0m\u001b[0m\n\u001b[0;32m---> 37\u001b[0;31m     \u001b[0mfeatures\u001b[0m\u001b[0;34m,\u001b[0m \u001b[0mlabels\u001b[0m \u001b[0;34m=\u001b[0m \u001b[0mload_cfar10_batch\u001b[0m\u001b[0;34m(\u001b[0m\u001b[0mcifar10_dataset_folder_path\u001b[0m\u001b[0;34m,\u001b[0m \u001b[0mbatch_id\u001b[0m\u001b[0;34m)\u001b[0m\u001b[0;34m\u001b[0m\u001b[0m\n\u001b[0m\u001b[1;32m     38\u001b[0m \u001b[0;34m\u001b[0m\u001b[0m\n\u001b[1;32m     39\u001b[0m     \u001b[0;32mif\u001b[0m \u001b[0;32mnot\u001b[0m \u001b[0;34m(\u001b[0m\u001b[0;36m0\u001b[0m \u001b[0;34m<=\u001b[0m \u001b[0msample_id\u001b[0m \u001b[0;34m<\u001b[0m \u001b[0mlen\u001b[0m\u001b[0;34m(\u001b[0m\u001b[0mfeatures\u001b[0m\u001b[0;34m)\u001b[0m\u001b[0;34m)\u001b[0m\u001b[0;34m:\u001b[0m\u001b[0;34m\u001b[0m\u001b[0m\n",
      "\u001b[0;32m~/Documents/udacity_DL/project2/helper.py\u001b[0m in \u001b[0;36mload_cfar10_batch\u001b[0;34m(cifar10_dataset_folder_path, batch_id)\u001b[0m\n\u001b[1;32m     16\u001b[0m     \u001b[0mLoad\u001b[0m \u001b[0ma\u001b[0m \u001b[0mbatch\u001b[0m \u001b[0mof\u001b[0m \u001b[0mthe\u001b[0m \u001b[0mdataset\u001b[0m\u001b[0;34m\u001b[0m\u001b[0m\n\u001b[1;32m     17\u001b[0m     \"\"\"\n\u001b[0;32m---> 18\u001b[0;31m     \u001b[0;32mwith\u001b[0m \u001b[0mopen\u001b[0m\u001b[0;34m(\u001b[0m\u001b[0mcifar10_dataset_folder_path\u001b[0m \u001b[0;34m+\u001b[0m \u001b[0;34m'/data_batch_'\u001b[0m \u001b[0;34m+\u001b[0m \u001b[0mstr\u001b[0m\u001b[0;34m(\u001b[0m\u001b[0mbatch_id\u001b[0m\u001b[0;34m)\u001b[0m\u001b[0;34m,\u001b[0m \u001b[0mmode\u001b[0m\u001b[0;34m=\u001b[0m\u001b[0;34m'rb'\u001b[0m\u001b[0;34m)\u001b[0m \u001b[0;32mas\u001b[0m \u001b[0mfile\u001b[0m\u001b[0;34m:\u001b[0m\u001b[0;34m\u001b[0m\u001b[0m\n\u001b[0m\u001b[1;32m     19\u001b[0m         \u001b[0mbatch\u001b[0m \u001b[0;34m=\u001b[0m \u001b[0mpickle\u001b[0m\u001b[0;34m.\u001b[0m\u001b[0mload\u001b[0m\u001b[0;34m(\u001b[0m\u001b[0mfile\u001b[0m\u001b[0;34m,\u001b[0m \u001b[0mencoding\u001b[0m\u001b[0;34m=\u001b[0m\u001b[0;34m'latin1'\u001b[0m\u001b[0;34m)\u001b[0m\u001b[0;34m\u001b[0m\u001b[0m\n\u001b[1;32m     20\u001b[0m \u001b[0;34m\u001b[0m\u001b[0m\n",
      "\u001b[0;31mFileNotFoundError\u001b[0m: [Errno 2] No such file or directory: 'cifar-10-batches-py/data_batch_1'"
     ]
    }
   ],
   "source": [
    "%matplotlib inline\n",
    "%config InlineBackend.figure_format = 'retina'\n",
    "\n",
    "import helper\n",
    "import numpy as np\n",
    "\n",
    "# Explore the dataset\n",
    "batch_id = 1\n",
    "sample_id = 20\n",
    "helper.display_stats(cifar10_dataset_folder_path, batch_id, sample_id)"
   ]
  },
  {
   "cell_type": "markdown",
   "metadata": {},
   "source": [
    "## Implement Preprocess Functions\n",
    "### Normalize\n",
    "In the cell below, implement the `normalize` function to take in image data, `x`, and return it as a normalized Numpy array. The values should be in the range of 0 to 1, inclusive.  The return object should be the same shape as `x`."
   ]
  },
  {
   "cell_type": "code",
   "execution_count": 5,
   "metadata": {},
   "outputs": [
    {
     "name": "stdout",
     "output_type": "stream",
     "text": [
      "Tests Passed\n"
     ]
    }
   ],
   "source": [
    "def normalize(x):\n",
    "    \"\"\"\n",
    "    Normalize a list of sample image data in the range of 0 to 1\n",
    "    : x: List of image data.  The image shape is (32, 32, 3)\n",
    "    : return: Numpy array of normalize data\n",
    "    \"\"\"\n",
    "    # TODO: Implement Function\n",
    "    return np.divide(x,256)\n",
    "\n",
    "\n",
    "\"\"\"\n",
    "DON'T MODIFY ANYTHING IN THIS CELL THAT IS BELOW THIS LINE\n",
    "\"\"\"\n",
    "tests.test_normalize(normalize)"
   ]
  },
  {
   "cell_type": "markdown",
   "metadata": {},
   "source": [
    "### One-hot encode\n",
    "Just like the previous code cell, you'll be implementing a function for preprocessing.  This time, you'll implement the `one_hot_encode` function. The input, `x`, are a list of labels.  Implement the function to return the list of labels as One-Hot encoded Numpy array.  The possible values for labels are 0 to 9. The one-hot encoding function should return the same encoding for each value between each call to `one_hot_encode`.  Make sure to save the map of encodings outside the function.\n",
    "\n",
    "Hint: Don't reinvent the wheel."
   ]
  },
  {
   "cell_type": "code",
   "execution_count": 6,
   "metadata": {},
   "outputs": [
    {
     "name": "stdout",
     "output_type": "stream",
     "text": [
      "Tests Passed\n"
     ]
    }
   ],
   "source": [
    "def one_hot_encode(x):\n",
    "    \"\"\"\n",
    "    One hot encode a list of sample labels. Return a one-hot encoded vector for each label.\n",
    "    : x: List of sample Labels\n",
    "    : return: Numpy array of one-hot encoded labels\n",
    "    \"\"\"\n",
    "    # TODO: Implement Function\n",
    "    res=np.zeros((len(x),10))\n",
    "    for i in np.arange(len(x)):\n",
    "            res[i,x[i]]=1\n",
    "            \n",
    "    return res\n",
    "\n",
    "\n",
    "\"\"\"\n",
    "DON'T MODIFY ANYTHING IN THIS CELL THAT IS BELOW THIS LINE\n",
    "\"\"\"\n",
    "tests.test_one_hot_encode(one_hot_encode)"
   ]
  },
  {
   "cell_type": "markdown",
   "metadata": {},
   "source": [
    "### Randomize Data\n",
    "As you saw from exploring the data above, the order of the samples are randomized.  It doesn't hurt to randomize it again, but you don't need to for this dataset."
   ]
  },
  {
   "cell_type": "markdown",
   "metadata": {},
   "source": [
    "## Preprocess all the data and save it\n",
    "Running the code cell below will preprocess all the CIFAR-10 data and save it to file. The code below also uses 10% of the training data for validation."
   ]
  },
  {
   "cell_type": "code",
   "execution_count": 7,
   "metadata": {
    "collapsed": true
   },
   "outputs": [],
   "source": [
    "\"\"\"\n",
    "DON'T MODIFY ANYTHING IN THIS CELL\n",
    "\"\"\"\n",
    "# Preprocess Training, Validation, and Testing Data\n",
    "helper.preprocess_and_save_data(cifar10_dataset_folder_path, normalize, one_hot_encode)"
   ]
  },
  {
   "cell_type": "markdown",
   "metadata": {},
   "source": [
    "# Check Point\n",
    "This is your first checkpoint.  If you ever decide to come back to this notebook or have to restart the notebook, you can start from here.  The preprocessed data has been saved to disk."
   ]
  },
  {
   "cell_type": "code",
   "execution_count": 8,
   "metadata": {
    "collapsed": true
   },
   "outputs": [],
   "source": [
    "\"\"\"\n",
    "DON'T MODIFY ANYTHING IN THIS CELL\n",
    "\"\"\"\n",
    "import pickle\n",
    "import problem_unittests as tests\n",
    "import helper\n",
    "\n",
    "# Load the Preprocessed Validation data\n",
    "valid_features, valid_labels = pickle.load(open('preprocess_validation.p', mode='rb'))"
   ]
  },
  {
   "cell_type": "markdown",
   "metadata": {},
   "source": [
    "## Build the network\n",
    "For the neural network, you'll build each layer into a function.  Most of the code you've seen has been outside of functions. To test your code more thoroughly, we require that you put each layer in a function.  This allows us to give you better feedback and test for simple mistakes using our unittests before you submit your project.\n",
    "\n",
    ">**Note:** If you're finding it hard to dedicate enough time for this course each week, we've provided a small shortcut to this part of the project. In the next couple of problems, you'll have the option to use classes from the [TensorFlow Layers](https://www.tensorflow.org/api_docs/python/tf/layers) or [TensorFlow Layers (contrib)](https://www.tensorflow.org/api_guides/python/contrib.layers) packages to build each layer, except the layers you build in the \"Convolutional and Max Pooling Layer\" section.  TF Layers is similar to Keras's and TFLearn's abstraction to layers, so it's easy to pickup.\n",
    "\n",
    ">However, if you would like to get the most out of this course, try to solve all the problems _without_ using anything from the TF Layers packages. You **can** still use classes from other packages that happen to have the same name as ones you find in TF Layers! For example, instead of using the TF Layers version of the `conv2d` class, [tf.layers.conv2d](https://www.tensorflow.org/api_docs/python/tf/layers/conv2d), you would want to use the TF Neural Network version of `conv2d`, [tf.nn.conv2d](https://www.tensorflow.org/api_docs/python/tf/nn/conv2d). \n",
    "\n",
    "Let's begin!\n",
    "\n",
    "### Input\n",
    "The neural network needs to read the image data, one-hot encoded labels, and dropout keep probability. Implement the following functions\n",
    "* Implement `neural_net_image_input`\n",
    " * Return a [TF Placeholder](https://www.tensorflow.org/api_docs/python/tf/placeholder)\n",
    " * Set the shape using `image_shape` with batch size set to `None`.\n",
    " * Name the TensorFlow placeholder \"x\" using the TensorFlow `name` parameter in the [TF Placeholder](https://www.tensorflow.org/api_docs/python/tf/placeholder).\n",
    "* Implement `neural_net_label_input`\n",
    " * Return a [TF Placeholder](https://www.tensorflow.org/api_docs/python/tf/placeholder)\n",
    " * Set the shape using `n_classes` with batch size set to `None`.\n",
    " * Name the TensorFlow placeholder \"y\" using the TensorFlow `name` parameter in the [TF Placeholder](https://www.tensorflow.org/api_docs/python/tf/placeholder).\n",
    "* Implement `neural_net_keep_prob_input`\n",
    " * Return a [TF Placeholder](https://www.tensorflow.org/api_docs/python/tf/placeholder) for dropout keep probability.\n",
    " * Name the TensorFlow placeholder \"keep_prob\" using the TensorFlow `name` parameter in the [TF Placeholder](https://www.tensorflow.org/api_docs/python/tf/placeholder).\n",
    "\n",
    "These names will be used at the end of the project to load your saved model.\n",
    "\n",
    "Note: `None` for shapes in TensorFlow allow for a dynamic size."
   ]
  },
  {
   "cell_type": "code",
   "execution_count": 9,
   "metadata": {},
   "outputs": [
    {
     "name": "stdout",
     "output_type": "stream",
     "text": [
      "Image Input Tests Passed.\n",
      "Label Input Tests Passed.\n",
      "Keep Prob Tests Passed.\n"
     ]
    }
   ],
   "source": [
    "import tensorflow as tf\n",
    "\n",
    "def neural_net_image_input(image_shape):\n",
    "    \"\"\"\n",
    "    Return a Tensor for a batch of image input\n",
    "    : image_shape: Shape of the images\n",
    "    : return: Tensor for image input.\n",
    "    \"\"\"\n",
    "    # TODO: Implement Function\n",
    "    \n",
    "    return tf.placeholder(tf.float32,shape=[None]+list(image_shape),name='x')\n",
    "\n",
    "\n",
    "def neural_net_label_input(n_classes):\n",
    "    \"\"\"\n",
    "    Return a Tensor for a batch of label input\n",
    "    : n_classes: Number of classes\n",
    "    : return: Tensor for label input.\n",
    "    \"\"\"\n",
    "    # TODO: Implement Function\n",
    "    return tf.placeholder(tf.float32,[None,n_classes],name='y')\n",
    "\n",
    "\n",
    "def neural_net_keep_prob_input():\n",
    "    \"\"\"\n",
    "    Return a Tensor for keep probability\n",
    "    : return: Tensor for keep probability.\n",
    "    \"\"\"\n",
    "    # TODO: Implement Function\n",
    "    return tf.placeholder(tf.float32,name='keep_prob')\n",
    "\n",
    "\n",
    "\"\"\"\n",
    "DON'T MODIFY ANYTHING IN THIS CELL THAT IS BELOW THIS LINE\n",
    "\"\"\"\n",
    "tf.reset_default_graph()\n",
    "tests.test_nn_image_inputs(neural_net_image_input)\n",
    "tests.test_nn_label_inputs(neural_net_label_input)\n",
    "tests.test_nn_keep_prob_inputs(neural_net_keep_prob_input)\n"
   ]
  },
  {
   "cell_type": "markdown",
   "metadata": {},
   "source": [
    "### Convolution and Max Pooling Layer\n",
    "Convolution layers have a lot of success with images. For this code cell, you should implement the function `conv2d_maxpool` to apply convolution then max pooling:\n",
    "* Create the weight and bias using `conv_ksize`, `conv_num_outputs` and the shape of `x_tensor`.\n",
    "* Apply a convolution to `x_tensor` using weight and `conv_strides`.\n",
    " * We recommend you use same padding, but you're welcome to use any padding.\n",
    "* Add bias\n",
    "* Add a nonlinear activation to the convolution.\n",
    "* Apply Max Pooling using `pool_ksize` and `pool_strides`.\n",
    " * We recommend you use same padding, but you're welcome to use any padding.\n",
    "\n",
    "**Note:** You **can't** use [TensorFlow Layers](https://www.tensorflow.org/api_docs/python/tf/layers) or [TensorFlow Layers (contrib)](https://www.tensorflow.org/api_guides/python/contrib.layers) for **this** layer, but you can still use TensorFlow's [Neural Network](https://www.tensorflow.org/api_docs/python/tf/nn) package. You may still use the shortcut option for all the **other** layers."
   ]
  },
  {
   "cell_type": "code",
   "execution_count": 10,
   "metadata": {},
   "outputs": [
    {
     "name": "stdout",
     "output_type": "stream",
     "text": [
      "Tests Passed\n"
     ]
    }
   ],
   "source": [
    "def conv2d_maxpool(x_tensor, conv_num_outputs, conv_ksize, conv_strides, pool_ksize, pool_strides):\n",
    "    \"\"\"\n",
    "    Apply convolution then max pooling to x_tensor\n",
    "    :param x_tensor: TensorFlow Tensor\n",
    "    :param conv_num_outputs: Number of outputs for the convolutional layer\n",
    "    :param conv_ksize: kernal size 2-D Tuple for the convolutional layer\n",
    "    :param conv_strides: Stride 2-D Tuple for convolution\n",
    "    :param pool_ksize: kernal size 2-D Tuple for pool\n",
    "    :param pool_strides: Stride 2-D Tuple for pool\n",
    "    : return: A tensor that represents convolution and max pooling of x_tensor\n",
    "    \"\"\"\n",
    "    # TODO: Implement Function\n",
    "    height=int(x_tensor.get_shape()[3])\n",
    "    k_height , k_width = conv_ksize\n",
    "    W_conv=tf.Variable(tf.truncated_normal([k_height, k_width,height,conv_num_outputs],mean=0.0, stddev=0.01))\n",
    "    b_conv=tf.Variable(tf.zeros(conv_num_outputs))\n",
    "    stridestmp=[1]+list(conv_strides)+[1]\n",
    "    x = tf.nn.conv2d(x_tensor, W_conv, stridestmp, padding='SAME')\n",
    "    x = tf.nn.bias_add(x, b_conv)\n",
    "    cov_output=tf.nn.relu(x)\n",
    "    \n",
    "    output=tf.nn.max_pool(cov_output,ksize=[1]+list(pool_ksize)+[1],\n",
    "                          strides=[1]+list(pool_strides)+[1],padding='SAME')\n",
    "    \n",
    "    return  output\n",
    "\n",
    "\n",
    "\"\"\"\n",
    "DON'T MODIFY ANYTHING IN THIS CELL THAT IS BELOW THIS LINE\n",
    "\"\"\"\n",
    "tests.test_con_pool(conv2d_maxpool)"
   ]
  },
  {
   "cell_type": "markdown",
   "metadata": {},
   "source": [
    "# Flatten Layer\n",
    "Implement the `flatten` function to change the dimension of `x_tensor` from a 4-D tensor to a 2-D tensor.  The output should be the shape (*Batch Size*, *Flattened Image Size*). Shortcut option: you can use classes from the [TensorFlow Layers](https://www.tensorflow.org/api_docs/python/tf/layers) or [TensorFlow Layers (contrib)](https://www.tensorflow.org/api_guides/python/contrib.layers) packages for this layer. For more of a challenge, only use other TensorFlow packages."
   ]
  },
  {
   "cell_type": "code",
   "execution_count": 11,
   "metadata": {},
   "outputs": [
    {
     "name": "stdout",
     "output_type": "stream",
     "text": [
      "Tests Passed\n"
     ]
    }
   ],
   "source": [
    "def flatten(x_tensor):\n",
    "    \"\"\"\n",
    "    Flatten x_tensor to (Batch Size, Flattened Image Size)\n",
    "    : x_tensor: A tensor of size (Batch Size, ...), where ... are the image dimensions.\n",
    "    : return: A tensor of size (Batch Size, Flattened Image Size).\n",
    "    \"\"\"\n",
    "    # TODO: Implement Function\n",
    "    return tf.contrib.layers.flatten(x_tensor)\n",
    "\n",
    "\n",
    "\"\"\"\n",
    "DON'T MODIFY ANYTHING IN THIS CELL THAT IS BELOW THIS LINE\n",
    "\"\"\"\n",
    "tests.test_flatten(flatten)"
   ]
  },
  {
   "cell_type": "markdown",
   "metadata": {},
   "source": [
    "### Fully-Connected Layer\n",
    "Implement the `fully_conn` function to apply a fully connected layer to `x_tensor` with the shape (*Batch Size*, *num_outputs*). Shortcut option: you can use classes from the [TensorFlow Layers](https://www.tensorflow.org/api_docs/python/tf/layers) or [TensorFlow Layers (contrib)](https://www.tensorflow.org/api_guides/python/contrib.layers) packages for this layer. For more of a challenge, only use other TensorFlow packages."
   ]
  },
  {
   "cell_type": "code",
   "execution_count": 12,
   "metadata": {},
   "outputs": [
    {
     "name": "stdout",
     "output_type": "stream",
     "text": [
      "Tests Passed\n"
     ]
    }
   ],
   "source": [
    "def fully_conn(x_tensor, num_outputs):\n",
    "    \"\"\"\n",
    "    Apply a fully connected layer to x_tensor using weight and bias\n",
    "    : x_tensor: A 2-D tensor where the first dimension is batch size.\n",
    "    : num_outputs: The number of output that the new tensor should be.\n",
    "    : return: A 2-D tensor where the second dimension is num_outputs.\n",
    "    \"\"\"\n",
    "    # TODO: Implement Function\n",
    "    num_inputs=int(x_tensor.get_shape()[1])\n",
    "    weight=tf.Variable(tf.truncated_normal([num_inputs,num_outputs],mean=0.0, stddev=0.01))\n",
    "    bias=tf.Variable(tf.zeros([num_outputs]))\n",
    "    \n",
    "    output=tf.add(tf.matmul(x_tensor,weight),bias)\n",
    "    \n",
    "    return tf.nn.relu(output)\n",
    "\n",
    "\n",
    "\"\"\"\n",
    "DON'T MODIFY ANYTHING IN THIS CELL THAT IS BELOW THIS LINE\n",
    "\"\"\"\n",
    "tests.test_fully_conn(fully_conn)"
   ]
  },
  {
   "cell_type": "markdown",
   "metadata": {},
   "source": [
    "### Output Layer\n",
    "Implement the `output` function to apply a fully connected layer to `x_tensor` with the shape (*Batch Size*, *num_outputs*). Shortcut option: you can use classes from the [TensorFlow Layers](https://www.tensorflow.org/api_docs/python/tf/layers) or [TensorFlow Layers (contrib)](https://www.tensorflow.org/api_guides/python/contrib.layers) packages for this layer. For more of a challenge, only use other TensorFlow packages.\n",
    "\n",
    "**Note:** Activation, softmax, or cross entropy should **not** be applied to this."
   ]
  },
  {
   "cell_type": "code",
   "execution_count": 13,
   "metadata": {},
   "outputs": [
    {
     "name": "stdout",
     "output_type": "stream",
     "text": [
      "Tests Passed\n"
     ]
    }
   ],
   "source": [
    "def output(x_tensor, num_outputs):\n",
    "    \"\"\"\n",
    "    Apply a output layer to x_tensor using weight and bias\n",
    "    : x_tensor: A 2-D tensor where the first dimension is batch size.\n",
    "    : num_outputs: The number of output that the new tensor should be.\n",
    "    : return: A 2-D tensor where the second dimension is num_outputs.\n",
    "    \"\"\"\n",
    "    # TODO: Implement Function\n",
    "    num_inputs=int(x_tensor.get_shape()[1])\n",
    "    weight=tf.Variable(tf.truncated_normal([num_inputs,num_outputs],mean=0.0, stddev=0.01))\n",
    "    bias=tf.Variable(tf.zeros([num_outputs]))\n",
    "    \n",
    "    output=tf.add(tf.matmul(x_tensor,weight),bias)\n",
    "    return output\n",
    "\n",
    "\n",
    "\"\"\"\n",
    "DON'T MODIFY ANYTHING IN THIS CELL THAT IS BELOW THIS LINE\n",
    "\"\"\"\n",
    "tests.test_output(output)"
   ]
  },
  {
   "cell_type": "markdown",
   "metadata": {},
   "source": [
    "### Create Convolutional Model\n",
    "Implement the function `conv_net` to create a convolutional neural network model. The function takes in a batch of images, `x`, and outputs logits.  Use the layers you created above to create this model:\n",
    "\n",
    "* Apply 1, 2, or 3 Convolution and Max Pool layers\n",
    "* Apply a Flatten Layer\n",
    "* Apply 1, 2, or 3 Fully Connected Layers\n",
    "* Apply an Output Layer\n",
    "* Return the output\n",
    "* Apply [TensorFlow's Dropout](https://www.tensorflow.org/api_docs/python/tf/nn/dropout) to one or more layers in the model using `keep_prob`. "
   ]
  },
  {
   "cell_type": "code",
   "execution_count": 29,
   "metadata": {},
   "outputs": [
    {
     "name": "stdout",
     "output_type": "stream",
     "text": [
      "Neural Network Built!\n"
     ]
    }
   ],
   "source": [
    "def conv_net(x, keep_prob):\n",
    "    \"\"\"\n",
    "    Create a convolutional neural network model\n",
    "    : x: Placeholder tensor that holds image data.\n",
    "    : keep_prob: Placeholder tensor that hold dropout keep probability.\n",
    "    : return: Tensor that represents logits\n",
    "    \"\"\"\n",
    "    # TODO: Apply 1, 2, or 3 Convolution and Max Pool layers\n",
    "    #    Play around with different number of outputs, kernel size and stride\n",
    "    # Function Definition from Above:\n",
    "    #   conv2d_maxpool(x_tensor, conv_num_outputs, conv_ksize, conv_strides, pool_ksize, pool_strides)\n",
    "    x_tensor=x\n",
    "    conv2d_layer1=conv2d_maxpool(x_tensor, 60, (3,3), (1,1), (1,1), (1,1))\n",
    "    conv2d_layer2=conv2d_maxpool(conv2d_layer1, 60, (3,3), (1,1), (2,2), (2,2))\n",
    "    conv2d_layer3=conv2d_maxpool(conv2d_layer2, 90, (3,3), (1,1), (1,1), (1,1))\n",
    "    conv2d_layer=conv2d_maxpool(conv2d_layer3, 128, (3,3), (1,1), (2,2), (2,2))\n",
    "    \n",
    "    # TODO: Apply a Flatten Layer\n",
    "    # Function Definition from Above:\n",
    "    #   flatten(x_tensor)\n",
    "    flatten_layer=flatten(conv2d_layer)\n",
    "\n",
    "    # TODO: Apply 1, 2, or 3 Fully Connected Layers\n",
    "    #    Play around with different number of outputs\n",
    "    # Function Definition from Above:\n",
    "    #   fully_conn(x_tensor, num_outputs)\n",
    "    #conn_layer1=fully_conn(flatten_layer, 1024)\n",
    "    #conn_layer1 = tf.nn.dropout(conn_layer1, keep_prob)\n",
    "    conn_layer2=fully_conn(flatten_layer, 512)\n",
    "    #conn_layer2 = tf.nn.dropout(conn_layer2, keep_prob)\n",
    "    conn_layer=fully_conn(conn_layer2, 100)\n",
    "    \n",
    "    # TODO: Apply an Output Layer\n",
    "    #    Set this to the number of classes\n",
    "    # Function Definition from Above:\n",
    "    #   output(x_tensor, num_outputs)\n",
    "    predict=output(conn_layer, 10)\n",
    "    \n",
    "    # TODO: return output\n",
    "    return predict\n",
    "\n",
    "\n",
    "\"\"\"\n",
    "DON'T MODIFY ANYTHING IN THIS CELL THAT IS BELOW THIS LINE\n",
    "\"\"\"\n",
    "\n",
    "##############################\n",
    "## Build the Neural Network ##\n",
    "##############################\n",
    "\n",
    "# Remove previous weights, bias, inputs, etc..\n",
    "tf.reset_default_graph()\n",
    "\n",
    "# Inputs\n",
    "x = neural_net_image_input((32, 32, 3))\n",
    "y = neural_net_label_input(10)\n",
    "keep_prob = neural_net_keep_prob_input()\n",
    "\n",
    "# Model\n",
    "logits = conv_net(x, keep_prob)\n",
    "\n",
    "# Name logits Tensor, so that is can be loaded from disk after training\n",
    "logits = tf.identity(logits, name='logits')\n",
    "\n",
    "# Loss and Optimizer\n",
    "cost = tf.reduce_mean(tf.nn.softmax_cross_entropy_with_logits(logits=logits, labels=y))\n",
    "optimizer = tf.train.AdamOptimizer().minimize(cost)\n",
    "\n",
    "# Accuracy\n",
    "correct_pred = tf.equal(tf.argmax(logits, 1), tf.argmax(y, 1))\n",
    "accuracy = tf.reduce_mean(tf.cast(correct_pred, tf.float32), name='accuracy')\n",
    "\n",
    "tests.test_conv_net(conv_net)"
   ]
  },
  {
   "cell_type": "markdown",
   "metadata": {},
   "source": [
    "## Train the Neural Network\n",
    "### Single Optimization\n",
    "Implement the function `train_neural_network` to do a single optimization.  The optimization should use `optimizer` to optimize in `session` with a `feed_dict` of the following:\n",
    "* `x` for image input\n",
    "* `y` for labels\n",
    "* `keep_prob` for keep probability for dropout\n",
    "\n",
    "This function will be called for each batch, so `tf.global_variables_initializer()` has already been called.\n",
    "\n",
    "Note: Nothing needs to be returned. This function is only optimizing the neural network."
   ]
  },
  {
   "cell_type": "code",
   "execution_count": 15,
   "metadata": {},
   "outputs": [
    {
     "name": "stdout",
     "output_type": "stream",
     "text": [
      "Tests Passed\n"
     ]
    }
   ],
   "source": [
    "def train_neural_network(session, optimizer, keep_probability, feature_batch, label_batch):\n",
    "    \"\"\"\n",
    "    Optimize the session on a batch of images and labels\n",
    "    : session: Current TensorFlow session\n",
    "    : optimizer: TensorFlow optimizer function\n",
    "    : keep_probability: keep probability\n",
    "    : feature_batch: Batch of Numpy image data\n",
    "    : label_batch: Batch of Numpy label data\n",
    "    \"\"\"\n",
    "    # TODO: Implement Function\n",
    "   \n",
    "    session.run(optimizer,feed_dict={x:feature_batch, y:label_batch, keep_prob:keep_probability})\n",
    "    pass\n",
    "\n",
    "\n",
    "\"\"\"\n",
    "DON'T MODIFY ANYTHING IN THIS CELL THAT IS BELOW THIS LINE\n",
    "\"\"\"\n",
    "tests.test_train_nn(train_neural_network)"
   ]
  },
  {
   "cell_type": "markdown",
   "metadata": {},
   "source": [
    "### Show Stats\n",
    "Implement the function `print_stats` to print loss and validation accuracy.  Use the global variables `valid_features` and `valid_labels` to calculate validation accuracy.  Use a keep probability of `1.0` to calculate the loss and validation accuracy."
   ]
  },
  {
   "cell_type": "code",
   "execution_count": 16,
   "metadata": {
    "collapsed": true
   },
   "outputs": [],
   "source": [
    "def print_stats(session, feature_batch, label_batch, cost, accuracy):\n",
    "    \"\"\"\n",
    "    Print information about loss and validation accuracy\n",
    "    : session: Current TensorFlow session\n",
    "    : feature_batch: Batch of Numpy image data\n",
    "    : label_batch: Batch of Numpy label data\n",
    "    : cost: TensorFlow cost function\n",
    "    : accuracy: TensorFlow accuracy function\n",
    "    \"\"\"\n",
    "    # TODO: Implement Function\n",
    "    loss=session.run(cost,feed_dict={x:feature_batch,y:label_batch,keep_prob:1.0})\n",
    "    accuracy=session.run(accuracy,feed_dict={x:valid_features,y:valid_labels,keep_prob:1.0})\n",
    "    print('Loss:',loss,'Valid accuracy:',accuracy)\n",
    "    pass"
   ]
  },
  {
   "cell_type": "markdown",
   "metadata": {},
   "source": [
    "### Hyperparameters\n",
    "Tune the following parameters:\n",
    "* Set `epochs` to the number of iterations until the network stops learning or start overfitting\n",
    "* Set `batch_size` to the highest number that your machine has memory for.  Most people set them to common sizes of memory:\n",
    " * 64\n",
    " * 128\n",
    " * 256\n",
    " * ...\n",
    "* Set `keep_probability` to the probability of keeping a node using dropout"
   ]
  },
  {
   "cell_type": "code",
   "execution_count": 30,
   "metadata": {
    "collapsed": true
   },
   "outputs": [],
   "source": [
    "# TODO: Tune Parameters\n",
    "epochs = 50\n",
    "batch_size = 256\n",
    "keep_probability = 0.9"
   ]
  },
  {
   "cell_type": "markdown",
   "metadata": {},
   "source": [
    "### Train on a Single CIFAR-10 Batch\n",
    "Instead of training the neural network on all the CIFAR-10 batches of data, let's use a single batch. This should save time while you iterate on the model to get a better accuracy.  Once the final validation accuracy is 50% or greater, run the model on all the data in the next section."
   ]
  },
  {
   "cell_type": "code",
   "execution_count": 31,
   "metadata": {},
   "outputs": [
    {
     "name": "stdout",
     "output_type": "stream",
     "text": [
      "Checking the Training on a Single Batch...\n",
      "Epoch  1, CIFAR-10 Batch 1:  Loss: 2.25428 Valid accuracy: 0.1588\n",
      "Epoch  2, CIFAR-10 Batch 1:  Loss: 2.15683 Valid accuracy: 0.2154\n",
      "Epoch  3, CIFAR-10 Batch 1:  Loss: 2.13404 Valid accuracy: 0.2802\n",
      "Epoch  4, CIFAR-10 Batch 1:  Loss: 2.01022 Valid accuracy: 0.2946\n",
      "Epoch  5, CIFAR-10 Batch 1:  Loss: 1.93994 Valid accuracy: 0.3252\n",
      "Epoch  6, CIFAR-10 Batch 1:  Loss: 1.79694 Valid accuracy: 0.35\n",
      "Epoch  7, CIFAR-10 Batch 1:  Loss: 1.63058 Valid accuracy: 0.3832\n",
      "Epoch  8, CIFAR-10 Batch 1:  Loss: 1.49146 Valid accuracy: 0.4008\n",
      "Epoch  9, CIFAR-10 Batch 1:  Loss: 1.37354 Valid accuracy: 0.4108\n",
      "Epoch 10, CIFAR-10 Batch 1:  Loss: 1.23691 Valid accuracy: 0.4312\n",
      "Epoch 11, CIFAR-10 Batch 1:  Loss: 1.12001 Valid accuracy: 0.4324\n",
      "Epoch 12, CIFAR-10 Batch 1:  Loss: 0.957356 Valid accuracy: 0.4612\n",
      "Epoch 13, CIFAR-10 Batch 1:  Loss: 0.819314 Valid accuracy: 0.4812\n",
      "Epoch 14, CIFAR-10 Batch 1:  Loss: 0.674459 Valid accuracy: 0.4856\n",
      "Epoch 15, CIFAR-10 Batch 1:  Loss: 0.53704 Valid accuracy: 0.485\n",
      "Epoch 16, CIFAR-10 Batch 1:  Loss: 0.496019 Valid accuracy: 0.4814\n",
      "Epoch 17, CIFAR-10 Batch 1:  Loss: 0.326967 Valid accuracy: 0.4818\n",
      "Epoch 18, CIFAR-10 Batch 1:  Loss: 0.206526 Valid accuracy: 0.4822\n",
      "Epoch 19, CIFAR-10 Batch 1:  Loss: 0.157652 Valid accuracy: 0.4746\n",
      "Epoch 20, CIFAR-10 Batch 1:  Loss: 0.154202 Valid accuracy: 0.4828\n",
      "Epoch 21, CIFAR-10 Batch 1:  Loss: 0.183913 Valid accuracy: 0.4562\n",
      "Epoch 22, CIFAR-10 Batch 1:  Loss: 0.0774302 Valid accuracy: 0.484\n",
      "Epoch 23, CIFAR-10 Batch 1:  Loss: 0.0489003 Valid accuracy: 0.4878\n",
      "Epoch 24, CIFAR-10 Batch 1:  Loss: 0.0405189 Valid accuracy: 0.4956\n",
      "Epoch 25, CIFAR-10 Batch 1:  Loss: 0.0904773 Valid accuracy: 0.4768\n",
      "Epoch 26, CIFAR-10 Batch 1:  Loss: 0.126041 Valid accuracy: 0.4744\n",
      "Epoch 27, CIFAR-10 Batch 1:  Loss: 0.0407823 Valid accuracy: 0.4882\n",
      "Epoch 28, CIFAR-10 Batch 1:  Loss: 0.0372563 Valid accuracy: 0.4736\n",
      "Epoch 29, CIFAR-10 Batch 1:  Loss: 0.0538626 Valid accuracy: 0.4788\n",
      "Epoch 30, CIFAR-10 Batch 1:  Loss: 0.0244819 Valid accuracy: 0.4822\n",
      "Epoch 31, CIFAR-10 Batch 1:  Loss: 0.0262843 Valid accuracy: 0.471\n",
      "Epoch 32, CIFAR-10 Batch 1:  Loss: 0.0300831 Valid accuracy: 0.453\n",
      "Epoch 33, CIFAR-10 Batch 1:  Loss: 0.0155797 Valid accuracy: 0.4578\n",
      "Epoch 34, CIFAR-10 Batch 1:  Loss: 0.028034 Valid accuracy: 0.459\n",
      "Epoch 35, CIFAR-10 Batch 1:  Loss: 0.0149586 Valid accuracy: 0.4906\n",
      "Epoch 36, CIFAR-10 Batch 1:  Loss: 0.0126813 Valid accuracy: 0.4912\n",
      "Epoch 37, CIFAR-10 Batch 1:  Loss: 0.00704661 Valid accuracy: 0.483\n",
      "Epoch 38, CIFAR-10 Batch 1:  Loss: 0.00131885 Valid accuracy: 0.4872\n",
      "Epoch 39, CIFAR-10 Batch 1:  Loss: 0.0015284 Valid accuracy: 0.4974\n",
      "Epoch 40, CIFAR-10 Batch 1:  Loss: 0.000794048 Valid accuracy: 0.491\n",
      "Epoch 41, CIFAR-10 Batch 1:  Loss: 0.00153737 Valid accuracy: 0.4984\n",
      "Epoch 42, CIFAR-10 Batch 1:  Loss: 0.00125086 Valid accuracy: 0.488\n",
      "Epoch 43, CIFAR-10 Batch 1:  Loss: 0.000578573 Valid accuracy: 0.498\n",
      "Epoch 44, CIFAR-10 Batch 1:  Loss: 0.00141087 Valid accuracy: 0.5062\n",
      "Epoch 45, CIFAR-10 Batch 1:  Loss: 0.000764939 Valid accuracy: 0.4982\n",
      "Epoch 46, CIFAR-10 Batch 1:  Loss: 0.00208226 Valid accuracy: 0.5052\n",
      "Epoch 47, CIFAR-10 Batch 1:  Loss: 0.000377628 Valid accuracy: 0.5022\n",
      "Epoch 48, CIFAR-10 Batch 1:  Loss: 0.000188578 Valid accuracy: 0.5038\n",
      "Epoch 49, CIFAR-10 Batch 1:  Loss: 2.79702e-05 Valid accuracy: 0.5118\n",
      "Epoch 50, CIFAR-10 Batch 1:  Loss: 2.8984e-05 Valid accuracy: 0.5068\n"
     ]
    }
   ],
   "source": [
    "\"\"\"\n",
    "DON'T MODIFY ANYTHING IN THIS CELL\n",
    "\"\"\"\n",
    "print('Checking the Training on a Single Batch...')\n",
    "with tf.Session() as sess:\n",
    "    # Initializing the variables\n",
    "    sess.run(tf.global_variables_initializer())\n",
    "    \n",
    "    # Training cycle\n",
    "    for epoch in range(epochs):\n",
    "        batch_i = 1\n",
    "        for batch_features, batch_labels in helper.load_preprocess_training_batch(batch_i, batch_size):\n",
    "            train_neural_network(sess, optimizer, keep_probability, batch_features, batch_labels)\n",
    "        print('Epoch {:>2}, CIFAR-10 Batch {}:  '.format(epoch + 1, batch_i), end='')\n",
    "        print_stats(sess, batch_features, batch_labels, cost, accuracy)"
   ]
  },
  {
   "cell_type": "code",
   "execution_count": 6,
   "metadata": {},
   "outputs": [
    {
     "ename": "NameError",
     "evalue": "name 'batch_1' is not defined",
     "output_type": "error",
     "traceback": [
      "\u001b[0;31m---------------------------------------------------------------------------\u001b[0m",
      "\u001b[0;31mNameError\u001b[0m                                 Traceback (most recent call last)",
      "\u001b[0;32m<ipython-input-6-fcef3634b65c>\u001b[0m in \u001b[0;36m<module>\u001b[0;34m()\u001b[0m\n\u001b[0;32m----> 1\u001b[0;31m \u001b[0mtype\u001b[0m\u001b[0;34m(\u001b[0m\u001b[0mbatch_1\u001b[0m\u001b[0;34m)\u001b[0m\u001b[0;34m\u001b[0m\u001b[0m\n\u001b[0m",
      "\u001b[0;31mNameError\u001b[0m: name 'batch_1' is not defined"
     ]
    }
   ],
   "source": [
    "type(batch_1)"
   ]
  },
  {
   "cell_type": "markdown",
   "metadata": {},
   "source": [
    "### Fully Train the Model\n",
    "Now that you got a good accuracy with a single CIFAR-10 batch, try it with all five batches."
   ]
  },
  {
   "cell_type": "code",
   "execution_count": null,
   "metadata": {},
   "outputs": [
    {
     "name": "stdout",
     "output_type": "stream",
     "text": [
      "Training...\n",
      "Epoch  1, CIFAR-10 Batch 1:  Loss: 2.288 Valid accuracy: 0.1162\n",
      "Epoch  1, CIFAR-10 Batch 2:  Loss: 2.0804 Valid accuracy: 0.2684\n",
      "Epoch  1, CIFAR-10 Batch 3:  Loss: 1.81726 Valid accuracy: 0.272\n",
      "Epoch  1, CIFAR-10 Batch 4:  Loss: 1.78674 Valid accuracy: 0.2798\n",
      "Epoch  1, CIFAR-10 Batch 5:  Loss: 2.08243 Valid accuracy: 0.3328\n",
      "Epoch  2, CIFAR-10 Batch 1:  Loss: 1.87786 Valid accuracy: 0.3494\n",
      "Epoch  2, CIFAR-10 Batch 2:  Loss: 1.59468 Valid accuracy: 0.3624\n",
      "Epoch  2, CIFAR-10 Batch 3:  Loss: 1.41244 Valid accuracy: 0.3698\n",
      "Epoch  2, CIFAR-10 Batch 4:  Loss: 1.54154 Valid accuracy: 0.407\n",
      "Epoch  2, CIFAR-10 Batch 5:  Loss: 1.72009 Valid accuracy: 0.4134\n",
      "Epoch  3, CIFAR-10 Batch 1:  Loss: 1.62068 Valid accuracy: 0.4454\n",
      "Epoch  3, CIFAR-10 Batch 2:  Loss: 1.33999 Valid accuracy: 0.4248\n",
      "Epoch  3, CIFAR-10 Batch 3:  Loss: 1.14677 Valid accuracy: 0.4666\n",
      "Epoch  3, CIFAR-10 Batch 4:  Loss: 1.31598 Valid accuracy: 0.4744\n",
      "Epoch  3, CIFAR-10 Batch 5:  Loss: 1.3267 Valid accuracy: 0.4934\n",
      "Epoch  4, CIFAR-10 Batch 1:  Loss: 1.37336 Valid accuracy: 0.4904\n",
      "Epoch  4, CIFAR-10 Batch 2:  Loss: 1.12105 Valid accuracy: 0.4926\n",
      "Epoch  4, CIFAR-10 Batch 3:  Loss: 0.9616 Valid accuracy: 0.5266\n",
      "Epoch  4, CIFAR-10 Batch 4:  Loss: 1.02235 Valid accuracy: 0.5292\n",
      "Epoch  4, CIFAR-10 Batch 5:  Loss: 1.14831 Valid accuracy: 0.5358\n",
      "Epoch  5, CIFAR-10 Batch 1:  Loss: 1.1123 Valid accuracy: 0.5456\n",
      "Epoch  5, CIFAR-10 Batch 2:  Loss: 0.851816 Valid accuracy: 0.555\n",
      "Epoch  5, CIFAR-10 Batch 3:  Loss: 0.691665 Valid accuracy: 0.5634\n",
      "Epoch  5, CIFAR-10 Batch 4:  Loss: 0.733599 Valid accuracy: 0.5684\n",
      "Epoch  5, CIFAR-10 Batch 5:  Loss: 0.838747 Valid accuracy: 0.5808\n",
      "Epoch  6, CIFAR-10 Batch 1:  Loss: 0.773776 Valid accuracy: 0.5772\n",
      "Epoch  6, CIFAR-10 Batch 2:  Loss: 0.637049 Valid accuracy: 0.5798\n",
      "Epoch  6, CIFAR-10 Batch 3:  Loss: 0.422718 Valid accuracy: 0.5896\n",
      "Epoch  6, CIFAR-10 Batch 4:  Loss: 0.542451 Valid accuracy: 0.5894\n",
      "Epoch  6, CIFAR-10 Batch 5:  Loss: 0.522201 Valid accuracy: 0.6104\n",
      "Epoch  7, CIFAR-10 Batch 1:  Loss: 0.509591 Valid accuracy: 0.5882\n",
      "Epoch  7, CIFAR-10 Batch 2:  Loss: 0.387857 Valid accuracy: 0.6074\n",
      "Epoch  7, CIFAR-10 Batch 3:  Loss: 0.248043 Valid accuracy: 0.6206\n",
      "Epoch  7, CIFAR-10 Batch 4:  Loss: 0.356124 Valid accuracy: 0.5982\n",
      "Epoch  7, CIFAR-10 Batch 5:  Loss: 0.315878 Valid accuracy: 0.626\n",
      "Epoch  8, CIFAR-10 Batch 1:  Loss: 0.313489 Valid accuracy: 0.6112\n",
      "Epoch  8, CIFAR-10 Batch 2:  Loss: 0.205811 Valid accuracy: 0.6168\n",
      "Epoch  8, CIFAR-10 Batch 3:  Loss: 0.196427 Valid accuracy: 0.6068\n",
      "Epoch  8, CIFAR-10 Batch 4:  Loss: 0.241539 Valid accuracy: 0.6084\n",
      "Epoch  8, CIFAR-10 Batch 5:  Loss: 0.176163 Valid accuracy: 0.6186\n",
      "Epoch  9, CIFAR-10 Batch 1:  Loss: 0.255255 Valid accuracy: 0.6006\n",
      "Epoch  9, CIFAR-10 Batch 2:  Loss: 0.135587 Valid accuracy: 0.6274\n",
      "Epoch  9, CIFAR-10 Batch 3:  Loss: 0.153295 Valid accuracy: 0.6066\n",
      "Epoch  9, CIFAR-10 Batch 4:  Loss: 0.175373 Valid accuracy: 0.6254\n",
      "Epoch  9, CIFAR-10 Batch 5:  Loss: 0.114771 Valid accuracy: 0.6208\n",
      "Epoch 10, CIFAR-10 Batch 1:  Loss: 0.133127 Valid accuracy: 0.6144\n",
      "Epoch 10, CIFAR-10 Batch 2:  Loss: 0.0852183 Valid accuracy: 0.622\n",
      "Epoch 10, CIFAR-10 Batch 3:  Loss: 0.100762 Valid accuracy: 0.622\n",
      "Epoch 10, CIFAR-10 Batch 4:  Loss: 0.0965547 Valid accuracy: 0.6186\n",
      "Epoch 10, CIFAR-10 Batch 5:  Loss: 0.0652299 Valid accuracy: 0.6366\n",
      "Epoch 11, CIFAR-10 Batch 1:  Loss: 0.0734786 Valid accuracy: 0.624\n",
      "Epoch 11, CIFAR-10 Batch 2:  Loss: 0.0280755 Valid accuracy: 0.6226\n",
      "Epoch 11, CIFAR-10 Batch 3:  Loss: 0.0571947 Valid accuracy: 0.6442\n",
      "Epoch 11, CIFAR-10 Batch 4:  Loss: 0.0895474 Valid accuracy: 0.624\n",
      "Epoch 11, CIFAR-10 Batch 5:  Loss: 0.0502734 Valid accuracy: 0.6246\n",
      "Epoch 12, CIFAR-10 Batch 1:  Loss: 0.0713086 Valid accuracy: 0.5902\n",
      "Epoch 12, CIFAR-10 Batch 2:  Loss: 0.0285485 Valid accuracy: 0.6158\n",
      "Epoch 12, CIFAR-10 Batch 3:  Loss: 0.0402001 Valid accuracy: 0.63\n",
      "Epoch 12, CIFAR-10 Batch 4:  Loss: 0.0218108 Valid accuracy: 0.6338\n",
      "Epoch 12, CIFAR-10 Batch 5:  Loss: 0.0300342 Valid accuracy: 0.6152\n",
      "Epoch 13, CIFAR-10 Batch 1:  Loss: 0.0862831 Valid accuracy: 0.6086\n",
      "Epoch 13, CIFAR-10 Batch 2:  Loss: 0.0322696 Valid accuracy: 0.5676\n",
      "Epoch 13, CIFAR-10 Batch 3:  Loss: 0.0259336 Valid accuracy: 0.634\n",
      "Epoch 13, CIFAR-10 Batch 4:  Loss: 0.0114078 Valid accuracy: 0.644\n",
      "Epoch 13, CIFAR-10 Batch 5:  Loss: 0.033976 Valid accuracy: 0.6096\n",
      "Epoch 14, CIFAR-10 Batch 1:  Loss: 0.0431694 Valid accuracy: 0.6064\n",
      "Epoch 14, CIFAR-10 Batch 2:  Loss: 0.0282196 Valid accuracy: 0.5892\n",
      "Epoch 14, CIFAR-10 Batch 3:  Loss: 0.0154957 Valid accuracy: 0.6322\n",
      "Epoch 14, CIFAR-10 Batch 4:  Loss: 0.01502 Valid accuracy: 0.638\n",
      "Epoch 14, CIFAR-10 Batch 5:  Loss: 0.0125481 Valid accuracy: 0.6316\n",
      "Epoch 15, CIFAR-10 Batch 1:  Loss: 0.0115433 Valid accuracy: 0.6034\n",
      "Epoch 15, CIFAR-10 Batch 2:  Loss: 0.0183648 Valid accuracy: 0.5956\n",
      "Epoch 15, CIFAR-10 Batch 3:  Loss: 0.0135491 Valid accuracy: 0.619\n",
      "Epoch 15, CIFAR-10 Batch 4:  Loss: 0.0101438 Valid accuracy: 0.6252\n",
      "Epoch 15, CIFAR-10 Batch 5:  Loss: 0.00891631 Valid accuracy: 0.622\n",
      "Epoch 16, CIFAR-10 Batch 1:  Loss: 0.00573058 Valid accuracy: 0.6254\n",
      "Epoch 16, CIFAR-10 Batch 2:  Loss: 0.00908156 Valid accuracy: 0.6266\n",
      "Epoch 16, CIFAR-10 Batch 3:  Loss: 0.0128609 Valid accuracy: 0.63\n",
      "Epoch 16, CIFAR-10 Batch 4:  Loss: 0.0114803 Valid accuracy: 0.6144\n",
      "Epoch 16, CIFAR-10 Batch 5:  Loss: 0.021039 Valid accuracy: 0.6004\n",
      "Epoch 17, CIFAR-10 Batch 1:  Loss: 0.0114664 Valid accuracy: 0.6364\n",
      "Epoch 17, CIFAR-10 Batch 2:  Loss: 0.0250383 Valid accuracy: 0.634\n",
      "Epoch 17, CIFAR-10 Batch 3:  Loss: 0.0067457 Valid accuracy: 0.629\n",
      "Epoch 17, CIFAR-10 Batch 4:  Loss: 0.0031771 Valid accuracy: 0.6164\n",
      "Epoch 17, CIFAR-10 Batch 5:  Loss: 0.018819 Valid accuracy: 0.5972\n",
      "Epoch 18, CIFAR-10 Batch 1:  Loss: 0.00341078 Valid accuracy: 0.6184\n",
      "Epoch 18, CIFAR-10 Batch 2:  Loss: 0.00289542 Valid accuracy: 0.6376\n",
      "Epoch 18, CIFAR-10 Batch 3:  Loss: 0.0049152 Valid accuracy: 0.6294\n",
      "Epoch 18, CIFAR-10 Batch 4:  Loss: 0.00524846 Valid accuracy: 0.6246\n",
      "Epoch 18, CIFAR-10 Batch 5:  Loss: 0.00639878 Valid accuracy: 0.6292\n",
      "Epoch 19, CIFAR-10 Batch 1:  Loss: 0.00312039 Valid accuracy: 0.6278\n",
      "Epoch 19, CIFAR-10 Batch 2:  Loss: 0.00111836 Valid accuracy: 0.6382\n",
      "Epoch 19, CIFAR-10 Batch 3:  Loss: 0.00145806 Valid accuracy: 0.6378\n",
      "Epoch 19, CIFAR-10 Batch 4:  Loss: 0.00226089 Valid accuracy: 0.6198\n",
      "Epoch 19, CIFAR-10 Batch 5:  Loss: 0.00343781 Valid accuracy: 0.6326\n",
      "Epoch 20, CIFAR-10 Batch 1:  Loss: 0.00111047 Valid accuracy: 0.633\n",
      "Epoch 20, CIFAR-10 Batch 2:  Loss: 0.000415046 Valid accuracy: 0.6282\n",
      "Epoch 20, CIFAR-10 Batch 3:  Loss: 0.00140753 Valid accuracy: 0.6432\n",
      "Epoch 20, CIFAR-10 Batch 4:  Loss: 0.00242277 Valid accuracy: 0.6176\n",
      "Epoch 20, CIFAR-10 Batch 5:  Loss: 0.000505336 Valid accuracy: 0.6392\n",
      "Epoch 21, CIFAR-10 Batch 1:  Loss: 0.00400503 Valid accuracy: 0.627\n",
      "Epoch 21, CIFAR-10 Batch 2:  Loss: 0.000206099 Valid accuracy: 0.6394\n",
      "Epoch 21, CIFAR-10 Batch 3:  Loss: 0.000786121 Valid accuracy: 0.6426\n",
      "Epoch 21, CIFAR-10 Batch 4:  Loss: 0.00292217 Valid accuracy: 0.5972\n",
      "Epoch 21, CIFAR-10 Batch 5:  Loss: 0.00156429 Valid accuracy: 0.6306\n",
      "Epoch 22, CIFAR-10 Batch 1:  Loss: 0.00051669 Valid accuracy: 0.6306\n",
      "Epoch 22, CIFAR-10 Batch 2:  Loss: 0.000238488 Valid accuracy: 0.6364\n",
      "Epoch 22, CIFAR-10 Batch 3:  Loss: 0.00233158 Valid accuracy: 0.6212\n",
      "Epoch 22, CIFAR-10 Batch 4:  Loss: 0.00204082 Valid accuracy: 0.6072\n",
      "Epoch 22, CIFAR-10 Batch 5:  Loss: 0.0016748 Valid accuracy: 0.6216\n",
      "Epoch 23, CIFAR-10 Batch 1:  Loss: 0.000326179 Valid accuracy: 0.634\n",
      "Epoch 23, CIFAR-10 Batch 2:  Loss: 0.000769898 Valid accuracy: 0.6262\n",
      "Epoch 23, CIFAR-10 Batch 3:  Loss: 0.00170931 Valid accuracy: 0.6274\n",
      "Epoch 23, CIFAR-10 Batch 4:  Loss: 0.00121261 Valid accuracy: 0.6388\n",
      "Epoch 23, CIFAR-10 Batch 5:  Loss: 0.000819723 Valid accuracy: 0.6414\n",
      "Epoch 24, CIFAR-10 Batch 1:  Loss: 0.000198871 Valid accuracy: 0.6408\n",
      "Epoch 24, CIFAR-10 Batch 2:  Loss: 0.0007357 Valid accuracy: 0.6358\n",
      "Epoch 24, CIFAR-10 Batch 3:  Loss: 0.000727639 Valid accuracy: 0.644\n",
      "Epoch 24, CIFAR-10 Batch 4:  Loss: 0.00105221 Valid accuracy: 0.6436\n",
      "Epoch 24, CIFAR-10 Batch 5:  Loss: 0.0010644 Valid accuracy: 0.6456\n",
      "Epoch 25, CIFAR-10 Batch 1:  Loss: 0.000121439 Valid accuracy: 0.6498\n",
      "Epoch 25, CIFAR-10 Batch 2:  Loss: 0.000574995 Valid accuracy: 0.631\n",
      "Epoch 25, CIFAR-10 Batch 3:  Loss: 0.00042256 Valid accuracy: 0.6474\n",
      "Epoch 25, CIFAR-10 Batch 4:  Loss: 0.000464815 Valid accuracy: 0.6442\n",
      "Epoch 25, CIFAR-10 Batch 5:  Loss: 0.000127873 Valid accuracy: 0.641\n",
      "Epoch 26, CIFAR-10 Batch 1:  Loss: 0.000354052 Valid accuracy: 0.6528\n",
      "Epoch 26, CIFAR-10 Batch 2:  Loss: 0.000443506 Valid accuracy: 0.6402\n",
      "Epoch 26, CIFAR-10 Batch 3:  Loss: 0.000672122 Valid accuracy: 0.6408\n",
      "Epoch 26, CIFAR-10 Batch 4:  Loss: 0.00028649 Valid accuracy: 0.6382\n",
      "Epoch 26, CIFAR-10 Batch 5:  Loss: 0.000150087 Valid accuracy: 0.6386\n",
      "Epoch 27, CIFAR-10 Batch 1:  Loss: 0.000262196 Valid accuracy: 0.6582\n",
      "Epoch 27, CIFAR-10 Batch 2:  Loss: 0.000197629 Valid accuracy: 0.6524\n",
      "Epoch 27, CIFAR-10 Batch 3:  Loss: 4.1253e-05 Valid accuracy: 0.6438\n",
      "Epoch 27, CIFAR-10 Batch 4:  Loss: 0.00189666 Valid accuracy: 0.6252\n",
      "Epoch 27, CIFAR-10 Batch 5:  Loss: 0.000628942 Valid accuracy: 0.6376\n",
      "Epoch 28, CIFAR-10 Batch 1:  Loss: 0.000162676 Valid accuracy: 0.6496\n",
      "Epoch 28, CIFAR-10 Batch 2:  Loss: 0.000161787 Valid accuracy: 0.6466\n",
      "Epoch 28, CIFAR-10 Batch 3:  Loss: 0.000476587 Valid accuracy: 0.6406\n",
      "Epoch 28, CIFAR-10 Batch 4:  Loss: 0.000432079 Valid accuracy: 0.6444\n",
      "Epoch 28, CIFAR-10 Batch 5:  Loss: 0.00021321 Valid accuracy: 0.649\n",
      "Epoch 29, CIFAR-10 Batch 1:  Loss: 8.03828e-05 Valid accuracy: 0.6476\n",
      "Epoch 29, CIFAR-10 Batch 2:  Loss: 5.88087e-05 Valid accuracy: 0.6522\n",
      "Epoch 29, CIFAR-10 Batch 3:  Loss: 0.000551807 Valid accuracy: 0.6298\n",
      "Epoch 29, CIFAR-10 Batch 4:  Loss: 0.00120283 Valid accuracy: 0.6262\n",
      "Epoch 29, CIFAR-10 Batch 5:  Loss: 0.00125384 Valid accuracy: 0.6504\n",
      "Epoch 30, CIFAR-10 Batch 1:  Loss: 0.000139813 Valid accuracy: 0.6474\n"
     ]
    }
   ],
   "source": [
    "\"\"\"\n",
    "DON'T MODIFY ANYTHING IN THIS CELL\n",
    "\"\"\"\n",
    "save_model_path = './image_classification'\n",
    "\n",
    "print('Training...')\n",
    "with tf.Session() as sess:\n",
    "    # Initializing the variables\n",
    "    sess.run(tf.global_variables_initializer())\n",
    "    \n",
    "    # Training cycle\n",
    "    for epoch in range(epochs):\n",
    "        # Loop over all batches\n",
    "        n_batches = 5\n",
    "        for batch_i in range(1, n_batches + 1):\n",
    "            for batch_features, batch_labels in helper.load_preprocess_training_batch(batch_i, batch_size):\n",
    "                train_neural_network(sess, optimizer, keep_probability, batch_features, batch_labels)\n",
    "            print('Epoch {:>2}, CIFAR-10 Batch {}:  '.format(epoch + 1, batch_i), end='')\n",
    "            print_stats(sess, batch_features, batch_labels, cost, accuracy)\n",
    "            \n",
    "    # Save Model\n",
    "    saver = tf.train.Saver()\n",
    "    save_path = saver.save(sess, save_model_path)"
   ]
  },
  {
   "cell_type": "markdown",
   "metadata": {},
   "source": [
    "# Checkpoint\n",
    "The model has been saved to disk.\n",
    "## Test Model\n",
    "Test your model against the test dataset.  This will be your final accuracy. You should have an accuracy greater than 50%. If you don't, keep tweaking the model architecture and parameters."
   ]
  },
  {
   "cell_type": "code",
   "execution_count": 33,
   "metadata": {},
   "outputs": [
    {
     "name": "stdout",
     "output_type": "stream",
     "text": [
      "INFO:tensorflow:Restoring parameters from ./image_classification\n",
      "Testing Accuracy: 0.63974609375\n",
      "\n"
     ]
    },
    {
     "data": {
      "image/png": "[encoded data removed]",
      "text/plain": [
       "<matplotlib.figure.Figure at 0x7ff21479e668>"
      ]
     },
     "metadata": {
      "image/png": {
       "height": 319,
       "width": 355
      }
     },
     "output_type": "display_data"
    }
   ],
   "source": [
    "\"\"\"\n",
    "DON'T MODIFY ANYTHING IN THIS CELL\n",
    "\"\"\"\n",
    "%matplotlib inline\n",
    "%config InlineBackend.figure_format = 'retina'\n",
    "\n",
    "import tensorflow as tf\n",
    "import pickle\n",
    "import helper\n",
    "import random\n",
    "\n",
    "# Set batch size if not already set\n",
    "try:\n",
    "    if batch_size:\n",
    "        pass\n",
    "except NameError:\n",
    "    batch_size = 64\n",
    "\n",
    "save_model_path = './image_classification'\n",
    "n_samples = 4\n",
    "top_n_predictions = 3\n",
    "\n",
    "def test_model():\n",
    "    \"\"\"\n",
    "    Test the saved model against the test dataset\n",
    "    \"\"\"\n",
    "\n",
    "    test_features, test_labels = pickle.load(open('preprocess_test.p', mode='rb'))\n",
    "    loaded_graph = tf.Graph()\n",
    "\n",
    "    with tf.Session(graph=loaded_graph) as sess:\n",
    "        # Load model\n",
    "        loader = tf.train.import_meta_graph(save_model_path + '.meta')\n",
    "        loader.restore(sess, save_model_path)\n",
    "\n",
    "        # Get Tensors from loaded model\n",
    "        loaded_x = loaded_graph.get_tensor_by_name('x:0')\n",
    "        loaded_y = loaded_graph.get_tensor_by_name('y:0')\n",
    "        loaded_keep_prob = loaded_graph.get_tensor_by_name('keep_prob:0')\n",
    "        loaded_logits = loaded_graph.get_tensor_by_name('logits:0')\n",
    "        loaded_acc = loaded_graph.get_tensor_by_name('accuracy:0')\n",
    "        \n",
    "        # Get accuracy in batches for memory limitations\n",
    "        test_batch_acc_total = 0\n",
    "        test_batch_count = 0\n",
    "        \n",
    "        for test_feature_batch, test_label_batch in helper.batch_features_labels(test_features, test_labels, batch_size):\n",
    "            test_batch_acc_total += sess.run(\n",
    "                loaded_acc,\n",
    "                feed_dict={loaded_x: test_feature_batch, loaded_y: test_label_batch, loaded_keep_prob: 1.0})\n",
    "            test_batch_count += 1\n",
    "\n",
    "        print('Testing Accuracy: {}\\n'.format(test_batch_acc_total/test_batch_count))\n",
    "\n",
    "        # Print Random Samples\n",
    "        random_test_features, random_test_labels = tuple(zip(*random.sample(list(zip(test_features, test_labels)), n_samples)))\n",
    "        random_test_predictions = sess.run(\n",
    "            tf.nn.top_k(tf.nn.softmax(loaded_logits), top_n_predictions),\n",
    "            feed_dict={loaded_x: random_test_features, loaded_y: random_test_labels, loaded_keep_prob: 1.0})\n",
    "        helper.display_image_predictions(random_test_features, random_test_labels, random_test_predictions)\n",
    "\n",
    "\n",
    "test_model()"
   ]
  },
  {
   "cell_type": "markdown",
   "metadata": {},
   "source": [
    "## Why 50-80% Accuracy?\n",
    "You might be wondering why you can't get an accuracy any higher. First things first, 50% isn't bad for a simple CNN.  Pure guessing would get you 10% accuracy. However, you might notice people are getting scores [well above 80%](http://rodrigob.github.io/are_we_there_yet/build/classification_datasets_results.html#43494641522d3130).  That's because we haven't taught you all there is to know about neural networks. We still need to cover a few more techniques.\n",
    "## Submitting This Project\n",
    "When submitting this project, make sure to run all the cells before saving the notebook.  Save the notebook file as \"dlnd_image_classification.ipynb\" and save it as a HTML file under \"File\" -> \"Download as\".  Include the \"helper.py\" and \"problem_unittests.py\" files in your submission."
   ]
  }
 ],
 "metadata": {
  "kernelspec": {
   "display_name": "Python 3",
   "language": "python",
   "name": "python3"
  },
  "language_info": {
   "codemirror_mode": {
    "name": "ipython",
    "version": 3
   },
   "file_extension": ".py",
   "mimetype": "text/x-python",
   "name": "python",
   "nbconvert_exporter": "python",
   "pygments_lexer": "ipython3",
   "version": "3.5.4"
  }
 },
 "nbformat": 4,
 "nbformat_minor": 1
}
