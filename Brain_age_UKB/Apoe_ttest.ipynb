{
 "cells": [
  {
   "cell_type": "code",
   "execution_count": 412,
   "metadata": {},
   "outputs": [],
   "source": [
    "import pandas as pd\n",
    "import numpy as np\n",
    "\n",
    "df = pd.read_csv('/Users/jilanxin/Documents/Biobank/newmergeddata0604.csv')\n",
    "\n",
    "to_drop = ['Unnamed: 0','n_21003_2_0','n_21003_1_0','n_25025_2_0','n_25733_2_0','n_25003_2_0','n_25007_2_0']\n",
    "df_dropped = df.drop(to_drop, axis=1)\n",
    "df_dropped = df_dropped.set_index('n_eid_14631')\n",
    "df_dropped = df_dropped.dropna()\n",
    "df_dropped['n_31_0_0'] = df_dropped['n_31_0_0']== 'Male'\n",
    "df_dropped.shape\n",
    "\n",
    "GM_index = ['n_31_0_0', 'n_21003_0_0','n_25001_2_0','n_25011_2_0', 'n_25012_2_0', 'n_25013_2_0',\n",
    "       'n_25014_2_0', 'n_25015_2_0', 'n_25016_2_0', 'n_25017_2_0',\n",
    "       'n_25018_2_0', 'n_25019_2_0', 'n_25020_2_0', 'n_25021_2_0',\n",
    "       'n_25022_2_0', 'n_25023_2_0', 'n_25024_2_0','n_25782_2_0','n_25783_2_0', 'n_25784_2_0', 'n_25785_2_0',\n",
    "       'n_25786_2_0', 'n_25787_2_0', 'n_25788_2_0', 'n_25789_2_0',\n",
    "       'n_25790_2_0', 'n_25791_2_0', 'n_25792_2_0', 'n_25793_2_0',\n",
    "       'n_25794_2_0', 'n_25795_2_0', 'n_25796_2_0', 'n_25797_2_0',\n",
    "       'n_25798_2_0', 'n_25799_2_0', 'n_25800_2_0', 'n_25801_2_0',\n",
    "       'n_25802_2_0', 'n_25803_2_0', 'n_25804_2_0', 'n_25805_2_0',\n",
    "       'n_25806_2_0', 'n_25807_2_0', 'n_25808_2_0', 'n_25809_2_0',\n",
    "       'n_25810_2_0', 'n_25811_2_0', 'n_25812_2_0', 'n_25813_2_0',\n",
    "       'n_25814_2_0', 'n_25815_2_0', 'n_25816_2_0', 'n_25817_2_0',\n",
    "       'n_25818_2_0', 'n_25819_2_0', 'n_25820_2_0', 'n_25821_2_0',\n",
    "       'n_25822_2_0', 'n_25823_2_0', 'n_25824_2_0', 'n_25825_2_0',\n",
    "       'n_25826_2_0', 'n_25827_2_0', 'n_25828_2_0', 'n_25829_2_0',\n",
    "       'n_25830_2_0', 'n_25831_2_0', 'n_25832_2_0', 'n_25833_2_0',\n",
    "       'n_25834_2_0', 'n_25835_2_0', 'n_25836_2_0', 'n_25837_2_0',\n",
    "       'n_25838_2_0', 'n_25839_2_0', 'n_25840_2_0', 'n_25841_2_0',\n",
    "       'n_25842_2_0', 'n_25843_2_0', 'n_25844_2_0', 'n_25845_2_0',\n",
    "       'n_25846_2_0', 'n_25847_2_0', 'n_25848_2_0', 'n_25849_2_0',\n",
    "       'n_25850_2_0', 'n_25851_2_0', 'n_25852_2_0', 'n_25853_2_0',\n",
    "       'n_25854_2_0', 'n_25855_2_0', 'n_25856_2_0', 'n_25857_2_0',\n",
    "       'n_25858_2_0', 'n_25859_2_0', 'n_25860_2_0', 'n_25861_2_0',\n",
    "       'n_25862_2_0', 'n_25863_2_0', 'n_25864_2_0', 'n_25865_2_0',\n",
    "       'n_25866_2_0', 'n_25867_2_0', 'n_25868_2_0', 'n_25869_2_0',\n",
    "       'n_25870_2_0', 'n_25871_2_0', 'n_25872_2_0', 'n_25873_2_0',\n",
    "       'n_25874_2_0', 'n_25875_2_0', 'n_25876_2_0', 'n_25877_2_0',\n",
    "       'n_25878_2_0', 'n_25879_2_0', 'n_25880_2_0', 'n_25881_2_0',\n",
    "       'n_25882_2_0', 'n_25883_2_0', 'n_25884_2_0', 'n_25885_2_0',\n",
    "       'n_25886_2_0', 'n_25887_2_0', 'n_25888_2_0', 'n_25889_2_0',\n",
    "       'n_25890_2_0', 'n_25891_2_0', 'n_25892_2_0', 'n_25893_2_0',\n",
    "       'n_25894_2_0', 'n_25895_2_0', 'n_25896_2_0', 'n_25897_2_0',\n",
    "       'n_25898_2_0', 'n_25899_2_0', 'n_25900_2_0', 'n_25901_2_0',\n",
    "       'n_25902_2_0', 'n_25903_2_0', 'n_25904_2_0', 'n_25905_2_0',\n",
    "       'n_25906_2_0', 'n_25907_2_0', 'n_25908_2_0', 'n_25909_2_0',\n",
    "       'n_25910_2_0', 'n_25911_2_0', 'n_25912_2_0', 'n_25913_2_0',\n",
    "       'n_25914_2_0', 'n_25915_2_0', 'n_25916_2_0', 'n_25917_2_0',\n",
    "       'n_25918_2_0', 'n_25919_2_0', 'n_25920_2_0','n_25781_2_0']\n",
    "WM_index = ['n_31_0_0','n_21003_0_0','n_25026_2_0','n_25027_2_0', 'n_25028_2_0', 'n_25029_2_0', 'n_25030_2_0',\n",
    "       'n_25031_2_0', 'n_25032_2_0', 'n_25033_2_0', 'n_25034_2_0',\n",
    "       'n_25035_2_0', 'n_25036_2_0', 'n_25037_2_0', 'n_25038_2_0',\n",
    "       'n_25039_2_0']\n",
    "DTI_index = ['n_31_0_0','n_21003_0_0','n_25488_2_0', 'n_25489_2_0', 'n_25490_2_0',\n",
    "       'n_25491_2_0', 'n_25492_2_0', 'n_25493_2_0', 'n_25494_2_0',\n",
    "       'n_25495_2_0', 'n_25496_2_0', 'n_25497_2_0', 'n_25498_2_0',\n",
    "       'n_25499_2_0', 'n_25500_2_0', 'n_25501_2_0', 'n_25502_2_0',\n",
    "       'n_25503_2_0', 'n_25504_2_0', 'n_25505_2_0', 'n_25506_2_0',\n",
    "       'n_25507_2_0', 'n_25508_2_0', 'n_25509_2_0', 'n_25510_2_0',\n",
    "       'n_25511_2_0', 'n_25512_2_0', 'n_25513_2_0', 'n_25514_2_0',\n",
    "       'n_25515_2_0', 'n_25516_2_0', 'n_25517_2_0', 'n_25518_2_0',\n",
    "       'n_25519_2_0', 'n_25520_2_0', 'n_25521_2_0', 'n_25522_2_0',\n",
    "       'n_25523_2_0', 'n_25524_2_0', 'n_25525_2_0', 'n_25526_2_0',\n",
    "       'n_25527_2_0', 'n_25528_2_0', 'n_25529_2_0', 'n_25530_2_0',\n",
    "       'n_25531_2_0', 'n_25532_2_0', 'n_25533_2_0', 'n_25534_2_0',\n",
    "       'n_25535_2_0', 'n_25536_2_0', 'n_25537_2_0', 'n_25538_2_0',\n",
    "       'n_25539_2_0', 'n_25540_2_0', 'n_25541_2_0']\n",
    "X_GM =  df_dropped[GM_index] #154\n",
    "X_DTI = df_dropped[DTI_index] #55\n",
    "X_WML = df_dropped[WM_index]  #15\n",
    "\n",
    "ica = pd.read_csv('/Users/jilanxin/Documents/Biobank/icadata_age.csv')\n",
    "ica_to_drop = ['Unnamed: 0']\n",
    "ica_dropped = ica.drop(ica_to_drop, axis=1)\n",
    "ica_dropped = ica_dropped.set_index('n_eid_14631')\n",
    "ica_dropped = ica_dropped.dropna()\n"
   ]
  },
  {
   "cell_type": "code",
   "execution_count": 413,
   "metadata": {},
   "outputs": [],
   "source": [
    "X_GMnew = pd.DataFrame()\n",
    "X_GMnew[['n_31_0_0', 'n_21003_0_0']] = X_GM[['n_31_0_0', 'n_21003_0_0']]\n",
    "for i in GM_index[2:]:\n",
    "    #print i\n",
    "    X_GMnew[i] = X_GM[i].div(X_GM['n_25001_2_0'])\n",
    "X_GMnew = X_GMnew.drop(['n_25001_2_0'],axis=1)"
   ]
  },
  {
   "cell_type": "code",
   "execution_count": 371,
   "metadata": {},
   "outputs": [],
   "source": [
    "def cohend(d1,d2):\n",
    "    n1,n2 = len(d1),len(d2)\n",
    "    s1,s2 = np.var(d1, ddof=1),np.var(d2, ddof=1)\n",
    "    s = np.sqrt(((n1-1)*s1+(n2-1)*s2) / (n1+n2-2))\n",
    "    u1,u2 = np.mean(d1),np.mean(d2)\n",
    "    return (u1-u2)/s"
   ]
  },
  {
   "cell_type": "code",
   "execution_count": 414,
   "metadata": {},
   "outputs": [],
   "source": [
    "Gene_label = []\n",
    "filename = \"/Users/jilanxin/Documents/Biobank/apoe.txt\"\n",
    "with open(filename, \"r\") as myfile:\n",
    "    for line in myfile:\n",
    "        Gene_label.append(line.strip().split())"
   ]
  },
  {
   "cell_type": "code",
   "execution_count": 415,
   "metadata": {},
   "outputs": [
    {
     "data": {
      "text/plain": [
       "Index([u'n_eid_14631', u'apoe'], dtype='object', name=0)"
      ]
     },
     "execution_count": 415,
     "metadata": {},
     "output_type": "execute_result"
    }
   ],
   "source": [
    "Gene_label_df = pd.DataFrame(Gene_label)\n",
    "Gene_label_df.columns = Gene_label_df.iloc[0]\n",
    "Gene_label_df.columns"
   ]
  },
  {
   "cell_type": "code",
   "execution_count": 416,
   "metadata": {},
   "outputs": [
    {
     "data": {
      "text/plain": [
       "array(['apoe', 'e3e3', 'e3e4', 'e2e3', 'NA', 'e4e4', 'e2e4', 'e2e2'], dtype=object)"
      ]
     },
     "execution_count": 416,
     "metadata": {},
     "output_type": "execute_result"
    }
   ],
   "source": [
    "Gene_label_df[\"apoe\"].unique()\n",
    "#APEO4s (including e4/4, e3/4, and e2/4) vs. all nonE4s (e2/2, e2/3, e3/3)."
   ]
  },
  {
   "cell_type": "code",
   "execution_count": 417,
   "metadata": {},
   "outputs": [],
   "source": [
    "positive = Gene_label_df[Gene_label_df[\"apoe\"].isin(['e4e4','e3e4','e2e4'])]\n",
    "negative = Gene_label_df[Gene_label_df[\"apoe\"].isin(['e2e2','e2e3','e3e3'])]"
   ]
  },
  {
   "cell_type": "code",
   "execution_count": 418,
   "metadata": {},
   "outputs": [
    {
     "name": "stdout",
     "output_type": "stream",
     "text": [
      "postive case: (6066, 2)\n",
      "negative case: (15841, 2)\n"
     ]
    }
   ],
   "source": [
    "print(\"postive case: \"+ str(positive.shape))\n",
    "print(\"negative case: \"+ str(negative.shape))"
   ]
  },
  {
   "cell_type": "code",
   "execution_count": 419,
   "metadata": {},
   "outputs": [
    {
     "name": "stdout",
     "output_type": "stream",
     "text": [
      "11818\n",
      "11818\n"
     ]
    }
   ],
   "source": [
    "print len(X_GMnew)\n",
    "X_GMnew = X_GMnew[X_GMnew.index.isin(Gene_label_df['n_eid_14631'])]\n",
    "print len(X_GMnew)"
   ]
  },
  {
   "cell_type": "code",
   "execution_count": 420,
   "metadata": {},
   "outputs": [
    {
     "name": "stdout",
     "output_type": "stream",
     "text": [
      "3154\n",
      "8664\n"
     ]
    }
   ],
   "source": [
    "X_GMnew['genome'] = X_GMnew.index.isin(positive['n_eid_14631'])\n",
    "print(len(X_GMnew[X_GMnew['genome'] == True]))\n",
    "print(len(X_GMnew[X_GMnew['genome'] == False]))"
   ]
  },
  {
   "cell_type": "code",
   "execution_count": 421,
   "metadata": {},
   "outputs": [
    {
     "data": {
      "text/plain": [
       "Counter({False: 309, True: 8355})"
      ]
     },
     "execution_count": 421,
     "metadata": {},
     "output_type": "execute_result"
    }
   ],
   "source": [
    "import collections\n",
    "check_neg = X_GMnew[X_GMnew['genome'] == False].index.isin(negative['n_eid_14631'])\n",
    "unique, counts = np.unique(check_neg,return_counts=False)\n",
    "collections.Counter(check_neg)\n",
    "#X_GMnew[X_GMnew['genome'] == False].index.isin(negative['n_eid_14631'])"
   ]
  },
  {
   "cell_type": "code",
   "execution_count": 422,
   "metadata": {},
   "outputs": [],
   "source": [
    "X_GMnew['check_Data'] = X_GMnew.index.isin(positive['n_eid_14631'])|X_GMnew.index.isin(negative['n_eid_14631'])\n"
   ]
  },
  {
   "cell_type": "code",
   "execution_count": 423,
   "metadata": {},
   "outputs": [
    {
     "data": {
      "text/plain": [
       "Counter({False: 309, True: 11509})"
      ]
     },
     "execution_count": 423,
     "metadata": {},
     "output_type": "execute_result"
    }
   ],
   "source": [
    "collections.Counter(X_GMnew['check_Data'])"
   ]
  },
  {
   "cell_type": "code",
   "execution_count": 424,
   "metadata": {},
   "outputs": [],
   "source": [
    "X_GMnew = X_GMnew[X_GMnew['check_Data']==True]\n",
    "len(X_GMnew)\n",
    "X_GMnew = X_GMnew.drop('check_Data',axis=1)"
   ]
  },
  {
   "cell_type": "code",
   "execution_count": 425,
   "metadata": {},
   "outputs": [
    {
     "data": {
      "text/plain": [
       "Index([u'n_25011_2_0', u'n_25012_2_0', u'n_25013_2_0', u'n_25014_2_0',\n",
       "       u'n_25015_2_0', u'n_25016_2_0', u'n_25017_2_0', u'n_25018_2_0',\n",
       "       u'n_25019_2_0', u'n_25020_2_0',\n",
       "       ...\n",
       "       u'n_25912_2_0', u'n_25913_2_0', u'n_25914_2_0', u'n_25915_2_0',\n",
       "       u'n_25916_2_0', u'n_25917_2_0', u'n_25918_2_0', u'n_25919_2_0',\n",
       "       u'n_25920_2_0', u'n_25781_2_0'],\n",
       "      dtype='object', length=154)"
      ]
     },
     "execution_count": 425,
     "metadata": {},
     "output_type": "execute_result"
    }
   ],
   "source": [
    "X_GMnew.columns[2:-1]\n",
    "#print(len(X_GMnew[X_GMnew['genome'] == True]))\n",
    "#print(len(X_GMnew[X_GMnew['genome'] == False]))"
   ]
  },
  {
   "cell_type": "code",
   "execution_count": 426,
   "metadata": {},
   "outputs": [],
   "source": [
    "#test ols\n",
    "from statsmodels.formula.api import ols\n",
    "import statsmodels.api as sm\n",
    "#y = X_GMnew['n_25011_2_0']\n",
    "#x = X_GMnew[['n_31_0_0', 'n_21003_0_0', 'genome']]\n",
    "#x = sm.add_constant(x)\n",
    "\n",
    "model = ols('n_25919_2_0~n_31_0_0+n_21003_0_0+genome',X_GMnew).fit()"
   ]
  },
  {
   "cell_type": "code",
   "execution_count": 427,
   "metadata": {},
   "outputs": [
    {
     "name": "stdout",
     "output_type": "stream",
     "text": [
      "('n_25784_2_0', 2.4352018480744055, 0.014898572405241268, 0.010093745026129858, 0.010088960468405708)\n",
      "('n_25794_2_0', 2.1676914735233699, 0.03020260797464229, 0.022896822333445165, 0.022862885765465094)\n",
      "('n_25797_2_0', 2.4719276880941399, 0.013453029440234042, 0.015362573550308397, 0.015339732134928731)\n",
      "('n_25799_2_0', 2.6818567196157135, 0.0073319324294785068, 0.002389175851327413, 0.002372295990162429)\n",
      "('n_25809_2_0', 2.1438036655955162, 0.032069519057904401, 0.002441355651701892, 0.0024338063648332705)\n",
      "('n_25821_2_0', 3.389133429870653, 0.00070349258874772744, 0.008909733426641964, 0.008827308882507753)\n",
      "('n_25824_2_0', 2.7273868928391156, 0.0063934941127723206, 0.02631352517754799, 0.026194608206609047)\n",
      "('n_25828_2_0', 3.2266701130997086, 0.0012559021728279457, 0.004239108423499063, 0.0041938455948445025)\n",
      "('n_25829_2_0', 3.6760191537305529, 0.00023797932949887204, 0.004419658236146225, 0.0043678950686636174)\n",
      "('n_25842_2_0', 3.6302843900031636, 0.00028433774526693113, 0.016340502208742717, 0.016256507475516126)\n",
      "('n_25843_2_0', 2.3558719381951283, 0.018495969671862914, 0.017031305294248306, 0.0169920879065493)\n",
      "('n_25844_2_0', 2.5772033114240607, 0.0099726705422798351, 0.00318069262982187, 0.0031590745100988494)\n",
      "('n_25845_2_0', 2.4597414006874514, 0.013918316171332887, 0.0037707070114490616, 0.0037495025116261694)\n",
      "('n_25855_2_0', 2.2540319730356422, 0.024212893645424987, 0.0022328445949306424, 0.0022280660553434)\n",
      "('n_25859_2_0', 2.30236694871338, 0.021332251637023038, 0.005399190823127688, 0.005382154130040717)\n",
      "('n_25861_2_0', 2.9582813102637, 0.003099891447511658, 0.006004215989625972, 0.0059670679142142516)\n",
      "('n_25864_2_0', 2.3114010349232261, 0.020828295733146159, 0.006069068568495147, 0.006049202003552091)\n",
      "('n_25865_2_0', 2.0719494608427733, 0.03829238208807554, 0.0060166815345816934, 0.0059969736806698695)\n",
      "('n_25866_2_0', 2.49242003936831, 0.0127015472779805, 0.003328562342926149, 0.00331186139960486)\n",
      "('n_25867_2_0', 2.0559923896121863, 0.039805760794860305, 0.0032888575854147363, 0.0032793609303801395)\n",
      "('n_25868_2_0', 3.2541981891918406, 0.0011404126675946639, 0.0022180340322765987, 0.0022012742868065447)\n",
      "('n_25869_2_0', 2.9818484833873642, 0.0028711386802612831, 0.002348354693483516, 0.002333159847434963)\n",
      "('n_25870_2_0', 2.4634004450037916, 0.013777139007735775, 0.0019211420834103956, 0.0019066390458804294)\n",
      "('n_25871_2_0', 2.677419487036993, 0.007429696379786019, 0.0016540581721148598, 0.001641458760373185)\n",
      "('n_25874_2_0', 3.7232960429226143, 0.0001975771980579735, 0.0008229280044459444, 0.0008131805315555339)\n",
      "('n_25875_2_0', 4.351307362209214, 1.3649544614722978e-05, 0.0011818526883672611, 0.0011648333211799178)\n",
      "('n_25892_2_0', 2.0886111732710599, 0.036764665003058875, 0.007896428034396228, 0.007863778806285708)\n",
      "('n_25893_2_0', 2.0879531884597649, 0.036823995962340268, 0.00296292193018303, 0.002951998645439481)\n",
      "('n_25895_2_0', 2.2464096690460167, 0.02469666906817132, 0.00417693794564512, 0.004160759967312772)\n",
      "('n_25897_2_0', 2.2920627550580961, 0.021919994592797958, 0.01077293593570453, 0.01071134486213848)\n",
      "('n_25899_2_0', 2.3456587934364821, 0.019010375140984314, 0.010529999191249858, 0.010468899523368585)\n",
      "('n_25912_2_0', 2.5251438777647919, 0.011578416294527006, 0.004181239007916538, 0.004146555570077308)\n",
      "('n_25915_2_0', 2.0379863007156738, 0.041574127995644652, 0.002960730738931489, 0.002937515524286664)\n",
      "('n_25916_2_0', 2.08293313250062, 0.037279348594158261, 0.0006764497511565312, 0.0006712506991345672)\n",
      "('n_25917_2_0', 2.4707827712508794, 0.013496150912791108, 0.0033227031370627945, 0.0032912697708909412)\n",
      "('n_25781_2_0', 2.688002784526581, 0.0071984251947016572, 0.006894510363230338, 0.006629287126118025)\n"
     ]
    }
   ],
   "source": [
    "from statsmodels.formula.api import ols\n",
    "GM_ols=[]\n",
    "for cols in X_GMnew.columns[2:-1]:\n",
    "    fomula = cols +'~n_31_0_0+n_21003_0_0+genome'\n",
    "    #print cols\n",
    "    model = ols(fomula,X_GMnew).fit()\n",
    "    t_case, p_case = model.tvalues['genome[T.True]'], model.pvalues['genome[T.True]']\n",
    "    GM_ols.append([cols,t_case, p_case])\n",
    "    if p_case < 0.05:\n",
    "        print(cols,t_case,p_case,np.mean(X_GMnew[cols][X_GMnew[\"genome\"]==True]),np.mean(X_GMnew[cols][X_GMnew[\"genome\"]!=True]))"
   ]
  },
  {
   "cell_type": "code",
   "execution_count": 400,
   "metadata": {},
   "outputs": [
    {
     "name": "stdout",
     "output_type": "stream",
     "text": [
      "Counter({True: 11509})\n",
      "11509\n"
     ]
    }
   ],
   "source": [
    "#X_WML\n",
    "X_DTI['genome'] = X_DTI.index.isin(positive['n_eid_14631'])\n",
    "X_DTI['check_Data'] = X_DTI.index.isin(positive['n_eid_14631'])|X_DTI.index.isin(negative['n_eid_14631'])\n",
    "print collections.Counter(X_DTI['check_Data'])\n",
    "X_DTI = X_DTI[X_DTI['check_Data']==True]\n",
    "print len(X_DTI)\n",
    "X_DTI = X_DTI.drop('check_Data',axis=1)"
   ]
  },
  {
   "cell_type": "code",
   "execution_count": 401,
   "metadata": {},
   "outputs": [
    {
     "name": "stdout",
     "output_type": "stream",
     "text": [
      "('n_25498_2_0', -3.7105510808343638, 0.00020778292034070238, 0.5793091008243508, 0.5813908156792321)\n",
      "('n_25508_2_0', -2.3675281078903843, 0.017923806812352918, 0.45472268579581493, 0.45549583195691207)\n",
      "('n_25525_2_0', 2.8762341737829873, 0.0040319032618443516, 0.0009363268192770878, 0.0009326371912627476)\n",
      "('n_25534_2_0', 2.009261486598537, 0.044532722034551109, 0.0008931289587824775, 0.0008904382611610107)\n"
     ]
    }
   ],
   "source": [
    "DTI_ols=[]\n",
    "for cols in X_DTI.columns[2:-1]:\n",
    "    fomula = cols +'~n_31_0_0+n_21003_0_0+genome'\n",
    "    #print cols\n",
    "    model = ols(fomula,X_DTI).fit()\n",
    "    t_case, p_case = model.tvalues['genome[T.True]'], model.pvalues['genome[T.True]']\n",
    "    DTI_ols.append([cols,t_case, p_case])\n",
    "    if p_case < 0.05:\n",
    "        print(cols,t_case,p_case,np.mean(X_DTI[cols][X_DTI[\"genome\"]==True]),np.mean(X_DTI[cols][X_DTI[\"genome\"]!=True]))"
   ]
  },
  {
   "cell_type": "code",
   "execution_count": 402,
   "metadata": {},
   "outputs": [
    {
     "name": "stderr",
     "output_type": "stream",
     "text": [
      "/Users/jilanxin/anaconda3/envs/laidata1/lib/python2.7/site-packages/ipykernel_launcher.py:1: SettingWithCopyWarning: \n",
      "A value is trying to be set on a copy of a slice from a DataFrame.\n",
      "Try using .loc[row_indexer,col_indexer] = value instead\n",
      "\n",
      "See the caveats in the documentation: http://pandas.pydata.org/pandas-docs/stable/indexing.html#indexing-view-versus-copy\n",
      "  \"\"\"Entry point for launching an IPython kernel.\n",
      "/Users/jilanxin/anaconda3/envs/laidata1/lib/python2.7/site-packages/ipykernel_launcher.py:2: SettingWithCopyWarning: \n",
      "A value is trying to be set on a copy of a slice from a DataFrame.\n",
      "Try using .loc[row_indexer,col_indexer] = value instead\n",
      "\n",
      "See the caveats in the documentation: http://pandas.pydata.org/pandas-docs/stable/indexing.html#indexing-view-versus-copy\n",
      "  \n"
     ]
    },
    {
     "name": "stdout",
     "output_type": "stream",
     "text": [
      "Counter({True: 11509, False: 309})\n",
      "11509\n",
      "('n_25028_2_0', 2.435367320693588, 0.014891763757704722, 42.10116876981607, 41.8398428845005)\n",
      "('n_25029_2_0', 2.0083127546071693, 0.044633395164932359, 42.41530307545975, 42.19803613405137)\n",
      "('n_25032_2_0', 2.3066933642950156, 0.021089597464046105, 28.234300919467362, 28.065212100538623)\n"
     ]
    }
   ],
   "source": [
    "X_WML['genome'] = X_WML.index.isin(positive['n_eid_14631'])\n",
    "X_WML['check_Data'] = X_WML.index.isin(positive['n_eid_14631'])|X_WML.index.isin(negative['n_eid_14631'])\n",
    "print collections.Counter(X_WML['check_Data'])\n",
    "X_WML = X_WML[X_WML['check_Data']==True]\n",
    "print len(X_WML)\n",
    "X_WML = X_WML.drop('check_Data',axis=1)\n",
    "WML_ols=[]\n",
    "for cols in X_WML.columns[2:-1]:\n",
    "    fomula = cols +'~n_31_0_0+n_21003_0_0+genome'\n",
    "    #print cols\n",
    "    model = ols(fomula,X_WML).fit()\n",
    "    t_case, p_case = model.tvalues['genome[T.True]'], model.pvalues['genome[T.True]']\n",
    "    WML_ols.append([cols,t_case, p_case])\n",
    "    if p_case < 0.05:\n",
    "        print(cols,t_case,p_case,np.mean(X_WML[cols][X_WML[\"genome\"]==True]),np.mean(X_WML[cols][X_WML[\"genome\"]!=True]))"
   ]
  },
  {
   "cell_type": "code",
   "execution_count": 403,
   "metadata": {},
   "outputs": [],
   "source": [
    "sex_df = pd.DataFrame(df_dropped['n_31_0_0'])\n",
    "ica_new = ica_dropped.join(sex_df)\n",
    "#ica_dropped['genome'] = ica_dropped.index.isin(positive['n_eid_14631'])"
   ]
  },
  {
   "cell_type": "code",
   "execution_count": 404,
   "metadata": {},
   "outputs": [
    {
     "name": "stdout",
     "output_type": "stream",
     "text": [
      "Counter({True: 12968, False: 337})\n",
      "12968\n"
     ]
    }
   ],
   "source": [
    "ica_new['genome'] = ica_new.index.isin(positive['n_eid_14631'])\n",
    "ica_new['check_Data'] = ica_new.index.isin(positive['n_eid_14631'])|ica_new.index.isin(negative['n_eid_14631'])\n",
    "print collections.Counter(ica_new['check_Data'])\n",
    "ica_new = ica_new[ica_new['check_Data']==True]\n",
    "print len(ica_new)\n",
    "ica_new = ica_new.drop('check_Data',axis=1)"
   ]
  },
  {
   "cell_type": "code",
   "execution_count": 405,
   "metadata": {},
   "outputs": [
    {
     "name": "stdout",
     "output_type": "stream",
     "text": [
      "('V3', -3.0699371593668419, 0.0021460364007298001, 0.7043388321590576, 0.7146284319325344)\n",
      "('V4', -2.1317787452717112, 0.033046207544202302, 1.2305799693363189, 1.2437008602660453)\n",
      "('V5', -2.6384107312042162, 0.0083408010805523479, 1.4826776872612717, 1.493070478980526)\n",
      "('V9', -2.3452443293364613, 0.019031545890281665, 0.8230520307924927, 0.8299682069181704)\n",
      "('V10', -2.3990893353326173, 0.016451746905299169, 1.1189929229627578, 1.1285125505608167)\n",
      "('V11', -2.110745570124231, 0.034815749225665833, 1.5903446795435432, 1.6015249684409874)\n",
      "('V13', -2.4299087695591037, 0.015117847619112161, 0.9654640985718282, 0.9707882320080871)\n",
      "('V16', -3.1454086299434199, 0.0016627830202450582, 0.565465238300196, 0.5800917738788962)\n",
      "('V19', -3.742504876820703, 0.00018308332649936382, 0.9734521592383102, 0.9861954894242861)\n",
      "('V22', -2.2425565990939069, 0.024944426070107554, 0.7192779161019338, 0.7269102697733345)\n",
      "('V24', -3.5014106112625747, 0.00046456000040600892, 1.474550754595359, 1.4950367963903342)\n",
      "('V26', -2.6363459806746206, 0.0083916989231612102, 1.1041828684094126, 1.1143735270320403)\n",
      "('V30', -2.9737059310755898, 0.0029483827234028201, 0.606220474138896, 0.6158481374832387)\n",
      "('V31', -4.5313483513938735, 5.9200186713606757e-06, 1.1494887632539907, 1.1686440004065184)\n",
      "('V32', -2.1737572689715647, 0.029743731842491732, 0.6352196213721635, 0.6437629512184723)\n",
      "('V33', -3.0769008227890251, 0.0020965724951583025, 0.8735398601568192, 0.8833417143428776)\n",
      "('V34', -2.8888202653046937, 0.0038741317303633395, 0.9924903070064441, 1.0012920674651469)\n",
      "('V36', -3.2967510079040414, 0.00098107106136564068, 1.1765664750322082, 1.1916590736469168)\n",
      "('V37', -2.6754944806306731, 0.007472493013235445, 1.1695371901316205, 1.177947067425775)\n",
      "('V39', -3.2168419677405238, 0.0012996931219735235, 1.5259681455390697, 1.543681327836547)\n",
      "('V41', -2.1355681837115132, 0.032735723090868821, 0.8609637755306605, 0.8709663587038453)\n",
      "('V42', -3.0328137528075949, 0.002428260525650617, 0.9567775413945647, 0.9681163196424394)\n",
      "('V44', -2.3586647208806686, 0.018357477475566937, 0.9273311304172511, 0.9338473139491353)\n",
      "('V45', -2.0958793701312386, 0.036114730472966983, 0.7933658570428441, 0.7971838133404331)\n",
      "('V46', -2.6247974160508298, 0.0086815372841313743, 0.836594677692525, 0.8465196705874267)\n",
      "('V47', -2.0529436493505049, 0.040100652864433019, 0.787166792299077, 0.7933134551069522)\n",
      "('V48', -3.0945926812139644, 0.0019755713876294318, 0.9122722510697298, 0.9238090376428659)\n",
      "('V49', -3.0735569127976081, 0.0021201927629895772, 1.1649952084402146, 1.183546146752158)\n",
      "('V50', -2.6136329082345768, 0.0089702101210978602, 0.6043613576085138, 0.609754499814832)\n"
     ]
    }
   ],
   "source": [
    "#X_WML['genome'] = X_WML.index.isin(positive['n_eid_14631'])\n",
    "ICA_ols=[]\n",
    "for cols in ica_new.columns[1:-2]:\n",
    "    fomula = cols +'~n_31_0_0+n_21003_0_0+genome'\n",
    "    #print cols\n",
    "    model = ols(fomula,ica_new).fit()\n",
    "    t_case, p_case = model.tvalues['genome[T.True]'], model.pvalues['genome[T.True]']\n",
    "    ICA_ols.append([cols,t_case, p_case])\n",
    "    if p_case < 0.05:\n",
    "        print(cols,t_case,p_case,np.mean(ica_new[cols][ica_new[\"genome\"]==True]),np.mean(ica_new[cols][ica_new[\"genome\"]!=True]))"
   ]
  },
  {
   "cell_type": "code",
   "execution_count": 431,
   "metadata": {},
   "outputs": [
    {
     "data": {
      "text/plain": [
       "[['V1', -1.8898497987892686, 0.05880321706424408],\n",
       " ['V2', -1.6338282989812443, 0.10232232471270668],\n",
       " ['V3', -3.0699371593668419, 0.0021460364007298001],\n",
       " ['V4', -2.1317787452717112, 0.033046207544202302],\n",
       " ['V5', -2.6384107312042162, 0.0083408010805523479],\n",
       " ['V6', -0.21311421256702168, 0.83124166278850642],\n",
       " ['V7', -1.3573955294386584, 0.17468224666182361],\n",
       " ['V8', -1.3007114889568538, 0.19338333201661898],\n",
       " ['V9', -2.3452443293364613, 0.019031545890281665],\n",
       " ['V10', -2.3990893353326173, 0.016451746905299169],\n",
       " ['V11', -2.110745570124231, 0.034815749225665833],\n",
       " ['V12', -1.7397271002444878, 0.081933743721244373],\n",
       " ['V13', -2.4299087695591037, 0.015117847619112161],\n",
       " ['V14', -1.7359389152903586, 0.082601461527162287],\n",
       " ['V15', -1.8648275308322351, 0.062231075047125869],\n",
       " ['V16', -3.1454086299434199, 0.0016627830202450582],\n",
       " ['V17', -1.7861482109505029, 0.074101642978981766],\n",
       " ['V18', -1.1434526476393017, 0.25287454356209321],\n",
       " ['V19', -3.742504876820703, 0.00018308332649936382],\n",
       " ['V20', -1.4441302774187279, 0.1487296177244275],\n",
       " ['V21', -1.5286340945447223, 0.1263827253910593],\n",
       " ['V22', -2.2425565990939069, 0.024944426070107554],\n",
       " ['V23', -1.7426165471894566, 0.081427389534649966],\n",
       " ['V24', -3.5014106112625747, 0.00046456000040600892],\n",
       " ['V25', -1.3365964443077456, 0.18138088403973726],\n",
       " ['V26', -2.6363459806746206, 0.0083916989231612102],\n",
       " ['V27', 0.18577391966942999, 0.85262533916136485],\n",
       " ['V28', -0.69457295241667216, 0.48733702122070688],\n",
       " ['V29', -1.5375791879668721, 0.12417909434024167],\n",
       " ['V30', -2.9737059310755898, 0.0029483827234028201],\n",
       " ['V31', -4.5313483513938735, 5.9200186713606757e-06],\n",
       " ['V32', -2.1737572689715647, 0.029743731842491732],\n",
       " ['V33', -3.0769008227890251, 0.0020965724951583025],\n",
       " ['V34', -2.8888202653046937, 0.0038741317303633395],\n",
       " ['V35', -1.2026013358971326, 0.22915542900097263],\n",
       " ['V36', -3.2967510079040414, 0.00098107106136564068],\n",
       " ['V37', -2.6754944806306731, 0.007472493013235445],\n",
       " ['V38', 0.77904492322670704, 0.43596930768934949],\n",
       " ['V39', -3.2168419677405238, 0.0012996931219735235],\n",
       " ['V40', -0.93582152133986263, 0.34938477018677683],\n",
       " ['V41', -2.1355681837115132, 0.032735723090868821],\n",
       " ['V42', -3.0328137528075949, 0.002428260525650617],\n",
       " ['V43', -0.97695886706713253, 0.32861009895087812],\n",
       " ['V44', -2.3586647208806686, 0.018357477475566937],\n",
       " ['V45', -2.0958793701312386, 0.036114730472966983],\n",
       " ['V46', -2.6247974160508298, 0.0086815372841313743],\n",
       " ['V47', -2.0529436493505049, 0.040100652864433019],\n",
       " ['V48', -3.0945926812139644, 0.0019755713876294318],\n",
       " ['V49', -3.0735569127976081, 0.0021201927629895772],\n",
       " ['V50', -2.6136329082345768, 0.0089702101210978602],\n",
       " ['V51', -0.73504333882997075, 0.46232811264424878],\n",
       " ['V52', -1.7092628912598853, 0.087429285905315443],\n",
       " ['V53', -1.7686516104925512, 0.076978578006637155],\n",
       " ['V54', -1.126797865773806, 0.25985150117947453],\n",
       " ['V55', -1.2998163729146381, 0.19369000615062465]]"
      ]
     },
     "execution_count": 431,
     "metadata": {},
     "output_type": "execute_result"
    }
   ],
   "source": [
    "#WML_ols\n",
    "ICA_ols\n",
    "#DTI_ols\n",
    "#GM_ols"
   ]
  },
  {
   "cell_type": "code",
   "execution_count": 367,
   "metadata": {},
   "outputs": [
    {
     "name": "stdout",
     "output_type": "stream",
     "text": [
      "n_25829_2_0\n",
      "n_25868_2_0\n",
      "n_25874_2_0\n",
      "n_25875_2_0\n",
      "genome\n"
     ]
    },
    {
     "name": "stderr",
     "output_type": "stream",
     "text": [
      "/Users/jilanxin/anaconda3/envs/laidata1/lib/python2.7/site-packages/ipykernel_launcher.py:6: RuntimeWarning: divide by zero encountered in double_scalars\n",
      "  \n"
     ]
    }
   ],
   "source": [
    "from scipy.stats import ttest_ind\n",
    "\n",
    "result_GM = []\n",
    "for cols in X_GMnew.columns:\n",
    "    positive_case =  X_GMnew[cols][X_GMnew.index.isin(positive['n_eid_14631'])] #3154\n",
    "    negative_case =  X_GMnew[cols][X_GMnew.index.isin(negative['n_eid_14631'])] #8355\n",
    "    t_case, p_case = ttest_ind(postive_case, negative_case)\n",
    "    result_GM.append([cols,t_case, p_case, cohend(positive_case, negative_case)])\n",
    "    if cohend(positive_case, negative_case) > 0.05:\n",
    "        print(cols)\n"
   ]
  },
  {
   "cell_type": "code",
   "execution_count": 411,
   "metadata": {},
   "outputs": [
    {
     "data": {
      "text/plain": [
       "0.00017985611510791367"
      ]
     },
     "execution_count": 411,
     "metadata": {},
     "output_type": "execute_result"
    }
   ],
   "source": [
    "0.05/278"
   ]
  },
  {
   "cell_type": "code",
   "execution_count": 163,
   "metadata": {},
   "outputs": [
    {
     "data": {
      "text/plain": [
       "['n_25011_2_0', -542.99283904854667, 0.0, -0.0057325781376854302]"
      ]
     },
     "execution_count": 163,
     "metadata": {},
     "output_type": "execute_result"
    }
   ],
   "source": [
    "result[0]"
   ]
  },
  {
   "cell_type": "code",
   "execution_count": 159,
   "metadata": {},
   "outputs": [
    {
     "name": "stdout",
     "output_type": "stream",
     "text": [
      "n_25525_2_0\n"
     ]
    }
   ],
   "source": [
    "result_DTI = []\n",
    "for cols in X_DTI.columns:\n",
    "    positive_case =  X_DTI[cols][X_DTI.index.isin(positive['n_eid_14631'])] #3154\n",
    "    negative_case =  X_DTI[cols][X_DTI.index.isin(negative['n_eid_14631'])] #8355\n",
    "    t_case, p_case = ttest_ind(postive_case, negative_case)\n",
    "    result_DTI.append([cols,t_case, p_case, cohend(positive_case, negative_case)])\n",
    "    if cohend(positive_case, negative_case) > 0.05:\n",
    "        print(cols)"
   ]
  },
  {
   "cell_type": "code",
   "execution_count": 118,
   "metadata": {},
   "outputs": [
    {
     "data": {
      "text/plain": [
       "3154"
      ]
     },
     "execution_count": 118,
     "metadata": {},
     "output_type": "execute_result"
    }
   ],
   "source": [
    "len(positive_case)"
   ]
  },
  {
   "cell_type": "code",
   "execution_count": 160,
   "metadata": {},
   "outputs": [
    {
     "name": "stdout",
     "output_type": "stream",
     "text": [
      "n_25028_2_0\n",
      "n_25029_2_0\n"
     ]
    }
   ],
   "source": [
    "result_WML = []\n",
    "for cols in X_WML.columns:\n",
    "    positive_case =  X_WML[cols][X_WML.index.isin(positive['n_eid_14631'])] #3154\n",
    "    negative_case =  X_WML[cols][X_WML.index.isin(negative['n_eid_14631'])] #8355\n",
    "    t_case, p_case = ttest_ind(postive_case, negative_case)\n",
    "    #result.append([cols,t_case, p_case,np.mean(positive_case), np.mean(negative_case)])\n",
    "    result_WML.append([cols,t_case, cohend(positive_case, negative_case)])\n",
    "    if cohend(positive_case, negative_case) > 0.05:\n",
    "        print(cols)"
   ]
  },
  {
   "cell_type": "code",
   "execution_count": 161,
   "metadata": {
    "collapsed": true
   },
   "outputs": [],
   "source": [
    "result_ica = []\n",
    "for cols in ica_dropped .columns:\n",
    "    positive_case =  ica_dropped [cols][ica_dropped.index.isin(positive['n_eid_14631'])] #3154\n",
    "    negative_case =  ica_dropped [cols][ica_dropped.index.isin(negative['n_eid_14631'])] #8355\n",
    "    t_case, p_case = ttest_ind(postive_case, negative_case)\n",
    "    #result.append([cols,t_case, p_case,np.mean(positive_case), np.mean(negative_case)])\n",
    "    result_ica.append([cols,t_case, p_case, cohend(positive_case, negative_case)])\n",
    "    if cohend(positive_case, negative_case) > 0.05:\n",
    "        print(cols)"
   ]
  },
  {
   "cell_type": "code",
   "execution_count": null,
   "metadata": {
    "collapsed": true
   },
   "outputs": [],
   "source": []
  }
 ],
 "metadata": {
  "kernelspec": {
   "display_name": "Python 3",
   "language": "python",
   "name": "python3"
  },
  "language_info": {
   "codemirror_mode": {
    "name": "ipython",
    "version": 3
   },
   "file_extension": ".py",
   "mimetype": "text/x-python",
   "name": "python",
   "nbconvert_exporter": "python",
   "pygments_lexer": "ipython3",
   "version": "3.6.5"
  }
 },
 "nbformat": 4,
 "nbformat_minor": 2
}
