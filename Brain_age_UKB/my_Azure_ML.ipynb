{
 "cells": [
  {
   "cell_type": "code",
   "execution_count": 12,
   "metadata": {},
   "outputs": [],
   "source": [
    "import azureml.core\n",
    "import pandas as pd\n",
    "from azureml.core.workspace import Workspace\n",
    "import logging\n",
    "import os"
   ]
  },
  {
   "cell_type": "code",
   "execution_count": 13,
   "metadata": {},
   "outputs": [],
   "source": [
    "from azureml.core import Workspace\n",
    "ws = Workspace.from_config()\n",
    "experiment_name = '1023automated-ml-regression'\n",
    "# project folder\n",
    "project_folder = '.'"
   ]
  },
  {
   "cell_type": "code",
   "execution_count": 14,
   "metadata": {},
   "outputs": [
    {
     "data": {
      "text/html": [
       "<div>\n",
       "<style scoped>\n",
       "    .dataframe tbody tr th:only-of-type {\n",
       "        vertical-align: middle;\n",
       "    }\n",
       "\n",
       "    .dataframe tbody tr th {\n",
       "        vertical-align: top;\n",
       "    }\n",
       "\n",
       "    .dataframe thead th {\n",
       "        text-align: right;\n",
       "    }\n",
       "</style>\n",
       "<table border=\"1\" class=\"dataframe\">\n",
       "  <thead>\n",
       "    <tr style=\"text-align: right;\">\n",
       "      <th></th>\n",
       "      <th></th>\n",
       "    </tr>\n",
       "  </thead>\n",
       "  <tbody>\n",
       "    <tr>\n",
       "      <th>SDK version</th>\n",
       "      <td>1.0.48</td>\n",
       "    </tr>\n",
       "    <tr>\n",
       "      <th>Subscription ID</th>\n",
       "      <td>c054f650-e599-460d-a1ef-eb3941084791</td>\n",
       "    </tr>\n",
       "    <tr>\n",
       "      <th>Workspace</th>\n",
       "      <td>ukb_analysis1023_v2</td>\n",
       "    </tr>\n",
       "    <tr>\n",
       "      <th>Resource Group</th>\n",
       "      <td>docs-aml</td>\n",
       "    </tr>\n",
       "    <tr>\n",
       "      <th>Location</th>\n",
       "      <td>eastus2</td>\n",
       "    </tr>\n",
       "    <tr>\n",
       "      <th>Project Directory</th>\n",
       "      <td>.</td>\n",
       "    </tr>\n",
       "  </tbody>\n",
       "</table>\n",
       "</div>"
      ],
      "text/plain": [
       "                                                       \n",
       "SDK version        1.0.48                              \n",
       "Subscription ID    c054f650-e599-460d-a1ef-eb3941084791\n",
       "Workspace          ukb_analysis1023_v2                 \n",
       "Resource Group     docs-aml                            \n",
       "Location           eastus2                             \n",
       "Project Directory  .                                   "
      ]
     },
     "execution_count": 14,
     "metadata": {},
     "output_type": "execute_result"
    }
   ],
   "source": [
    "output = {}\n",
    "output['SDK version'] = azureml.core.VERSION\n",
    "output['Subscription ID'] = ws.subscription_id\n",
    "output['Workspace'] = ws.name\n",
    "output['Resource Group'] = ws.resource_group\n",
    "output['Location'] = ws.location\n",
    "output['Project Directory'] = project_folder\n",
    "pd.set_option('display.max_colwidth', -1)\n",
    "outputDf = pd.DataFrame(data = output, index = [''])\n",
    "outputDf.T"
   ]
  },
  {
   "cell_type": "code",
   "execution_count": 15,
   "metadata": {},
   "outputs": [
    {
     "data": {
      "text/plain": [
       "(4624, 339)"
      ]
     },
     "execution_count": 15,
     "metadata": {},
     "output_type": "execute_result"
    }
   ],
   "source": [
    "#import azureml.dataprep as dprep\n",
    "import pandas as pd\n",
    "df_dropped = pd.read_pickle(\"/Users/jilanxin/Documents/Biobank/my_Azure_ML/UKB_data\")\n",
    "df_dropped.shape"
   ]
  },
  {
   "cell_type": "code",
   "execution_count": 5,
   "metadata": {},
   "outputs": [],
   "source": [
    "df_dropped.to_csv(\"/Users/jilanxin/Documents/Biobank/my_Azure_ML_1910/old_Data_withICA.csv\", index=False)"
   ]
  },
  {
   "cell_type": "code",
   "execution_count": 16,
   "metadata": {},
   "outputs": [],
   "source": [
    "y_df = df_dropped['n_21003_0_0']\n",
    "X_df = df_dropped.drop(['n_21003_0_0'], axis=1)"
   ]
  },
  {
   "cell_type": "code",
   "execution_count": 17,
   "metadata": {},
   "outputs": [
    {
     "data": {
      "text/plain": [
       "array([58, 53, 53, ..., 61, 54, 53])"
      ]
     },
     "execution_count": 17,
     "metadata": {},
     "output_type": "execute_result"
    }
   ],
   "source": [
    "from sklearn.model_selection import train_test_split\n",
    "\n",
    "x_train, x_test, y_train, y_test = train_test_split(X_df, y_df, test_size=0.2, random_state=223)\n",
    "# flatten y_train to 1d array\n",
    "y_train.values.flatten()"
   ]
  },
  {
   "cell_type": "code",
   "execution_count": 18,
   "metadata": {},
   "outputs": [
    {
     "data": {
      "text/plain": [
       "Index(['n_25001_2_0', 'n_25002_2_0', 'n_25011_2_0', 'n_25012_2_0',\n",
       "       'n_25013_2_0', 'n_25014_2_0', 'n_25015_2_0', 'n_25016_2_0',\n",
       "       'n_25017_2_0', 'n_25018_2_0',\n",
       "       ...\n",
       "       'V46', 'V47', 'V48', 'V49', 'V50', 'V51', 'V52', 'V53', 'V54', 'V55'],\n",
       "      dtype='object', length=338)"
      ]
     },
     "execution_count": 18,
     "metadata": {},
     "output_type": "execute_result"
    }
   ],
   "source": [
    "x_train.columns"
   ]
  },
  {
   "cell_type": "code",
   "execution_count": 19,
   "metadata": {},
   "outputs": [],
   "source": [
    "from azureml.train.automl import AutoMLConfig"
   ]
  },
  {
   "cell_type": "code",
   "execution_count": 20,
   "metadata": {},
   "outputs": [],
   "source": [
    "automl_settings = {\n",
    "    \"iteration_timeout_minutes\" : 30,\n",
    "    \"iterations\" : 30,\n",
    "    \"primary_metric\" : 'spearman_correlation',\n",
    "    \"preprocess\" : True,\n",
    "    \"verbosity\" : logging.INFO,\n",
    "    \"n_cross_validations\": 5\n",
    "}\n",
    "# local compute \n",
    "automated_ml_config = AutoMLConfig(task = 'regression',\n",
    "                             debug_log = 'automated_ml_errors.log',\n",
    "                             path = project_folder,\n",
    "                             X = x_train.values,\n",
    "                             y = y_train.values.flatten(),\n",
    "                                   model_explainability=True,\n",
    "                             **automl_settings)"
   ]
  },
  {
   "cell_type": "code",
   "execution_count": 21,
   "metadata": {},
   "outputs": [
    {
     "name": "stdout",
     "output_type": "stream",
     "text": [
      "Running on local machine\n",
      "Parent Run ID: AutoML_664cb5b0-72a8-4822-b10f-c89ac2b32ed6\n",
      "Current status: DatasetFeaturization. Beginning to featurize the dataset.\n",
      "Current status: DatasetEvaluation. Gathering dataset statistics.\n",
      "Current status: FeaturesGeneration. Generating features for the dataset.\n",
      "Current status: DatasetFeaturizationCompleted. Completed featurizing the dataset.\n",
      "Current status: DatasetCrossValidationSplit. Generating individually featurized CV splits.\n",
      "Current status: ModelSelection. Beginning model selection.\n",
      "\n",
      "****************************************************************************************************\n",
      "ITERATION: The iteration being evaluated.\n",
      "PIPELINE: A summary description of the pipeline being evaluated.\n",
      "DURATION: Time taken for the current iteration.\n",
      "METRIC: The result of computing score on the fitted pipeline.\n",
      "BEST: The best observed score thus far.\n",
      "****************************************************************************************************\n",
      "\n",
      " ITERATION   PIPELINE                                       DURATION      METRIC      BEST\n",
      "         0   ts None\n",
      "ts None\n",
      "ts 300\n"
     ]
    },
    {
     "name": "stderr",
     "output_type": "stream",
     "text": [
      "WARNING - Retrying (Retry(total=2, connect=None, read=None, redirect=None, status=None)) after connection broken by 'ProtocolError('Connection aborted.', OSError(\"(54, 'ECONNRESET')\",))': /azureml/ExperimentRun/dcid.AutoML_664cb5b0-72a8-4822-b10f-c89ac2b32ed6_0/explanation/a77ef83f-0688-48cf-ba00-d3febb4d2806/features.json?sv=2018-11-09&sr=b&sig=8lMkbell7f1geTTT417sEDv8I48h6gxB2269zlWuz6g%3D&st=2019-10-23T07%3A13%3A10Z&se=2019-10-24T07%3A23%3A10Z&sp=rcw&comp=block&blockid=TURBd01EQXdNREF3TURBd01EQXdNREF3TURBd01EQXdNREF3TURBd01EQSUzRA%3D%3D\n",
      "WARNING - Retrying (Retry(total=1, connect=None, read=None, redirect=None, status=None)) after connection broken by 'NewConnectionError('<urllib3.connection.VerifiedHTTPSConnection object at 0x1284f80f0>: Failed to establish a new connection: [Errno 8] nodename nor servname provided, or not known',)': /azureml/ExperimentRun/dcid.AutoML_664cb5b0-72a8-4822-b10f-c89ac2b32ed6_0/explanation/a77ef83f-0688-48cf-ba00-d3febb4d2806/features.json?sv=2018-11-09&sr=b&sig=8lMkbell7f1geTTT417sEDv8I48h6gxB2269zlWuz6g%3D&st=2019-10-23T07%3A13%3A10Z&se=2019-10-24T07%3A23%3A10Z&sp=rcw&comp=block&blockid=TURBd01EQXdNREF3TURBd01EQXdNREF3TURBd01EQXdNREF3TURBd01EQSUzRA%3D%3D\n",
      "WARNING - Retrying (Retry(total=0, connect=None, read=None, redirect=None, status=None)) after connection broken by 'NewConnectionError('<urllib3.connection.VerifiedHTTPSConnection object at 0x1284f8358>: Failed to establish a new connection: [Errno 8] nodename nor servname provided, or not known',)': /azureml/ExperimentRun/dcid.AutoML_664cb5b0-72a8-4822-b10f-c89ac2b32ed6_0/explanation/a77ef83f-0688-48cf-ba00-d3febb4d2806/features.json?sv=2018-11-09&sr=b&sig=8lMkbell7f1geTTT417sEDv8I48h6gxB2269zlWuz6g%3D&st=2019-10-23T07%3A13%3A10Z&se=2019-10-24T07%3A23%3A10Z&sp=rcw&comp=block&blockid=TURBd01EQXdNREF3TURBd01EQXdNREF3TURBd01EQXdNREF3TURBd01EQSUzRA%3D%3D\n",
      "WARNING - Retrying (Retry(total=2, connect=None, read=None, redirect=None, status=None)) after connection broken by 'NewConnectionError('<urllib3.connection.VerifiedHTTPSConnection object at 0x12d6db358>: Failed to establish a new connection: [Errno 8] nodename nor servname provided, or not known',)': /azureml/ExperimentRun/dcid.AutoML_664cb5b0-72a8-4822-b10f-c89ac2b32ed6_0/explanation/a77ef83f-0688-48cf-ba00-d3febb4d2806/features.json?sv=2018-11-09&sr=b&sig=8lMkbell7f1geTTT417sEDv8I48h6gxB2269zlWuz6g%3D&st=2019-10-23T07%3A13%3A10Z&se=2019-10-24T07%3A23%3A10Z&sp=rcw&comp=block&blockid=TURBd01EQXdNREF3TURBd01EQXdNREF3TURBd01EQXdNREF3TURBd01EQSUzRA%3D%3D\n",
      "WARNING - Retrying (Retry(total=1, connect=None, read=None, redirect=None, status=None)) after connection broken by 'NewConnectionError('<urllib3.connection.VerifiedHTTPSConnection object at 0x1297f9cf8>: Failed to establish a new connection: [Errno 8] nodename nor servname provided, or not known',)': /azureml/ExperimentRun/dcid.AutoML_664cb5b0-72a8-4822-b10f-c89ac2b32ed6_0/explanation/a77ef83f-0688-48cf-ba00-d3febb4d2806/features.json?sv=2018-11-09&sr=b&sig=8lMkbell7f1geTTT417sEDv8I48h6gxB2269zlWuz6g%3D&st=2019-10-23T07%3A13%3A10Z&se=2019-10-24T07%3A23%3A10Z&sp=rcw&comp=block&blockid=TURBd01EQXdNREF3TURBd01EQXdNREF3TURBd01EQXdNREF3TURBd01EQSUzRA%3D%3D\n",
      "WARNING - Retrying (Retry(total=0, connect=None, read=None, redirect=None, status=None)) after connection broken by 'NewConnectionError('<urllib3.connection.VerifiedHTTPSConnection object at 0x1297f9940>: Failed to establish a new connection: [Errno 8] nodename nor servname provided, or not known',)': /azureml/ExperimentRun/dcid.AutoML_664cb5b0-72a8-4822-b10f-c89ac2b32ed6_0/explanation/a77ef83f-0688-48cf-ba00-d3febb4d2806/features.json?sv=2018-11-09&sr=b&sig=8lMkbell7f1geTTT417sEDv8I48h6gxB2269zlWuz6g%3D&st=2019-10-23T07%3A13%3A10Z&se=2019-10-24T07%3A23%3A10Z&sp=rcw&comp=block&blockid=TURBd01EQXdNREF3TURBd01EQXdNREF3TURBd01EQXdNREF3TURBd01EQSUzRA%3D%3D\n",
      "WARNING - Retrying (Retry(total=2, connect=None, read=None, redirect=None, status=None)) after connection broken by 'NewConnectionError('<urllib3.connection.VerifiedHTTPSConnection object at 0x12d686ba8>: Failed to establish a new connection: [Errno 8] nodename nor servname provided, or not known',)': /azureml/ExperimentRun/dcid.AutoML_664cb5b0-72a8-4822-b10f-c89ac2b32ed6_0/explanation/a77ef83f-0688-48cf-ba00-d3febb4d2806/features.json?sv=2018-11-09&sr=b&sig=8lMkbell7f1geTTT417sEDv8I48h6gxB2269zlWuz6g%3D&st=2019-10-23T07%3A13%3A10Z&se=2019-10-24T07%3A23%3A10Z&sp=rcw&comp=block&blockid=TURBd01EQXdNREF3TURBd01EQXdNREF3TURBd01EQXdNREF3TURBd01EQSUzRA%3D%3D\n",
      "WARNING - Retrying (Retry(total=1, connect=None, read=None, redirect=None, status=None)) after connection broken by 'NewConnectionError('<urllib3.connection.VerifiedHTTPSConnection object at 0x12b669d30>: Failed to establish a new connection: [Errno 8] nodename nor servname provided, or not known',)': /azureml/ExperimentRun/dcid.AutoML_664cb5b0-72a8-4822-b10f-c89ac2b32ed6_0/explanation/a77ef83f-0688-48cf-ba00-d3febb4d2806/features.json?sv=2018-11-09&sr=b&sig=8lMkbell7f1geTTT417sEDv8I48h6gxB2269zlWuz6g%3D&st=2019-10-23T07%3A13%3A10Z&se=2019-10-24T07%3A23%3A10Z&sp=rcw&comp=block&blockid=TURBd01EQXdNREF3TURBd01EQXdNREF3TURBd01EQXdNREF3TURBd01EQSUzRA%3D%3D\n",
      "WARNING - Retrying (Retry(total=0, connect=None, read=None, redirect=None, status=None)) after connection broken by 'NewConnectionError('<urllib3.connection.VerifiedHTTPSConnection object at 0x12b6690b8>: Failed to establish a new connection: [Errno 8] nodename nor servname provided, or not known',)': /azureml/ExperimentRun/dcid.AutoML_664cb5b0-72a8-4822-b10f-c89ac2b32ed6_0/explanation/a77ef83f-0688-48cf-ba00-d3febb4d2806/features.json?sv=2018-11-09&sr=b&sig=8lMkbell7f1geTTT417sEDv8I48h6gxB2269zlWuz6g%3D&st=2019-10-23T07%3A13%3A10Z&se=2019-10-24T07%3A23%3A10Z&sp=rcw&comp=block&blockid=TURBd01EQXdNREF3TURBd01EQXdNREF3TURBd01EQXdNREF3TURBd01EQSUzRA%3D%3D\n",
      "WARNING - Retrying (Retry(total=2, connect=None, read=None, redirect=None, status=None)) after connection broken by 'ProtocolError('Connection aborted.', OSError(\"(32, 'EPIPE')\",))': /azureml/ExperimentRun/dcid.AutoML_664cb5b0-72a8-4822-b10f-c89ac2b32ed6_0/explanation/a77ef83f-0688-48cf-ba00-d3febb4d2806/local_importance_values.json?sv=2018-11-09&sr=b&sig=Xrb1b8F%2BBHZlLDl%2FelcxyMA3V%2Bzyigy5RvZpOHIkCdU%3D&st=2019-10-23T07%3A16%3A23Z&se=2019-10-24T07%3A26%3A23Z&sp=rcw&comp=block&blockid=TURBd01EQXdNREF3TURBd01EQXdNREF3TURBd01EQXdNVEkxT0RJNU1USSUzRA%3D%3D\n",
      "WARNING - Retrying (Retry(total=2, connect=None, read=None, redirect=None, status=None)) after connection broken by 'ProtocolError('Connection aborted.', OSError(\"(32, 'EPIPE')\",))': /azureml/ExperimentRun/dcid.AutoML_664cb5b0-72a8-4822-b10f-c89ac2b32ed6_0/explanation/a77ef83f-0688-48cf-ba00-d3febb4d2806/local_importance_values.json?sv=2018-11-09&sr=b&sig=Xrb1b8F%2BBHZlLDl%2FelcxyMA3V%2Bzyigy5RvZpOHIkCdU%3D&st=2019-10-23T07%3A16%3A23Z&se=2019-10-24T07%3A26%3A23Z&sp=rcw&comp=block&blockid=TURBd01EQXdNREF3TURBd01EQXdNREF3TURBd01EQXdNRGd6T0RnMk1EZyUzRA%3D%3D\n"
     ]
    },
    {
     "name": "stdout",
     "output_type": "stream",
     "text": [
      "StandardScalerWrapper RandomForest             0:18:09       0.6862    0.6862\n",
      "         1   ts None\n",
      "ts None\n",
      "ts None\n",
      "ts 300\n",
      "MinMaxScaler RandomForest                      0:08:16       0.7097    0.7097\n",
      "         2   ts None\n",
      "ts None\n",
      "ts 300\n"
     ]
    },
    {
     "name": "stderr",
     "output_type": "stream",
     "text": [
      "WARNING - Retrying (Retry(total=2, connect=None, read=None, redirect=None, status=None)) after connection broken by 'ProtocolError('Connection aborted.', OSError(\"(32, 'EPIPE')\",))': /azureml/ExperimentRun/dcid.AutoML_664cb5b0-72a8-4822-b10f-c89ac2b32ed6_2/explanation/46d35d5d-c6c1-4c2f-825b-e6f33f9ea464/local_importance_values.json?sv=2018-11-09&sr=b&sig=jMzEOJ%2F6QJyBwBFMv9fjRYujPt0MDojYOLacNXWgJMc%3D&st=2019-10-23T07%3A39%3A06Z&se=2019-10-24T07%3A49%3A06Z&sp=rcw&comp=block&blockid=TURBd01EQXdNREF3TURBd01EQXdNREF3TURBd01EQXdNVFkzTnpjeU1UWSUzRA%3D%3D\n",
      "WARNING - Retrying (Retry(total=2, connect=None, read=None, redirect=None, status=None)) after connection broken by 'ProtocolError('Connection aborted.', OSError(\"(32, 'EPIPE')\",))': /azureml/ExperimentRun/dcid.AutoML_664cb5b0-72a8-4822-b10f-c89ac2b32ed6_2/explanation/46d35d5d-c6c1-4c2f-825b-e6f33f9ea464/local_importance_values.json?sv=2018-11-09&sr=b&sig=jMzEOJ%2F6QJyBwBFMv9fjRYujPt0MDojYOLacNXWgJMc%3D&st=2019-10-23T07%3A39%3A06Z&se=2019-10-24T07%3A49%3A06Z&sp=rcw&comp=block&blockid=TURBd01EQXdNREF3TURBd01EQXdNREF3TURBd01EQXdNakE1TnpFMU1qQSUzRA%3D%3D\n",
      "WARNING - Retrying (Retry(total=1, connect=None, read=None, redirect=None, status=None)) after connection broken by 'ProtocolError('Connection aborted.', timeout())': /azureml/ExperimentRun/dcid.AutoML_664cb5b0-72a8-4822-b10f-c89ac2b32ed6_2/explanation/46d35d5d-c6c1-4c2f-825b-e6f33f9ea464/local_importance_values.json?sv=2018-11-09&sr=b&sig=jMzEOJ%2F6QJyBwBFMv9fjRYujPt0MDojYOLacNXWgJMc%3D&st=2019-10-23T07%3A39%3A06Z&se=2019-10-24T07%3A49%3A06Z&sp=rcw&comp=block&blockid=TURBd01EQXdNREF3TURBd01EQXdNREF3TURBd01EQXdNVFkzTnpjeU1UWSUzRA%3D%3D\n",
      "WARNING - Retrying (Retry(total=1, connect=None, read=None, redirect=None, status=None)) after connection broken by 'ProtocolError('Connection aborted.', timeout())': /azureml/ExperimentRun/dcid.AutoML_664cb5b0-72a8-4822-b10f-c89ac2b32ed6_2/explanation/46d35d5d-c6c1-4c2f-825b-e6f33f9ea464/local_importance_values.json?sv=2018-11-09&sr=b&sig=jMzEOJ%2F6QJyBwBFMv9fjRYujPt0MDojYOLacNXWgJMc%3D&st=2019-10-23T07%3A39%3A06Z&se=2019-10-24T07%3A49%3A06Z&sp=rcw&comp=block&blockid=TURBd01EQXdNREF3TURBd01EQXdNREF3TURBd01EQXdNakE1TnpFMU1qQSUzRA%3D%3D\n",
      "WARNING - Retrying (Retry(total=0, connect=None, read=None, redirect=None, status=None)) after connection broken by 'ProtocolError('Connection aborted.', timeout())': /azureml/ExperimentRun/dcid.AutoML_664cb5b0-72a8-4822-b10f-c89ac2b32ed6_2/explanation/46d35d5d-c6c1-4c2f-825b-e6f33f9ea464/local_importance_values.json?sv=2018-11-09&sr=b&sig=jMzEOJ%2F6QJyBwBFMv9fjRYujPt0MDojYOLacNXWgJMc%3D&st=2019-10-23T07%3A39%3A06Z&se=2019-10-24T07%3A49%3A06Z&sp=rcw&comp=block&blockid=TURBd01EQXdNREF3TURBd01EQXdNREF3TURBd01EQXdNVFkzTnpjeU1UWSUzRA%3D%3D\n"
     ]
    },
    {
     "name": "stdout",
     "output_type": "stream",
     "text": [
      "StandardScalerWrapper ExtremeRandomTrees       0:19:31       0.6907    0.7097\n",
      "         3   ts None\n",
      "ts None\n",
      "ts 300\n"
     ]
    },
    {
     "name": "stderr",
     "output_type": "stream",
     "text": [
      "WARNING - Retrying (Retry(total=2, connect=None, read=None, redirect=None, status=None)) after connection broken by 'ProtocolError('Connection aborted.', OSError(\"(54, 'ECONNRESET')\",))': /azureml/ExperimentRun/dcid.AutoML_664cb5b0-72a8-4822-b10f-c89ac2b32ed6_3/explanation/a9524f32-07b0-4e0e-8da9-80eb255876bd/features.json?sv=2018-11-09&sr=b&sig=wCrR0sFumaCuv60ZjAkaB2mzI28ANAvwo7bB8k37WSw%3D&st=2019-10-23T07%3A58%3A56Z&se=2019-10-24T08%3A08%3A56Z&sp=rcw&comp=blocklist\n"
     ]
    },
    {
     "name": "stdout",
     "output_type": "stream",
     "text": [
      "StandardScalerWrapper LightGBM                 0:12:10       0.7016    0.7097\n",
      "         4   ts None\n",
      "ts None\n",
      "ts None\n",
      "ts 300\n",
      "RobustScaler DecisionTree                      0:05:54       0.5360    0.7097\n",
      "         5   ts None\n",
      "ts None\n",
      "ts None\n",
      "ts 300\n",
      "StandardScalerWrapper LassoLars                0:04:15       0.7919    0.7919\n",
      "         6   ts None\n",
      "ts None\n",
      "ts None\n",
      "ts 300\n",
      "StandardScalerWrapper LightGBM                 0:02:46       0.7322    0.7919\n",
      "         7   ts None\n",
      "ts None\n",
      "ts 300\n",
      "StandardScalerWrapper RandomForest             0:04:40       0.6970    0.7919\n",
      "         8   "
     ]
    },
    {
     "name": "stderr",
     "output_type": "stream",
     "text": [
      "WARNING - Retrying (Retry(total=2, connect=None, read=None, redirect=None, status=None)) after connection broken by 'ProtocolError('Connection aborted.', OSError(\"(32, 'EPIPE')\",))': /azureml/ExperimentRun/dcid.AutoML_664cb5b0-72a8-4822-b10f-c89ac2b32ed6_8/outputs/model.pkl?sv=2018-11-09&sr=b&sig=%2B8lxqDutrngcdOd%2FB9v3aburKEqte5a7E%2BLy7%2FGe7Tk%3D&st=2019-10-23T08%3A27%3A33Z&se=2019-10-24T08%3A37%3A33Z&sp=rcw&comp=block&blockid=TURBd01EQXdNREF3TURBd01EQXdNREF3TURBd01EQXdNREF3TURBd01EQSUzRA%3D%3D\n"
     ]
    },
    {
     "name": "stdout",
     "output_type": "stream",
     "text": [
      "ts None\n",
      "ts None\n",
      "ts None\n",
      "ts 300\n"
     ]
    },
    {
     "name": "stderr",
     "output_type": "stream",
     "text": [
      "WARNING - Retrying (Retry(total=2, connect=None, read=None, redirect=None, status=None)) after connection broken by 'ProtocolError('Connection aborted.', OSError(\"(32, 'EPIPE')\",))': /azureml/ExperimentRun/dcid.AutoML_664cb5b0-72a8-4822-b10f-c89ac2b32ed6_8/explanation/8a4b6640-97ea-4f0d-876f-386fc267978c/local_importance_values.json?sv=2018-11-09&sr=b&sig=dmX7Oks9%2F9ie1lAApdEwQ9RZwzqwPsc9HulIqvO5DRI%3D&st=2019-10-23T08%3A30%3A48Z&se=2019-10-24T08%3A40%3A48Z&sp=rcw&comp=block&blockid=TURBd01EQXdNREF3TURBd01EQXdNREF3TURBd01EQXdNVFkzTnpjeU1UWSUzRA%3D%3D\n",
      "WARNING - Retrying (Retry(total=2, connect=None, read=None, redirect=None, status=None)) after connection broken by 'ProtocolError('Connection aborted.', OSError(\"(32, 'EPIPE')\",))': /azureml/ExperimentRun/dcid.AutoML_664cb5b0-72a8-4822-b10f-c89ac2b32ed6_8/explanation/8a4b6640-97ea-4f0d-876f-386fc267978c/local_importance_values.json?sv=2018-11-09&sr=b&sig=dmX7Oks9%2F9ie1lAApdEwQ9RZwzqwPsc9HulIqvO5DRI%3D&st=2019-10-23T08%3A30%3A48Z&se=2019-10-24T08%3A40%3A48Z&sp=rcw&comp=block&blockid=TURBd01EQXdNREF3TURBd01EQXdNREF3TURBd01EQXdNakE1TnpFMU1qQSUzRA%3D%3D\n"
     ]
    },
    {
     "name": "stdout",
     "output_type": "stream",
     "text": [
      "StandardScalerWrapper LassoLars                0:09:11       0.7883    0.7919\n",
      "         9   ts None\n",
      "ts None\n",
      "ts None\n",
      "ts 300\n"
     ]
    },
    {
     "name": "stderr",
     "output_type": "stream",
     "text": [
      "WARNING - Retrying (Retry(total=2, connect=None, read=None, redirect=None, status=None)) after connection broken by 'ProtocolError('Connection aborted.', timeout())': /azureml/ExperimentRun/dcid.AutoML_664cb5b0-72a8-4822-b10f-c89ac2b32ed6_9/explanation/0919499b-ecb8-4dfa-9948-d8b96585877b/local_importance_values.json?sv=2018-11-09&sr=b&sig=yygIP1PtBze4c5fb3kBimxxDruccCpnT9ImJRrQEOO8%3D&st=2019-10-23T08%3A38%3A14Z&se=2019-10-24T08%3A48%3A14Z&sp=rcw&comp=block&blockid=TURBd01EQXdNREF3TURBd01EQXdNREF3TURBd01EQXdNRFF4T1RRek1EUSUzRA%3D%3D\n",
      "WARNING - Retrying (Retry(total=2, connect=None, read=None, redirect=None, status=None)) after connection broken by 'ProtocolError('Connection aborted.', OSError(\"(32, 'EPIPE')\",))': /azureml/ExperimentRun/dcid.AutoML_664cb5b0-72a8-4822-b10f-c89ac2b32ed6_9/explanation/0919499b-ecb8-4dfa-9948-d8b96585877b/local_importance_values.json?sv=2018-11-09&sr=b&sig=yygIP1PtBze4c5fb3kBimxxDruccCpnT9ImJRrQEOO8%3D&st=2019-10-23T08%3A38%3A14Z&se=2019-10-24T08%3A48%3A14Z&sp=rcw&comp=block&blockid=TURBd01EQXdNREF3TURBd01EQXdNREF3TURBd01EQXdNVFkzTnpjeU1UWSUzRA%3D%3D\n"
     ]
    },
    {
     "name": "stdout",
     "output_type": "stream",
     "text": [
      "MinMaxScaler ExtremeRandomTrees                0:05:25       0.7064    0.7919\n",
      "        10   ts None\n",
      "ts None\n",
      "ts None\n",
      "ts 300\n",
      "RobustScaler ExtremeRandomTrees                0:02:49       0.7162    0.7919\n",
      "        11   ts None\n",
      "ts None\n",
      "ts None\n",
      "ts 300\n",
      "StandardScalerWrapper ExtremeRandomTrees       0:02:10       0.6993    0.7919\n",
      "        12   ts None\n",
      "ts None\n",
      "ts 300\n"
     ]
    },
    {
     "name": "stderr",
     "output_type": "stream",
     "text": [
      "WARNING - Retrying (Retry(total=2, connect=None, read=None, redirect=None, status=None)) after connection broken by 'ProtocolError('Connection aborted.', timeout())': /azureml/ExperimentRun/dcid.AutoML_664cb5b0-72a8-4822-b10f-c89ac2b32ed6_12/explanation/43c9abd1-0079-48bf-a426-8d6f908ef2d0/local_importance_values.json?sv=2018-11-09&sr=b&sig=pIhgPasQb1SaEGpusjX5znqrXc9mebmiE8sgIlAHzFY%3D&st=2019-10-23T08%3A47%3A50Z&se=2019-10-24T08%3A57%3A50Z&sp=rcw&comp=block&blockid=TURBd01EQXdNREF3TURBd01EQXdNREF3TURBd01EQXdNRFF4T1RRek1EUSUzRA%3D%3D\n"
     ]
    },
    {
     "name": "stdout",
     "output_type": "stream",
     "text": [
      "MinMaxScaler ExtremeRandomTrees                0:02:22       0.6999    0.7919\n",
      "        13   ts None\n",
      "ts None\n",
      "ts None\n",
      "ts None\n",
      "ts 300\n"
     ]
    },
    {
     "name": "stderr",
     "output_type": "stream",
     "text": [
      "WARNING - Retrying (Retry(total=2, connect=None, read=None, redirect=None, status=None)) after connection broken by 'ProtocolError('Connection aborted.', timeout())': /azureml/ExperimentRun/dcid.AutoML_664cb5b0-72a8-4822-b10f-c89ac2b32ed6_13/explanation/2f57478f-95c2-4394-9faa-e8b0c8e6a4bc/local_importance_values.json?sv=2018-11-09&sr=b&sig=L75YWqxKMjwtIgARVVJjlCXZsj7GRnYP%2Fuvy9WMit30%3D&st=2019-10-23T08%3A50%3A16Z&se=2019-10-24T09%3A00%3A16Z&sp=rcw&comp=block&blockid=TURBd01EQXdNREF3TURBd01EQXdNREF3TURBd01EQXdNRFF4T1RRek1EUSUzRA%3D%3D\n",
      "WARNING - Retrying (Retry(total=2, connect=None, read=None, redirect=None, status=None)) after connection broken by 'ProtocolError('Connection aborted.', OSError(\"(32, 'EPIPE')\",))': /azureml/ExperimentRun/dcid.AutoML_664cb5b0-72a8-4822-b10f-c89ac2b32ed6_13/explanation/2f57478f-95c2-4394-9faa-e8b0c8e6a4bc/local_importance_values.json?sv=2018-11-09&sr=b&sig=L75YWqxKMjwtIgARVVJjlCXZsj7GRnYP%2Fuvy9WMit30%3D&st=2019-10-23T08%3A50%3A16Z&se=2019-10-24T09%3A00%3A16Z&sp=rcw&comp=block&blockid=TURBd01EQXdNREF3TURBd01EQXdNREF3TURBd01EQXdNREF3TURBd01EQSUzRA%3D%3D\n"
     ]
    },
    {
     "name": "stdout",
     "output_type": "stream",
     "text": [
      "RobustScaler RandomForest                      0:03:46       0.7084    0.7919\n",
      "        14   "
     ]
    },
    {
     "name": "stderr",
     "output_type": "stream",
     "text": [
      "WARNING - Retrying (Retry(total=2, connect=None, read=None, redirect=None, status=None)) after connection broken by 'ProtocolError('Connection aborted.', OSError(\"(32, 'EPIPE')\",))': /azureml/ExperimentRun/dcid.AutoML_664cb5b0-72a8-4822-b10f-c89ac2b32ed6_14/outputs/model.pkl?sv=2018-11-09&sr=b&sig=41OHJOS53fz5DZihrpX9hSIQahqjE2yMZnu%2FMkh5ilk%3D&st=2019-10-23T08%3A53%3A31Z&se=2019-10-24T09%3A03%3A31Z&sp=rcw&comp=block&blockid=TURBd01EQXdNREF3TURBd01EQXdNREF3TURBd01EQXdNREF3TURBd01EQSUzRA%3D%3D\n"
     ]
    },
    {
     "name": "stdout",
     "output_type": "stream",
     "text": [
      "ts None\n",
      "ts None\n",
      "ts None\n",
      "ts 300\n",
      "StandardScalerWrapper LassoLars                0:04:00       0.7178    0.7919\n",
      "        15   "
     ]
    },
    {
     "name": "stderr",
     "output_type": "stream",
     "text": [
      "WARNING - Retrying (Retry(total=2, connect=None, read=None, redirect=None, status=None)) after connection broken by 'ProtocolError('Connection aborted.', OSError(\"(32, 'EPIPE')\",))': /azureml/ExperimentRun/dcid.AutoML_664cb5b0-72a8-4822-b10f-c89ac2b32ed6_15/outputs/internal_cross_validated_models.pkl?sv=2018-11-09&sr=b&sig=7tsr7WjuExn1Gh4iyixab6FseecYj%2BLOt5%2BW5g%2F0wj8%3D&st=2019-10-23T08%3A57%3A21Z&se=2019-10-24T09%3A07%3A21Z&sp=rcw&comp=block&blockid=TURBd01EQXdNREF3TURBd01EQXdNREF3TURBd01EQXdNREF3TURBd01EQSUzRA%3D%3D\n"
     ]
    },
    {
     "name": "stdout",
     "output_type": "stream",
     "text": [
      "ts None\n",
      "ts None\n",
      "ts None\n",
      "ts 300\n"
     ]
    },
    {
     "name": "stderr",
     "output_type": "stream",
     "text": [
      "WARNING - Retrying (Retry(total=2, connect=None, read=None, redirect=None, status=None)) after connection broken by 'ProtocolError('Connection aborted.', OSError(\"(32, 'EPIPE')\",))': /azureml/ExperimentRun/dcid.AutoML_664cb5b0-72a8-4822-b10f-c89ac2b32ed6_15/explanation/7c610caf-a638-453c-be89-25fb0455065f/local_importance_values.json?sv=2018-11-09&sr=b&sig=a0xTPrRE3xd8pKx%2BCCBzF4im5CfDsiOsH00OvYRUfiY%3D&st=2019-10-23T08%3A59%3A00Z&se=2019-10-24T09%3A09%3A00Z&sp=rcw&comp=block&blockid=TURBd01EQXdNREF3TURBd01EQXdNREF3TURBd01EQXdNREF3TURBd01EQSUzRA%3D%3D\n"
     ]
    },
    {
     "name": "stdout",
     "output_type": "stream",
     "text": [
      "StandardScalerWrapper ExtremeRandomTrees       0:04:29       0.6720    0.7919\n",
      "        16   ts None\n",
      "ts None\n",
      "ts None\n",
      "ts 300\n"
     ]
    },
    {
     "name": "stderr",
     "output_type": "stream",
     "text": [
      "WARNING - Retrying (Retry(total=2, connect=None, read=None, redirect=None, status=None)) after connection broken by 'ProtocolError('Connection aborted.', OSError(\"(32, 'EPIPE')\",))': /azureml/ExperimentRun/dcid.AutoML_664cb5b0-72a8-4822-b10f-c89ac2b32ed6_16/explanation/23c52414-f646-43c2-b08f-14eaf14df7af/local_importance_values.json?sv=2018-11-09&sr=b&sig=FOrjhIZW3VfK33YL81eAuKCUABDa7SWIPbCgvPSaHs8%3D&st=2019-10-23T09%3A02%3A28Z&se=2019-10-24T09%3A12%3A28Z&sp=rcw&comp=block&blockid=TURBd01EQXdNREF3TURBd01EQXdNREF3TURBd01EQXdNVEkxT0RJNU1USSUzRA%3D%3D\n"
     ]
    },
    {
     "name": "stdout",
     "output_type": "stream",
     "text": [
      "StandardScalerWrapper RandomForest             0:04:16       0.6794    0.7919\n",
      "        17   ts None\n",
      "ts None\n",
      "ts None\n",
      "ts 300\n",
      "MinMaxScaler SGD                               0:03:07       0.7861    0.7919\n",
      "        18   ts None\n",
      "ts None\n",
      "ts None\n",
      "ts 300\n",
      "StandardScalerWrapper RandomForest             0:01:50       0.7002    0.7919\n",
      "        19   ts None\n",
      "ts None\n",
      "ts None\n",
      "ts 300\n",
      "MinMaxScaler RandomForest                      0:01:54       0.6624    0.7919\n",
      "        20   ts None\n",
      "ts None\n",
      "ts None\n",
      "ts 300\n",
      "RobustScaler LassoLars                         0:02:04       0.7790    0.7919\n",
      "        21   ts None\n",
      "ts None\n",
      "ts None\n",
      "ts 300\n"
     ]
    },
    {
     "name": "stderr",
     "output_type": "stream",
     "text": [
      "WARNING - Retrying (Retry(total=2, connect=None, read=None, redirect=None, status=None)) after connection broken by 'ProtocolError('Connection aborted.', timeout())': /azureml/ExperimentRun/dcid.AutoML_664cb5b0-72a8-4822-b10f-c89ac2b32ed6_21/explanation/0e847cc2-f330-473c-9332-9defd68facb3/local_importance_values.json?sv=2018-11-09&sr=b&sig=KjCL%2FtHOPeQDDTnxYGJtRduITXY1e5cvPrA5Ix2vsL8%3D&st=2019-10-23T09%3A17%3A37Z&se=2019-10-24T09%3A27%3A37Z&sp=rcw&comp=block&blockid=TURBd01EQXdNREF3TURBd01EQXdNREF3TURBd01EQXdNRFF4T1RRek1EUSUzRA%3D%3D\n"
     ]
    },
    {
     "name": "stdout",
     "output_type": "stream",
     "text": [
      "RobustScaler DecisionTree                      0:04:11       0.6018    0.7919\n",
      "        22   ts None\n",
      "ts None\n",
      "ts None\n",
      "ts 300\n"
     ]
    },
    {
     "name": "stderr",
     "output_type": "stream",
     "text": [
      "WARNING - Retrying (Retry(total=2, connect=None, read=None, redirect=None, status=None)) after connection broken by 'ProtocolError('Connection aborted.', OSError(\"(60, 'ETIMEDOUT')\",))': /azureml/ExperimentRun/dcid.AutoML_664cb5b0-72a8-4822-b10f-c89ac2b32ed6_22/explanation/e1d6855e-1ff4-4e1a-b608-507f232f05eb/features.json?sv=2018-11-09&sr=b&sig=3eRmO8dxv910BCZARhLfJMcDEym5V9ADXfZk4G6O6%2FU%3D&st=2019-10-23T09%3A20%3A05Z&se=2019-10-24T09%3A30%3A05Z&sp=rcw&comp=block&blockid=TURBd01EQXdNREF3TURBd01EQXdNREF3TURBd01EQXdNREF3TURBd01EQSUzRA%3D%3D\n",
      "WARNING - Retrying (Retry(total=1, connect=None, read=None, redirect=None, status=None)) after connection broken by 'NewConnectionError('<urllib3.connection.VerifiedHTTPSConnection object at 0x12b144ac8>: Failed to establish a new connection: [Errno 8] nodename nor servname provided, or not known',)': /azureml/ExperimentRun/dcid.AutoML_664cb5b0-72a8-4822-b10f-c89ac2b32ed6_22/explanation/e1d6855e-1ff4-4e1a-b608-507f232f05eb/features.json?sv=2018-11-09&sr=b&sig=3eRmO8dxv910BCZARhLfJMcDEym5V9ADXfZk4G6O6%2FU%3D&st=2019-10-23T09%3A20%3A05Z&se=2019-10-24T09%3A30%3A05Z&sp=rcw&comp=block&blockid=TURBd01EQXdNREF3TURBd01EQXdNREF3TURBd01EQXdNREF3TURBd01EQSUzRA%3D%3D\n",
      "WARNING - Retrying (Retry(total=0, connect=None, read=None, redirect=None, status=None)) after connection broken by 'NewConnectionError('<urllib3.connection.VerifiedHTTPSConnection object at 0x12b144278>: Failed to establish a new connection: [Errno 8] nodename nor servname provided, or not known',)': /azureml/ExperimentRun/dcid.AutoML_664cb5b0-72a8-4822-b10f-c89ac2b32ed6_22/explanation/e1d6855e-1ff4-4e1a-b608-507f232f05eb/features.json?sv=2018-11-09&sr=b&sig=3eRmO8dxv910BCZARhLfJMcDEym5V9ADXfZk4G6O6%2FU%3D&st=2019-10-23T09%3A20%3A05Z&se=2019-10-24T09%3A30%3A05Z&sp=rcw&comp=block&blockid=TURBd01EQXdNREF3TURBd01EQXdNREF3TURBd01EQXdNREF3TURBd01EQSUzRA%3D%3D\n",
      "WARNING - Retrying (Retry(total=2, connect=None, read=None, redirect=None, status=None)) after connection broken by 'NewConnectionError('<urllib3.connection.VerifiedHTTPSConnection object at 0x1285e1c50>: Failed to establish a new connection: [Errno 8] nodename nor servname provided, or not known',)': /azureml/ExperimentRun/dcid.AutoML_664cb5b0-72a8-4822-b10f-c89ac2b32ed6_22/explanation/e1d6855e-1ff4-4e1a-b608-507f232f05eb/features.json?sv=2018-11-09&sr=b&sig=3eRmO8dxv910BCZARhLfJMcDEym5V9ADXfZk4G6O6%2FU%3D&st=2019-10-23T09%3A20%3A05Z&se=2019-10-24T09%3A30%3A05Z&sp=rcw&comp=block&blockid=TURBd01EQXdNREF3TURBd01EQXdNREF3TURBd01EQXdNREF3TURBd01EQSUzRA%3D%3D\n",
      "WARNING - Retrying (Retry(total=1, connect=None, read=None, redirect=None, status=None)) after connection broken by 'NewConnectionError('<urllib3.connection.VerifiedHTTPSConnection object at 0x1291f2748>: Failed to establish a new connection: [Errno 8] nodename nor servname provided, or not known',)': /azureml/ExperimentRun/dcid.AutoML_664cb5b0-72a8-4822-b10f-c89ac2b32ed6_22/explanation/e1d6855e-1ff4-4e1a-b608-507f232f05eb/features.json?sv=2018-11-09&sr=b&sig=3eRmO8dxv910BCZARhLfJMcDEym5V9ADXfZk4G6O6%2FU%3D&st=2019-10-23T09%3A20%3A05Z&se=2019-10-24T09%3A30%3A05Z&sp=rcw&comp=block&blockid=TURBd01EQXdNREF3TURBd01EQXdNREF3TURBd01EQXdNREF3TURBd01EQSUzRA%3D%3D\n",
      "WARNING - Retrying (Retry(total=0, connect=None, read=None, redirect=None, status=None)) after connection broken by 'NewConnectionError('<urllib3.connection.VerifiedHTTPSConnection object at 0x1285e18d0>: Failed to establish a new connection: [Errno 8] nodename nor servname provided, or not known',)': /azureml/ExperimentRun/dcid.AutoML_664cb5b0-72a8-4822-b10f-c89ac2b32ed6_22/explanation/e1d6855e-1ff4-4e1a-b608-507f232f05eb/features.json?sv=2018-11-09&sr=b&sig=3eRmO8dxv910BCZARhLfJMcDEym5V9ADXfZk4G6O6%2FU%3D&st=2019-10-23T09%3A20%3A05Z&se=2019-10-24T09%3A30%3A05Z&sp=rcw&comp=block&blockid=TURBd01EQXdNREF3TURBd01EQXdNREF3TURBd01EQXdNREF3TURBd01EQSUzRA%3D%3D\n"
     ]
    },
    {
     "name": "stdout",
     "output_type": "stream",
     "text": [
      "MaxAbsScaler LightGBM                          1:26:37       0.7572    0.7919\n",
      "        23   ts None\n",
      "ts None\n",
      "ts None\n",
      "ts 300\n",
      "MinMaxScaler DecisionTree                      0:01:59       0.5293    0.7919\n",
      "        24   "
     ]
    },
    {
     "name": "stderr",
     "output_type": "stream",
     "text": [
      "WARNING - Retrying (Retry(total=2, connect=3, read=3, redirect=None, status=None)) after connection broken by 'ProxyError('Cannot connect to proxy.', timeout('select timed out',))': /artifact/v2.0/subscriptions/c054f650-e599-460d-a1ef-eb3941084791/resourceGroups/docs-aml/providers/Microsoft.MachineLearningServices/workspaces/ukb_analysis1023_v2/artifacts/batch/metadata/ExperimentRun/dcid.AutoML_664cb5b0-72a8-4822-b10f-c89ac2b32ed6_24\n",
      "WARNING - Retrying (Retry(total=1, connect=3, read=3, redirect=None, status=None)) after connection broken by 'ProxyError('Cannot connect to proxy.', timeout('select timed out',))': /artifact/v2.0/subscriptions/c054f650-e599-460d-a1ef-eb3941084791/resourceGroups/docs-aml/providers/Microsoft.MachineLearningServices/workspaces/ukb_analysis1023_v2/artifacts/batch/metadata/ExperimentRun/dcid.AutoML_664cb5b0-72a8-4822-b10f-c89ac2b32ed6_24\n",
      "WARNING - Retrying (Retry(total=0, connect=3, read=3, redirect=None, status=None)) after connection broken by 'ProxyError('Cannot connect to proxy.', timeout('select timed out',))': /artifact/v2.0/subscriptions/c054f650-e599-460d-a1ef-eb3941084791/resourceGroups/docs-aml/providers/Microsoft.MachineLearningServices/workspaces/ukb_analysis1023_v2/artifacts/batch/metadata/ExperimentRun/dcid.AutoML_664cb5b0-72a8-4822-b10f-c89ac2b32ed6_24\n",
      "WARNING - Retrying (Retry(total=2, connect=3, read=3, redirect=None, status=None)) after connection broken by 'ProxyError('Cannot connect to proxy.', timeout('select timed out',))': /artifact/v2.0/subscriptions/c054f650-e599-460d-a1ef-eb3941084791/resourceGroups/docs-aml/providers/Microsoft.MachineLearningServices/workspaces/ukb_analysis1023_v2/artifacts/batch/metadata/ExperimentRun/dcid.AutoML_664cb5b0-72a8-4822-b10f-c89ac2b32ed6_24\n",
      "WARNING - Retrying (Retry(total=1, connect=3, read=3, redirect=None, status=None)) after connection broken by 'ProxyError('Cannot connect to proxy.', timeout('select timed out',))': /artifact/v2.0/subscriptions/c054f650-e599-460d-a1ef-eb3941084791/resourceGroups/docs-aml/providers/Microsoft.MachineLearningServices/workspaces/ukb_analysis1023_v2/artifacts/batch/metadata/ExperimentRun/dcid.AutoML_664cb5b0-72a8-4822-b10f-c89ac2b32ed6_24\n",
      "WARNING - Retrying (Retry(total=0, connect=3, read=3, redirect=None, status=None)) after connection broken by 'ProxyError('Cannot connect to proxy.', timeout('select timed out',))': /artifact/v2.0/subscriptions/c054f650-e599-460d-a1ef-eb3941084791/resourceGroups/docs-aml/providers/Microsoft.MachineLearningServices/workspaces/ukb_analysis1023_v2/artifacts/batch/metadata/ExperimentRun/dcid.AutoML_664cb5b0-72a8-4822-b10f-c89ac2b32ed6_24\n"
     ]
    },
    {
     "name": "stdout",
     "output_type": "stream",
     "text": [
      "ts 300\n"
     ]
    },
    {
     "name": "stderr",
     "output_type": "stream",
     "text": [
      "WARNING - Retrying (Retry(total=2, connect=3, read=3, redirect=None, status=None)) after connection broken by 'ProxyError('Cannot connect to proxy.', timeout('select timed out',))': /history/v1.0/subscriptions/c054f650-e599-460d-a1ef-eb3941084791/resourceGroups/docs-aml/providers/Microsoft.MachineLearningServices/workspaces/ukb_analysis1023_v2/experiments/1023automated-ml-regression/runs/AutoML_664cb5b0-72a8-4822-b10f-c89ac2b32ed6_24/events\n",
      "WARNING - Retrying (Retry(total=1, connect=3, read=3, redirect=None, status=None)) after connection broken by 'ProxyError('Cannot connect to proxy.', timeout('select timed out',))': /history/v1.0/subscriptions/c054f650-e599-460d-a1ef-eb3941084791/resourceGroups/docs-aml/providers/Microsoft.MachineLearningServices/workspaces/ukb_analysis1023_v2/experiments/1023automated-ml-regression/runs/AutoML_664cb5b0-72a8-4822-b10f-c89ac2b32ed6_24/events\n",
      "WARNING - Retrying (Retry(total=0, connect=3, read=3, redirect=None, status=None)) after connection broken by 'ProxyError('Cannot connect to proxy.', timeout('select timed out',))': /history/v1.0/subscriptions/c054f650-e599-460d-a1ef-eb3941084791/resourceGroups/docs-aml/providers/Microsoft.MachineLearningServices/workspaces/ukb_analysis1023_v2/experiments/1023automated-ml-regression/runs/AutoML_664cb5b0-72a8-4822-b10f-c89ac2b32ed6_24/events\n",
      "WARNING - Retrying (Retry(total=2, connect=3, read=3, redirect=None, status=None)) after connection broken by 'ProxyError('Cannot connect to proxy.', timeout('select timed out',))': /history/v1.0/subscriptions/c054f650-e599-460d-a1ef-eb3941084791/resourceGroups/docs-aml/providers/Microsoft.MachineLearningServices/workspaces/ukb_analysis1023_v2/experiments/1023automated-ml-regression/runs/AutoML_664cb5b0-72a8-4822-b10f-c89ac2b32ed6_24\n",
      "WARNING - Retrying (Retry(total=1, connect=3, read=3, redirect=None, status=None)) after connection broken by 'ProxyError('Cannot connect to proxy.', timeout('select timed out',))': /history/v1.0/subscriptions/c054f650-e599-460d-a1ef-eb3941084791/resourceGroups/docs-aml/providers/Microsoft.MachineLearningServices/workspaces/ukb_analysis1023_v2/experiments/1023automated-ml-regression/runs/AutoML_664cb5b0-72a8-4822-b10f-c89ac2b32ed6_24\n",
      "WARNING - Retrying (Retry(total=0, connect=3, read=3, redirect=None, status=None)) after connection broken by 'ProxyError('Cannot connect to proxy.', timeout('select timed out',))': /history/v1.0/subscriptions/c054f650-e599-460d-a1ef-eb3941084791/resourceGroups/docs-aml/providers/Microsoft.MachineLearningServices/workspaces/ukb_analysis1023_v2/experiments/1023automated-ml-regression/runs/AutoML_664cb5b0-72a8-4822-b10f-c89ac2b32ed6_24\n"
     ]
    },
    {
     "name": "stdout",
     "output_type": "stream",
     "text": [
      "                                               0:33:18          nan    0.7919\n",
      "ERROR: Run AutoML_664cb5b0-72a8-4822-b10f-c89ac2b32ed6_24 failed with exception \"Error occurred in request., ProxyError: HTTPSConnectionPool(host='eastus2.experiments.azureml.net', port=443): Max retries exceeded with url: /history/v1.0/subscriptions/c054f650-e599-460d-a1ef-eb3941084791/resourceGroups/docs-aml/providers/Microsoft.MachineLearningServices/workspaces/ukb_analysis1023_v2/experiments/1023automated-ml-regression/runs/AutoML_664cb5b0-72a8-4822-b10f-c89ac2b32ed6_24 (Caused by ProxyError('Cannot connect to proxy.', timeout('select timed out',)))\".\n"
     ]
    },
    {
     "name": "stderr",
     "output_type": "stream",
     "text": [
      "WARNING - Retrying (Retry(total=2, connect=3, read=3, redirect=None, status=None)) after connection broken by 'ProxyError('Cannot connect to proxy.', timeout('select timed out',))': /jasmine/v1.0/subscriptions/c054f650-e599-460d-a1ef-eb3941084791/resourceGroups/docs-aml/providers/Microsoft.MachineLearningServices/workspaces/ukb_analysis1023_v2/experiment/1023automated-ml-regression/runs/AutoML_664cb5b0-72a8-4822-b10f-c89ac2b32ed6/next\n",
      "WARNING - Retrying (Retry(total=1, connect=3, read=3, redirect=None, status=None)) after connection broken by 'ProxyError('Cannot connect to proxy.', timeout('select timed out',))': /jasmine/v1.0/subscriptions/c054f650-e599-460d-a1ef-eb3941084791/resourceGroups/docs-aml/providers/Microsoft.MachineLearningServices/workspaces/ukb_analysis1023_v2/experiment/1023automated-ml-regression/runs/AutoML_664cb5b0-72a8-4822-b10f-c89ac2b32ed6/next\n",
      "WARNING - Retrying (Retry(total=0, connect=3, read=3, redirect=None, status=None)) after connection broken by 'ProxyError('Cannot connect to proxy.', timeout('select timed out',))': /jasmine/v1.0/subscriptions/c054f650-e599-460d-a1ef-eb3941084791/resourceGroups/docs-aml/providers/Microsoft.MachineLearningServices/workspaces/ukb_analysis1023_v2/experiment/1023automated-ml-regression/runs/AutoML_664cb5b0-72a8-4822-b10f-c89ac2b32ed6/next\n",
      "WARNING - Retrying (Retry(total=2, connect=3, read=3, redirect=None, status=None)) after connection broken by 'ProxyError('Cannot connect to proxy.', timeout('select timed out',))': /history/v1.0/subscriptions/c054f650-e599-460d-a1ef-eb3941084791/resourceGroups/docs-aml/providers/Microsoft.MachineLearningServices/workspaces/ukb_analysis1023_v2/experiments/1023automated-ml-regression/runs/AutoML_664cb5b0-72a8-4822-b10f-c89ac2b32ed6/children?$orderby=StartTimeUtc%20desc&$top=500\n",
      "WARNING - Retrying (Retry(total=1, connect=3, read=3, redirect=None, status=None)) after connection broken by 'ProxyError('Cannot connect to proxy.', timeout('select timed out',))': /history/v1.0/subscriptions/c054f650-e599-460d-a1ef-eb3941084791/resourceGroups/docs-aml/providers/Microsoft.MachineLearningServices/workspaces/ukb_analysis1023_v2/experiments/1023automated-ml-regression/runs/AutoML_664cb5b0-72a8-4822-b10f-c89ac2b32ed6/children?$orderby=StartTimeUtc%20desc&$top=500\n",
      "WARNING - Retrying (Retry(total=0, connect=3, read=3, redirect=None, status=None)) after connection broken by 'ProxyError('Cannot connect to proxy.', timeout('select timed out',))': /history/v1.0/subscriptions/c054f650-e599-460d-a1ef-eb3941084791/resourceGroups/docs-aml/providers/Microsoft.MachineLearningServices/workspaces/ukb_analysis1023_v2/experiments/1023automated-ml-regression/runs/AutoML_664cb5b0-72a8-4822-b10f-c89ac2b32ed6/children?$orderby=StartTimeUtc%20desc&$top=500\n"
     ]
    },
    {
     "name": "stdout",
     "output_type": "stream",
     "text": [
      "ts 300\n"
     ]
    },
    {
     "name": "stderr",
     "output_type": "stream",
     "text": [
      "WARNING - Retrying (Retry(total=2, connect=3, read=3, redirect=None, status=None)) after connection broken by 'ProxyError('Cannot connect to proxy.', timeout('select timed out',))': /history/v1.0/subscriptions/c054f650-e599-460d-a1ef-eb3941084791/resourceGroups/docs-aml/providers/Microsoft.MachineLearningServices/workspaces/ukb_analysis1023_v2/experiments/1023automated-ml-regression/runs/AutoML_664cb5b0-72a8-4822-b10f-c89ac2b32ed6/events\n",
      "WARNING - Retrying (Retry(total=1, connect=3, read=3, redirect=None, status=None)) after connection broken by 'ProxyError('Cannot connect to proxy.', timeout('select timed out',))': /history/v1.0/subscriptions/c054f650-e599-460d-a1ef-eb3941084791/resourceGroups/docs-aml/providers/Microsoft.MachineLearningServices/workspaces/ukb_analysis1023_v2/experiments/1023automated-ml-regression/runs/AutoML_664cb5b0-72a8-4822-b10f-c89ac2b32ed6/events\n",
      "WARNING - Retrying (Retry(total=0, connect=3, read=3, redirect=None, status=None)) after connection broken by 'ProxyError('Cannot connect to proxy.', timeout('select timed out',))': /history/v1.0/subscriptions/c054f650-e599-460d-a1ef-eb3941084791/resourceGroups/docs-aml/providers/Microsoft.MachineLearningServices/workspaces/ukb_analysis1023_v2/experiments/1023automated-ml-regression/runs/AutoML_664cb5b0-72a8-4822-b10f-c89ac2b32ed6/events\n"
     ]
    },
    {
     "ename": "ClientException",
     "evalue": "Error occurred when trying to set parent run status.",
     "output_type": "error",
     "traceback": [
      "\u001b[0;31m---------------------------------------------------------------------------\u001b[0m",
      "\u001b[0;31mClientException\u001b[0m                           Traceback (most recent call last)",
      "\u001b[0;32m<ipython-input-21-8fd5b86ac7e3>\u001b[0m in \u001b[0;36m<module>\u001b[0;34m\u001b[0m\n\u001b[1;32m      1\u001b[0m \u001b[0;32mfrom\u001b[0m \u001b[0mazureml\u001b[0m\u001b[0;34m.\u001b[0m\u001b[0mcore\u001b[0m\u001b[0;34m.\u001b[0m\u001b[0mexperiment\u001b[0m \u001b[0;32mimport\u001b[0m \u001b[0mExperiment\u001b[0m\u001b[0;34m\u001b[0m\u001b[0m\n\u001b[1;32m      2\u001b[0m \u001b[0mexperiment\u001b[0m\u001b[0;34m=\u001b[0m\u001b[0mExperiment\u001b[0m\u001b[0;34m(\u001b[0m\u001b[0mws\u001b[0m\u001b[0;34m,\u001b[0m \u001b[0mexperiment_name\u001b[0m\u001b[0;34m)\u001b[0m\u001b[0;34m\u001b[0m\u001b[0m\n\u001b[0;32m----> 3\u001b[0;31m \u001b[0mlocal_run\u001b[0m \u001b[0;34m=\u001b[0m \u001b[0mexperiment\u001b[0m\u001b[0;34m.\u001b[0m\u001b[0msubmit\u001b[0m\u001b[0;34m(\u001b[0m\u001b[0mautomated_ml_config\u001b[0m\u001b[0;34m,\u001b[0m \u001b[0mshow_output\u001b[0m\u001b[0;34m=\u001b[0m\u001b[0;32mTrue\u001b[0m\u001b[0;34m)\u001b[0m\u001b[0;34m\u001b[0m\u001b[0m\n\u001b[0m",
      "\u001b[0;32m~/anaconda3/envs/myenv/lib/python3.6/site-packages/azureml/_jupyter_common/__init__.py\u001b[0m in \u001b[0;36msubmit\u001b[0;34m(self, config, tags, **kwargs)\u001b[0m\n\u001b[1;32m     84\u001b[0m \u001b[0;32mdef\u001b[0m \u001b[0m_experiment_submit_notebook_decorator\u001b[0m\u001b[0;34m(\u001b[0m\u001b[0moriginal_submit\u001b[0m\u001b[0;34m)\u001b[0m\u001b[0;34m:\u001b[0m\u001b[0;34m\u001b[0m\u001b[0m\n\u001b[1;32m     85\u001b[0m     \u001b[0;32mdef\u001b[0m \u001b[0msubmit\u001b[0m\u001b[0;34m(\u001b[0m\u001b[0mself\u001b[0m\u001b[0;34m,\u001b[0m \u001b[0mconfig\u001b[0m\u001b[0;34m,\u001b[0m \u001b[0mtags\u001b[0m\u001b[0;34m=\u001b[0m\u001b[0;32mNone\u001b[0m\u001b[0;34m,\u001b[0m \u001b[0;34m**\u001b[0m\u001b[0mkwargs\u001b[0m\u001b[0;34m)\u001b[0m\u001b[0;34m:\u001b[0m\u001b[0;34m\u001b[0m\u001b[0m\n\u001b[0;32m---> 86\u001b[0;31m         \u001b[0mrun\u001b[0m \u001b[0;34m=\u001b[0m \u001b[0moriginal_submit\u001b[0m\u001b[0;34m(\u001b[0m\u001b[0mself\u001b[0m\u001b[0;34m,\u001b[0m \u001b[0mconfig\u001b[0m\u001b[0;34m,\u001b[0m \u001b[0mtags\u001b[0m\u001b[0;34m,\u001b[0m \u001b[0;34m**\u001b[0m\u001b[0mkwargs\u001b[0m\u001b[0;34m)\u001b[0m\u001b[0;34m\u001b[0m\u001b[0m\n\u001b[0m\u001b[1;32m     87\u001b[0m         \u001b[0m_update_run_created_from\u001b[0m\u001b[0;34m(\u001b[0m\u001b[0mrun\u001b[0m\u001b[0;34m)\u001b[0m\u001b[0;34m\u001b[0m\u001b[0m\n\u001b[1;32m     88\u001b[0m         \u001b[0;32mreturn\u001b[0m \u001b[0mrun\u001b[0m\u001b[0;34m\u001b[0m\u001b[0m\n",
      "\u001b[0;32m~/anaconda3/envs/myenv/lib/python3.6/site-packages/azureml/core/experiment.py\u001b[0m in \u001b[0;36msubmit\u001b[0;34m(self, config, tags, **kwargs)\u001b[0m\n\u001b[1;32m    158\u001b[0m         \u001b[0msubmit_func\u001b[0m \u001b[0;34m=\u001b[0m \u001b[0mget_experiment_submit\u001b[0m\u001b[0;34m(\u001b[0m\u001b[0mconfig\u001b[0m\u001b[0;34m)\u001b[0m\u001b[0;34m\u001b[0m\u001b[0m\n\u001b[1;32m    159\u001b[0m         \u001b[0;32mwith\u001b[0m \u001b[0mself\u001b[0m\u001b[0;34m.\u001b[0m\u001b[0m_log_context\u001b[0m\u001b[0;34m(\u001b[0m\u001b[0;34m\"submit config {}\"\u001b[0m\u001b[0;34m.\u001b[0m\u001b[0mformat\u001b[0m\u001b[0;34m(\u001b[0m\u001b[0mconfig\u001b[0m\u001b[0;34m.\u001b[0m\u001b[0m__class__\u001b[0m\u001b[0;34m.\u001b[0m\u001b[0m__name__\u001b[0m\u001b[0;34m)\u001b[0m\u001b[0;34m)\u001b[0m\u001b[0;34m:\u001b[0m\u001b[0;34m\u001b[0m\u001b[0m\n\u001b[0;32m--> 160\u001b[0;31m             \u001b[0mrun\u001b[0m \u001b[0;34m=\u001b[0m \u001b[0msubmit_func\u001b[0m\u001b[0;34m(\u001b[0m\u001b[0mconfig\u001b[0m\u001b[0;34m,\u001b[0m \u001b[0mself\u001b[0m\u001b[0;34m.\u001b[0m\u001b[0mworkspace\u001b[0m\u001b[0;34m,\u001b[0m \u001b[0mself\u001b[0m\u001b[0;34m.\u001b[0m\u001b[0mname\u001b[0m\u001b[0;34m,\u001b[0m \u001b[0;34m**\u001b[0m\u001b[0mkwargs\u001b[0m\u001b[0;34m)\u001b[0m\u001b[0;34m\u001b[0m\u001b[0m\n\u001b[0m\u001b[1;32m    161\u001b[0m         \u001b[0;32mif\u001b[0m \u001b[0mtags\u001b[0m \u001b[0;32mis\u001b[0m \u001b[0;32mnot\u001b[0m \u001b[0;32mNone\u001b[0m\u001b[0;34m:\u001b[0m\u001b[0;34m\u001b[0m\u001b[0m\n\u001b[1;32m    162\u001b[0m             \u001b[0mrun\u001b[0m\u001b[0;34m.\u001b[0m\u001b[0mset_tags\u001b[0m\u001b[0;34m(\u001b[0m\u001b[0mtags\u001b[0m\u001b[0;34m)\u001b[0m\u001b[0;34m\u001b[0m\u001b[0m\n",
      "\u001b[0;32m~/anaconda3/envs/myenv/lib/python3.6/site-packages/azureml/train/automl/automlconfig.py\u001b[0m in \u001b[0;36m_automl_static_submit\u001b[0;34m(automl_config_object, workspace, experiment_name, **kwargs)\u001b[0m\n\u001b[1;32m     53\u001b[0m     \u001b[0mfit_kwargs\u001b[0m\u001b[0;34m[\u001b[0m\u001b[0;34m'show_output'\u001b[0m\u001b[0;34m]\u001b[0m \u001b[0;34m=\u001b[0m \u001b[0mshow_output\u001b[0m\u001b[0;34m\u001b[0m\u001b[0m\n\u001b[1;32m     54\u001b[0m \u001b[0;34m\u001b[0m\u001b[0m\n\u001b[0;32m---> 55\u001b[0;31m     \u001b[0mrun\u001b[0m \u001b[0;34m=\u001b[0m \u001b[0mautoml_estimator\u001b[0m\u001b[0;34m.\u001b[0m\u001b[0mfit\u001b[0m\u001b[0;34m(\u001b[0m\u001b[0;34m**\u001b[0m\u001b[0mfit_kwargs\u001b[0m\u001b[0;34m)\u001b[0m\u001b[0;34m\u001b[0m\u001b[0m\n\u001b[0m\u001b[1;32m     56\u001b[0m \u001b[0;34m\u001b[0m\u001b[0m\n\u001b[1;32m     57\u001b[0m     \u001b[0mtracking_path\u001b[0m \u001b[0;34m=\u001b[0m \u001b[0mautoml_config_object\u001b[0m\u001b[0;34m.\u001b[0m\u001b[0muser_settings\u001b[0m\u001b[0;34m.\u001b[0m\u001b[0mget\u001b[0m\u001b[0;34m(\u001b[0m\u001b[0;34m'path'\u001b[0m\u001b[0;34m)\u001b[0m \u001b[0;32mor\u001b[0m \u001b[0;34m'.'\u001b[0m\u001b[0;34m\u001b[0m\u001b[0m\n",
      "\u001b[0;32m~/anaconda3/envs/myenv/lib/python3.6/site-packages/azureml/train/automl/_azureautomlclient.py\u001b[0m in \u001b[0;36mfit\u001b[0;34m(self, run_configuration, compute_target, X, y, sample_weight, X_valid, y_valid, sample_weight_valid, data, label, columns, cv_splits_indices, show_output, existing_run)\u001b[0m\n\u001b[1;32m    321\u001b[0m             self._fail_parent_run(error_details=common_utilities.build_run_failure_error_detail(e),\n\u001b[1;32m    322\u001b[0m                                   \u001b[0merror_code\u001b[0m\u001b[0;34m=\u001b[0m\u001b[0mcommon_utilities\u001b[0m\u001b[0;34m.\u001b[0m\u001b[0mget_error_code\u001b[0m\u001b[0;34m(\u001b[0m\u001b[0me\u001b[0m\u001b[0;34m)\u001b[0m\u001b[0;34m,\u001b[0m\u001b[0;34m\u001b[0m\u001b[0m\n\u001b[0;32m--> 323\u001b[0;31m                                   logger=self.logger)\n\u001b[0m\u001b[1;32m    324\u001b[0m             \u001b[0;32mraise\u001b[0m\u001b[0;34m\u001b[0m\u001b[0m\n\u001b[1;32m    325\u001b[0m         \u001b[0;32massert\u001b[0m \u001b[0mself\u001b[0m\u001b[0;34m.\u001b[0m\u001b[0mcurrent_run\u001b[0m \u001b[0;32mis\u001b[0m \u001b[0;32mnot\u001b[0m \u001b[0;32mNone\u001b[0m\u001b[0;34m\u001b[0m\u001b[0m\n",
      "\u001b[0;32m~/anaconda3/envs/myenv/lib/python3.6/site-packages/azureml/train/automl/_azureautomlclient.py\u001b[0m in \u001b[0;36m_fail_parent_run\u001b[0;34m(self, error_details, error_code, logger)\u001b[0m\n\u001b[1;32m    935\u001b[0m             \u001b[0mlogging_utilities\u001b[0m\u001b[0;34m.\u001b[0m\u001b[0mlog_traceback\u001b[0m\u001b[0;34m(\u001b[0m\u001b[0me\u001b[0m\u001b[0;34m,\u001b[0m \u001b[0mlogger\u001b[0m\u001b[0;34m)\u001b[0m\u001b[0;34m\u001b[0m\u001b[0m\n\u001b[1;32m    936\u001b[0m             raise ClientException(\n\u001b[0;32m--> 937\u001b[0;31m                 \"Error occurred when trying to set parent run status.\") from None\n\u001b[0m\u001b[1;32m    938\u001b[0m \u001b[0;34m\u001b[0m\u001b[0m\n\u001b[1;32m    939\u001b[0m     \u001b[0;34m@\u001b[0m\u001b[0mstaticmethod\u001b[0m\u001b[0;34m\u001b[0m\u001b[0m\n",
      "\u001b[0;31mClientException\u001b[0m: Error occurred when trying to set parent run status."
     ]
    }
   ],
   "source": [
    "from azureml.core.experiment import Experiment\n",
    "experiment=Experiment(ws, experiment_name)\n",
    "local_run = experiment.submit(automated_ml_config, show_output=True)"
   ]
  },
  {
   "cell_type": "code",
   "execution_count": 26,
   "metadata": {},
   "outputs": [
    {
     "data": {
      "application/vnd.jupyter.widget-view+json": {
       "model_id": "d0cd3f9c90ac4cc9a00f30e484c0ea4c",
       "version_major": 2,
       "version_minor": 0
      },
      "text/plain": [
       "_AutoMLWidget(widget_settings={'childWidgetDisplay': 'popup', 'send_telemetry': False, 'log_level': 'INFO', 's…"
      ]
     },
     "metadata": {},
     "output_type": "display_data"
    }
   ],
   "source": [
    "from azureml.widgets import RunDetails\n",
    "RunDetails(local_run).show()"
   ]
  },
  {
   "cell_type": "code",
   "execution_count": 27,
   "metadata": {},
   "outputs": [
    {
     "data": {
      "text/html": [
       "<div>\n",
       "<style scoped>\n",
       "    .dataframe tbody tr th:only-of-type {\n",
       "        vertical-align: middle;\n",
       "    }\n",
       "\n",
       "    .dataframe tbody tr th {\n",
       "        vertical-align: top;\n",
       "    }\n",
       "\n",
       "    .dataframe thead th {\n",
       "        text-align: right;\n",
       "    }\n",
       "</style>\n",
       "<table border=\"1\" class=\"dataframe\">\n",
       "  <thead>\n",
       "    <tr style=\"text-align: right;\">\n",
       "      <th></th>\n",
       "      <th>0</th>\n",
       "      <th>1</th>\n",
       "      <th>2</th>\n",
       "      <th>3</th>\n",
       "      <th>4</th>\n",
       "      <th>5</th>\n",
       "      <th>6</th>\n",
       "      <th>7</th>\n",
       "      <th>8</th>\n",
       "      <th>9</th>\n",
       "      <th>...</th>\n",
       "      <th>20</th>\n",
       "      <th>21</th>\n",
       "      <th>22</th>\n",
       "      <th>23</th>\n",
       "      <th>24</th>\n",
       "      <th>25</th>\n",
       "      <th>26</th>\n",
       "      <th>27</th>\n",
       "      <th>28</th>\n",
       "      <th>29</th>\n",
       "    </tr>\n",
       "  </thead>\n",
       "  <tbody>\n",
       "    <tr>\n",
       "      <th>explained_variance</th>\n",
       "      <td>0.40</td>\n",
       "      <td>0.50</td>\n",
       "      <td>0.46</td>\n",
       "      <td>0.47</td>\n",
       "      <td>0.17</td>\n",
       "      <td>0.61</td>\n",
       "      <td>0.54</td>\n",
       "      <td>0.42</td>\n",
       "      <td>0.60</td>\n",
       "      <td>0.49</td>\n",
       "      <td>...</td>\n",
       "      <td>0.58</td>\n",
       "      <td>0.33</td>\n",
       "      <td>0.57</td>\n",
       "      <td>0.29</td>\n",
       "      <td>0.25</td>\n",
       "      <td>0.55</td>\n",
       "      <td>0.59</td>\n",
       "      <td>0.61</td>\n",
       "      <td>0.58</td>\n",
       "      <td>0.62</td>\n",
       "    </tr>\n",
       "    <tr>\n",
       "      <th>mean_absolute_error</th>\n",
       "      <td>4.76</td>\n",
       "      <td>4.23</td>\n",
       "      <td>4.42</td>\n",
       "      <td>4.37</td>\n",
       "      <td>5.35</td>\n",
       "      <td>3.71</td>\n",
       "      <td>4.02</td>\n",
       "      <td>4.63</td>\n",
       "      <td>3.73</td>\n",
       "      <td>4.24</td>\n",
       "      <td>...</td>\n",
       "      <td>3.84</td>\n",
       "      <td>4.77</td>\n",
       "      <td>3.86</td>\n",
       "      <td>4.96</td>\n",
       "      <td>5.11</td>\n",
       "      <td>3.98</td>\n",
       "      <td>3.80</td>\n",
       "      <td>3.79</td>\n",
       "      <td>3.80</td>\n",
       "      <td>3.68</td>\n",
       "    </tr>\n",
       "    <tr>\n",
       "      <th>mean_absolute_percentage_error</th>\n",
       "      <td>8.95</td>\n",
       "      <td>7.91</td>\n",
       "      <td>8.31</td>\n",
       "      <td>8.20</td>\n",
       "      <td>9.92</td>\n",
       "      <td>6.89</td>\n",
       "      <td>7.50</td>\n",
       "      <td>8.71</td>\n",
       "      <td>6.90</td>\n",
       "      <td>7.94</td>\n",
       "      <td>...</td>\n",
       "      <td>7.16</td>\n",
       "      <td>8.91</td>\n",
       "      <td>7.19</td>\n",
       "      <td>9.35</td>\n",
       "      <td>9.50</td>\n",
       "      <td>7.42</td>\n",
       "      <td>7.07</td>\n",
       "      <td>7.04</td>\n",
       "      <td>7.03</td>\n",
       "      <td>6.86</td>\n",
       "    </tr>\n",
       "    <tr>\n",
       "      <th>median_absolute_error</th>\n",
       "      <td>4.19</td>\n",
       "      <td>3.59</td>\n",
       "      <td>3.89</td>\n",
       "      <td>3.85</td>\n",
       "      <td>4.53</td>\n",
       "      <td>3.18</td>\n",
       "      <td>3.42</td>\n",
       "      <td>4.10</td>\n",
       "      <td>3.18</td>\n",
       "      <td>3.69</td>\n",
       "      <td>...</td>\n",
       "      <td>3.32</td>\n",
       "      <td>4.00</td>\n",
       "      <td>3.25</td>\n",
       "      <td>4.00</td>\n",
       "      <td>4.29</td>\n",
       "      <td>3.42</td>\n",
       "      <td>3.26</td>\n",
       "      <td>3.23</td>\n",
       "      <td>3.23</td>\n",
       "      <td>3.20</td>\n",
       "    </tr>\n",
       "    <tr>\n",
       "      <th>normalized_mean_absolute_error</th>\n",
       "      <td>0.16</td>\n",
       "      <td>0.14</td>\n",
       "      <td>0.15</td>\n",
       "      <td>0.15</td>\n",
       "      <td>0.18</td>\n",
       "      <td>0.12</td>\n",
       "      <td>0.13</td>\n",
       "      <td>0.15</td>\n",
       "      <td>0.12</td>\n",
       "      <td>0.14</td>\n",
       "      <td>...</td>\n",
       "      <td>0.13</td>\n",
       "      <td>0.16</td>\n",
       "      <td>0.13</td>\n",
       "      <td>0.17</td>\n",
       "      <td>0.17</td>\n",
       "      <td>0.13</td>\n",
       "      <td>0.13</td>\n",
       "      <td>0.13</td>\n",
       "      <td>0.13</td>\n",
       "      <td>0.12</td>\n",
       "    </tr>\n",
       "    <tr>\n",
       "      <th>normalized_median_absolute_error</th>\n",
       "      <td>0.14</td>\n",
       "      <td>0.12</td>\n",
       "      <td>0.13</td>\n",
       "      <td>0.13</td>\n",
       "      <td>0.15</td>\n",
       "      <td>0.11</td>\n",
       "      <td>0.11</td>\n",
       "      <td>0.14</td>\n",
       "      <td>0.11</td>\n",
       "      <td>0.12</td>\n",
       "      <td>...</td>\n",
       "      <td>0.11</td>\n",
       "      <td>0.13</td>\n",
       "      <td>0.11</td>\n",
       "      <td>0.13</td>\n",
       "      <td>0.14</td>\n",
       "      <td>0.11</td>\n",
       "      <td>0.11</td>\n",
       "      <td>0.11</td>\n",
       "      <td>0.11</td>\n",
       "      <td>0.11</td>\n",
       "    </tr>\n",
       "    <tr>\n",
       "      <th>normalized_root_mean_squared_error</th>\n",
       "      <td>0.19</td>\n",
       "      <td>0.17</td>\n",
       "      <td>0.18</td>\n",
       "      <td>0.18</td>\n",
       "      <td>0.22</td>\n",
       "      <td>0.15</td>\n",
       "      <td>0.17</td>\n",
       "      <td>0.19</td>\n",
       "      <td>0.16</td>\n",
       "      <td>0.18</td>\n",
       "      <td>...</td>\n",
       "      <td>0.16</td>\n",
       "      <td>0.20</td>\n",
       "      <td>0.16</td>\n",
       "      <td>0.21</td>\n",
       "      <td>0.21</td>\n",
       "      <td>0.16</td>\n",
       "      <td>0.16</td>\n",
       "      <td>0.16</td>\n",
       "      <td>0.16</td>\n",
       "      <td>0.15</td>\n",
       "    </tr>\n",
       "    <tr>\n",
       "      <th>normalized_root_mean_squared_log_error</th>\n",
       "      <td>0.19</td>\n",
       "      <td>0.18</td>\n",
       "      <td>0.18</td>\n",
       "      <td>0.18</td>\n",
       "      <td>0.22</td>\n",
       "      <td>0.15</td>\n",
       "      <td>0.17</td>\n",
       "      <td>0.19</td>\n",
       "      <td>0.15</td>\n",
       "      <td>0.18</td>\n",
       "      <td>...</td>\n",
       "      <td>0.16</td>\n",
       "      <td>0.20</td>\n",
       "      <td>0.16</td>\n",
       "      <td>0.21</td>\n",
       "      <td>0.21</td>\n",
       "      <td>0.16</td>\n",
       "      <td>0.16</td>\n",
       "      <td>0.16</td>\n",
       "      <td>0.16</td>\n",
       "      <td>0.15</td>\n",
       "    </tr>\n",
       "    <tr>\n",
       "      <th>r2_score</th>\n",
       "      <td>0.40</td>\n",
       "      <td>0.50</td>\n",
       "      <td>0.46</td>\n",
       "      <td>0.47</td>\n",
       "      <td>0.17</td>\n",
       "      <td>0.61</td>\n",
       "      <td>0.54</td>\n",
       "      <td>0.42</td>\n",
       "      <td>0.60</td>\n",
       "      <td>0.49</td>\n",
       "      <td>...</td>\n",
       "      <td>0.58</td>\n",
       "      <td>0.33</td>\n",
       "      <td>0.57</td>\n",
       "      <td>0.29</td>\n",
       "      <td>0.25</td>\n",
       "      <td>0.55</td>\n",
       "      <td>0.59</td>\n",
       "      <td>0.59</td>\n",
       "      <td>0.58</td>\n",
       "      <td>0.62</td>\n",
       "    </tr>\n",
       "    <tr>\n",
       "      <th>root_mean_squared_error</th>\n",
       "      <td>5.75</td>\n",
       "      <td>5.25</td>\n",
       "      <td>5.46</td>\n",
       "      <td>5.38</td>\n",
       "      <td>6.73</td>\n",
       "      <td>4.63</td>\n",
       "      <td>5.02</td>\n",
       "      <td>5.63</td>\n",
       "      <td>4.70</td>\n",
       "      <td>5.27</td>\n",
       "      <td>...</td>\n",
       "      <td>4.78</td>\n",
       "      <td>6.07</td>\n",
       "      <td>4.84</td>\n",
       "      <td>6.23</td>\n",
       "      <td>6.42</td>\n",
       "      <td>4.95</td>\n",
       "      <td>4.72</td>\n",
       "      <td>4.73</td>\n",
       "      <td>4.78</td>\n",
       "      <td>4.56</td>\n",
       "    </tr>\n",
       "    <tr>\n",
       "      <th>root_mean_squared_log_error</th>\n",
       "      <td>0.11</td>\n",
       "      <td>0.10</td>\n",
       "      <td>0.10</td>\n",
       "      <td>0.10</td>\n",
       "      <td>0.12</td>\n",
       "      <td>0.08</td>\n",
       "      <td>0.09</td>\n",
       "      <td>0.10</td>\n",
       "      <td>0.08</td>\n",
       "      <td>0.10</td>\n",
       "      <td>...</td>\n",
       "      <td>0.09</td>\n",
       "      <td>0.11</td>\n",
       "      <td>0.09</td>\n",
       "      <td>0.11</td>\n",
       "      <td>0.12</td>\n",
       "      <td>0.09</td>\n",
       "      <td>0.09</td>\n",
       "      <td>0.09</td>\n",
       "      <td>0.09</td>\n",
       "      <td>0.08</td>\n",
       "    </tr>\n",
       "    <tr>\n",
       "      <th>spearman_correlation</th>\n",
       "      <td>0.69</td>\n",
       "      <td>0.71</td>\n",
       "      <td>0.69</td>\n",
       "      <td>0.70</td>\n",
       "      <td>0.53</td>\n",
       "      <td>0.79</td>\n",
       "      <td>0.73</td>\n",
       "      <td>0.69</td>\n",
       "      <td>0.79</td>\n",
       "      <td>0.71</td>\n",
       "      <td>...</td>\n",
       "      <td>0.78</td>\n",
       "      <td>0.60</td>\n",
       "      <td>0.76</td>\n",
       "      <td>0.55</td>\n",
       "      <td>0.56</td>\n",
       "      <td>0.76</td>\n",
       "      <td>0.78</td>\n",
       "      <td>0.79</td>\n",
       "      <td>0.78</td>\n",
       "      <td>0.80</td>\n",
       "    </tr>\n",
       "  </tbody>\n",
       "</table>\n",
       "<p>12 rows × 30 columns</p>\n",
       "</div>"
      ],
      "text/plain": [
       "                                          0    1    2    3    4    5    6  \\\n",
       "explained_variance                     0.40 0.50 0.46 0.47 0.17 0.61 0.54   \n",
       "mean_absolute_error                    4.76 4.23 4.42 4.37 5.35 3.71 4.02   \n",
       "mean_absolute_percentage_error         8.95 7.91 8.31 8.20 9.92 6.89 7.50   \n",
       "median_absolute_error                  4.19 3.59 3.89 3.85 4.53 3.18 3.42   \n",
       "normalized_mean_absolute_error         0.16 0.14 0.15 0.15 0.18 0.12 0.13   \n",
       "normalized_median_absolute_error       0.14 0.12 0.13 0.13 0.15 0.11 0.11   \n",
       "normalized_root_mean_squared_error     0.19 0.17 0.18 0.18 0.22 0.15 0.17   \n",
       "normalized_root_mean_squared_log_error 0.19 0.18 0.18 0.18 0.22 0.15 0.17   \n",
       "r2_score                               0.40 0.50 0.46 0.47 0.17 0.61 0.54   \n",
       "root_mean_squared_error                5.75 5.25 5.46 5.38 6.73 4.63 5.02   \n",
       "root_mean_squared_log_error            0.11 0.10 0.10 0.10 0.12 0.08 0.09   \n",
       "spearman_correlation                   0.69 0.71 0.69 0.70 0.53 0.79 0.73   \n",
       "\n",
       "                                          7    8    9 ...    20   21   22  \\\n",
       "explained_variance                     0.42 0.60 0.49 ...  0.58 0.33 0.57   \n",
       "mean_absolute_error                    4.63 3.73 4.24 ...  3.84 4.77 3.86   \n",
       "mean_absolute_percentage_error         8.71 6.90 7.94 ...  7.16 8.91 7.19   \n",
       "median_absolute_error                  4.10 3.18 3.69 ...  3.32 4.00 3.25   \n",
       "normalized_mean_absolute_error         0.15 0.12 0.14 ...  0.13 0.16 0.13   \n",
       "normalized_median_absolute_error       0.14 0.11 0.12 ...  0.11 0.13 0.11   \n",
       "normalized_root_mean_squared_error     0.19 0.16 0.18 ...  0.16 0.20 0.16   \n",
       "normalized_root_mean_squared_log_error 0.19 0.15 0.18 ...  0.16 0.20 0.16   \n",
       "r2_score                               0.42 0.60 0.49 ...  0.58 0.33 0.57   \n",
       "root_mean_squared_error                5.63 4.70 5.27 ...  4.78 6.07 4.84   \n",
       "root_mean_squared_log_error            0.10 0.08 0.10 ...  0.09 0.11 0.09   \n",
       "spearman_correlation                   0.69 0.79 0.71 ...  0.78 0.60 0.76   \n",
       "\n",
       "                                         23   24   25   26   27   28   29  \n",
       "explained_variance                     0.29 0.25 0.55 0.59 0.61 0.58 0.62  \n",
       "mean_absolute_error                    4.96 5.11 3.98 3.80 3.79 3.80 3.68  \n",
       "mean_absolute_percentage_error         9.35 9.50 7.42 7.07 7.04 7.03 6.86  \n",
       "median_absolute_error                  4.00 4.29 3.42 3.26 3.23 3.23 3.20  \n",
       "normalized_mean_absolute_error         0.17 0.17 0.13 0.13 0.13 0.13 0.12  \n",
       "normalized_median_absolute_error       0.13 0.14 0.11 0.11 0.11 0.11 0.11  \n",
       "normalized_root_mean_squared_error     0.21 0.21 0.16 0.16 0.16 0.16 0.15  \n",
       "normalized_root_mean_squared_log_error 0.21 0.21 0.16 0.16 0.16 0.16 0.15  \n",
       "r2_score                               0.29 0.25 0.55 0.59 0.59 0.58 0.62  \n",
       "root_mean_squared_error                6.23 6.42 4.95 4.72 4.73 4.78 4.56  \n",
       "root_mean_squared_log_error            0.11 0.12 0.09 0.09 0.09 0.09 0.08  \n",
       "spearman_correlation                   0.55 0.56 0.76 0.78 0.79 0.78 0.80  \n",
       "\n",
       "[12 rows x 30 columns]"
      ]
     },
     "execution_count": 27,
     "metadata": {},
     "output_type": "execute_result"
    }
   ],
   "source": [
    "children = list(local_run.get_children())\n",
    "metricslist = {}\n",
    "for run in children:\n",
    "    properties = run.get_properties()\n",
    "    metrics = {k: v for k, v in run.get_metrics().items() if isinstance(v, float)}\n",
    "    metricslist[int(properties['iteration'])] = metrics\n",
    "\n",
    "rundata = pd.DataFrame(metricslist).sort_index(1)\n",
    "rundata"
   ]
  },
  {
   "cell_type": "code",
   "execution_count": 30,
   "metadata": {},
   "outputs": [
    {
     "name": "stdout",
     "output_type": "stream",
     "text": [
      "Run(Experiment: automated-ml-regression,\n",
      "Id: AutoML_d2ade496-4950-4961-aa4a-ea1ab4cff8db_29,\n",
      "Type: None,\n",
      "Status: Completed)\n",
      "RegressionPipeline(pipeline=Pipeline(memory=None,\n",
      "     steps=[('datatransformer', DataTransformer(enable_feature_sweeping=None, feature_sweeping_timeout=None,\n",
      "        is_onnx_compatible=None, logger=None, observer=None, task=None)), ('prefittedsoftvotingregressor', PreFittedSoftVotingRegressor(estimators=[('5', Pipeline(memory=None,\n",
      "     steps=[('standa...666666666667, 0.13333333333333333, 0.06666666666666667, 0.06666666666666667, 0.06666666666666667]))]),\n",
      "          stddev=None)\n"
     ]
    }
   ],
   "source": [
    "best_run, fitted_model = local_run.get_output()\n",
    "print(best_run)\n",
    "print(fitted_model)"
   ]
  },
  {
   "cell_type": "code",
   "execution_count": 35,
   "metadata": {},
   "outputs": [
    {
     "ename": "AzureMLException",
     "evalue": "Failed to flush task queue within 120 seconds",
     "output_type": "error",
     "traceback": [
      "\u001b[0;31m---------------------------------------------------------------------------\u001b[0m",
      "\u001b[0;31mAzureMLException\u001b[0m                          Traceback (most recent call last)",
      "\u001b[0;32m<ipython-input-35-692900ca63f2>\u001b[0m in \u001b[0;36m<module>\u001b[0;34m\u001b[0m\n\u001b[1;32m      2\u001b[0m \u001b[0;34m\u001b[0m\u001b[0m\n\u001b[1;32m      3\u001b[0m \u001b[0mshap_values\u001b[0m\u001b[0;34m,\u001b[0m \u001b[0mexpected_values\u001b[0m\u001b[0;34m,\u001b[0m \u001b[0moverall_summary\u001b[0m\u001b[0;34m,\u001b[0m \u001b[0moverall_imp\u001b[0m\u001b[0;34m,\u001b[0m \u001b[0mper_class_summary\u001b[0m\u001b[0;34m,\u001b[0m \u001b[0mper_class_imp\u001b[0m \u001b[0;34m=\u001b[0m\u001b[0;31m \u001b[0m\u001b[0;31m\\\u001b[0m\u001b[0;34m\u001b[0m\u001b[0m\n\u001b[0;32m----> 4\u001b[0;31m     \u001b[0mretrieve_model_explanation\u001b[0m\u001b[0;34m(\u001b[0m\u001b[0mbest_run\u001b[0m\u001b[0;34m)\u001b[0m\u001b[0;34m\u001b[0m\u001b[0m\n\u001b[0m",
      "\u001b[0;32m~/anaconda3/envs/myenv/lib/python3.6/site-packages/azureml/train/automl/automlexplainer.py\u001b[0m in \u001b[0;36mretrieve_model_explanation\u001b[0;34m(child_run)\u001b[0m\n\u001b[1;32m     43\u001b[0m \u001b[0;34m\u001b[0m\u001b[0m\n\u001b[1;32m     44\u001b[0m         \u001b[0mclient\u001b[0m \u001b[0;34m=\u001b[0m \u001b[0mExplanationClient\u001b[0m\u001b[0;34m.\u001b[0m\u001b[0mfrom_run\u001b[0m\u001b[0;34m(\u001b[0m\u001b[0mchild_run\u001b[0m\u001b[0;34m)\u001b[0m\u001b[0;34m\u001b[0m\u001b[0m\n\u001b[0;32m---> 45\u001b[0;31m         \u001b[0mexplanation\u001b[0m \u001b[0;34m=\u001b[0m \u001b[0mclient\u001b[0m\u001b[0;34m.\u001b[0m\u001b[0mdownload_model_explanation\u001b[0m\u001b[0;34m(\u001b[0m\u001b[0;34m)\u001b[0m\u001b[0;34m\u001b[0m\u001b[0m\n\u001b[0m\u001b[1;32m     46\u001b[0m \u001b[0;34m\u001b[0m\u001b[0m\n\u001b[1;32m     47\u001b[0m         \u001b[0;32mreturn\u001b[0m \u001b[0m_convert_explanation\u001b[0m\u001b[0;34m(\u001b[0m\u001b[0mexplanation\u001b[0m\u001b[0;34m)\u001b[0m\u001b[0;34m\u001b[0m\u001b[0m\n",
      "\u001b[0;32m~/anaconda3/envs/myenv/lib/python3.6/site-packages/azureml/explain/model/_internal/explanation_client.py\u001b[0m in \u001b[0;36mdownload_model_explanation\u001b[0;34m(self, explanation_id, top_k)\u001b[0m\n\u001b[1;32m    384\u001b[0m         \"\"\"\n\u001b[1;32m    385\u001b[0m         \u001b[0;32mif\u001b[0m \u001b[0mtop_k\u001b[0m \u001b[0;32mis\u001b[0m \u001b[0;32mNone\u001b[0m\u001b[0;34m:\u001b[0m\u001b[0;34m\u001b[0m\u001b[0m\n\u001b[0;32m--> 386\u001b[0;31m             \u001b[0;32mreturn\u001b[0m \u001b[0mself\u001b[0m\u001b[0;34m.\u001b[0m\u001b[0m_download_explanation_as_batch\u001b[0m\u001b[0;34m(\u001b[0m\u001b[0mexplanation_id\u001b[0m\u001b[0;34m=\u001b[0m\u001b[0mexplanation_id\u001b[0m\u001b[0;34m)\u001b[0m\u001b[0;34m\u001b[0m\u001b[0m\n\u001b[0m\u001b[1;32m    387\u001b[0m         \u001b[0;32melse\u001b[0m\u001b[0;34m:\u001b[0m\u001b[0;34m\u001b[0m\u001b[0m\n\u001b[1;32m    388\u001b[0m             \u001b[0;32mreturn\u001b[0m \u001b[0mself\u001b[0m\u001b[0;34m.\u001b[0m\u001b[0m_download_explanation_top_k\u001b[0m\u001b[0;34m(\u001b[0m\u001b[0mexplanation_id\u001b[0m\u001b[0;34m=\u001b[0m\u001b[0mexplanation_id\u001b[0m\u001b[0;34m,\u001b[0m \u001b[0mtop_k\u001b[0m\u001b[0;34m=\u001b[0m\u001b[0mtop_k\u001b[0m\u001b[0;34m)\u001b[0m\u001b[0;34m\u001b[0m\u001b[0m\n",
      "\u001b[0;32m~/anaconda3/envs/myenv/lib/python3.6/site-packages/azureml/explain/model/_internal/explanation_client.py\u001b[0m in \u001b[0;36m_download_explanation_as_batch\u001b[0;34m(self, explanation_id)\u001b[0m\n\u001b[1;32m    436\u001b[0m         \u001b[0mis_v2_release_asset\u001b[0m \u001b[0;34m=\u001b[0m \u001b[0mHistory\u001b[0m\u001b[0;34m.\u001b[0m\u001b[0mVERSION_TYPE\u001b[0m \u001b[0;32min\u001b[0m \u001b[0mexplanation_asset\u001b[0m\u001b[0;34m.\u001b[0m\u001b[0madditional_properties\u001b[0m\u001b[0;34m[\u001b[0m\u001b[0mHistory\u001b[0m\u001b[0;34m.\u001b[0m\u001b[0mPROPERTIES\u001b[0m\u001b[0;34m]\u001b[0m\u001b[0;34m\u001b[0m\u001b[0m\n\u001b[1;32m    437\u001b[0m \u001b[0;34m\u001b[0m\u001b[0m\n\u001b[0;32m--> 438\u001b[0;31m         \u001b[0mfile_dict\u001b[0m \u001b[0;34m=\u001b[0m \u001b[0m_download_artifacts\u001b[0m\u001b[0;34m(\u001b[0m\u001b[0mself\u001b[0m\u001b[0;34m.\u001b[0m\u001b[0m_run\u001b[0m\u001b[0;34m,\u001b[0m \u001b[0mdownload_dir\u001b[0m\u001b[0;34m,\u001b[0m \u001b[0mexplanation_id\u001b[0m\u001b[0;34m=\u001b[0m\u001b[0mexplanation_id\u001b[0m\u001b[0;34m)\u001b[0m\u001b[0;34m\u001b[0m\u001b[0m\n\u001b[0m\u001b[1;32m    439\u001b[0m         \u001b[0;32mif\u001b[0m \u001b[0;32mnot\u001b[0m \u001b[0mis_v1_asset\u001b[0m\u001b[0;34m:\u001b[0m\u001b[0;34m\u001b[0m\u001b[0m\n\u001b[1;32m    440\u001b[0m \u001b[0;34m\u001b[0m\u001b[0m\n",
      "\u001b[0;32m~/anaconda3/envs/myenv/lib/python3.6/site-packages/azureml/explain/model/_internal/explanation_client.py\u001b[0m in \u001b[0;36m_download_artifacts\u001b[0;34m(run, download_dir, explanation_id)\u001b[0m\n\u001b[1;32m    175\u001b[0m     \u001b[0;31m# else is backwards compatibility starting February 2019\u001b[0m\u001b[0;34m\u001b[0m\u001b[0;34m\u001b[0m\u001b[0m\n\u001b[1;32m    176\u001b[0m     \u001b[0martifact_path\u001b[0m \u001b[0;34m=\u001b[0m \u001b[0mos\u001b[0m\u001b[0;34m.\u001b[0m\u001b[0mpath\u001b[0m\u001b[0;34m.\u001b[0m\u001b[0mjoin\u001b[0m\u001b[0;34m(\u001b[0m\u001b[0;34m'explanation'\u001b[0m\u001b[0;34m,\u001b[0m \u001b[0mexplanation_id\u001b[0m\u001b[0;34m)\u001b[0m \u001b[0;32mif\u001b[0m \u001b[0mexplanation_id\u001b[0m \u001b[0;32mis\u001b[0m \u001b[0;32mnot\u001b[0m \u001b[0;32mNone\u001b[0m \u001b[0;32melse\u001b[0m \u001b[0;34m'explanation'\u001b[0m\u001b[0;34m\u001b[0m\u001b[0m\n\u001b[0;32m--> 177\u001b[0;31m     \u001b[0mrun\u001b[0m\u001b[0;34m.\u001b[0m\u001b[0mdownload_files\u001b[0m\u001b[0;34m(\u001b[0m\u001b[0mprefix\u001b[0m\u001b[0;34m=\u001b[0m\u001b[0martifact_path\u001b[0m\u001b[0;34m,\u001b[0m \u001b[0moutput_directory\u001b[0m\u001b[0;34m=\u001b[0m\u001b[0mdownload_dir\u001b[0m\u001b[0;34m)\u001b[0m\u001b[0;34m\u001b[0m\u001b[0m\n\u001b[0m\u001b[1;32m    178\u001b[0m     \u001b[0mfiles\u001b[0m \u001b[0;34m=\u001b[0m \u001b[0mos\u001b[0m\u001b[0;34m.\u001b[0m\u001b[0mlistdir\u001b[0m\u001b[0;34m(\u001b[0m\u001b[0mos\u001b[0m\u001b[0;34m.\u001b[0m\u001b[0mpath\u001b[0m\u001b[0;34m.\u001b[0m\u001b[0mjoin\u001b[0m\u001b[0;34m(\u001b[0m\u001b[0mdownload_dir\u001b[0m\u001b[0;34m,\u001b[0m \u001b[0martifact_path\u001b[0m\u001b[0;34m)\u001b[0m\u001b[0;34m)\u001b[0m\u001b[0;34m\u001b[0m\u001b[0m\n\u001b[1;32m    179\u001b[0m     \u001b[0mfile_dict\u001b[0m \u001b[0;34m=\u001b[0m \u001b[0;34m{\u001b[0m\u001b[0;34m}\u001b[0m\u001b[0;34m\u001b[0m\u001b[0m\n",
      "\u001b[0;32m~/anaconda3/envs/myenv/lib/python3.6/site-packages/azureml/core/run.py\u001b[0m in \u001b[0;36mwrapped\u001b[0;34m(self, *args, **kwargs)\u001b[0m\n\u001b[1;32m     41\u001b[0m                                      \"therefore, the {} cannot upload files, or log file backed metrics.\".format(\n\u001b[1;32m     42\u001b[0m                                          self, self.__class__.__name__))\n\u001b[0;32m---> 43\u001b[0;31m         \u001b[0;32mreturn\u001b[0m \u001b[0mfunc\u001b[0m\u001b[0;34m(\u001b[0m\u001b[0mself\u001b[0m\u001b[0;34m,\u001b[0m \u001b[0;34m*\u001b[0m\u001b[0margs\u001b[0m\u001b[0;34m,\u001b[0m \u001b[0;34m**\u001b[0m\u001b[0mkwargs\u001b[0m\u001b[0;34m)\u001b[0m\u001b[0;34m\u001b[0m\u001b[0m\n\u001b[0m\u001b[1;32m     44\u001b[0m     \u001b[0;32mreturn\u001b[0m \u001b[0mwrapped\u001b[0m\u001b[0;34m\u001b[0m\u001b[0m\n\u001b[1;32m     45\u001b[0m \u001b[0;34m\u001b[0m\u001b[0m\n",
      "\u001b[0;32m~/anaconda3/envs/myenv/lib/python3.6/site-packages/azureml/core/run.py\u001b[0m in \u001b[0;36mdownload_files\u001b[0;34m(self, prefix, output_directory, output_paths, batch_size)\u001b[0m\n\u001b[1;32m   1625\u001b[0m                                                               \u001b[0moutput_directory\u001b[0m\u001b[0;34m=\u001b[0m\u001b[0moutput_directory\u001b[0m\u001b[0;34m,\u001b[0m\u001b[0;34m\u001b[0m\u001b[0m\n\u001b[1;32m   1626\u001b[0m                                                               \u001b[0moutput_paths\u001b[0m\u001b[0;34m=\u001b[0m\u001b[0moutput_paths\u001b[0m\u001b[0;34m,\u001b[0m\u001b[0;34m\u001b[0m\u001b[0m\n\u001b[0;32m-> 1627\u001b[0;31m                                                               batch_size=batch_size)\n\u001b[0m\u001b[1;32m   1628\u001b[0m \u001b[0;34m\u001b[0m\u001b[0m\n\u001b[1;32m   1629\u001b[0m     \u001b[0;34m@\u001b[0m\u001b[0m_check_for_data_container_id\u001b[0m\u001b[0;34m\u001b[0m\u001b[0m\n",
      "\u001b[0;32m~/anaconda3/envs/myenv/lib/python3.6/site-packages/azureml/_restclient/artifacts_client.py\u001b[0m in \u001b[0;36mdownload_artifacts_from_prefix\u001b[0;34m(self, origin, container, prefix, output_directory, output_paths, batch_size)\u001b[0m\n\u001b[1;32m    345\u001b[0m \u001b[0;34m\u001b[0m\u001b[0m\n\u001b[1;32m    346\u001b[0m                     \u001b[0;32mfor\u001b[0m \u001b[0murl\u001b[0m\u001b[0;34m,\u001b[0m \u001b[0moutput_path\u001b[0m \u001b[0;32min\u001b[0m \u001b[0mzip\u001b[0m\u001b[0;34m(\u001b[0m\u001b[0mbatch_urls\u001b[0m\u001b[0;34m,\u001b[0m \u001b[0mbatch_output_paths\u001b[0m\u001b[0;34m)\u001b[0m\u001b[0;34m:\u001b[0m\u001b[0;34m\u001b[0m\u001b[0m\n\u001b[0;32m--> 347\u001b[0;31m                         \u001b[0mtask_queue\u001b[0m\u001b[0;34m.\u001b[0m\u001b[0madd\u001b[0m\u001b[0;34m(\u001b[0m\u001b[0mperform_download_file\u001b[0m\u001b[0;34m,\u001b[0m \u001b[0murl\u001b[0m\u001b[0;34m,\u001b[0m \u001b[0moutput_path\u001b[0m\u001b[0;34m,\u001b[0m \u001b[0mself\u001b[0m\u001b[0;34m.\u001b[0m\u001b[0msession\u001b[0m\u001b[0;34m)\u001b[0m\u001b[0;34m\u001b[0m\u001b[0m\n\u001b[0m\u001b[1;32m    348\u001b[0m             \u001b[0;32mexcept\u001b[0m \u001b[0mAzureMLException\u001b[0m \u001b[0;32mas\u001b[0m \u001b[0merror\u001b[0m\u001b[0;34m:\u001b[0m\u001b[0;34m\u001b[0m\u001b[0m\n\u001b[1;32m    349\u001b[0m                 self._logger.debug(\"Download of artifact batch {} failed with error: {}\"\n",
      "\u001b[0;32m~/anaconda3/envs/myenv/lib/python3.6/site-packages/azureml/_common/async_utils/task_queue.py\u001b[0m in \u001b[0;36m__exit__\u001b[0;34m(self, *args)\u001b[0m\n\u001b[1;32m     51\u001b[0m     \u001b[0;32mdef\u001b[0m \u001b[0m__exit__\u001b[0m\u001b[0;34m(\u001b[0m\u001b[0mself\u001b[0m\u001b[0;34m,\u001b[0m \u001b[0;34m*\u001b[0m\u001b[0margs\u001b[0m\u001b[0;34m)\u001b[0m\u001b[0;34m:\u001b[0m\u001b[0;34m\u001b[0m\u001b[0m\n\u001b[1;32m     52\u001b[0m         \u001b[0mself\u001b[0m\u001b[0;34m.\u001b[0m\u001b[0m_logger\u001b[0m\u001b[0;34m.\u001b[0m\u001b[0mdebug\u001b[0m\u001b[0;34m(\u001b[0m\u001b[0;34m\"[Stop] - waiting default timeout\"\u001b[0m\u001b[0;34m)\u001b[0m\u001b[0;34m\u001b[0m\u001b[0m\n\u001b[0;32m---> 53\u001b[0;31m         \u001b[0mself\u001b[0m\u001b[0;34m.\u001b[0m\u001b[0mflush\u001b[0m\u001b[0;34m(\u001b[0m\u001b[0mself\u001b[0m\u001b[0;34m.\u001b[0m\u001b[0midentity\u001b[0m\u001b[0;34m)\u001b[0m\u001b[0;34m\u001b[0m\u001b[0m\n\u001b[0m\u001b[1;32m     54\u001b[0m \u001b[0;34m\u001b[0m\u001b[0m\n\u001b[1;32m     55\u001b[0m     \u001b[0;32mdef\u001b[0m \u001b[0madd\u001b[0m\u001b[0;34m(\u001b[0m\u001b[0mself\u001b[0m\u001b[0;34m,\u001b[0m \u001b[0mfunc\u001b[0m\u001b[0;34m,\u001b[0m \u001b[0;34m*\u001b[0m\u001b[0margs\u001b[0m\u001b[0;34m,\u001b[0m \u001b[0;34m**\u001b[0m\u001b[0mkwargs\u001b[0m\u001b[0;34m)\u001b[0m\u001b[0;34m:\u001b[0m\u001b[0;34m\u001b[0m\u001b[0m\n",
      "\u001b[0;32m~/anaconda3/envs/myenv/lib/python3.6/site-packages/azureml/_common/async_utils/task_queue.py\u001b[0m in \u001b[0;36mflush\u001b[0;34m(self, source, timeout_seconds)\u001b[0m\n\u001b[1;32m    124\u001b[0m \u001b[0;34m\u001b[0m\u001b[0m\n\u001b[1;32m    125\u001b[0m             \u001b[0;31m# Reach this case on timeout\u001b[0m\u001b[0;34m\u001b[0m\u001b[0;34m\u001b[0m\u001b[0m\n\u001b[0;32m--> 126\u001b[0;31m             \u001b[0;32mif\u001b[0m \u001b[0mnot_done\u001b[0m\u001b[0;34m:\u001b[0m\u001b[0;34m\u001b[0m\u001b[0m\n\u001b[0m\u001b[1;32m    127\u001b[0m                 \u001b[0;32mraise\u001b[0m \u001b[0mAzureMLException\u001b[0m\u001b[0;34m(\u001b[0m\u001b[0;34m\"Failed to flush task queue within {} seconds\"\u001b[0m\u001b[0;34m.\u001b[0m\u001b[0mformat\u001b[0m\u001b[0;34m(\u001b[0m\u001b[0mtimeout_seconds\u001b[0m\u001b[0;34m)\u001b[0m\u001b[0;34m)\u001b[0m\u001b[0;34m\u001b[0m\u001b[0m\n\u001b[1;32m    128\u001b[0m \u001b[0;34m\u001b[0m\u001b[0m\n",
      "\u001b[0;31mAzureMLException\u001b[0m: Failed to flush task queue within 120 seconds"
     ]
    }
   ],
   "source": [
    "from azureml.train.automl.automlexplainer import retrieve_model_explanation\n",
    "\n",
    "shap_values, expected_values, overall_summary, overall_imp, per_class_summary, per_class_imp = \\\n",
    "    retrieve_model_explanation(best_run)"
   ]
  },
  {
   "cell_type": "code",
   "execution_count": 33,
   "metadata": {},
   "outputs": [
    {
     "ename": "NameError",
     "evalue": "name 'overall_summary' is not defined",
     "output_type": "error",
     "traceback": [
      "\u001b[0;31m---------------------------------------------------------------------------\u001b[0m",
      "\u001b[0;31mNameError\u001b[0m                                 Traceback (most recent call last)",
      "\u001b[0;32m<ipython-input-33-1f8ea65a0e4f>\u001b[0m in \u001b[0;36m<module>\u001b[0;34m\u001b[0m\n\u001b[0;32m----> 1\u001b[0;31m \u001b[0mprint\u001b[0m\u001b[0;34m(\u001b[0m\u001b[0moverall_summary\u001b[0m\u001b[0;34m)\u001b[0m\u001b[0;34m\u001b[0m\u001b[0m\n\u001b[0m\u001b[1;32m      2\u001b[0m \u001b[0mprint\u001b[0m\u001b[0;34m(\u001b[0m\u001b[0moverall_imp\u001b[0m\u001b[0;34m)\u001b[0m\u001b[0;34m\u001b[0m\u001b[0m\n",
      "\u001b[0;31mNameError\u001b[0m: name 'overall_summary' is not defined"
     ]
    }
   ],
   "source": [
    "print(overall_summary)\n",
    "print(overall_imp)"
   ]
  },
  {
   "cell_type": "code",
   "execution_count": 40,
   "metadata": {},
   "outputs": [
    {
     "ename": "AttributeError",
     "evalue": "'Index' object has no attribute 'value'",
     "output_type": "error",
     "traceback": [
      "\u001b[0;31m---------------------------------------------------------------------------\u001b[0m",
      "\u001b[0;31mAttributeError\u001b[0m                            Traceback (most recent call last)",
      "\u001b[0;32m<ipython-input-40-fb95aa438c68>\u001b[0m in \u001b[0;36m<module>\u001b[0;34m\u001b[0m\n\u001b[1;32m      2\u001b[0m \u001b[0;34m\u001b[0m\u001b[0m\n\u001b[1;32m      3\u001b[0m \u001b[0mshap_values\u001b[0m\u001b[0;34m,\u001b[0m \u001b[0mexpected_values\u001b[0m\u001b[0;34m,\u001b[0m \u001b[0moverall_summary\u001b[0m\u001b[0;34m,\u001b[0m \u001b[0moverall_imp\u001b[0m\u001b[0;34m,\u001b[0m \u001b[0mper_class_summary\u001b[0m\u001b[0;34m,\u001b[0m \u001b[0mper_class_imp\u001b[0m \u001b[0;34m=\u001b[0m\u001b[0;31m \u001b[0m\u001b[0;31m\\\u001b[0m\u001b[0;34m\u001b[0m\u001b[0m\n\u001b[0;32m----> 4\u001b[0;31m     \u001b[0mexplain_model\u001b[0m\u001b[0;34m(\u001b[0m\u001b[0mfitted_model\u001b[0m\u001b[0;34m,\u001b[0m \u001b[0mx_train\u001b[0m\u001b[0;34m,\u001b[0m \u001b[0mx_test\u001b[0m\u001b[0;34m,\u001b[0m \u001b[0mfeatures\u001b[0m\u001b[0;34m=\u001b[0m\u001b[0mx_train\u001b[0m\u001b[0;34m.\u001b[0m\u001b[0mcolumns\u001b[0m\u001b[0;34m.\u001b[0m\u001b[0mvalue\u001b[0m\u001b[0;34m)\u001b[0m\u001b[0;34m\u001b[0m\u001b[0m\n\u001b[0m",
      "\u001b[0;31mAttributeError\u001b[0m: 'Index' object has no attribute 'value'"
     ]
    }
   ],
   "source": [
    "from azureml.train.automl.automlexplainer import explain_model\n",
    "\n",
    "shap_values, expected_values, overall_summary, overall_imp, per_class_summary, per_class_imp = \\\n",
    "    explain_model(fitted_model, x_train, x_test, features=x_train.columns.value)"
   ]
  },
  {
   "cell_type": "code",
   "execution_count": 47,
   "metadata": {},
   "outputs": [
    {
     "name": "stdout",
     "output_type": "stream",
     "text": [
      "[49.137587   44.22605239 55.53897631 47.99687317 65.60882119 48.85531755\n",
      " 63.07233968 51.82150682 59.98482767 58.97454688]\n"
     ]
    }
   ],
   "source": [
    "y_predict = fitted_model.predict(x_test.values) \n",
    "print(y_predict[:10])"
   ]
  },
  {
   "cell_type": "code",
   "execution_count": 76,
   "metadata": {},
   "outputs": [],
   "source": [
    "y_brain_age = fitted_model.predict(X_df.values) "
   ]
  },
  {
   "cell_type": "code",
   "execution_count": 82,
   "metadata": {},
   "outputs": [
    {
     "data": {
      "text/plain": [
       "array([59.25836569, 52.95623418, 61.63462302, ..., 54.30701208,\n",
       "       49.97060455, 62.2818645 ])"
      ]
     },
     "execution_count": 82,
     "metadata": {},
     "output_type": "execute_result"
    }
   ],
   "source": [
    "y_brain_age"
   ]
  },
  {
   "cell_type": "code",
   "execution_count": 87,
   "metadata": {},
   "outputs": [],
   "source": [
    "df_dropped[\"brain_age\"] = y_brain_age"
   ]
  },
  {
   "cell_type": "code",
   "execution_count": 10,
   "metadata": {},
   "outputs": [],
   "source": [
    "df_dropped.to_pickle(\"/Users/jilanxin/Documents/Biobank/my_Azure_ML/UKB_data_with_BrainAge\")"
   ]
  },
  {
   "cell_type": "code",
   "execution_count": 50,
   "metadata": {},
   "outputs": [
    {
     "data": {
      "text/plain": [
       "4.559156864272141"
      ]
     },
     "execution_count": 50,
     "metadata": {},
     "output_type": "execute_result"
    }
   ],
   "source": [
    "from sklearn.metrics import mean_squared_error\n",
    "from math import sqrt\n",
    "\n",
    "rmse = sqrt(mean_squared_error(y_actual, y_predict))\n",
    "rmse"
   ]
  },
  {
   "cell_type": "code",
   "execution_count": 9,
   "metadata": {},
   "outputs": [
    {
     "ename": "NameError",
     "evalue": "name 'y_actual' is not defined",
     "output_type": "error",
     "traceback": [
      "\u001b[0;31m---------------------------------------------------------------------------\u001b[0m",
      "\u001b[0;31mNameError\u001b[0m                                 Traceback (most recent call last)",
      "\u001b[0;32m<ipython-input-9-19e3fd291e0c>\u001b[0m in \u001b[0;36m<module>\u001b[0;34m\u001b[0m\n\u001b[1;32m      1\u001b[0m \u001b[0msum_actuals\u001b[0m \u001b[0;34m=\u001b[0m \u001b[0msum_errors\u001b[0m \u001b[0;34m=\u001b[0m \u001b[0;36m0\u001b[0m\u001b[0;34m\u001b[0m\u001b[0m\n\u001b[1;32m      2\u001b[0m \u001b[0;34m\u001b[0m\u001b[0m\n\u001b[0;32m----> 3\u001b[0;31m \u001b[0;32mfor\u001b[0m \u001b[0mactual_val\u001b[0m\u001b[0;34m,\u001b[0m \u001b[0mpredict_val\u001b[0m \u001b[0;32min\u001b[0m \u001b[0mzip\u001b[0m\u001b[0;34m(\u001b[0m\u001b[0my_actual\u001b[0m\u001b[0;34m,\u001b[0m \u001b[0my_predict\u001b[0m\u001b[0;34m)\u001b[0m\u001b[0;34m:\u001b[0m\u001b[0;34m\u001b[0m\u001b[0m\n\u001b[0m\u001b[1;32m      4\u001b[0m     \u001b[0mabs_error\u001b[0m \u001b[0;34m=\u001b[0m \u001b[0mactual_val\u001b[0m \u001b[0;34m-\u001b[0m \u001b[0mpredict_val\u001b[0m\u001b[0;34m\u001b[0m\u001b[0m\n\u001b[1;32m      5\u001b[0m     \u001b[0;32mif\u001b[0m \u001b[0mabs_error\u001b[0m \u001b[0;34m<\u001b[0m \u001b[0;36m0\u001b[0m\u001b[0;34m:\u001b[0m\u001b[0;34m\u001b[0m\u001b[0m\n",
      "\u001b[0;31mNameError\u001b[0m: name 'y_actual' is not defined"
     ]
    }
   ],
   "source": [
    "sum_actuals = sum_errors = 0\n",
    "\n",
    "for actual_val, predict_val in zip(y_actual, y_predict):\n",
    "    abs_error = actual_val - predict_val\n",
    "    if abs_error < 0:\n",
    "        abs_error = abs_error * -1\n",
    "    \n",
    "    sum_errors = sum_errors + abs_error\n",
    "    sum_actuals = sum_actuals + actual_val\n",
    "    \n",
    "mean_abs_percent_error = sum_errors / sum_actuals\n",
    "print(\"Model MAPE:\")\n",
    "print(mean_abs_percent_error)\n",
    "print()\n",
    "print(\"Model Accuracy:\")\n",
    "print(1 - mean_abs_percent_error)"
   ]
  },
  {
   "cell_type": "code",
   "execution_count": 52,
   "metadata": {},
   "outputs": [
    {
     "name": "stdout",
     "output_type": "stream",
     "text": [
      "55.41837837837838 7.615708344373459 55.4243002691318 5.5014814472440206\n",
      "(0.8052884839135482, 9.194294102180485e-212)\n",
      "3.6081674225767015\n",
      "4.559156864272141\n"
     ]
    }
   ],
   "source": [
    "import numpy as np\n",
    "from scipy.stats.stats import pearsonr\n",
    "from sklearn.metrics import mean_absolute_error\n",
    "print(np.mean(y_actual),np.std(y_actual),np.mean(y_predict),np.std(y_predict))\n",
    "print(pearsonr(y_actual,y_predict))\n",
    "print(mean_absolute_error(y_actual,y_predict))\n",
    "print(sqrt(mean_squared_error(y_actual,y_predict)))"
   ]
  },
  {
   "cell_type": "code",
   "execution_count": 53,
   "metadata": {},
   "outputs": [
    {
     "data": {
      "text/plain": [
       "Text(0.5, 1.0, 'performance on test set')"
      ]
     },
     "execution_count": 53,
     "metadata": {},
     "output_type": "execute_result"
    },
    {
     "data": {
      "image/png": "[encoded data removed]",
      "text/plain": [
       "<Figure size 432x288 with 1 Axes>"
      ]
     },
     "metadata": {
      "needs_background": "light"
     },
     "output_type": "display_data"
    }
   ],
   "source": [
    "%matplotlib inline\n",
    "import matplotlib.pyplot as plt\n",
    "import seaborn as sb\n",
    "sb.distplot(y_actual, kde=True, hist = True)\n",
    "sb.distplot(y_predict, kde=True, hist = True, color = 'r')\n",
    "plt.xlabel(\"age\", fontsize=16)\n",
    "plt.ylabel(\"probability\", fontsize=16)\n",
    "plt.title(\"performance on test set\", fontsize=16)"
   ]
  },
  {
   "cell_type": "code",
   "execution_count": 54,
   "metadata": {},
   "outputs": [
    {
     "data": {
      "text/plain": [
       "[<matplotlib.lines.Line2D at 0x1a3085d4a8>]"
      ]
     },
     "execution_count": 54,
     "metadata": {},
     "output_type": "execute_result"
    },
    {
     "data": {
      "image/png": "[encoded data removed]",
      "text/plain": [
       "<Figure size 432x288 with 1 Axes>"
      ]
     },
     "metadata": {
      "needs_background": "light"
     },
     "output_type": "display_data"
    }
   ],
   "source": [
    "plt.scatter(y_actual, y_predict)\n",
    "plt.xlabel(\"true age\", fontsize=16)\n",
    "plt.ylabel(\"predicted age\", fontsize=16)\n",
    "plt.title(\"performance on test set\", fontsize=16)\n",
    "lineStart = y_test.min()\n",
    "lindEnd = y_predict.max()\n",
    "plt.plot([lineStart,lindEnd], [lineStart,lindEnd], 'k-', color = 'r')"
   ]
  },
  {
   "cell_type": "code",
   "execution_count": 11,
   "metadata": {},
   "outputs": [],
   "source": [
    "Gene_label = []\n",
    "filename = \"/Users/jilanxin/Documents/Biobank/apoe.txt\"\n",
    "with open(filename, \"r\") as myfile:\n",
    "    for line in myfile:\n",
    "        Gene_label.append(line.strip().split())\n",
    "        \n",
    "Gene_label_df = pd.DataFrame(Gene_label)\n",
    "\n",
    "Gene_label_df.columns = Gene_label_df.iloc[0]\n",
    "Gene_label_df.columns\n",
    "APOE4e4 = Gene_label_df[Gene_label_df[\"apoe\"].isin(['e4e4'])]\n",
    "APOE2e2 = Gene_label_df[Gene_label_df[\"apoe\"].isin(['e2e2'])]\n",
    "APOE3e3 = Gene_label_df[Gene_label_df[\"apoe\"].isin(['e3e3'])]"
   ]
  },
  {
   "cell_type": "code",
   "execution_count": 12,
   "metadata": {},
   "outputs": [
    {
     "ename": "NameError",
     "evalue": "name 'fitted_model' is not defined",
     "output_type": "error",
     "traceback": [
      "\u001b[0;31m---------------------------------------------------------------------------\u001b[0m",
      "\u001b[0;31mNameError\u001b[0m                                 Traceback (most recent call last)",
      "\u001b[0;32m<ipython-input-12-9c7041be3298>\u001b[0m in \u001b[0;36m<module>\u001b[0;34m\u001b[0m\n\u001b[1;32m      5\u001b[0m \u001b[0;31m#X_e4 = E4e4[feature_names[indices][235:335]]\u001b[0m\u001b[0;34m\u001b[0m\u001b[0;34m\u001b[0m\u001b[0m\n\u001b[1;32m      6\u001b[0m \u001b[0;34m\u001b[0m\u001b[0m\n\u001b[0;32m----> 7\u001b[0;31m \u001b[0my_pred_e4\u001b[0m \u001b[0;34m=\u001b[0m \u001b[0mfitted_model\u001b[0m\u001b[0;34m.\u001b[0m\u001b[0mpredict\u001b[0m\u001b[0;34m(\u001b[0m\u001b[0mX_e4\u001b[0m\u001b[0;34m.\u001b[0m\u001b[0mvalues\u001b[0m\u001b[0;34m)\u001b[0m\u001b[0;34m\u001b[0m\u001b[0m\n\u001b[0m\u001b[1;32m      8\u001b[0m print(str(mean_absolute_error(y_e4,y_pred_e4)) + \n\u001b[1;32m      9\u001b[0m       \u001b[0;34m\",MSE:\"\u001b[0m \u001b[0;34m+\u001b[0m \u001b[0mstr\u001b[0m\u001b[0;34m(\u001b[0m\u001b[0mmean_squared_error\u001b[0m\u001b[0;34m(\u001b[0m\u001b[0my_e4\u001b[0m\u001b[0;34m,\u001b[0m\u001b[0my_pred_e4\u001b[0m\u001b[0;34m)\u001b[0m\u001b[0;34m)\u001b[0m\u001b[0;34m+\u001b[0m\u001b[0;34m\u001b[0m\u001b[0m\n",
      "\u001b[0;31mNameError\u001b[0m: name 'fitted_model' is not defined"
     ]
    }
   ],
   "source": [
    "E4e4 = df_dropped[df_dropped.index.isin(APOE4e4['n_eid_14631'])]\n",
    "\n",
    "y_e4 = E4e4['n_21003_0_0']\n",
    "X_e4 = E4e4.drop(['n_21003_0_0'], axis=1)\n",
    "#X_e4 = E4e4[feature_names[indices][235:335]]\n",
    "\n",
    "y_pred_e4 = fitted_model.predict(X_e4.values) \n",
    "print(str(mean_absolute_error(y_e4,y_pred_e4)) + \n",
    "      \",MSE:\" + str(mean_squared_error(y_e4,y_pred_e4))+\n",
    "      \",correlation\"+str(pearsonr(y_e4, y_pred_e4)))\n",
    "print(np.mean(y_e4),np.std(y_e4),np.mean(y_pred_e4),np.std(y_pred_e4))"
   ]
  },
  {
   "cell_type": "code",
   "execution_count": 73,
   "metadata": {},
   "outputs": [
    {
     "data": {
      "text/plain": [
       "Text(0.5, 1.0, 'performance on E4e4 set')"
      ]
     },
     "execution_count": 73,
     "metadata": {},
     "output_type": "execute_result"
    },
    {
     "data": {
      "image/png": "[encoded data removed]",
      "text/plain": [
       "<Figure size 432x288 with 1 Axes>"
      ]
     },
     "metadata": {
      "needs_background": "light"
     },
     "output_type": "display_data"
    }
   ],
   "source": [
    "sb.distplot(y_e4, kde=True, hist = True)\n",
    "sb.distplot(y_pred_e4, kde=True, hist = True, color = 'r')\n",
    "plt.xlabel(\"age\", fontsize=16)\n",
    "plt.ylabel(\"probability\", fontsize=16)\n",
    "plt.title(\"performance on E4e4 set\", fontsize=16)"
   ]
  },
  {
   "cell_type": "code",
   "execution_count": 57,
   "metadata": {},
   "outputs": [
    {
     "name": "stdout",
     "output_type": "stream",
     "text": [
      "3.156224380687762,MSE:15.449124550911355,correlation(0.8550963043014156, 0.0)\n",
      "55.70670084218235 7.41815016046574 55.61974715067144 5.537494620512463\n"
     ]
    }
   ],
   "source": [
    "E3e3 = df_dropped[df_dropped.index.isin(APOE3e3['n_eid_14631'])]\n",
    "\n",
    "y_e3 = E3e3['n_21003_0_0']\n",
    "X_e3 = E3e3.drop(['n_21003_0_0'], axis=1)\n",
    "#X_e4 = E4e4[feature_names[indices][235:335]]\n",
    "\n",
    "y_pred_e3 = fitted_model.predict(X_e3.values) \n",
    "print(str(mean_absolute_error(y_e3,y_pred_e3)) + \n",
    "      \",MSE:\" + str(mean_squared_error(y_e3,y_pred_e3))+\n",
    "      \",correlation\"+str(pearsonr(y_e3, y_pred_e3)))\n",
    "print(np.mean(y_e3),np.std(y_e3),np.mean(y_pred_e3),np.std(y_pred_e3))"
   ]
  },
  {
   "cell_type": "code",
   "execution_count": 74,
   "metadata": {},
   "outputs": [
    {
     "data": {
      "text/plain": [
       "Text(0.5, 1.0, 'performance on E3e3 set')"
      ]
     },
     "execution_count": 74,
     "metadata": {},
     "output_type": "execute_result"
    },
    {
     "data": {
      "image/png": "[encoded data removed]",
      "text/plain": [
       "<Figure size 432x288 with 1 Axes>"
      ]
     },
     "metadata": {
      "needs_background": "light"
     },
     "output_type": "display_data"
    }
   ],
   "source": [
    "sb.distplot(y_e3, kde=True, hist = True)\n",
    "sb.distplot(y_pred_e3, kde=True, hist = True, color = 'r')\n",
    "plt.xlabel(\"age\", fontsize=16)\n",
    "plt.ylabel(\"probability\", fontsize=16)\n",
    "plt.title(\"performance on E3e3 set\", fontsize=16)"
   ]
  },
  {
   "cell_type": "code",
   "execution_count": 58,
   "metadata": {},
   "outputs": [
    {
     "name": "stdout",
     "output_type": "stream",
     "text": [
      "3.257239545913542,MSE:15.750181800573145,correlation(0.8475355170670971, 1.2680098229441767e-08)\n",
      "53.75 7.214197312046771 54.777688567615485 5.930118988826747\n"
     ]
    }
   ],
   "source": [
    "E2e2 = df_dropped[df_dropped.index.isin(APOE2e2['n_eid_14631'])]\n",
    "\n",
    "y_e2 = E2e2['n_21003_0_0']\n",
    "X_e2 = E2e2.drop(['n_21003_0_0'], axis=1)\n",
    "y_pred_e2 = fitted_model.predict(X_e2.values) \n",
    "print(str(mean_absolute_error(y_e2,y_pred_e2)) + \n",
    "      \",MSE:\" + str(mean_squared_error(y_e2,y_pred_e2))+\n",
    "      \",correlation\"+str(pearsonr(y_e2, y_pred_e2)))\n",
    "print(np.mean(y_e2),np.std(y_e2),np.mean(y_pred_e2),np.std(y_pred_e2))"
   ]
  },
  {
   "cell_type": "code",
   "execution_count": 75,
   "metadata": {},
   "outputs": [
    {
     "data": {
      "text/plain": [
       "Text(0.5, 1.0, 'performance on E2e2 set')"
      ]
     },
     "execution_count": 75,
     "metadata": {},
     "output_type": "execute_result"
    },
    {
     "data": {
      "image/png": "[encoded data removed]",
      "text/plain": [
       "<Figure size 432x288 with 1 Axes>"
      ]
     },
     "metadata": {
      "needs_background": "light"
     },
     "output_type": "display_data"
    }
   ],
   "source": [
    "sb.distplot(y_e2, kde=True, hist = True)\n",
    "sb.distplot(y_pred_e2, kde=True, hist = True, color = 'r')\n",
    "plt.xlabel(\"age\", fontsize=16)\n",
    "plt.ylabel(\"probability\", fontsize=16)\n",
    "plt.title(\"performance on E2e2 set\", fontsize=16)"
   ]
  },
  {
   "cell_type": "code",
   "execution_count": 59,
   "metadata": {},
   "outputs": [],
   "source": [
    "healthy_label = pd.read_csv(\"/Users/jilanxin/Downloads/UKB/data_for_GWAS.csv\")\n",
    "healthy_label = healthy_label.set_index('n_eid_14631')\n",
    "healthy_label = healthy_label.dropna(subset = [\"disease_free_65\"])\n",
    "healthy_label.shape\n",
    "healthy = healthy_label[healthy_label[\"disease_free_65\"]==1]\n",
    "disease = healthy_label[healthy_label[\"disease_free_65\"]==0]\n",
    "\n",
    "healthy_sub = df_dropped[df_dropped.index.isin(healthy.index)]\n",
    "disease_sub = df_dropped[df_dropped.index.isin(disease.index)]"
   ]
  },
  {
   "cell_type": "code",
   "execution_count": 60,
   "metadata": {},
   "outputs": [
    {
     "name": "stdout",
     "output_type": "stream",
     "text": [
      "3.229610897095949,MSE:15.7892029424894,correlation(0.5607783697779348, 1.030081014463477e-131)\n",
      "62.42857142857143 3.1600209407590576 60.00135166293103 3.519158058834126\n"
     ]
    }
   ],
   "source": [
    "y_healthy = healthy_sub['n_21003_0_0']\n",
    "X_healthy = healthy_sub.drop(['n_21003_0_0'], axis=1)\n",
    "y_pred_healthy = fitted_model.predict(X_healthy.values) \n",
    "print(str(mean_absolute_error(y_healthy,y_pred_healthy)) + \n",
    "      \",MSE:\" + str(mean_squared_error(y_healthy,y_pred_healthy))+\n",
    "      \",correlation\"+str(pearsonr(y_healthy, y_pred_healthy)))\n",
    "print(np.mean(y_healthy),np.std(y_healthy),np.mean(y_pred_healthy),np.std(y_pred_healthy))"
   ]
  },
  {
   "cell_type": "code",
   "execution_count": 66,
   "metadata": {},
   "outputs": [
    {
     "data": {
      "text/plain": [
       "[<matplotlib.lines.Line2D at 0x1a31879160>]"
      ]
     },
     "execution_count": 66,
     "metadata": {},
     "output_type": "execute_result"
    },
    {
     "data": {
      "image/png": "[encoded data removed]",
      "text/plain": [
       "<Figure size 432x288 with 1 Axes>"
      ]
     },
     "metadata": {
      "needs_background": "light"
     },
     "output_type": "display_data"
    }
   ],
   "source": [
    "plt.scatter(y_healthy, y_pred_healthy)\n",
    "plt.xlabel(\"true age\", fontsize=16)\n",
    "plt.ylabel(\"predicted age\", fontsize=16)\n",
    "plt.title(\"performance on disease-free set\", fontsize=16)\n",
    "lineStart = y_healthy.min()\n",
    "lindEnd = y_pred_healthy.max()\n",
    "plt.plot([lineStart,lindEnd], [lineStart,lindEnd], 'k-', color = 'r')"
   ]
  },
  {
   "cell_type": "code",
   "execution_count": 72,
   "metadata": {},
   "outputs": [
    {
     "data": {
      "text/plain": [
       "Text(0.5, 1.0, 'performance on disease-free set')"
      ]
     },
     "execution_count": 72,
     "metadata": {},
     "output_type": "execute_result"
    },
    {
     "data": {
      "image/png": "[encoded data removed]",
      "text/plain": [
       "<Figure size 432x288 with 1 Axes>"
      ]
     },
     "metadata": {
      "needs_background": "light"
     },
     "output_type": "display_data"
    }
   ],
   "source": [
    "sb.distplot(y_healthy, kde=True, hist = True)\n",
    "sb.distplot(y_pred_healthy, kde=True, hist = True, color = 'r')\n",
    "plt.xlabel(\"age\", fontsize=16)\n",
    "plt.ylabel(\"probability\", fontsize=16)\n",
    "plt.title(\"performance on disease-free set\", fontsize=16)"
   ]
  },
  {
   "cell_type": "code",
   "execution_count": 61,
   "metadata": {},
   "outputs": [
    {
     "name": "stdout",
     "output_type": "stream",
     "text": [
      "3.0141423744700178,MSE:14.106478405212343,correlation(0.8228581459693445, 1.2975728480215499e-195)\n",
      "57.37848101265823 6.5857377716148795 57.12182132540878 5.230421329889045\n"
     ]
    }
   ],
   "source": [
    "y_disease = disease_sub['n_21003_0_0']\n",
    "X_disease = disease_sub.drop(['n_21003_0_0'], axis=1)\n",
    "y_pred_disease = fitted_model.predict(X_disease.values) \n",
    "print(str(mean_absolute_error(y_disease,y_pred_disease)) + \n",
    "      \",MSE:\" + str(mean_squared_error(y_disease,y_pred_disease))+\n",
    "      \",correlation\"+str(pearsonr(y_disease, y_pred_disease)))\n",
    "print(np.mean(y_disease),np.std(y_disease),np.mean(y_pred_disease),np.std(y_pred_disease))"
   ]
  },
  {
   "cell_type": "code",
   "execution_count": 67,
   "metadata": {},
   "outputs": [
    {
     "data": {
      "text/plain": [
       "[<matplotlib.lines.Line2D at 0x1a2ebdb390>]"
      ]
     },
     "execution_count": 67,
     "metadata": {},
     "output_type": "execute_result"
    },
    {
     "data": {
      "image/png": "[encoded data removed]",
      "text/plain": [
       "<Figure size 432x288 with 1 Axes>"
      ]
     },
     "metadata": {
      "needs_background": "light"
     },
     "output_type": "display_data"
    }
   ],
   "source": [
    "plt.scatter(y_disease, y_pred_disease)\n",
    "plt.xlabel(\"true age\", fontsize=16)\n",
    "plt.ylabel(\"predicted age\", fontsize=16)\n",
    "plt.title(\"performance on disease-not-free set\", fontsize=16)\n",
    "lineStart = y_disease.min()\n",
    "lindEnd = y_pred_disease.max()\n",
    "plt.plot([lineStart,lindEnd], [lineStart,lindEnd], 'k-', color = 'r')"
   ]
  },
  {
   "cell_type": "code",
   "execution_count": 68,
   "metadata": {},
   "outputs": [
    {
     "data": {
      "text/plain": [
       "Text(0.5, 1.0, 'performance on disease-not-free set')"
      ]
     },
     "execution_count": 68,
     "metadata": {},
     "output_type": "execute_result"
    },
    {
     "data": {
      "image/png": "[encoded data removed]",
      "text/plain": [
       "<Figure size 432x288 with 1 Axes>"
      ]
     },
     "metadata": {
      "needs_background": "light"
     },
     "output_type": "display_data"
    }
   ],
   "source": [
    "sb.distplot(y_disease, kde=True, hist = True)\n",
    "sb.distplot(y_pred_disease, kde=True, hist = True, color = 'r')\n",
    "plt.xlabel(\"age\", fontsize=16)\n",
    "plt.ylabel(\"probability\", fontsize=16)\n",
    "plt.title(\"performance on disease-not-free set\", fontsize=16)"
   ]
  },
  {
   "cell_type": "markdown",
   "metadata": {},
   "source": [
    "## Correlation to ipaq in healthy subjects"
   ]
  },
  {
   "cell_type": "code",
   "execution_count": 24,
   "metadata": {},
   "outputs": [],
   "source": [
    "data = pd.read_pickle(\"/Users/jilanxin/Documents/Biobank/my_Azure_ML/UKB_data_with_BrainAge\")"
   ]
  },
  {
   "cell_type": "code",
   "execution_count": 25,
   "metadata": {},
   "outputs": [],
   "source": [
    "old_data_mat = pd.read_csv('/Users/jilanxin/Documents/Biobank/final_cleandata3.csv')"
   ]
  },
  {
   "cell_type": "code",
   "execution_count": 26,
   "metadata": {},
   "outputs": [
    {
     "data": {
      "text/plain": [
       "(986, 1)"
      ]
     },
     "execution_count": 26,
     "metadata": {},
     "output_type": "execute_result"
    }
   ],
   "source": [
    "ipaq = old_data_mat[['n_eid_14631','total_MET_min_per_wk_0_0']]\n",
    "ipaq = ipaq.set_index('n_eid_14631')\n",
    "ipaq = ipaq.dropna()\n",
    "ipaq.shape"
   ]
  },
  {
   "cell_type": "code",
   "execution_count": 28,
   "metadata": {},
   "outputs": [
    {
     "ename": "KeyError",
     "evalue": "'brain_age'",
     "output_type": "error",
     "traceback": [
      "\u001b[0;31m---------------------------------------------------------------------------\u001b[0m",
      "\u001b[0;31mKeyError\u001b[0m                                  Traceback (most recent call last)",
      "\u001b[0;32m~/anaconda3/envs/myenv/lib/python3.6/site-packages/pandas/core/indexes/base.py\u001b[0m in \u001b[0;36mget_loc\u001b[0;34m(self, key, method, tolerance)\u001b[0m\n\u001b[1;32m   3077\u001b[0m             \u001b[0;32mtry\u001b[0m\u001b[0;34m:\u001b[0m\u001b[0;34m\u001b[0m\u001b[0m\n\u001b[0;32m-> 3078\u001b[0;31m                 \u001b[0;32mreturn\u001b[0m \u001b[0mself\u001b[0m\u001b[0;34m.\u001b[0m\u001b[0m_engine\u001b[0m\u001b[0;34m.\u001b[0m\u001b[0mget_loc\u001b[0m\u001b[0;34m(\u001b[0m\u001b[0mkey\u001b[0m\u001b[0;34m)\u001b[0m\u001b[0;34m\u001b[0m\u001b[0m\n\u001b[0m\u001b[1;32m   3079\u001b[0m             \u001b[0;32mexcept\u001b[0m \u001b[0mKeyError\u001b[0m\u001b[0;34m:\u001b[0m\u001b[0;34m\u001b[0m\u001b[0m\n",
      "\u001b[0;32mpandas/_libs/index.pyx\u001b[0m in \u001b[0;36mpandas._libs.index.IndexEngine.get_loc\u001b[0;34m()\u001b[0m\n",
      "\u001b[0;32mpandas/_libs/index.pyx\u001b[0m in \u001b[0;36mpandas._libs.index.IndexEngine.get_loc\u001b[0;34m()\u001b[0m\n",
      "\u001b[0;32mpandas/_libs/hashtable_class_helper.pxi\u001b[0m in \u001b[0;36mpandas._libs.hashtable.PyObjectHashTable.get_item\u001b[0;34m()\u001b[0m\n",
      "\u001b[0;32mpandas/_libs/hashtable_class_helper.pxi\u001b[0m in \u001b[0;36mpandas._libs.hashtable.PyObjectHashTable.get_item\u001b[0;34m()\u001b[0m\n",
      "\u001b[0;31mKeyError\u001b[0m: 'brain_age'",
      "\nDuring handling of the above exception, another exception occurred:\n",
      "\u001b[0;31mKeyError\u001b[0m                                  Traceback (most recent call last)",
      "\u001b[0;32m<ipython-input-28-d586a7bd63be>\u001b[0m in \u001b[0;36m<module>\u001b[0;34m\u001b[0m\n\u001b[1;32m      3\u001b[0m \u001b[0mdf_ipaq\u001b[0m \u001b[0;34m=\u001b[0m \u001b[0mpd\u001b[0m\u001b[0;34m.\u001b[0m\u001b[0mmerge\u001b[0m\u001b[0;34m(\u001b[0m\u001b[0mdf_dropped\u001b[0m\u001b[0;34m,\u001b[0m \u001b[0mipaq\u001b[0m\u001b[0;34m,\u001b[0m \u001b[0mleft_index\u001b[0m\u001b[0;34m=\u001b[0m\u001b[0;32mTrue\u001b[0m\u001b[0;34m,\u001b[0m \u001b[0mright_index\u001b[0m\u001b[0;34m=\u001b[0m\u001b[0;32mTrue\u001b[0m\u001b[0;34m)\u001b[0m\u001b[0;34m\u001b[0m\u001b[0m\n\u001b[1;32m      4\u001b[0m \u001b[0mdf_ipaq\u001b[0m\u001b[0;34m.\u001b[0m\u001b[0mshape\u001b[0m\u001b[0;34m\u001b[0m\u001b[0m\n\u001b[0;32m----> 5\u001b[0;31m \u001b[0mdf_ipaq\u001b[0m\u001b[0;34m[\u001b[0m\u001b[0;34m'brain_age'\u001b[0m\u001b[0;34m]\u001b[0m\u001b[0;34m\u001b[0m\u001b[0m\n\u001b[0m\u001b[1;32m      6\u001b[0m \u001b[0;31m#print(stats.pearsonr(df_ipaq['total_MET_min_per_wk_0_0'],df_ipaq['brain_age']))\u001b[0m\u001b[0;34m\u001b[0m\u001b[0;34m\u001b[0m\u001b[0m\n\u001b[1;32m      7\u001b[0m \u001b[0;31m#plt.scatter(df_ipaq['brain_age'],df_ipaq['total_MET_min_per_wk_0_0'])\u001b[0m\u001b[0;34m\u001b[0m\u001b[0;34m\u001b[0m\u001b[0m\n",
      "\u001b[0;32m~/anaconda3/envs/myenv/lib/python3.6/site-packages/pandas/core/frame.py\u001b[0m in \u001b[0;36m__getitem__\u001b[0;34m(self, key)\u001b[0m\n\u001b[1;32m   2686\u001b[0m             \u001b[0;32mreturn\u001b[0m \u001b[0mself\u001b[0m\u001b[0;34m.\u001b[0m\u001b[0m_getitem_multilevel\u001b[0m\u001b[0;34m(\u001b[0m\u001b[0mkey\u001b[0m\u001b[0;34m)\u001b[0m\u001b[0;34m\u001b[0m\u001b[0m\n\u001b[1;32m   2687\u001b[0m         \u001b[0;32melse\u001b[0m\u001b[0;34m:\u001b[0m\u001b[0;34m\u001b[0m\u001b[0m\n\u001b[0;32m-> 2688\u001b[0;31m             \u001b[0;32mreturn\u001b[0m \u001b[0mself\u001b[0m\u001b[0;34m.\u001b[0m\u001b[0m_getitem_column\u001b[0m\u001b[0;34m(\u001b[0m\u001b[0mkey\u001b[0m\u001b[0;34m)\u001b[0m\u001b[0;34m\u001b[0m\u001b[0m\n\u001b[0m\u001b[1;32m   2689\u001b[0m \u001b[0;34m\u001b[0m\u001b[0m\n\u001b[1;32m   2690\u001b[0m     \u001b[0;32mdef\u001b[0m \u001b[0m_getitem_column\u001b[0m\u001b[0;34m(\u001b[0m\u001b[0mself\u001b[0m\u001b[0;34m,\u001b[0m \u001b[0mkey\u001b[0m\u001b[0;34m)\u001b[0m\u001b[0;34m:\u001b[0m\u001b[0;34m\u001b[0m\u001b[0m\n",
      "\u001b[0;32m~/anaconda3/envs/myenv/lib/python3.6/site-packages/pandas/core/frame.py\u001b[0m in \u001b[0;36m_getitem_column\u001b[0;34m(self, key)\u001b[0m\n\u001b[1;32m   2693\u001b[0m         \u001b[0;31m# get column\u001b[0m\u001b[0;34m\u001b[0m\u001b[0;34m\u001b[0m\u001b[0m\n\u001b[1;32m   2694\u001b[0m         \u001b[0;32mif\u001b[0m \u001b[0mself\u001b[0m\u001b[0;34m.\u001b[0m\u001b[0mcolumns\u001b[0m\u001b[0;34m.\u001b[0m\u001b[0mis_unique\u001b[0m\u001b[0;34m:\u001b[0m\u001b[0;34m\u001b[0m\u001b[0m\n\u001b[0;32m-> 2695\u001b[0;31m             \u001b[0;32mreturn\u001b[0m \u001b[0mself\u001b[0m\u001b[0;34m.\u001b[0m\u001b[0m_get_item_cache\u001b[0m\u001b[0;34m(\u001b[0m\u001b[0mkey\u001b[0m\u001b[0;34m)\u001b[0m\u001b[0;34m\u001b[0m\u001b[0m\n\u001b[0m\u001b[1;32m   2696\u001b[0m \u001b[0;34m\u001b[0m\u001b[0m\n\u001b[1;32m   2697\u001b[0m         \u001b[0;31m# duplicate columns & possible reduce dimensionality\u001b[0m\u001b[0;34m\u001b[0m\u001b[0;34m\u001b[0m\u001b[0m\n",
      "\u001b[0;32m~/anaconda3/envs/myenv/lib/python3.6/site-packages/pandas/core/generic.py\u001b[0m in \u001b[0;36m_get_item_cache\u001b[0;34m(self, item)\u001b[0m\n\u001b[1;32m   2487\u001b[0m         \u001b[0mres\u001b[0m \u001b[0;34m=\u001b[0m \u001b[0mcache\u001b[0m\u001b[0;34m.\u001b[0m\u001b[0mget\u001b[0m\u001b[0;34m(\u001b[0m\u001b[0mitem\u001b[0m\u001b[0;34m)\u001b[0m\u001b[0;34m\u001b[0m\u001b[0m\n\u001b[1;32m   2488\u001b[0m         \u001b[0;32mif\u001b[0m \u001b[0mres\u001b[0m \u001b[0;32mis\u001b[0m \u001b[0;32mNone\u001b[0m\u001b[0;34m:\u001b[0m\u001b[0;34m\u001b[0m\u001b[0m\n\u001b[0;32m-> 2489\u001b[0;31m             \u001b[0mvalues\u001b[0m \u001b[0;34m=\u001b[0m \u001b[0mself\u001b[0m\u001b[0;34m.\u001b[0m\u001b[0m_data\u001b[0m\u001b[0;34m.\u001b[0m\u001b[0mget\u001b[0m\u001b[0;34m(\u001b[0m\u001b[0mitem\u001b[0m\u001b[0;34m)\u001b[0m\u001b[0;34m\u001b[0m\u001b[0m\n\u001b[0m\u001b[1;32m   2490\u001b[0m             \u001b[0mres\u001b[0m \u001b[0;34m=\u001b[0m \u001b[0mself\u001b[0m\u001b[0;34m.\u001b[0m\u001b[0m_box_item_values\u001b[0m\u001b[0;34m(\u001b[0m\u001b[0mitem\u001b[0m\u001b[0;34m,\u001b[0m \u001b[0mvalues\u001b[0m\u001b[0;34m)\u001b[0m\u001b[0;34m\u001b[0m\u001b[0m\n\u001b[1;32m   2491\u001b[0m             \u001b[0mcache\u001b[0m\u001b[0;34m[\u001b[0m\u001b[0mitem\u001b[0m\u001b[0;34m]\u001b[0m \u001b[0;34m=\u001b[0m \u001b[0mres\u001b[0m\u001b[0;34m\u001b[0m\u001b[0m\n",
      "\u001b[0;32m~/anaconda3/envs/myenv/lib/python3.6/site-packages/pandas/core/internals.py\u001b[0m in \u001b[0;36mget\u001b[0;34m(self, item, fastpath)\u001b[0m\n\u001b[1;32m   4113\u001b[0m \u001b[0;34m\u001b[0m\u001b[0m\n\u001b[1;32m   4114\u001b[0m             \u001b[0;32mif\u001b[0m \u001b[0;32mnot\u001b[0m \u001b[0misna\u001b[0m\u001b[0;34m(\u001b[0m\u001b[0mitem\u001b[0m\u001b[0;34m)\u001b[0m\u001b[0;34m:\u001b[0m\u001b[0;34m\u001b[0m\u001b[0m\n\u001b[0;32m-> 4115\u001b[0;31m                 \u001b[0mloc\u001b[0m \u001b[0;34m=\u001b[0m \u001b[0mself\u001b[0m\u001b[0;34m.\u001b[0m\u001b[0mitems\u001b[0m\u001b[0;34m.\u001b[0m\u001b[0mget_loc\u001b[0m\u001b[0;34m(\u001b[0m\u001b[0mitem\u001b[0m\u001b[0;34m)\u001b[0m\u001b[0;34m\u001b[0m\u001b[0m\n\u001b[0m\u001b[1;32m   4116\u001b[0m             \u001b[0;32melse\u001b[0m\u001b[0;34m:\u001b[0m\u001b[0;34m\u001b[0m\u001b[0m\n\u001b[1;32m   4117\u001b[0m                 \u001b[0mindexer\u001b[0m \u001b[0;34m=\u001b[0m \u001b[0mnp\u001b[0m\u001b[0;34m.\u001b[0m\u001b[0marange\u001b[0m\u001b[0;34m(\u001b[0m\u001b[0mlen\u001b[0m\u001b[0;34m(\u001b[0m\u001b[0mself\u001b[0m\u001b[0;34m.\u001b[0m\u001b[0mitems\u001b[0m\u001b[0;34m)\u001b[0m\u001b[0;34m)\u001b[0m\u001b[0;34m[\u001b[0m\u001b[0misna\u001b[0m\u001b[0;34m(\u001b[0m\u001b[0mself\u001b[0m\u001b[0;34m.\u001b[0m\u001b[0mitems\u001b[0m\u001b[0;34m)\u001b[0m\u001b[0;34m]\u001b[0m\u001b[0;34m\u001b[0m\u001b[0m\n",
      "\u001b[0;32m~/anaconda3/envs/myenv/lib/python3.6/site-packages/pandas/core/indexes/base.py\u001b[0m in \u001b[0;36mget_loc\u001b[0;34m(self, key, method, tolerance)\u001b[0m\n\u001b[1;32m   3078\u001b[0m                 \u001b[0;32mreturn\u001b[0m \u001b[0mself\u001b[0m\u001b[0;34m.\u001b[0m\u001b[0m_engine\u001b[0m\u001b[0;34m.\u001b[0m\u001b[0mget_loc\u001b[0m\u001b[0;34m(\u001b[0m\u001b[0mkey\u001b[0m\u001b[0;34m)\u001b[0m\u001b[0;34m\u001b[0m\u001b[0m\n\u001b[1;32m   3079\u001b[0m             \u001b[0;32mexcept\u001b[0m \u001b[0mKeyError\u001b[0m\u001b[0;34m:\u001b[0m\u001b[0;34m\u001b[0m\u001b[0m\n\u001b[0;32m-> 3080\u001b[0;31m                 \u001b[0;32mreturn\u001b[0m \u001b[0mself\u001b[0m\u001b[0;34m.\u001b[0m\u001b[0m_engine\u001b[0m\u001b[0;34m.\u001b[0m\u001b[0mget_loc\u001b[0m\u001b[0;34m(\u001b[0m\u001b[0mself\u001b[0m\u001b[0;34m.\u001b[0m\u001b[0m_maybe_cast_indexer\u001b[0m\u001b[0;34m(\u001b[0m\u001b[0mkey\u001b[0m\u001b[0;34m)\u001b[0m\u001b[0;34m)\u001b[0m\u001b[0;34m\u001b[0m\u001b[0m\n\u001b[0m\u001b[1;32m   3081\u001b[0m \u001b[0;34m\u001b[0m\u001b[0m\n\u001b[1;32m   3082\u001b[0m         \u001b[0mindexer\u001b[0m \u001b[0;34m=\u001b[0m \u001b[0mself\u001b[0m\u001b[0;34m.\u001b[0m\u001b[0mget_indexer\u001b[0m\u001b[0;34m(\u001b[0m\u001b[0;34m[\u001b[0m\u001b[0mkey\u001b[0m\u001b[0;34m]\u001b[0m\u001b[0;34m,\u001b[0m \u001b[0mmethod\u001b[0m\u001b[0;34m=\u001b[0m\u001b[0mmethod\u001b[0m\u001b[0;34m,\u001b[0m \u001b[0mtolerance\u001b[0m\u001b[0;34m=\u001b[0m\u001b[0mtolerance\u001b[0m\u001b[0;34m)\u001b[0m\u001b[0;34m\u001b[0m\u001b[0m\n",
      "\u001b[0;32mpandas/_libs/index.pyx\u001b[0m in \u001b[0;36mpandas._libs.index.IndexEngine.get_loc\u001b[0;34m()\u001b[0m\n",
      "\u001b[0;32mpandas/_libs/index.pyx\u001b[0m in \u001b[0;36mpandas._libs.index.IndexEngine.get_loc\u001b[0;34m()\u001b[0m\n",
      "\u001b[0;32mpandas/_libs/hashtable_class_helper.pxi\u001b[0m in \u001b[0;36mpandas._libs.hashtable.PyObjectHashTable.get_item\u001b[0;34m()\u001b[0m\n",
      "\u001b[0;32mpandas/_libs/hashtable_class_helper.pxi\u001b[0m in \u001b[0;36mpandas._libs.hashtable.PyObjectHashTable.get_item\u001b[0;34m()\u001b[0m\n",
      "\u001b[0;31mKeyError\u001b[0m: 'brain_age'"
     ]
    }
   ],
   "source": [
    "from scipy import stats\n",
    "#df_healthy = df_dropped[df_dropped.index.isin(healthy.index)]\n",
    "df_ipaq = pd.merge(df_dropped, ipaq, left_index=True, right_index=True)\n",
    "df_ipaq.shape\n",
    "df_ipaq['brain_age']\n",
    "#print(stats.pearsonr(df_ipaq['total_MET_min_per_wk_0_0'],df_ipaq['brain_age']))\n",
    "#plt.scatter(df_ipaq['brain_age'],df_ipaq['total_MET_min_per_wk_0_0'])\n",
    "#plt.scatter(df_ipaq['n_21003_0_0'],df_ipaq['total_MET_min_per_wk_0_0'])\n",
    "#plt.ylabel(\"ipaq\", fontsize=16)\n",
    "#plt.xlabel(\"brain age\", fontsize=16)"
   ]
  },
  {
   "cell_type": "code",
   "execution_count": 95,
   "metadata": {},
   "outputs": [
    {
     "data": {
      "text/plain": [
       "(1940, 1)"
      ]
     },
     "execution_count": 95,
     "metadata": {},
     "output_type": "execute_result"
    }
   ],
   "source": [
    "iq = old_data_mat[['n_eid_14631','Fluid_intelligence_1']]\n",
    "iq = iq.set_index('n_eid_14631')\n",
    "iq = iq.dropna()\n",
    "iq.shape"
   ]
  },
  {
   "cell_type": "code",
   "execution_count": 99,
   "metadata": {},
   "outputs": [
    {
     "name": "stdout",
     "output_type": "stream",
     "text": [
      "(-0.140179545459981, 0.001281125440137023)\n"
     ]
    },
    {
     "data": {
      "text/plain": [
       "Text(0.5, 0, 'brain age')"
      ]
     },
     "execution_count": 99,
     "metadata": {},
     "output_type": "execute_result"
    },
    {
     "data": {
      "image/png": "[encoded data removed]",
      "text/plain": [
       "<Figure size 432x288 with 1 Axes>"
      ]
     },
     "metadata": {
      "needs_background": "light"
     },
     "output_type": "display_data"
    }
   ],
   "source": [
    "df_iq = pd.merge(df_healthy, iq, left_index=True, right_index=True)\n",
    "df_iq.shape\n",
    "print(stats.pearsonr(df_iq['Fluid_intelligence_1'],df_iq['brain_age']))\n",
    "plt.scatter(df_iq['brain_age'],df_iq['Fluid_intelligence_1'])\n",
    "plt.scatter(df_iq['n_21003_0_0'],df_iq['Fluid_intelligence_1'])\n",
    "plt.ylabel(\"iq\", fontsize=16)\n",
    "plt.xlabel(\"brain age\", fontsize=16)"
   ]
  },
  {
   "cell_type": "code",
   "execution_count": 105,
   "metadata": {},
   "outputs": [
    {
     "data": {
      "text/plain": [
       "(1947, 1)"
      ]
     },
     "execution_count": 105,
     "metadata": {},
     "output_type": "execute_result"
    }
   ],
   "source": [
    "task_mem = old_data_mat[['n_eid_14631','Task_duration_1_mean']]\n",
    "task_mem = task_mem.set_index('n_eid_14631')\n",
    "task_mem = task_mem.dropna()\n",
    "task_mem.shape"
   ]
  },
  {
   "cell_type": "code",
   "execution_count": 106,
   "metadata": {},
   "outputs": [
    {
     "name": "stdout",
     "output_type": "stream",
     "text": [
      "(0.08046532738447867, 0.06492002824284425)\n"
     ]
    },
    {
     "data": {
      "text/plain": [
       "Text(0.5, 0, 'brain age')"
      ]
     },
     "execution_count": 106,
     "metadata": {},
     "output_type": "execute_result"
    },
    {
     "data": {
      "image/png": "[encoded data removed]",
      "text/plain": [
       "<Figure size 432x288 with 1 Axes>"
      ]
     },
     "metadata": {
      "needs_background": "light"
     },
     "output_type": "display_data"
    }
   ],
   "source": [
    "task_mem = pd.merge(df_healthy, task_mem, left_index=True, right_index=True)\n",
    "task_mem.shape\n",
    "print(stats.pearsonr(task_mem['Task_duration_1_mean'],task_mem['brain_age']))\n",
    "plt.scatter(task_mem['brain_age'],task_mem['Task_duration_1_mean'])\n",
    "plt.scatter(task_mem['n_21003_0_0'],task_mem['Task_duration_1_mean'])\n",
    "plt.ylabel(\"Task_duration_0_mean\", fontsize=16)\n",
    "plt.xlabel(\"brain age\", fontsize=16)"
   ]
  }
 ],
 "metadata": {
  "kernelspec": {
   "display_name": "Python 3",
   "language": "python",
   "name": "python3"
  },
  "language_info": {
   "codemirror_mode": {
    "name": "ipython",
    "version": 3
   },
   "file_extension": ".py",
   "mimetype": "text/x-python",
   "name": "python",
   "nbconvert_exporter": "python",
   "pygments_lexer": "ipython3",
   "version": "3.6.5"
  }
 },
 "nbformat": 4,
 "nbformat_minor": 2
}
