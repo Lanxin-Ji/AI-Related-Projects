{
 "cells": [
  {
   "cell_type": "code",
   "execution_count": 1,
   "metadata": {},
   "outputs": [
    {
     "data": {
      "text/plain": [
       "(11818, 233)"
      ]
     },
     "execution_count": 1,
     "metadata": {},
     "output_type": "execute_result"
    }
   ],
   "source": [
    "import pandas as pd\n",
    "import numpy as np\n",
    "\n",
    "df = pd.read_csv('/Users/jilanxin/Documents/Biobank/newmergeddata0604.csv')\n",
    "\n",
    "to_drop = ['Unnamed: 0','n_31_0_0','n_21003_2_0','n_21003_1_0','n_25025_2_0','n_25733_2_0','n_25003_2_0','n_25007_2_0']\n",
    "df_dropped = df.drop(to_drop, axis=1)\n",
    "df_dropped = df_dropped.set_index('n_eid_14631')\n",
    "df_dropped = df_dropped.dropna()\n",
    "df_dropped.shape"
   ]
  },
  {
   "cell_type": "code",
   "execution_count": 2,
   "metadata": {
    "collapsed": true
   },
   "outputs": [],
   "source": [
    "GM_index = ['n_25001_2_0','n_25011_2_0', 'n_25012_2_0', 'n_25013_2_0',\n",
    "       'n_25014_2_0', 'n_25015_2_0', 'n_25016_2_0', 'n_25017_2_0',\n",
    "       'n_25018_2_0', 'n_25019_2_0', 'n_25020_2_0', 'n_25021_2_0',\n",
    "       'n_25022_2_0', 'n_25023_2_0', 'n_25024_2_0','n_25782_2_0','n_25783_2_0', 'n_25784_2_0', 'n_25785_2_0',\n",
    "       'n_25786_2_0', 'n_25787_2_0', 'n_25788_2_0', 'n_25789_2_0',\n",
    "       'n_25790_2_0', 'n_25791_2_0', 'n_25792_2_0', 'n_25793_2_0',\n",
    "       'n_25794_2_0', 'n_25795_2_0', 'n_25796_2_0', 'n_25797_2_0',\n",
    "       'n_25798_2_0', 'n_25799_2_0', 'n_25800_2_0', 'n_25801_2_0',\n",
    "       'n_25802_2_0', 'n_25803_2_0', 'n_25804_2_0', 'n_25805_2_0',\n",
    "       'n_25806_2_0', 'n_25807_2_0', 'n_25808_2_0', 'n_25809_2_0',\n",
    "       'n_25810_2_0', 'n_25811_2_0', 'n_25812_2_0', 'n_25813_2_0',\n",
    "       'n_25814_2_0', 'n_25815_2_0', 'n_25816_2_0', 'n_25817_2_0',\n",
    "       'n_25818_2_0', 'n_25819_2_0', 'n_25820_2_0', 'n_25821_2_0',\n",
    "       'n_25822_2_0', 'n_25823_2_0', 'n_25824_2_0', 'n_25825_2_0',\n",
    "       'n_25826_2_0', 'n_25827_2_0', 'n_25828_2_0', 'n_25829_2_0',\n",
    "       'n_25830_2_0', 'n_25831_2_0', 'n_25832_2_0', 'n_25833_2_0',\n",
    "       'n_25834_2_0', 'n_25835_2_0', 'n_25836_2_0', 'n_25837_2_0',\n",
    "       'n_25838_2_0', 'n_25839_2_0', 'n_25840_2_0', 'n_25841_2_0',\n",
    "       'n_25842_2_0', 'n_25843_2_0', 'n_25844_2_0', 'n_25845_2_0',\n",
    "       'n_25846_2_0', 'n_25847_2_0', 'n_25848_2_0', 'n_25849_2_0',\n",
    "       'n_25850_2_0', 'n_25851_2_0', 'n_25852_2_0', 'n_25853_2_0',\n",
    "       'n_25854_2_0', 'n_25855_2_0', 'n_25856_2_0', 'n_25857_2_0',\n",
    "       'n_25858_2_0', 'n_25859_2_0', 'n_25860_2_0', 'n_25861_2_0',\n",
    "       'n_25862_2_0', 'n_25863_2_0', 'n_25864_2_0', 'n_25865_2_0',\n",
    "       'n_25866_2_0', 'n_25867_2_0', 'n_25868_2_0', 'n_25869_2_0',\n",
    "       'n_25870_2_0', 'n_25871_2_0', 'n_25872_2_0', 'n_25873_2_0',\n",
    "       'n_25874_2_0', 'n_25875_2_0', 'n_25876_2_0', 'n_25877_2_0',\n",
    "       'n_25878_2_0', 'n_25879_2_0', 'n_25880_2_0', 'n_25881_2_0',\n",
    "       'n_25882_2_0', 'n_25883_2_0', 'n_25884_2_0', 'n_25885_2_0',\n",
    "       'n_25886_2_0', 'n_25887_2_0', 'n_25888_2_0', 'n_25889_2_0',\n",
    "       'n_25890_2_0', 'n_25891_2_0', 'n_25892_2_0', 'n_25893_2_0',\n",
    "       'n_25894_2_0', 'n_25895_2_0', 'n_25896_2_0', 'n_25897_2_0',\n",
    "       'n_25898_2_0', 'n_25899_2_0', 'n_25900_2_0', 'n_25901_2_0',\n",
    "       'n_25902_2_0', 'n_25903_2_0', 'n_25904_2_0', 'n_25905_2_0',\n",
    "       'n_25906_2_0', 'n_25907_2_0', 'n_25908_2_0', 'n_25909_2_0',\n",
    "       'n_25910_2_0', 'n_25911_2_0', 'n_25912_2_0', 'n_25913_2_0',\n",
    "       'n_25914_2_0', 'n_25915_2_0', 'n_25916_2_0', 'n_25917_2_0',\n",
    "       'n_25918_2_0', 'n_25919_2_0', 'n_25920_2_0']\n",
    "\n",
    "X_GM =  df_dropped[GM_index] #154\n",
    "X_GMnew = X_GM.div(X_GM['n_25001_2_0'].iloc[0], axis='columns') \n",
    "X_GMnew.head(1)\n",
    "X_GMnew = X_GMnew.drop(['n_25001_2_0'],axis=1)"
   ]
  },
  {
   "cell_type": "code",
   "execution_count": 3,
   "metadata": {},
   "outputs": [
    {
     "name": "stdout",
     "output_type": "stream",
     "text": [
      "(11818, 233)\n",
      "(11818, 153)\n"
     ]
    }
   ],
   "source": [
    "df_dropped[X_GMnew.columns.values] = X_GMnew[X_GMnew.columns.values]\n",
    "df_dropped.head()\n",
    "print(df_dropped.shape)\n",
    "print(X_GMnew.shape)"
   ]
  },
  {
   "cell_type": "code",
   "execution_count": 4,
   "metadata": {},
   "outputs": [
    {
     "name": "stdout",
     "output_type": "stream",
     "text": [
      "['n_25011_2_0' 'n_25012_2_0' 'n_25013_2_0' 'n_25014_2_0' 'n_25015_2_0'\n",
      " 'n_25016_2_0' 'n_25017_2_0' 'n_25018_2_0' 'n_25019_2_0' 'n_25020_2_0'\n",
      " 'n_25021_2_0' 'n_25022_2_0' 'n_25023_2_0' 'n_25024_2_0' 'n_25782_2_0'\n",
      " 'n_25783_2_0' 'n_25784_2_0' 'n_25785_2_0' 'n_25786_2_0' 'n_25787_2_0'\n",
      " 'n_25788_2_0' 'n_25789_2_0' 'n_25790_2_0' 'n_25791_2_0' 'n_25792_2_0'\n",
      " 'n_25793_2_0' 'n_25794_2_0' 'n_25795_2_0' 'n_25796_2_0' 'n_25797_2_0'\n",
      " 'n_25798_2_0' 'n_25799_2_0' 'n_25800_2_0' 'n_25801_2_0' 'n_25802_2_0'\n",
      " 'n_25803_2_0' 'n_25804_2_0' 'n_25805_2_0' 'n_25806_2_0' 'n_25807_2_0'\n",
      " 'n_25808_2_0' 'n_25809_2_0' 'n_25810_2_0' 'n_25811_2_0' 'n_25812_2_0'\n",
      " 'n_25813_2_0' 'n_25814_2_0' 'n_25815_2_0' 'n_25816_2_0' 'n_25817_2_0'\n",
      " 'n_25818_2_0' 'n_25819_2_0' 'n_25820_2_0' 'n_25821_2_0' 'n_25822_2_0'\n",
      " 'n_25823_2_0' 'n_25824_2_0' 'n_25825_2_0' 'n_25826_2_0' 'n_25827_2_0'\n",
      " 'n_25828_2_0' 'n_25829_2_0' 'n_25830_2_0' 'n_25831_2_0' 'n_25832_2_0'\n",
      " 'n_25833_2_0' 'n_25834_2_0' 'n_25835_2_0' 'n_25836_2_0' 'n_25837_2_0'\n",
      " 'n_25838_2_0' 'n_25839_2_0' 'n_25840_2_0' 'n_25841_2_0' 'n_25842_2_0'\n",
      " 'n_25843_2_0' 'n_25844_2_0' 'n_25845_2_0' 'n_25846_2_0' 'n_25847_2_0'\n",
      " 'n_25848_2_0' 'n_25849_2_0' 'n_25850_2_0' 'n_25851_2_0' 'n_25852_2_0'\n",
      " 'n_25853_2_0' 'n_25854_2_0' 'n_25855_2_0' 'n_25856_2_0' 'n_25857_2_0'\n",
      " 'n_25858_2_0' 'n_25859_2_0' 'n_25860_2_0' 'n_25861_2_0' 'n_25862_2_0'\n",
      " 'n_25863_2_0' 'n_25864_2_0' 'n_25865_2_0' 'n_25866_2_0' 'n_25867_2_0'\n",
      " 'n_25868_2_0' 'n_25869_2_0' 'n_25870_2_0' 'n_25871_2_0' 'n_25872_2_0'\n",
      " 'n_25873_2_0' 'n_25874_2_0' 'n_25875_2_0' 'n_25876_2_0' 'n_25877_2_0'\n",
      " 'n_25878_2_0' 'n_25879_2_0' 'n_25880_2_0' 'n_25881_2_0' 'n_25882_2_0'\n",
      " 'n_25883_2_0' 'n_25884_2_0' 'n_25885_2_0' 'n_25886_2_0' 'n_25887_2_0'\n",
      " 'n_25888_2_0' 'n_25889_2_0' 'n_25890_2_0' 'n_25891_2_0' 'n_25892_2_0'\n",
      " 'n_25893_2_0' 'n_25894_2_0' 'n_25895_2_0' 'n_25896_2_0' 'n_25897_2_0'\n",
      " 'n_25898_2_0' 'n_25899_2_0' 'n_25900_2_0' 'n_25901_2_0' 'n_25902_2_0'\n",
      " 'n_25903_2_0' 'n_25904_2_0' 'n_25905_2_0' 'n_25906_2_0' 'n_25907_2_0'\n",
      " 'n_25908_2_0' 'n_25909_2_0' 'n_25910_2_0' 'n_25911_2_0' 'n_25912_2_0'\n",
      " 'n_25913_2_0' 'n_25914_2_0' 'n_25915_2_0' 'n_25916_2_0' 'n_25917_2_0'\n",
      " 'n_25918_2_0' 'n_25919_2_0' 'n_25920_2_0']\n",
      "n_eid_14631\n",
      "1000086    0.004014\n",
      "1001094    0.002636\n",
      "1001344    0.002752\n",
      "1001432    0.003070\n",
      "1001460    0.003018\n",
      "1002377    0.002555\n",
      "1002443    0.003262\n",
      "1002550    0.003176\n",
      "1002970    0.002677\n",
      "1003016    0.003823\n",
      "Name: n_25917_2_0, dtype: float64\n",
      "n_eid_14631\n",
      "1000086    0.004014\n",
      "1001094    0.002636\n",
      "1001344    0.002752\n",
      "1001432    0.003070\n",
      "1001460    0.003018\n",
      "1002377    0.002555\n",
      "1002443    0.003262\n",
      "1002550    0.003176\n",
      "1002970    0.002677\n",
      "1003016    0.003823\n",
      "Name: n_25917_2_0, dtype: float64\n"
     ]
    }
   ],
   "source": [
    "print(X_GMnew.columns.values)\n",
    "print(df_dropped['n_25917_2_0'].head(10))\n",
    "print(X_GMnew['n_25917_2_0'].head(10))"
   ]
  },
  {
   "cell_type": "code",
   "execution_count": 6,
   "metadata": {
    "collapsed": true
   },
   "outputs": [],
   "source": [
    "ica = pd.read_csv('/Users/jilanxin/Documents/Biobank/icadata_age.csv')"
   ]
  },
  {
   "cell_type": "code",
   "execution_count": 7,
   "metadata": {},
   "outputs": [
    {
     "data": {
      "text/plain": [
       "array(['Unnamed: 0', 'n_eid_14631', 'n_21003_0_0', 'V1', 'V2', 'V3', 'V4',\n",
       "       'V5', 'V6', 'V7', 'V8', 'V9', 'V10', 'V11', 'V12', 'V13', 'V14',\n",
       "       'V15', 'V16', 'V17', 'V18', 'V19', 'V20', 'V21', 'V22', 'V23',\n",
       "       'V24', 'V25', 'V26', 'V27', 'V28', 'V29', 'V30', 'V31', 'V32',\n",
       "       'V33', 'V34', 'V35', 'V36', 'V37', 'V38', 'V39', 'V40', 'V41',\n",
       "       'V42', 'V43', 'V44', 'V45', 'V46', 'V47', 'V48', 'V49', 'V50',\n",
       "       'V51', 'V52', 'V53', 'V54', 'V55'], dtype=object)"
      ]
     },
     "execution_count": 7,
     "metadata": {},
     "output_type": "execute_result"
    }
   ],
   "source": [
    "ica.shape\n",
    "ica.columns.values"
   ]
  },
  {
   "cell_type": "code",
   "execution_count": 8,
   "metadata": {},
   "outputs": [
    {
     "data": {
      "text/plain": [
       "(13305, 55)"
      ]
     },
     "execution_count": 8,
     "metadata": {},
     "output_type": "execute_result"
    }
   ],
   "source": [
    "ica_to_drop = ['Unnamed: 0','n_21003_0_0']\n",
    "ica_dropped = ica.drop(ica_to_drop, axis=1)\n",
    "ica_dropped = ica_dropped.set_index('n_eid_14631')\n",
    "ica_dropped = ica_dropped.dropna()\n",
    "ica_dropped.shape"
   ]
  },
  {
   "cell_type": "code",
   "execution_count": 9,
   "metadata": {},
   "outputs": [
    {
     "data": {
      "text/html": [
       "<div>\n",
       "<style>\n",
       "    .dataframe thead tr:only-child th {\n",
       "        text-align: right;\n",
       "    }\n",
       "\n",
       "    .dataframe thead th {\n",
       "        text-align: left;\n",
       "    }\n",
       "\n",
       "    .dataframe tbody tr th {\n",
       "        vertical-align: top;\n",
       "    }\n",
       "</style>\n",
       "<table border=\"1\" class=\"dataframe\">\n",
       "  <thead>\n",
       "    <tr style=\"text-align: right;\">\n",
       "      <th></th>\n",
       "      <th>n_25011_2_0</th>\n",
       "      <th>n_25012_2_0</th>\n",
       "      <th>n_25013_2_0</th>\n",
       "      <th>n_25014_2_0</th>\n",
       "      <th>n_25015_2_0</th>\n",
       "      <th>n_25016_2_0</th>\n",
       "      <th>n_25017_2_0</th>\n",
       "      <th>n_25018_2_0</th>\n",
       "      <th>n_25019_2_0</th>\n",
       "      <th>n_25020_2_0</th>\n",
       "      <th>...</th>\n",
       "      <th>n_25912_2_0</th>\n",
       "      <th>n_25913_2_0</th>\n",
       "      <th>n_25914_2_0</th>\n",
       "      <th>n_25915_2_0</th>\n",
       "      <th>n_25916_2_0</th>\n",
       "      <th>n_25917_2_0</th>\n",
       "      <th>n_25918_2_0</th>\n",
       "      <th>n_25919_2_0</th>\n",
       "      <th>n_25920_2_0</th>\n",
       "      <th>n_21003_0_0</th>\n",
       "    </tr>\n",
       "    <tr>\n",
       "      <th>n_eid_14631</th>\n",
       "      <th></th>\n",
       "      <th></th>\n",
       "      <th></th>\n",
       "      <th></th>\n",
       "      <th></th>\n",
       "      <th></th>\n",
       "      <th></th>\n",
       "      <th></th>\n",
       "      <th></th>\n",
       "      <th></th>\n",
       "      <th></th>\n",
       "      <th></th>\n",
       "      <th></th>\n",
       "      <th></th>\n",
       "      <th></th>\n",
       "      <th></th>\n",
       "      <th></th>\n",
       "      <th></th>\n",
       "      <th></th>\n",
       "      <th></th>\n",
       "      <th></th>\n",
       "    </tr>\n",
       "  </thead>\n",
       "  <tbody>\n",
       "    <tr>\n",
       "      <th>1000086</th>\n",
       "      <td>0.012668</td>\n",
       "      <td>0.011752</td>\n",
       "      <td>0.006133</td>\n",
       "      <td>0.006320</td>\n",
       "      <td>0.007500</td>\n",
       "      <td>0.007420</td>\n",
       "      <td>0.002874</td>\n",
       "      <td>0.002853</td>\n",
       "      <td>0.005107</td>\n",
       "      <td>0.003378</td>\n",
       "      <td>...</td>\n",
       "      <td>0.004731</td>\n",
       "      <td>0.000821</td>\n",
       "      <td>0.006107</td>\n",
       "      <td>0.003221</td>\n",
       "      <td>0.000769</td>\n",
       "      <td>0.004014</td>\n",
       "      <td>0.001071</td>\n",
       "      <td>0.000385</td>\n",
       "      <td>0.000777</td>\n",
       "      <td>53</td>\n",
       "    </tr>\n",
       "    <tr>\n",
       "      <th>1001094</th>\n",
       "      <td>0.012159</td>\n",
       "      <td>0.011855</td>\n",
       "      <td>0.005505</td>\n",
       "      <td>0.005880</td>\n",
       "      <td>0.008376</td>\n",
       "      <td>0.008024</td>\n",
       "      <td>0.003063</td>\n",
       "      <td>0.002949</td>\n",
       "      <td>0.006223</td>\n",
       "      <td>0.006654</td>\n",
       "      <td>...</td>\n",
       "      <td>0.004173</td>\n",
       "      <td>0.000554</td>\n",
       "      <td>0.004380</td>\n",
       "      <td>0.002598</td>\n",
       "      <td>0.000599</td>\n",
       "      <td>0.002636</td>\n",
       "      <td>0.000789</td>\n",
       "      <td>0.000427</td>\n",
       "      <td>0.000759</td>\n",
       "      <td>63</td>\n",
       "    </tr>\n",
       "    <tr>\n",
       "      <th>1001344</th>\n",
       "      <td>0.011892</td>\n",
       "      <td>0.011348</td>\n",
       "      <td>0.005263</td>\n",
       "      <td>0.005562</td>\n",
       "      <td>0.007333</td>\n",
       "      <td>0.006939</td>\n",
       "      <td>0.002570</td>\n",
       "      <td>0.002473</td>\n",
       "      <td>0.005161</td>\n",
       "      <td>0.006179</td>\n",
       "      <td>...</td>\n",
       "      <td>0.003654</td>\n",
       "      <td>0.000568</td>\n",
       "      <td>0.003783</td>\n",
       "      <td>0.002235</td>\n",
       "      <td>0.000542</td>\n",
       "      <td>0.002752</td>\n",
       "      <td>0.000682</td>\n",
       "      <td>0.000360</td>\n",
       "      <td>0.000628</td>\n",
       "      <td>65</td>\n",
       "    </tr>\n",
       "    <tr>\n",
       "      <th>1001432</th>\n",
       "      <td>0.010407</td>\n",
       "      <td>0.009619</td>\n",
       "      <td>0.004842</td>\n",
       "      <td>0.004883</td>\n",
       "      <td>0.006651</td>\n",
       "      <td>0.006317</td>\n",
       "      <td>0.002275</td>\n",
       "      <td>0.002353</td>\n",
       "      <td>0.006047</td>\n",
       "      <td>0.005419</td>\n",
       "      <td>...</td>\n",
       "      <td>0.003654</td>\n",
       "      <td>0.000665</td>\n",
       "      <td>0.003662</td>\n",
       "      <td>0.003054</td>\n",
       "      <td>0.000658</td>\n",
       "      <td>0.003070</td>\n",
       "      <td>0.000745</td>\n",
       "      <td>0.000394</td>\n",
       "      <td>0.000766</td>\n",
       "      <td>64</td>\n",
       "    </tr>\n",
       "    <tr>\n",
       "      <th>1001460</th>\n",
       "      <td>0.011234</td>\n",
       "      <td>0.010704</td>\n",
       "      <td>0.005063</td>\n",
       "      <td>0.005456</td>\n",
       "      <td>0.007355</td>\n",
       "      <td>0.007036</td>\n",
       "      <td>0.002446</td>\n",
       "      <td>0.002450</td>\n",
       "      <td>0.005743</td>\n",
       "      <td>0.006285</td>\n",
       "      <td>...</td>\n",
       "      <td>0.004986</td>\n",
       "      <td>0.000858</td>\n",
       "      <td>0.004193</td>\n",
       "      <td>0.003010</td>\n",
       "      <td>0.000775</td>\n",
       "      <td>0.003018</td>\n",
       "      <td>0.000669</td>\n",
       "      <td>0.000400</td>\n",
       "      <td>0.000628</td>\n",
       "      <td>59</td>\n",
       "    </tr>\n",
       "  </tbody>\n",
       "</table>\n",
       "<p>5 rows × 231 columns</p>\n",
       "</div>"
      ],
      "text/plain": [
       "             n_25011_2_0  n_25012_2_0  n_25013_2_0  n_25014_2_0  n_25015_2_0  \\\n",
       "n_eid_14631                                                                    \n",
       "1000086         0.012668     0.011752     0.006133     0.006320     0.007500   \n",
       "1001094         0.012159     0.011855     0.005505     0.005880     0.008376   \n",
       "1001344         0.011892     0.011348     0.005263     0.005562     0.007333   \n",
       "1001432         0.010407     0.009619     0.004842     0.004883     0.006651   \n",
       "1001460         0.011234     0.010704     0.005063     0.005456     0.007355   \n",
       "\n",
       "             n_25016_2_0  n_25017_2_0  n_25018_2_0  n_25019_2_0  n_25020_2_0  \\\n",
       "n_eid_14631                                                                    \n",
       "1000086         0.007420     0.002874     0.002853     0.005107     0.003378   \n",
       "1001094         0.008024     0.003063     0.002949     0.006223     0.006654   \n",
       "1001344         0.006939     0.002570     0.002473     0.005161     0.006179   \n",
       "1001432         0.006317     0.002275     0.002353     0.006047     0.005419   \n",
       "1001460         0.007036     0.002446     0.002450     0.005743     0.006285   \n",
       "\n",
       "                ...       n_25912_2_0  n_25913_2_0  n_25914_2_0  n_25915_2_0  \\\n",
       "n_eid_14631     ...                                                            \n",
       "1000086         ...          0.004731     0.000821     0.006107     0.003221   \n",
       "1001094         ...          0.004173     0.000554     0.004380     0.002598   \n",
       "1001344         ...          0.003654     0.000568     0.003783     0.002235   \n",
       "1001432         ...          0.003654     0.000665     0.003662     0.003054   \n",
       "1001460         ...          0.004986     0.000858     0.004193     0.003010   \n",
       "\n",
       "             n_25916_2_0  n_25917_2_0  n_25918_2_0  n_25919_2_0  n_25920_2_0  \\\n",
       "n_eid_14631                                                                    \n",
       "1000086         0.000769     0.004014     0.001071     0.000385     0.000777   \n",
       "1001094         0.000599     0.002636     0.000789     0.000427     0.000759   \n",
       "1001344         0.000542     0.002752     0.000682     0.000360     0.000628   \n",
       "1001432         0.000658     0.003070     0.000745     0.000394     0.000766   \n",
       "1001460         0.000775     0.003018     0.000669     0.000400     0.000628   \n",
       "\n",
       "             n_21003_0_0  \n",
       "n_eid_14631               \n",
       "1000086               53  \n",
       "1001094               63  \n",
       "1001344               65  \n",
       "1001432               64  \n",
       "1001460               59  \n",
       "\n",
       "[5 rows x 231 columns]"
      ]
     },
     "execution_count": 9,
     "metadata": {},
     "output_type": "execute_result"
    }
   ],
   "source": [
    "df_dropped = df_dropped.drop(['n_25001_2_0','n_25002_2_0'],axis=1)\n",
    "df_dropped.head()"
   ]
  },
  {
   "cell_type": "code",
   "execution_count": 10,
   "metadata": {
    "collapsed": true
   },
   "outputs": [],
   "source": [
    "df_dropped = pd.merge(df_dropped, ica_dropped, left_index=True, right_index=True)"
   ]
  },
  {
   "cell_type": "code",
   "execution_count": 11,
   "metadata": {},
   "outputs": [
    {
     "data": {
      "text/plain": [
       "(11795, 286)"
      ]
     },
     "execution_count": 11,
     "metadata": {},
     "output_type": "execute_result"
    }
   ],
   "source": [
    "df_dropped.shape\n",
    "#df_dropped.columns.values\n",
    "#print(df_dropped['V1_x'].head(10))\n",
    "#print(df_dropped['V1_y'].head(10))"
   ]
  },
  {
   "cell_type": "code",
   "execution_count": 5,
   "metadata": {},
   "outputs": [
    {
     "name": "stderr",
     "output_type": "stream",
     "text": [
      "/Users/jilanxin/anaconda3/envs/laidata1/lib/python2.7/site-packages/matplotlib/axes/_axes.py:6462: UserWarning: The 'normed' kwarg is deprecated, and has been replaced by the 'density' kwarg.\n",
      "  warnings.warn(\"The 'normed' kwarg is deprecated, and has been \"\n"
     ]
    },
    {
     "data": {
      "text/plain": [
       "<matplotlib.axes._subplots.AxesSubplot at 0x1270a0c10>"
      ]
     },
     "execution_count": 5,
     "metadata": {},
     "output_type": "execute_result"
    },
    {
     "data": {
      "image/png": "[encoded data removed]",
      "text/plain": [
       "<Figure size 432x288 with 1 Axes>"
      ]
     },
     "metadata": {},
     "output_type": "display_data"
    }
   ],
   "source": [
    "%matplotlib inline\n",
    "import matplotlib.pyplot as plt\n",
    "import seaborn as sb\n",
    "\n",
    "sb.distplot(df_dropped['n_21003_0_0'], kde=False)"
   ]
  },
  {
   "cell_type": "code",
   "execution_count": 8,
   "metadata": {},
   "outputs": [
    {
     "data": {
      "text/plain": [
       "70"
      ]
     },
     "execution_count": 8,
     "metadata": {},
     "output_type": "execute_result"
    }
   ],
   "source": [
    "np.max(df_dropped['n_21003_0_0'])"
   ]
  },
  {
   "cell_type": "markdown",
   "metadata": {},
   "source": [
    "# preprocessed data, split to young-old and old-old"
   ]
  },
  {
   "cell_type": "code",
   "execution_count": 43,
   "metadata": {},
   "outputs": [
    {
     "name": "stdout",
     "output_type": "stream",
     "text": [
      "Young-old group size: (7896, 286)\n",
      "Old-old group size: (3899, 286)\n"
     ]
    }
   ],
   "source": [
    "YO = df_dropped[df_dropped['n_21003_0_0']<60]\n",
    "OO = df_dropped[df_dropped['n_21003_0_0']>=60]\n",
    "print(\"Young-old group size: \"+str(YO.shape))\n",
    "print(\"Old-old group size: \"+str(OO.shape))"
   ]
  },
  {
   "cell_type": "code",
   "execution_count": 44,
   "metadata": {},
   "outputs": [
    {
     "data": {
      "text/plain": [
       "<matplotlib.axes._subplots.AxesSubplot at 0x11be55490>"
      ]
     },
     "execution_count": 44,
     "metadata": {},
     "output_type": "execute_result"
    },
    {
     "data": {
      "image/png": "[encoded data removed]",
      "text/plain": [
       "<Figure size 432x288 with 1 Axes>"
      ]
     },
     "metadata": {},
     "output_type": "display_data"
    }
   ],
   "source": [
    "sb.distplot(YO['n_21003_0_0'], kde=False)"
   ]
  },
  {
   "cell_type": "code",
   "execution_count": 45,
   "metadata": {
    "collapsed": true
   },
   "outputs": [],
   "source": [
    "y_young = YO['n_21003_0_0'].as_matrix().astype(np.float)\n",
    "X_young = YO.drop(['n_21003_0_0'], axis=1).as_matrix().astype(np.float)\n",
    "\n",
    "y_old = OO['n_21003_0_0'].as_matrix().astype(np.float)\n",
    "X_old = OO.drop(['n_21003_0_0'], axis=1).as_matrix().astype(np.float)\n",
    "\n",
    "\n",
    "from sklearn.preprocessing import StandardScaler\n",
    "scaler = StandardScaler()\n",
    "X_young = scaler.fit_transform(X_young)\n",
    "X_old = scaler.fit_transform(X_old)"
   ]
  },
  {
   "cell_type": "code",
   "execution_count": 46,
   "metadata": {
    "collapsed": true
   },
   "outputs": [],
   "source": [
    "feature_names = df_dropped.columns.values[:-1]"
   ]
  },
  {
   "cell_type": "code",
   "execution_count": 47,
   "metadata": {},
   "outputs": [
    {
     "name": "stdout",
     "output_type": "stream",
     "text": [
      "a,m=0.5,1000,MAE:3.47647894712,MSE:18.4863167522\n",
      "a,m=1,1000,MAE:3.47621309097,MSE:18.4830386068\n",
      "a,m=1.5,1000,MAE:3.47597141712,MSE:18.4800215392\n",
      "a,m=2,1000,MAE:3.4757550204,MSE:18.47723722\n",
      "a,m=2.5,1000,MAE:3.47556401943,MSE:18.4746613112\n",
      "a,m=3,1000,MAE:3.47539526613,MSE:18.4722727794\n",
      "a,m=10,1000,MAE:3.47408189292,MSE:18.4513226804\n"
     ]
    }
   ],
   "source": [
    "from sklearn.model_selection import cross_val_score\n",
    "from sklearn.model_selection import train_test_split\n",
    "from sklearn.model_selection import cross_val_predict\n",
    "from sklearn.linear_model import Ridge\n",
    "from sklearn.linear_model import Lasso\n",
    "from sklearn.metrics import mean_squared_error\n",
    "from sklearn.metrics import mean_absolute_error\n",
    "\n",
    "\n",
    "alpha_canditate = [0.5,1,1.5,2,2.5,3,10]\n",
    "max_iter_canditate = [1000]\n",
    "for a in alpha_canditate:\n",
    "    for m in max_iter_canditate:\n",
    "        clf = Ridge(alpha=a,max_iter=m, random_state=1234)\n",
    "        y_pred = cross_val_predict(clf, X_young, y_young)\n",
    "        print(\"a,m=\" + str(a) + ',' + str(m) +\",MAE:\" +\n",
    "              str(mean_absolute_error(y_young,y_pred)) + \n",
    "              \",MSE:\" + str(mean_squared_error(y_young,y_pred)))\n",
    "    "
   ]
  },
  {
   "cell_type": "code",
   "execution_count": 48,
   "metadata": {},
   "outputs": [
    {
     "name": "stdout",
     "output_type": "stream",
     "text": [
      "a,m=0.5,1000,MAE:2.06244488861,MSE:6.48118500323\n",
      "a,m=1,1000,MAE:2.06182773451,MSE:6.47372150029\n",
      "a,m=1.5,1000,MAE:2.06125421859,MSE:6.4670544524\n",
      "a,m=2,1000,MAE:2.06072716799,MSE:6.46104381124\n",
      "a,m=2.5,1000,MAE:2.06024230596,MSE:6.45557971551\n",
      "a,m=3,1000,MAE:2.05979912602,MSE:6.45057497708\n",
      "a,m=10,1000,MAE:2.05551141214,MSE:6.40510822101\n"
     ]
    }
   ],
   "source": [
    "for a in alpha_canditate:\n",
    "    for m in max_iter_canditate:\n",
    "        clf = Ridge(alpha=a,max_iter=m ,solver='auto',random_state=1234)\n",
    "        y_pred = cross_val_predict(clf, X_old, y_old)\n",
    "        print(\"a,m=\" + str(a) + ',' + str(m) +\",MAE:\" +\n",
    "              str(mean_absolute_error(y_old,y_pred)) + \n",
    "              \",MSE:\" + str(mean_squared_error(y_old,y_pred)))"
   ]
  },
  {
   "cell_type": "code",
   "execution_count": 74,
   "metadata": {},
   "outputs": [
    {
     "name": "stdout",
     "output_type": "stream",
     "text": [
      "2.09994327922\n",
      "(0.37945888396934829, 8.3691619113647761e-15)\n",
      "0.133812332052\n"
     ]
    },
    {
     "data": {
      "text/plain": [
       "<matplotlib.collections.PathCollection at 0x11b8aa3d0>"
      ]
     },
     "execution_count": 74,
     "metadata": {},
     "output_type": "execute_result"
    },
    {
     "data": {
      "image/png": "[encoded data removed]",
      "text/plain": [
       "<Figure size 432x288 with 1 Axes>"
      ]
     },
     "metadata": {},
     "output_type": "display_data"
    }
   ],
   "source": [
    "from scipy.stats.stats import pearsonr\n",
    "from sklearn.metrics import r2_score\n",
    "\n",
    "\n",
    "X_train, X_test, y_train, y_test = train_test_split(X_old, y_old, test_size=0.1)\n",
    "regr_ridge = Ridge(alpha=10,max_iter=100 ,solver='auto',random_state=1234)\n",
    "regr_ridge.fit(X_train, y_train)\n",
    "y_pred = regr_ridge.predict(X_test)\n",
    "print mean_absolute_error(y_test,y_pred)\n",
    "print pearsonr(y_test, y_pred)\n",
    "print r2_score(y_test,y_pred)\n",
    "\n",
    "plt.scatter(y_test, y_pred)"
   ]
  },
  {
   "cell_type": "code",
   "execution_count": 51,
   "metadata": {},
   "outputs": [
    {
     "name": "stdout",
     "output_type": "stream",
     "text": [
      "a,m=0.2,1000,MAE:3.82463155949,MSE:21.1076584268\n",
      "a,m=0.5,1000,MAE:4.16069074093,MSE:24.1205480312\n",
      "a,m=1,1000,MAE:4.50787841114,MSE:27.5248143055\n",
      "a,m=1.5,1000,MAE:4.73458816245,MSE:30.1766656937\n",
      "a,m=2,1000,MAE:4.73458816245,MSE:30.1766656937\n",
      "a,m=2.5,1000,MAE:4.73458816245,MSE:30.1766656937\n",
      "a,m=3,1000,MAE:4.73458816245,MSE:30.1766656937\n"
     ]
    }
   ],
   "source": [
    "alpha_canditate = [0.2,0.5,1,1.5,2,2.5,3]\n",
    "max_iter_canditate = [1000]\n",
    "for a in alpha_canditate:\n",
    "    for m in max_iter_canditate:\n",
    "        clf = Lasso(alpha=a, max_iter=m, random_state=1234)\n",
    "        y_pred = cross_val_predict(clf, X_young, y_young)\n",
    "        print(\"a,m=\" + str(a) + ',' + str(m) +\",MAE:\" +\n",
    "              str(mean_absolute_error(y_young,y_pred)) + \n",
    "              \",MSE:\" + str(mean_squared_error(y_young,y_pred)))"
   ]
  },
  {
   "cell_type": "code",
   "execution_count": 87,
   "metadata": {},
   "outputs": [
    {
     "name": "stdout",
     "output_type": "stream",
     "text": [
      "ntree = 200,1000,MAE:3.73139240506,MSE:20.1179493671,R square: 0.305032003778\n"
     ]
    }
   ],
   "source": [
    "from sklearn.ensemble import RandomForestRegressor\n",
    "X_train, X_test, y_train, y_test = train_test_split(X_young, y_young, test_size=0.1)\n",
    "rf = RandomForestRegressor(n_estimators = 100)\n",
    "rf.fit(X_train, y_train)\n",
    "y_pred = rf.predict(X_test)\n",
    "\n",
    "\n",
    "#y_pred = cross_val_predict(clf, X, y)\n",
    "print(\"ntree = 200\"+ ',' + str(m) +\",MAE:\" +\n",
    "      str(mean_absolute_error(y_test,y_pred)) + \n",
    "      \",MSE:\" + str(mean_squared_error(y_test,y_pred))+ \",R square: \"+str(r2_score(y_test,y_pred)))\n",
    "\n",
    "#young\n",
    "#ntree = 100,1000,MAE:3.85667088608,MSE:22.097993038\n",
    "#ntree = 200,1000,MAE:3.8224556962,MSE:20.8677029747"
   ]
  },
  {
   "cell_type": "code",
   "execution_count": 34,
   "metadata": {},
   "outputs": [
    {
     "data": {
      "image/png": "[encoded data removed]",
      "text/plain": [
       "<Figure size 432x288 with 1 Axes>"
      ]
     },
     "metadata": {},
     "output_type": "display_data"
    }
   ],
   "source": [
    "import numpy as np\n",
    "importances = rf.feature_importances_\n",
    "indices = np.argsort(importances)\n",
    "\n",
    "indices = indices\n",
    "plt.barh(range(20), importances[indices][265:285])\n",
    "plt.yticks(range(20), feature_names[indices][265:285])\n",
    "\n",
    "#plt.barh(range(20), importances[indices][1:21])\n",
    "#plt.yticks(range(20), feature_names[indices][1:21])\n",
    "\n",
    "plt.show()"
   ]
  },
  {
   "cell_type": "code",
   "execution_count": 35,
   "metadata": {},
   "outputs": [
    {
     "name": "stdout",
     "output_type": "stream",
     "text": [
      "(285,)\n"
     ]
    },
    {
     "data": {
      "text/plain": [
       "array(['n_25522_2_0', 'n_25021_2_0', 'n_25813_2_0', 'n_25889_2_0',\n",
       "       'n_25492_2_0', 'n_25812_2_0', 'n_25885_2_0', 'n_25897_2_0',\n",
       "       'n_25792_2_0', 'n_25019_2_0', 'V44', 'n_25910_2_0', 'n_25902_2_0',\n",
       "       'n_25020_2_0', 'n_25890_2_0', 'n_25909_2_0', 'V20', 'n_25911_2_0',\n",
       "       'n_25024_2_0', 'n_25781_2_0'], dtype=object)"
      ]
     },
     "execution_count": 35,
     "metadata": {},
     "output_type": "execute_result"
    }
   ],
   "source": [
    "print(feature_names.shape)\n",
    "feature_names[indices][265:285]\n",
    "#np.argsort?"
   ]
  },
  {
   "cell_type": "code",
   "execution_count": 245,
   "metadata": {
    "collapsed": true
   },
   "outputs": [],
   "source": [
    "imp_matrix=[]\n",
    "r_test_mat = []\n",
    "p_test_mat = []\n",
    "r_train_mat = []\n",
    "p_train_mat = []\n",
    "model_mat = []\n",
    "MAE_mat = []\n",
    "MSE_mat = []\n",
    "from scipy.stats.stats import pearsonr\n",
    "for i in range(100):\n",
    "    X_train, X_test, y_train, y_test = train_test_split(X, y, test_size=0.1)\n",
    "    rf = RandomForestRegressor(n_estimators = 100)\n",
    "    model_mat.append(rf)\n",
    "    \n",
    "    rf.fit(X_train, y_train)\n",
    "    importances = rf.feature_importances_\n",
    "    indices = np.argsort(importances)\n",
    "    imp_matrix.append(feature_names[indices][265:285])\n",
    "    \n",
    "    y_pred = rf.predict(X_test)\n",
    "    r_test,p_test = pearsonr(y_test, y_pred)\n",
    "    r_test_mat.append(r_test)\n",
    "    p_test_mat.append(p_test)\n",
    "    \n",
    "    MAE = mean_absolute_error(y_test,y_pred)\n",
    "    MSE = mean_squared_error(y_test,y_pred)\n",
    "    MAE_mat.append(MAE)\n",
    "    MSE_mat.append(MSE)\n",
    "                       \n",
    "    y_pred_train = rf.predict(X_train)\n",
    "    r_train,p_train = pearsonr(y_train, y_pred_train)\n",
    "    r_train_mat.append(r_train)\n",
    "    p_train_mat.append(p_train)"
   ]
  },
  {
   "cell_type": "code",
   "execution_count": 246,
   "metadata": {},
   "outputs": [
    {
     "name": "stdout",
     "output_type": "stream",
     "text": [
      "('averaged_train_correlation r-value', 0.97725495123415573, 'averaged_train_correlation r-value', 0.0)\n",
      "('averaged_test_correlation', 0.68103819193389314, 'averaged_train_correlation p-value', 3.1921829172571018e-141)\n",
      "('averaged_test_MAE', 4.4704924576271194, 'averaged_test_MSE', 30.422153475423723)\n"
     ]
    }
   ],
   "source": [
    "print(\"averaged_train_correlation r-value\", np.mean(r_train_mat), \n",
    "     \"averaged_train_correlation r-value\", np.mean(p_train_mat))\n",
    "print(\"averaged_test_correlation\", np.mean(r_test_mat),\n",
    "     \"averaged_train_correlation p-value\", np.mean(p_test_mat))\n",
    "print(\"averaged_test_MAE\", np.mean(MAE_mat),\n",
    "     \"averaged_test_MSE\", np.mean(MSE_mat))"
   ]
  },
  {
   "cell_type": "code",
   "execution_count": 254,
   "metadata": {},
   "outputs": [
    {
     "name": "stdout",
     "output_type": "stream",
     "text": [
      "('Test MAE standard deviation', 0.10037788211784775)\n",
      "('Test correlation standard deviation', 0.015398703928862684)\n"
     ]
    }
   ],
   "source": [
    "print(\"Test MAE standard deviation\", np.std(MAE_mat))\n",
    "print(\"Test correlation standard deviation\", np.std(r_test_mat))"
   ]
  },
  {
   "cell_type": "code",
   "execution_count": 261,
   "metadata": {},
   "outputs": [
    {
     "name": "stdout",
     "output_type": "stream",
     "text": [
      "ntree = 50,100,MAE:4.39072881356,MSE:30.2171105085,R square:0.46248077199\n"
     ]
    }
   ],
   "source": [
    "from sklearn.metrics import r2_score\n",
    "\n",
    "rf=model_mat[-1]\n",
    "y_pred = rf.predict(X_test)\n",
    "print(\"ntree = 50\"+ ',' + str(m) +\",MAE:\" +\n",
    "      str(mean_absolute_error(y_test,y_pred)) + \n",
    "      \",MSE:\" + str(mean_squared_error(y_test,y_pred))\n",
    "     +\",R square:\"+str(r2_score(y_test,y_pred)))"
   ]
  },
  {
   "cell_type": "markdown",
   "metadata": {},
   "source": [
    "### show correlation coefficient to age"
   ]
  },
  {
   "cell_type": "code",
   "execution_count": 347,
   "metadata": {},
   "outputs": [
    {
     "data": {
      "image/png": "[encoded data removed]",
      "text/plain": [
       "<Figure size 648x576 with 1 Axes>"
      ]
     },
     "metadata": {},
     "output_type": "display_data"
    }
   ],
   "source": [
    "df_imp = df_dropped[['n_21003_0_0']+list(np.unique(imp_matrix))]\n",
    "#df_imp.columns.values\n",
    "corrs = df_imp.corr().values\n",
    "#ranks = (df_imp.columns[1:][-corrs[1:,1].argsort()]).tolist()\n",
    "#corrs.shape #(32,32)\n",
    "\n",
    "plt.figure(figsize=(9,8))\n",
    "plt.barh(np.arange(len(corrs[2:,1])), corrs[2:,1],0.8)\n",
    "plt.yticks(np.arange(len(corrs[2:,1])), df_imp.columns.values[1:])\n",
    "#plt.tick_params(axis='y',length=10, width=2, grid_alpha=0.5,labelsize='20',zorder=5)\n",
    "\n",
    "plt.show()"
   ]
  },
  {
   "cell_type": "code",
   "execution_count": 321,
   "metadata": {
    "collapsed": true
   },
   "outputs": [],
   "source": [
    "plt.barh?"
   ]
  },
  {
   "cell_type": "code",
   "execution_count": 317,
   "metadata": {},
   "outputs": [
    {
     "name": "stdout",
     "output_type": "stream",
     "text": [
      "a,m=0.5,100,MAE:4.91899712586,MSE:35.599348389\n",
      "a,m=1,100,MAE:5.25730388694,MSE:39.7771344295\n",
      "a,m=1.5,100,MAE:5.5991122421,MSE:44.4275287754\n",
      "a,m=2,100,MAE:5.95482667004,MSE:49.7473900346\n",
      "a,m=2.5,100,MAE:6.23294205192,MSE:54.2437093291\n",
      "a,m=3,100,MAE:6.33253410922,MSE:55.9776938072\n",
      "a,m=10,100,MAE:6.33253410922,MSE:55.9776938072\n"
     ]
    }
   ],
   "source": [
    "y = df_imp['n_21003_0_0']\n",
    "X = df_imp.drop(['n_21003_0_0'], axis=1)\n",
    "\n",
    "X = X.as_matrix().astype(np.float)\n",
    "y = y.as_matrix().astype(np.float)\n",
    "\n",
    "scaler = StandardScaler()\n",
    "X = scaler.fit_transform(X)\n",
    "\n",
    "alpha_canditate = [0.5,1,1.5,2,2.5,3,10]\n",
    "max_iter_canditate = [100]\n",
    "for a in alpha_canditate:\n",
    "    for m in max_iter_canditate:\n",
    "        clf = Lasso(alpha=a,max_iter=m,random_state=1234)\n",
    "        y_pred = cross_val_predict(clf, X, y)\n",
    "        print(\"a,m=\" + str(a) + ',' + str(m) +\",MAE:\" +\n",
    "              str(mean_absolute_error(y,y_pred)) + \n",
    "              \",MSE:\" + str(mean_squared_error(y,y_pred)))"
   ]
  },
  {
   "cell_type": "code",
   "execution_count": 250,
   "metadata": {
    "collapsed": true
   },
   "outputs": [],
   "source": [
    "result_dict = {}\n",
    "for iteration in imp_matrix:\n",
    "    for i, ele in enumerate(iteration):\n",
    "        result_dict[ele] = result_dict.get(ele,0)+i\n",
    "        \n",
    "        "
   ]
  },
  {
   "cell_type": "code",
   "execution_count": 251,
   "metadata": {},
   "outputs": [
    {
     "name": "stdout",
     "output_type": "stream",
     "text": [
      "('n_25781_2_0', 1900)\n"
     ]
    }
   ],
   "source": [
    "import operator \n",
    "sorted_result_dic = sorted(result_dict.items(), key=operator.itemgetter(1),\n",
    "                           reverse=True)\n",
    "print sorted_result_dic[0]"
   ]
  },
  {
   "cell_type": "code",
   "execution_count": 252,
   "metadata": {},
   "outputs": [
    {
     "data": {
      "image/png": "[encoded data removed]",
      "text/plain": [
       "<Figure size 432x288 with 1 Axes>"
      ]
     },
     "metadata": {},
     "output_type": "display_data"
    }
   ],
   "source": [
    "%matplotlib inline\n",
    "\n",
    "x_val = [x[0] for x in sorted_result_dic]\n",
    "y_val = [x[1] for x in sorted_result_dic]\n",
    "\n",
    "#print(x_val)\n",
    "#print(y_val)\n",
    "plt.barh(range(len(sorted_result_dic)), y_val)\n",
    "plt.yticks(range(len(sorted_result_dic)), x_val)\n",
    "\n",
    "plt.show()"
   ]
  },
  {
   "cell_type": "code",
   "execution_count": 253,
   "metadata": {},
   "outputs": [
    {
     "data": {
      "text/plain": [
       "[('n_25781_2_0', 1900),\n",
       " ('n_25890_2_0', 1789),\n",
       " ('n_25024_2_0', 1701),\n",
       " ('n_25871_2_0', 1597),\n",
       " ('V37', 1496),\n",
       " ('n_25869_2_0', 1345),\n",
       " ('n_25892_2_0', 1306),\n",
       " ('n_25837_2_0', 1072),\n",
       " ('n_25885_2_0', 1056),\n",
       " ('n_25897_2_0', 902),\n",
       " ('V14', 866),\n",
       " ('V7', 807),\n",
       " ('n_25902_2_0', 669),\n",
       " ('n_25868_2_0', 621),\n",
       " ('n_25884_2_0', 525),\n",
       " ('V18', 383),\n",
       " ('V2', 241),\n",
       " ('n_25870_2_0', 208),\n",
       " ('n_25900_2_0', 130),\n",
       " ('V50', 116),\n",
       " ('V20', 54),\n",
       " ('V34', 54),\n",
       " ('V29', 53),\n",
       " ('n_25862_2_0', 44),\n",
       " ('V51', 15),\n",
       " ('V1', 13),\n",
       " ('n_25879_2_0', 11),\n",
       " ('n_25766_2_0', 10),\n",
       " ('n_25880_2_0', 8),\n",
       " ('n_25863_2_0', 7),\n",
       " ('V17', 1)]"
      ]
     },
     "execution_count": 253,
     "metadata": {},
     "output_type": "execute_result"
    }
   ],
   "source": [
    "sorted_result_dic"
   ]
  },
  {
   "cell_type": "code",
   "execution_count": 31,
   "metadata": {},
   "outputs": [
    {
     "data": {
      "text/plain": [
       "(1180, 286)"
      ]
     },
     "execution_count": 31,
     "metadata": {},
     "output_type": "execute_result"
    }
   ],
   "source": [
    "feature_names.shape\n",
    "X_test.shape"
   ]
  },
  {
   "cell_type": "code",
   "execution_count": 32,
   "metadata": {},
   "outputs": [
    {
     "name": "stdout",
     "output_type": "stream",
     "text": [
      "n_25002_2_0 0.00696263147246\n",
      "n_25011_2_0 0.00195161735296\n",
      "n_25012_2_0 0.00209328255796\n",
      "n_25013_2_0 0.00166802142505\n",
      "n_25014_2_0 0.00140309805152\n",
      "n_25015_2_0 0.00290442470948\n",
      "n_25016_2_0 0.00216798005728\n",
      "n_25017_2_0 0.00178806725357\n",
      "n_25018_2_0 0.00139825674897\n",
      "n_25019_2_0 0.00160348194919\n",
      "n_25020_2_0 0.00217820514886\n",
      "n_25021_2_0 0.00378339101082\n",
      "n_25022_2_0 0.00240015637722\n",
      "n_25023_2_0 0.00312056156895\n",
      "n_25024_2_0 0.0267620442565\n",
      "n_25026_2_0 0.00247265686704\n",
      "n_25027_2_0 0.00292672762177\n",
      "n_25028_2_0 0.00385395797069\n",
      "n_25029_2_0 0.00313747680508\n",
      "n_25030_2_0 0.00389905542978\n",
      "n_25031_2_0 0.00299259581609\n",
      "n_25032_2_0 0.00180508319333\n",
      "n_25033_2_0 0.00157552575727\n",
      "n_25034_2_0 0.00190250775766\n",
      "n_25035_2_0 0.00202937348293\n",
      "n_25036_2_0 0.00197676832669\n",
      "n_25037_2_0 0.00205641577972\n",
      "n_25038_2_0 0.00210079224179\n",
      "n_25039_2_0 0.00230870072658\n",
      "n_25042_2_0 0.00144746066149\n",
      "n_25046_2_0 0.00152617325866\n",
      "n_25050_2_0 0.00290285076201\n",
      "n_25054_2_0 0.00209984814506\n",
      "n_25488_2_0 0.00179744277544\n",
      "n_25489_2_0 0.00205740274609\n",
      "n_25490_2_0 0.00184452919342\n",
      "n_25491_2_0 0.00183723323093\n",
      "n_25492_2_0 0.00166275341963\n",
      "n_25493_2_0 0.00177321489497\n",
      "n_25494_2_0 0.00217957958857\n",
      "n_25495_2_0 0.00241735346221\n",
      "n_25496_2_0 0.00146785264006\n",
      "n_25497_2_0 0.00209025513434\n",
      "n_25498_2_0 0.00256968151231\n",
      "n_25499_2_0 0.00184480653776\n",
      "n_25500_2_0 0.00161549472214\n",
      "n_25501_2_0 0.00145257817094\n",
      "n_25502_2_0 0.00137706347987\n",
      "n_25503_2_0 0.00141655006134\n",
      "n_25504_2_0 0.00213289410186\n",
      "n_25505_2_0 0.00245443102513\n",
      "n_25506_2_0 0.0028534296075\n",
      "n_25507_2_0 0.00155402843658\n",
      "n_25508_2_0 0.0019159428589\n",
      "n_25509_2_0 0.00145218352089\n",
      "n_25510_2_0 0.00128776060944\n",
      "n_25511_2_0 0.00206342459552\n",
      "n_25512_2_0 0.00326720838763\n",
      "n_25513_2_0 0.00245310411082\n",
      "n_25514_2_0 0.00153638481663\n",
      "n_25515_2_0 0.00116486931011\n",
      "n_25516_2_0 0.00110030038828\n",
      "n_25517_2_0 0.00173500042642\n",
      "n_25518_2_0 0.00304196800662\n",
      "n_25519_2_0 0.000669368420317\n",
      "n_25520_2_0 0.000978025181281\n",
      "n_25521_2_0 0.0011960486613\n",
      "n_25522_2_0 0.00107880568691\n",
      "n_25523_2_0 0.00136929690646\n",
      "n_25524_2_0 0.00104064065416\n",
      "n_25525_2_0 0.00134966170488\n",
      "n_25526_2_0 0.000690354778214\n",
      "n_25527_2_0 0.00054552484956\n",
      "n_25528_2_0 0.000624259539217\n",
      "n_25529_2_0 0.000664067022022\n",
      "n_25530_2_0 0.000541744065321\n",
      "n_25531_2_0 0.00133997215858\n",
      "n_25532_2_0 0.00148009249376\n",
      "n_25533_2_0 0.00145572748187\n",
      "n_25534_2_0 0.00100401518818\n",
      "n_25535_2_0 0.00115640304446\n",
      "n_25536_2_0 0.000564870513444\n",
      "n_25537_2_0 0.000759390412075\n",
      "n_25538_2_0 0.000866981364817\n",
      "n_25539_2_0 0.000943152603591\n",
      "n_25540_2_0 0.00095076929684\n",
      "n_25541_2_0 0.00101961234502\n",
      "n_25762_2_0 0.00168005949308\n",
      "n_25764_2_0 0.00106461942708\n",
      "n_25766_2_0 0.00429981029822\n",
      "n_25768_2_0 0.00177703941549\n",
      "n_25781_2_0 0.241770074667\n",
      "n_25782_2_0 0.00250799923854\n",
      "n_25783_2_0 0.0020053112337\n",
      "n_25784_2_0 0.00128163136667\n",
      "n_25785_2_0 0.00136490458739\n",
      "n_25786_2_0 0.00157098607366\n",
      "n_25787_2_0 0.00176433397991\n",
      "n_25788_2_0 0.00158540042071\n",
      "n_25789_2_0 0.00180212965078\n",
      "n_25790_2_0 0.00277175319011\n",
      "n_25791_2_0 0.00244415454133\n",
      "n_25792_2_0 0.00233456395528\n",
      "n_25793_2_0 0.00256193293532\n",
      "n_25794_2_0 0.00137564195543\n",
      "n_25795_2_0 0.0019219055449\n",
      "n_25796_2_0 0.00163689371681\n",
      "n_25797_2_0 0.00154227814828\n",
      "n_25798_2_0 0.00180654986837\n",
      "n_25799_2_0 0.00184523458716\n",
      "n_25800_2_0 0.00186865825483\n",
      "n_25801_2_0 0.00238577371369\n",
      "n_25802_2_0 0.00159786696845\n",
      "n_25803_2_0 0.00181831473001\n",
      "n_25804_2_0 0.00263159841854\n",
      "n_25805_2_0 0.00232159267681\n",
      "n_25806_2_0 0.00213061621631\n",
      "n_25807_2_0 0.00191170998237\n",
      "n_25808_2_0 0.00190558466328\n",
      "n_25809_2_0 0.00174087777626\n",
      "n_25810_2_0 0.00193509769003\n",
      "n_25811_2_0 0.0016627025735\n",
      "n_25812_2_0 0.00235509634918\n",
      "n_25813_2_0 0.00265211284633\n",
      "n_25814_2_0 0.00241885637071\n",
      "n_25815_2_0 0.0031093001101\n",
      "n_25816_2_0 0.00223548970454\n",
      "n_25817_2_0 0.00168640463202\n",
      "n_25818_2_0 0.00194055116983\n",
      "n_25819_2_0 0.00182508637901\n",
      "n_25820_2_0 0.00200597404082\n",
      "n_25821_2_0 0.00182002877353\n",
      "n_25822_2_0 0.0018314526328\n",
      "n_25823_2_0 0.00195888390003\n",
      "n_25824_2_0 0.00168853862269\n",
      "n_25825_2_0 0.00220189795356\n",
      "n_25826_2_0 0.00177424401171\n",
      "n_25827_2_0 0.00144328486224\n",
      "n_25828_2_0 0.00130196437342\n",
      "n_25829_2_0 0.00159115103075\n",
      "n_25830_2_0 0.00246584483102\n",
      "n_25831_2_0 0.00227999106014\n",
      "n_25832_2_0 0.00173928302646\n",
      "n_25833_2_0 0.0024977121849\n",
      "n_25834_2_0 0.00127945665354\n",
      "n_25835_2_0 0.00228166694359\n",
      "n_25836_2_0 0.00246154652182\n",
      "n_25837_2_0 0.00666737466437\n",
      "n_25838_2_0 0.00153045682749\n",
      "n_25839_2_0 0.00227243015815\n",
      "n_25840_2_0 0.00182201620941\n",
      "n_25841_2_0 0.00197274005096\n",
      "n_25842_2_0 0.00178057692717\n",
      "n_25843_2_0 0.00202165031143\n",
      "n_25844_2_0 0.00184673105584\n",
      "n_25845_2_0 0.00162973876089\n",
      "n_25846_2_0 0.00218882127272\n",
      "n_25847_2_0 0.0027495004872\n",
      "n_25848_2_0 0.00145395692761\n",
      "n_25849_2_0 0.00174987601851\n",
      "n_25850_2_0 0.00156329816813\n",
      "n_25851_2_0 0.00180885194477\n",
      "n_25852_2_0 0.00181881438331\n",
      "n_25853_2_0 0.00190954453551\n",
      "n_25854_2_0 0.00177562335974\n",
      "n_25855_2_0 0.00167135264594\n",
      "n_25856_2_0 0.00184326840373\n",
      "n_25857_2_0 0.00206114203407\n",
      "n_25858_2_0 0.00185781831003\n",
      "n_25859_2_0 0.00166927833187\n",
      "n_25860_2_0 0.00214461543732\n",
      "n_25861_2_0 0.00221884547967\n",
      "n_25862_2_0 0.00502089275664\n",
      "n_25863_2_0 0.00491937437256\n",
      "n_25864_2_0 0.00329660849892\n",
      "n_25865_2_0 0.00346452250743\n",
      "n_25866_2_0 0.00171479672494\n",
      "n_25867_2_0 0.00149492694022\n",
      "n_25868_2_0 0.00627265119999\n",
      "n_25869_2_0 0.00724647522759\n",
      "n_25870_2_0 0.00429815303632\n",
      "n_25871_2_0 0.0181933908998\n",
      "n_25872_2_0 0.00163767474172\n",
      "n_25873_2_0 0.00154338641981\n",
      "n_25874_2_0 0.0019027512496\n",
      "n_25875_2_0 0.0017089664185\n",
      "n_25876_2_0 0.002242266463\n",
      "n_25877_2_0 0.00165108732459\n",
      "n_25878_2_0 0.00185367827126\n",
      "n_25879_2_0 0.00508588534856\n",
      "n_25880_2_0 0.00260117817973\n",
      "n_25881_2_0 0.00175962355728\n",
      "n_25882_2_0 0.00351845181394\n",
      "n_25883_2_0 0.00217679810727\n",
      "n_25884_2_0 0.0064453318937\n",
      "n_25885_2_0 0.00801707680941\n",
      "n_25886_2_0 0.0019136959165\n",
      "n_25887_2_0 0.00200183454965\n",
      "n_25888_2_0 0.00192960533648\n",
      "n_25889_2_0 0.00186513003301\n",
      "n_25890_2_0 0.0392444286879\n",
      "n_25891_2_0 0.00279935217735\n",
      "n_25892_2_0 0.0124063311069\n",
      "n_25893_2_0 0.00162880137819\n",
      "n_25894_2_0 0.00164029415988\n",
      "n_25895_2_0 0.00150956015033\n",
      "n_25896_2_0 0.00154697958639\n",
      "n_25897_2_0 0.00725753459447\n",
      "n_25898_2_0 0.00168568166598\n",
      "n_25899_2_0 0.00322479111485\n",
      "n_25900_2_0 0.00478433028018\n",
      "n_25901_2_0 0.00231611717821\n",
      "n_25902_2_0 0.00593672873574\n",
      "n_25903_2_0 0.00146793933369\n",
      "n_25904_2_0 0.0020126796422\n",
      "n_25905_2_0 0.00407190699663\n",
      "n_25906_2_0 0.00194302456113\n",
      "n_25907_2_0 0.00159512226336\n",
      "n_25908_2_0 0.00243434630175\n",
      "n_25909_2_0 0.00340247981163\n",
      "n_25910_2_0 0.00212345190655\n",
      "n_25911_2_0 0.00423011720223\n",
      "n_25912_2_0 0.00170331724309\n",
      "n_25913_2_0 0.00134295189078\n",
      "n_25914_2_0 0.00200279616685\n",
      "n_25915_2_0 0.00136656896985\n",
      "n_25916_2_0 0.00134192906362\n",
      "n_25917_2_0 0.00182296973684\n",
      "n_25918_2_0 0.00166953687794\n",
      "n_25919_2_0 0.00259379028587\n",
      "n_25920_2_0 0.00202321413797\n",
      "n_21003_0_0 0.00247225446163\n",
      "V1 0.00504115449316\n",
      "V2 0.00531487630082\n",
      "V3 0.0019454506939\n",
      "V4 0.00185500994172\n",
      "V5 0.00209908784954\n",
      "V6 0.00311208478456\n",
      "V7 0.00851460070946\n",
      "V8 0.00151328833956\n",
      "V9 0.0016611527438\n",
      "V10 0.00164575179296\n",
      "V11 0.00163534861058\n",
      "V12 0.00321416014521\n",
      "V13 0.00200279699793\n",
      "V14 0.00939290018054\n",
      "V15 0.00200285712873\n",
      "V16 0.00238382802843\n",
      "V17 0.00265126884135\n",
      "V18 0.00581602388624\n",
      "V19 0.00165123241573\n",
      "V20 0.0041479740714\n",
      "V21 0.00233324858058\n",
      "V22 0.00152198685341\n",
      "V23 0.00128217842181\n",
      "V24 0.0031640251845\n",
      "V25 0.0015927082381\n",
      "V26 0.00298329060786\n",
      "V27 0.00220910013373\n",
      "V28 0.00200709520238\n",
      "V29 0.00471288654226\n",
      "V30 0.00172527780798\n",
      "V31 0.00194458595183\n",
      "V32 0.00259378074692\n",
      "V33 0.00156760449824\n",
      "V34 0.00410887174297\n",
      "V35 0.00165158234473\n",
      "V36 0.0033114085052\n",
      "V37 0.0122747508637\n",
      "V38 0.00158695470732\n",
      "V39 0.00495099227708\n",
      "V40 0.00268153659405\n",
      "V41 0.00226395453343\n",
      "V42 0.00255166502514\n",
      "V43 0.00352700468688\n",
      "V44 0.00282301462679\n",
      "V45 0.00200373288227\n",
      "V46 0.00294049170143\n",
      "V47 0.00186702862894\n",
      "V48 0.00162505683436\n",
      "V49 0.00211254330051\n",
      "V50 0.00609085562995\n",
      "V51 0.00400069936241\n",
      "V52 0.0033713386521\n",
      "V53 0.00341769481102\n",
      "V54 0.00181822295703\n",
      "0.000564870513444\n",
      "0.00696263147246\n",
      "n_25002_2_0\n"
     ]
    }
   ],
   "source": [
    "import operator\n",
    "rfoutput = {}\n",
    "sorted_rfoutput = {}\n",
    "#indices = np.argsort(importances)\n",
    "#feature_names = feature_names[indices]\n",
    "#importances = importances[indices]\n",
    "\n",
    "for i in range(len(importances)):\n",
    "    rfoutput[feature_names[i]] = importances[i]\n",
    "    print feature_names[i], importances[i]\n",
    "\n",
    "#for key, value in sorted(rfoutput.iteritems(), key=lambda (k,v):(v,k),reverse = True):\n",
    "    #print (key, value)\n",
    "#    sorted_rfoutput[key] = value\n",
    "\n",
    "\n",
    "print rfoutput[\"n_25536_2_0\"]\n",
    "print importances[0]\n",
    "print feature_names[0]\n",
    "\n",
    "\n",
    "#type(output)\n",
    "#with open(\"rf_result.txt\",\"w\") as output:\n",
    "#    output.write(str(output))\n",
    "    \n",
    "#plt.barh(range(20), rfoutput.values[:20])\n",
    "#plt.yticks(range(20), rfoutput.keys[:20])\n",
    "#plt.show()"
   ]
  },
  {
   "cell_type": "code",
   "execution_count": 33,
   "metadata": {},
   "outputs": [
    {
     "data": {
      "text/plain": [
       "[0.0013649045873918347,\n",
       " 0.0031120847845582471,\n",
       " 0.0017392830264595987,\n",
       " 0.0020574027460881629,\n",
       " 0.0017089664184969781,\n",
       " 0.0018445291934225186,\n",
       " 0.0029044247094771312,\n",
       " 0.0022354897045368887,\n",
       " 0.0014474606614894858,\n",
       " 0.0018314526327956131,\n",
       " 0.00185781831002817,\n",
       " 0.0019095445355124018,\n",
       " 0.0014165500613388109,\n",
       " 0.0014525781709420163,\n",
       " 0.001802129650784059,\n",
       " 0.0031093001100984596,\n",
       " 0.0018432684037254612,\n",
       " 0.00075939041207522462,\n",
       " 0.002023214137965218,\n",
       " 0.0066673746643746215]"
      ]
     },
     "execution_count": 33,
     "metadata": {},
     "output_type": "execute_result"
    }
   ],
   "source": [
    "rfoutput.values()[:20]"
   ]
  },
  {
   "cell_type": "code",
   "execution_count": 75,
   "metadata": {},
   "outputs": [
    {
     "data": {
      "text/plain": [
       "[<matplotlib.lines.Line2D at 0x11b79c2d0>]"
      ]
     },
     "execution_count": 75,
     "metadata": {},
     "output_type": "execute_result"
    },
    {
     "data": {
      "image/png": "[encoded data removed]",
      "text/plain": [
       "<Figure size 432x288 with 1 Axes>"
      ]
     },
     "metadata": {},
     "output_type": "display_data"
    }
   ],
   "source": [
    "#plt.scatter(y_test, y_pred, color = 'blue')\n",
    "y_pred_train = rf.predict(X_train)\n",
    "plt.plot(y_test, color='black')\n",
    "plt.plot(y_pred, color = 'red')\n",
    "#plt.scatter(y_train, y_pred_train, color = 'gray')\n",
    "#plt.xlim(30,100)\n",
    "#plt.ylim(30,100)"
   ]
  },
  {
   "cell_type": "code",
   "execution_count": 76,
   "metadata": {},
   "outputs": [
    {
     "data": {
      "text/plain": [
       "<matplotlib.collections.PathCollection at 0x11b791dd0>"
      ]
     },
     "execution_count": 76,
     "metadata": {},
     "output_type": "execute_result"
    },
    {
     "data": {
      "image/png": "[encoded data removed]",
      "text/plain": [
       "<Figure size 432x288 with 1 Axes>"
      ]
     },
     "metadata": {},
     "output_type": "display_data"
    }
   ],
   "source": [
    "#plt.plot(y_test, color='black')\n",
    "#plt.plot(y_pred, color = 'red')\n",
    "plt.scatter(y_train, y_pred_train)"
   ]
  },
  {
   "cell_type": "code",
   "execution_count": 77,
   "metadata": {},
   "outputs": [
    {
     "data": {
      "text/plain": [
       "[<matplotlib.lines.Line2D at 0x11d2dcd10>]"
      ]
     },
     "execution_count": 77,
     "metadata": {},
     "output_type": "execute_result"
    },
    {
     "data": {
      "image/png": "[encoded data removed]",
      "text/plain": [
       "<Figure size 432x288 with 1 Axes>"
      ]
     },
     "metadata": {},
     "output_type": "display_data"
    }
   ],
   "source": [
    "y_pred = rf.predict(X_test)\n",
    "plt.plot(y_test, color='black')\n",
    "plt.plot(y_pred, color = 'red')"
   ]
  },
  {
   "cell_type": "code",
   "execution_count": 78,
   "metadata": {},
   "outputs": [
    {
     "name": "stdout",
     "output_type": "stream",
     "text": [
      "(0.93827601666203164, 5.5138967231956902e-181)\n"
     ]
    }
   ],
   "source": [
    "#np.corrcoef(y_test, y_pred)\n",
    "#np.corrcoef(y_train, y_pred_train)\n",
    "from scipy.stats.stats import pearsonr\n",
    "r,p = pearsonr(y_test, y_pred)\n",
    "#pearsonr(y_train, y_pred_train)\n",
    "print(r,p)"
   ]
  },
  {
   "cell_type": "code",
   "execution_count": 66,
   "metadata": {},
   "outputs": [
    {
     "data": {
      "text/plain": [
       "<matplotlib.collections.PathCollection at 0x11c134610>"
      ]
     },
     "execution_count": 66,
     "metadata": {},
     "output_type": "execute_result"
    },
    {
     "data": {
      "image/png": "[encoded data removed]",
      "text/plain": [
       "<Figure size 432x288 with 1 Axes>"
      ]
     },
     "metadata": {},
     "output_type": "display_data"
    }
   ],
   "source": [
    "#plt.plot(y_train, color='black')\n",
    "#plt.plot(y_pred_train, color = 'red')\n",
    "plt.scatter(y_test, y_pred)"
   ]
  },
  {
   "cell_type": "code",
   "execution_count": 205,
   "metadata": {},
   "outputs": [
    {
     "name": "stdout",
     "output_type": "stream",
     "text": [
      "C,gamma=0.1,0.2,MAE:4.17655189907,MSE:27.2118543611\n",
      "C,gamma=0.1,0.5,MAE:4.17655189907,MSE:27.2118543611\n",
      "C,gamma=0.1,1,MAE:4.17655189907,MSE:27.2118543611\n",
      "C,gamma=0.1,1.5,MAE:4.17655189907,MSE:27.2118543611\n",
      "C,gamma=1,0.2,MAE:4.17987763731,MSE:27.2952151507\n",
      "C,gamma=1,0.5,MAE:4.17987763731,MSE:27.2952151507\n",
      "C,gamma=1,1,MAE:4.17987763731,MSE:27.2952151507\n",
      "C,gamma=1,1.5,MAE:4.17987763731,MSE:27.2952151507\n",
      "C,gamma=10,0.2,MAE:4.18186097949,MSE:27.3220783963\n"
     ]
    },
    {
     "ename": "KeyboardInterrupt",
     "evalue": "",
     "output_type": "error",
     "traceback": [
      "\u001b[0;31m---------------------------------------------------------------------------\u001b[0m",
      "\u001b[0;31mKeyboardInterrupt\u001b[0m                         Traceback (most recent call last)",
      "\u001b[0;32m<ipython-input-205-c0f08d242d50>\u001b[0m in \u001b[0;36m<module>\u001b[0;34m()\u001b[0m\n\u001b[1;32m     11\u001b[0m     \u001b[0;32mfor\u001b[0m \u001b[0mgamma\u001b[0m \u001b[0;32min\u001b[0m \u001b[0mgamma_canditate\u001b[0m\u001b[0;34m:\u001b[0m\u001b[0;34m\u001b[0m\u001b[0m\n\u001b[1;32m     12\u001b[0m         \u001b[0mclf\u001b[0m \u001b[0;34m=\u001b[0m \u001b[0mSVR\u001b[0m\u001b[0;34m(\u001b[0m\u001b[0mC\u001b[0m\u001b[0;34m=\u001b[0m\u001b[0mC\u001b[0m\u001b[0;34m,\u001b[0m \u001b[0mgamma\u001b[0m\u001b[0;34m=\u001b[0m\u001b[0mgamma\u001b[0m\u001b[0;34m,\u001b[0m \u001b[0mkernel\u001b[0m\u001b[0;34m=\u001b[0m\u001b[0;34m'linear'\u001b[0m\u001b[0;34m)\u001b[0m\u001b[0;34m\u001b[0m\u001b[0m\n\u001b[0;32m---> 13\u001b[0;31m         \u001b[0my_pred\u001b[0m \u001b[0;34m=\u001b[0m \u001b[0mcross_val_predict\u001b[0m\u001b[0;34m(\u001b[0m\u001b[0mclf\u001b[0m\u001b[0;34m,\u001b[0m \u001b[0mX\u001b[0m\u001b[0;34m,\u001b[0m \u001b[0my\u001b[0m\u001b[0;34m)\u001b[0m\u001b[0;34m\u001b[0m\u001b[0m\n\u001b[0m\u001b[1;32m     14\u001b[0m         print(\"C,gamma=\" + str(C) + ',' + str(gamma) +\",MAE:\" +\n\u001b[1;32m     15\u001b[0m               \u001b[0mstr\u001b[0m\u001b[0;34m(\u001b[0m\u001b[0mmean_absolute_error\u001b[0m\u001b[0;34m(\u001b[0m\u001b[0my\u001b[0m\u001b[0;34m,\u001b[0m\u001b[0my_pred\u001b[0m\u001b[0;34m)\u001b[0m\u001b[0;34m)\u001b[0m \u001b[0;34m+\u001b[0m\u001b[0;34m\u001b[0m\u001b[0m\n",
      "\u001b[0;32m/Users/jilanxin/anaconda3/envs/laidata1/lib/python2.7/site-packages/sklearn/model_selection/_validation.pyc\u001b[0m in \u001b[0;36mcross_val_predict\u001b[0;34m(estimator, X, y, groups, cv, n_jobs, verbose, fit_params, pre_dispatch, method)\u001b[0m\n\u001b[1;32m    399\u001b[0m     prediction_blocks = parallel(delayed(_fit_and_predict)(\n\u001b[1;32m    400\u001b[0m         clone(estimator), X, y, train, test, verbose, fit_params, method)\n\u001b[0;32m--> 401\u001b[0;31m         for train, test in cv_iter)\n\u001b[0m\u001b[1;32m    402\u001b[0m \u001b[0;34m\u001b[0m\u001b[0m\n\u001b[1;32m    403\u001b[0m     \u001b[0;31m# Concatenate the predictions\u001b[0m\u001b[0;34m\u001b[0m\u001b[0;34m\u001b[0m\u001b[0m\n",
      "\u001b[0;32m/Users/jilanxin/anaconda3/envs/laidata1/lib/python2.7/site-packages/sklearn/externals/joblib/parallel.pyc\u001b[0m in \u001b[0;36m__call__\u001b[0;34m(self, iterable)\u001b[0m\n\u001b[1;32m    756\u001b[0m             \u001b[0;31m# was dispatched. In particular this covers the edge\u001b[0m\u001b[0;34m\u001b[0m\u001b[0;34m\u001b[0m\u001b[0m\n\u001b[1;32m    757\u001b[0m             \u001b[0;31m# case of Parallel used with an exhausted iterator.\u001b[0m\u001b[0;34m\u001b[0m\u001b[0;34m\u001b[0m\u001b[0m\n\u001b[0;32m--> 758\u001b[0;31m             \u001b[0;32mwhile\u001b[0m \u001b[0mself\u001b[0m\u001b[0;34m.\u001b[0m\u001b[0mdispatch_one_batch\u001b[0m\u001b[0;34m(\u001b[0m\u001b[0miterator\u001b[0m\u001b[0;34m)\u001b[0m\u001b[0;34m:\u001b[0m\u001b[0;34m\u001b[0m\u001b[0m\n\u001b[0m\u001b[1;32m    759\u001b[0m                 \u001b[0mself\u001b[0m\u001b[0;34m.\u001b[0m\u001b[0m_iterating\u001b[0m \u001b[0;34m=\u001b[0m \u001b[0mTrue\u001b[0m\u001b[0;34m\u001b[0m\u001b[0m\n\u001b[1;32m    760\u001b[0m             \u001b[0;32melse\u001b[0m\u001b[0;34m:\u001b[0m\u001b[0;34m\u001b[0m\u001b[0m\n",
      "\u001b[0;32m/Users/jilanxin/anaconda3/envs/laidata1/lib/python2.7/site-packages/sklearn/externals/joblib/parallel.pyc\u001b[0m in \u001b[0;36mdispatch_one_batch\u001b[0;34m(self, iterator)\u001b[0m\n\u001b[1;32m    606\u001b[0m                 \u001b[0;32mreturn\u001b[0m \u001b[0mFalse\u001b[0m\u001b[0;34m\u001b[0m\u001b[0m\n\u001b[1;32m    607\u001b[0m             \u001b[0;32melse\u001b[0m\u001b[0;34m:\u001b[0m\u001b[0;34m\u001b[0m\u001b[0m\n\u001b[0;32m--> 608\u001b[0;31m                 \u001b[0mself\u001b[0m\u001b[0;34m.\u001b[0m\u001b[0m_dispatch\u001b[0m\u001b[0;34m(\u001b[0m\u001b[0mtasks\u001b[0m\u001b[0;34m)\u001b[0m\u001b[0;34m\u001b[0m\u001b[0m\n\u001b[0m\u001b[1;32m    609\u001b[0m                 \u001b[0;32mreturn\u001b[0m \u001b[0mTrue\u001b[0m\u001b[0;34m\u001b[0m\u001b[0m\n\u001b[1;32m    610\u001b[0m \u001b[0;34m\u001b[0m\u001b[0m\n",
      "\u001b[0;32m/Users/jilanxin/anaconda3/envs/laidata1/lib/python2.7/site-packages/sklearn/externals/joblib/parallel.pyc\u001b[0m in \u001b[0;36m_dispatch\u001b[0;34m(self, batch)\u001b[0m\n\u001b[1;32m    569\u001b[0m         \u001b[0mdispatch_timestamp\u001b[0m \u001b[0;34m=\u001b[0m \u001b[0mtime\u001b[0m\u001b[0;34m.\u001b[0m\u001b[0mtime\u001b[0m\u001b[0;34m(\u001b[0m\u001b[0;34m)\u001b[0m\u001b[0;34m\u001b[0m\u001b[0m\n\u001b[1;32m    570\u001b[0m         \u001b[0mcb\u001b[0m \u001b[0;34m=\u001b[0m \u001b[0mBatchCompletionCallBack\u001b[0m\u001b[0;34m(\u001b[0m\u001b[0mdispatch_timestamp\u001b[0m\u001b[0;34m,\u001b[0m \u001b[0mlen\u001b[0m\u001b[0;34m(\u001b[0m\u001b[0mbatch\u001b[0m\u001b[0;34m)\u001b[0m\u001b[0;34m,\u001b[0m \u001b[0mself\u001b[0m\u001b[0;34m)\u001b[0m\u001b[0;34m\u001b[0m\u001b[0m\n\u001b[0;32m--> 571\u001b[0;31m         \u001b[0mjob\u001b[0m \u001b[0;34m=\u001b[0m \u001b[0mself\u001b[0m\u001b[0;34m.\u001b[0m\u001b[0m_backend\u001b[0m\u001b[0;34m.\u001b[0m\u001b[0mapply_async\u001b[0m\u001b[0;34m(\u001b[0m\u001b[0mbatch\u001b[0m\u001b[0;34m,\u001b[0m \u001b[0mcallback\u001b[0m\u001b[0;34m=\u001b[0m\u001b[0mcb\u001b[0m\u001b[0;34m)\u001b[0m\u001b[0;34m\u001b[0m\u001b[0m\n\u001b[0m\u001b[1;32m    572\u001b[0m         \u001b[0mself\u001b[0m\u001b[0;34m.\u001b[0m\u001b[0m_jobs\u001b[0m\u001b[0;34m.\u001b[0m\u001b[0mappend\u001b[0m\u001b[0;34m(\u001b[0m\u001b[0mjob\u001b[0m\u001b[0;34m)\u001b[0m\u001b[0;34m\u001b[0m\u001b[0m\n\u001b[1;32m    573\u001b[0m \u001b[0;34m\u001b[0m\u001b[0m\n",
      "\u001b[0;32m/Users/jilanxin/anaconda3/envs/laidata1/lib/python2.7/site-packages/sklearn/externals/joblib/_parallel_backends.pyc\u001b[0m in \u001b[0;36mapply_async\u001b[0;34m(self, func, callback)\u001b[0m\n\u001b[1;32m    107\u001b[0m     \u001b[0;32mdef\u001b[0m \u001b[0mapply_async\u001b[0m\u001b[0;34m(\u001b[0m\u001b[0mself\u001b[0m\u001b[0;34m,\u001b[0m \u001b[0mfunc\u001b[0m\u001b[0;34m,\u001b[0m \u001b[0mcallback\u001b[0m\u001b[0;34m=\u001b[0m\u001b[0mNone\u001b[0m\u001b[0;34m)\u001b[0m\u001b[0;34m:\u001b[0m\u001b[0;34m\u001b[0m\u001b[0m\n\u001b[1;32m    108\u001b[0m         \u001b[0;34m\"\"\"Schedule a func to be run\"\"\"\u001b[0m\u001b[0;34m\u001b[0m\u001b[0m\n\u001b[0;32m--> 109\u001b[0;31m         \u001b[0mresult\u001b[0m \u001b[0;34m=\u001b[0m \u001b[0mImmediateResult\u001b[0m\u001b[0;34m(\u001b[0m\u001b[0mfunc\u001b[0m\u001b[0;34m)\u001b[0m\u001b[0;34m\u001b[0m\u001b[0m\n\u001b[0m\u001b[1;32m    110\u001b[0m         \u001b[0;32mif\u001b[0m \u001b[0mcallback\u001b[0m\u001b[0;34m:\u001b[0m\u001b[0;34m\u001b[0m\u001b[0m\n\u001b[1;32m    111\u001b[0m             \u001b[0mcallback\u001b[0m\u001b[0;34m(\u001b[0m\u001b[0mresult\u001b[0m\u001b[0;34m)\u001b[0m\u001b[0;34m\u001b[0m\u001b[0m\n",
      "\u001b[0;32m/Users/jilanxin/anaconda3/envs/laidata1/lib/python2.7/site-packages/sklearn/externals/joblib/_parallel_backends.pyc\u001b[0m in \u001b[0;36m__init__\u001b[0;34m(self, batch)\u001b[0m\n\u001b[1;32m    324\u001b[0m         \u001b[0;31m# Don't delay the application, to avoid keeping the input\u001b[0m\u001b[0;34m\u001b[0m\u001b[0;34m\u001b[0m\u001b[0m\n\u001b[1;32m    325\u001b[0m         \u001b[0;31m# arguments in memory\u001b[0m\u001b[0;34m\u001b[0m\u001b[0;34m\u001b[0m\u001b[0m\n\u001b[0;32m--> 326\u001b[0;31m         \u001b[0mself\u001b[0m\u001b[0;34m.\u001b[0m\u001b[0mresults\u001b[0m \u001b[0;34m=\u001b[0m \u001b[0mbatch\u001b[0m\u001b[0;34m(\u001b[0m\u001b[0;34m)\u001b[0m\u001b[0;34m\u001b[0m\u001b[0m\n\u001b[0m\u001b[1;32m    327\u001b[0m \u001b[0;34m\u001b[0m\u001b[0m\n\u001b[1;32m    328\u001b[0m     \u001b[0;32mdef\u001b[0m \u001b[0mget\u001b[0m\u001b[0;34m(\u001b[0m\u001b[0mself\u001b[0m\u001b[0;34m)\u001b[0m\u001b[0;34m:\u001b[0m\u001b[0;34m\u001b[0m\u001b[0m\n",
      "\u001b[0;32m/Users/jilanxin/anaconda3/envs/laidata1/lib/python2.7/site-packages/sklearn/externals/joblib/parallel.pyc\u001b[0m in \u001b[0;36m__call__\u001b[0;34m(self)\u001b[0m\n\u001b[1;32m    129\u001b[0m \u001b[0;34m\u001b[0m\u001b[0m\n\u001b[1;32m    130\u001b[0m     \u001b[0;32mdef\u001b[0m \u001b[0m__call__\u001b[0m\u001b[0;34m(\u001b[0m\u001b[0mself\u001b[0m\u001b[0;34m)\u001b[0m\u001b[0;34m:\u001b[0m\u001b[0;34m\u001b[0m\u001b[0m\n\u001b[0;32m--> 131\u001b[0;31m         \u001b[0;32mreturn\u001b[0m \u001b[0;34m[\u001b[0m\u001b[0mfunc\u001b[0m\u001b[0;34m(\u001b[0m\u001b[0;34m*\u001b[0m\u001b[0margs\u001b[0m\u001b[0;34m,\u001b[0m \u001b[0;34m**\u001b[0m\u001b[0mkwargs\u001b[0m\u001b[0;34m)\u001b[0m \u001b[0;32mfor\u001b[0m \u001b[0mfunc\u001b[0m\u001b[0;34m,\u001b[0m \u001b[0margs\u001b[0m\u001b[0;34m,\u001b[0m \u001b[0mkwargs\u001b[0m \u001b[0;32min\u001b[0m \u001b[0mself\u001b[0m\u001b[0;34m.\u001b[0m\u001b[0mitems\u001b[0m\u001b[0;34m]\u001b[0m\u001b[0;34m\u001b[0m\u001b[0m\n\u001b[0m\u001b[1;32m    132\u001b[0m \u001b[0;34m\u001b[0m\u001b[0m\n\u001b[1;32m    133\u001b[0m     \u001b[0;32mdef\u001b[0m \u001b[0m__len__\u001b[0m\u001b[0;34m(\u001b[0m\u001b[0mself\u001b[0m\u001b[0;34m)\u001b[0m\u001b[0;34m:\u001b[0m\u001b[0;34m\u001b[0m\u001b[0m\n",
      "\u001b[0;32m/Users/jilanxin/anaconda3/envs/laidata1/lib/python2.7/site-packages/sklearn/model_selection/_validation.pyc\u001b[0m in \u001b[0;36m_fit_and_predict\u001b[0;34m(estimator, X, y, train, test, verbose, fit_params, method)\u001b[0m\n\u001b[1;32m    472\u001b[0m         \u001b[0mestimator\u001b[0m\u001b[0;34m.\u001b[0m\u001b[0mfit\u001b[0m\u001b[0;34m(\u001b[0m\u001b[0mX_train\u001b[0m\u001b[0;34m,\u001b[0m \u001b[0;34m**\u001b[0m\u001b[0mfit_params\u001b[0m\u001b[0;34m)\u001b[0m\u001b[0;34m\u001b[0m\u001b[0m\n\u001b[1;32m    473\u001b[0m     \u001b[0;32melse\u001b[0m\u001b[0;34m:\u001b[0m\u001b[0;34m\u001b[0m\u001b[0m\n\u001b[0;32m--> 474\u001b[0;31m         \u001b[0mestimator\u001b[0m\u001b[0;34m.\u001b[0m\u001b[0mfit\u001b[0m\u001b[0;34m(\u001b[0m\u001b[0mX_train\u001b[0m\u001b[0;34m,\u001b[0m \u001b[0my_train\u001b[0m\u001b[0;34m,\u001b[0m \u001b[0;34m**\u001b[0m\u001b[0mfit_params\u001b[0m\u001b[0;34m)\u001b[0m\u001b[0;34m\u001b[0m\u001b[0m\n\u001b[0m\u001b[1;32m    475\u001b[0m     \u001b[0mfunc\u001b[0m \u001b[0;34m=\u001b[0m \u001b[0mgetattr\u001b[0m\u001b[0;34m(\u001b[0m\u001b[0mestimator\u001b[0m\u001b[0;34m,\u001b[0m \u001b[0mmethod\u001b[0m\u001b[0;34m)\u001b[0m\u001b[0;34m\u001b[0m\u001b[0m\n\u001b[1;32m    476\u001b[0m     \u001b[0mpredictions\u001b[0m \u001b[0;34m=\u001b[0m \u001b[0mfunc\u001b[0m\u001b[0;34m(\u001b[0m\u001b[0mX_test\u001b[0m\u001b[0;34m)\u001b[0m\u001b[0;34m\u001b[0m\u001b[0m\n",
      "\u001b[0;32m/Users/jilanxin/anaconda3/envs/laidata1/lib/python2.7/site-packages/sklearn/svm/base.pyc\u001b[0m in \u001b[0;36mfit\u001b[0;34m(self, X, y, sample_weight)\u001b[0m\n\u001b[1;32m    187\u001b[0m \u001b[0;34m\u001b[0m\u001b[0m\n\u001b[1;32m    188\u001b[0m         \u001b[0mseed\u001b[0m \u001b[0;34m=\u001b[0m \u001b[0mrnd\u001b[0m\u001b[0;34m.\u001b[0m\u001b[0mrandint\u001b[0m\u001b[0;34m(\u001b[0m\u001b[0mnp\u001b[0m\u001b[0;34m.\u001b[0m\u001b[0miinfo\u001b[0m\u001b[0;34m(\u001b[0m\u001b[0;34m'i'\u001b[0m\u001b[0;34m)\u001b[0m\u001b[0;34m.\u001b[0m\u001b[0mmax\u001b[0m\u001b[0;34m)\u001b[0m\u001b[0;34m\u001b[0m\u001b[0m\n\u001b[0;32m--> 189\u001b[0;31m         \u001b[0mfit\u001b[0m\u001b[0;34m(\u001b[0m\u001b[0mX\u001b[0m\u001b[0;34m,\u001b[0m \u001b[0my\u001b[0m\u001b[0;34m,\u001b[0m \u001b[0msample_weight\u001b[0m\u001b[0;34m,\u001b[0m \u001b[0msolver_type\u001b[0m\u001b[0;34m,\u001b[0m \u001b[0mkernel\u001b[0m\u001b[0;34m,\u001b[0m \u001b[0mrandom_seed\u001b[0m\u001b[0;34m=\u001b[0m\u001b[0mseed\u001b[0m\u001b[0;34m)\u001b[0m\u001b[0;34m\u001b[0m\u001b[0m\n\u001b[0m\u001b[1;32m    190\u001b[0m         \u001b[0;31m# see comment on the other call to np.iinfo in this file\u001b[0m\u001b[0;34m\u001b[0m\u001b[0;34m\u001b[0m\u001b[0m\n\u001b[1;32m    191\u001b[0m \u001b[0;34m\u001b[0m\u001b[0m\n",
      "\u001b[0;32m/Users/jilanxin/anaconda3/envs/laidata1/lib/python2.7/site-packages/sklearn/svm/base.pyc\u001b[0m in \u001b[0;36m_dense_fit\u001b[0;34m(self, X, y, sample_weight, solver_type, kernel, random_seed)\u001b[0m\n\u001b[1;32m    254\u001b[0m                 \u001b[0mcache_size\u001b[0m\u001b[0;34m=\u001b[0m\u001b[0mself\u001b[0m\u001b[0;34m.\u001b[0m\u001b[0mcache_size\u001b[0m\u001b[0;34m,\u001b[0m \u001b[0mcoef0\u001b[0m\u001b[0;34m=\u001b[0m\u001b[0mself\u001b[0m\u001b[0;34m.\u001b[0m\u001b[0mcoef0\u001b[0m\u001b[0;34m,\u001b[0m\u001b[0;34m\u001b[0m\u001b[0m\n\u001b[1;32m    255\u001b[0m                 \u001b[0mgamma\u001b[0m\u001b[0;34m=\u001b[0m\u001b[0mself\u001b[0m\u001b[0;34m.\u001b[0m\u001b[0m_gamma\u001b[0m\u001b[0;34m,\u001b[0m \u001b[0mepsilon\u001b[0m\u001b[0;34m=\u001b[0m\u001b[0mself\u001b[0m\u001b[0;34m.\u001b[0m\u001b[0mepsilon\u001b[0m\u001b[0;34m,\u001b[0m\u001b[0;34m\u001b[0m\u001b[0m\n\u001b[0;32m--> 256\u001b[0;31m                 max_iter=self.max_iter, random_seed=random_seed)\n\u001b[0m\u001b[1;32m    257\u001b[0m \u001b[0;34m\u001b[0m\u001b[0m\n\u001b[1;32m    258\u001b[0m         \u001b[0mself\u001b[0m\u001b[0;34m.\u001b[0m\u001b[0m_warn_from_fit_status\u001b[0m\u001b[0;34m(\u001b[0m\u001b[0;34m)\u001b[0m\u001b[0;34m\u001b[0m\u001b[0m\n",
      "\u001b[0;31mKeyboardInterrupt\u001b[0m: "
     ]
    }
   ],
   "source": [
    "from sklearn.svm import SVR\n",
    "svr = SVR(kernel = \"linear\")\n",
    "clf = svr.fit(X_train, y_train)\n",
    "y_pred2 = svr.predict(X_test)\n",
    "\n",
    "#plt.plot(y_test, color='black')\n",
    "#plt.plot(y_pred2, color = 'red')\n",
    "C_candidate = [0.1,1,10]\n",
    "gamma_canditate = [0.2, 0.5,1,1.5]\n",
    "for C in C_candidate:\n",
    "    for gamma in gamma_canditate:\n",
    "        clf = SVR(C=C, gamma=gamma, kernel='linear')\n",
    "        y_pred = cross_val_predict(clf, X, y)\n",
    "        print(\"C,gamma=\" + str(C) + ',' + str(gamma) +\",MAE:\" +\n",
    "              str(mean_absolute_error(y,y_pred)) + \n",
    "              \",MSE:\" + str(mean_squared_error(y,y_pred)))"
   ]
  },
  {
   "cell_type": "code",
   "execution_count": 204,
   "metadata": {
    "collapsed": true
   },
   "outputs": [],
   "source": [
    "svr?"
   ]
  },
  {
   "cell_type": "code",
   "execution_count": 178,
   "metadata": {},
   "outputs": [
    {
     "data": {
      "text/plain": [
       "<matplotlib.collections.PathCollection at 0x13b207cd0>"
      ]
     },
     "execution_count": 178,
     "metadata": {},
     "output_type": "execute_result"
    },
    {
     "data": {
      "image/png": "[encoded data removed]",
      "text/plain": [
       "<Figure size 432x288 with 1 Axes>"
      ]
     },
     "metadata": {},
     "output_type": "display_data"
    }
   ],
   "source": [
    "weighting = clf.coef_\n",
    "weighting.shape\n",
    "plt.scatter(y_train, y_pred_train)"
   ]
  },
  {
   "cell_type": "code",
   "execution_count": 137,
   "metadata": {},
   "outputs": [
    {
     "data": {
      "text/plain": [
       "array([ 53.62847732,  49.76667314,  45.41781415, ...,  63.14076201,\n",
       "        55.6556232 ,  59.23610431])"
      ]
     },
     "execution_count": 137,
     "metadata": {},
     "output_type": "execute_result"
    }
   ],
   "source": [
    "y_pred"
   ]
  },
  {
   "cell_type": "code",
   "execution_count": 138,
   "metadata": {},
   "outputs": [
    {
     "data": {
      "text/plain": [
       "array([ 53.62847732,  49.76667314,  45.41781415, ...,  63.14076201,\n",
       "        55.6556232 ,  59.23610431])"
      ]
     },
     "execution_count": 138,
     "metadata": {},
     "output_type": "execute_result"
    }
   ],
   "source": [
    "y_pred2"
   ]
  },
  {
   "cell_type": "code",
   "execution_count": 139,
   "metadata": {},
   "outputs": [
    {
     "data": {
      "text/plain": [
       "array([ True,  True,  True, ...,  True,  True,  True], dtype=bool)"
      ]
     },
     "execution_count": 139,
     "metadata": {},
     "output_type": "execute_result"
    }
   ],
   "source": [
    "y_pred == y_pred2"
   ]
  },
  {
   "cell_type": "code",
   "execution_count": 179,
   "metadata": {},
   "outputs": [
    {
     "data": {
      "text/plain": [
       "SVR(C=1.0, cache_size=200, coef0=0.0, degree=3, epsilon=0.1, gamma='auto',\n",
       "  kernel='linear', max_iter=-1, shrinking=True, tol=0.001, verbose=False)"
      ]
     },
     "execution_count": 179,
     "metadata": {},
     "output_type": "execute_result"
    }
   ],
   "source": [
    "svr"
   ]
  },
  {
   "cell_type": "code",
   "execution_count": null,
   "metadata": {
    "collapsed": true
   },
   "outputs": [],
   "source": [
    "\n",
    "from sklearn.model_selection import cross_val_predict\n",
    "import scipy.stats\n",
    "import random\n",
    "\n"
   ]
  }
 ],
 "metadata": {
  "kernelspec": {
   "display_name": "Python [default]",
   "language": "python",
   "name": "python3"
  },
  "language_info": {
   "codemirror_mode": {
    "name": "ipython",
    "version": 3
   },
   "file_extension": ".py",
   "mimetype": "text/x-python",
   "name": "python",
   "nbconvert_exporter": "python",
   "pygments_lexer": "ipython3",
   "version": "3.6.10"
  }
 },
 "nbformat": 4,
 "nbformat_minor": 2
}
