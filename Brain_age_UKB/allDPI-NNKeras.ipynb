{
 "cells": [
  {
   "cell_type": "code",
   "execution_count": 150,
   "metadata": {
    "collapsed": true
   },
   "outputs": [],
   "source": [
    "import pandas as pd\n",
    "import numpy as np\n",
    "\n",
    "df = pd.read_csv('/Users/jilanxin/Documents/Biobank/newmergeddata0604.csv')\n",
    "\n",
    "to_drop = ['Unnamed: 0','n_21003_2_0','n_21003_1_0','n_25025_2_0','n_25733_2_0','n_25003_2_0','n_25007_2_0','n_31_0_0']\n",
    "df_dropped = df.drop(to_drop, axis=1)\n",
    "df_dropped = df_dropped.set_index('n_eid_14631')\n",
    "df_dropped = df_dropped.dropna()\n",
    "df_dropped.shape\n",
    "add_GM = pd.read_csv('/Users/jilanxin/Documents/Biobank/add_GM.csv')\n",
    "add_GM = add_GM.set_index('n_eid_14631')\n",
    "add_GM = add_GM.drop('Unnamed: 0', axis=1)\n",
    "\n",
    "add_DTI = pd.read_csv('/Users/jilanxin/Documents/Biobank/add_ISOVF.csv')\n",
    "add_DTI = add_DTI.set_index('n_eid_14631')\n",
    "add_DTI = add_DTI.drop('Unnamed: 0', axis=1)\n",
    "\n",
    "ica = pd.read_csv('/Users/jilanxin/Documents/Biobank/icadata_age.csv')\n",
    "ica = ica.drop(['Unnamed: 0','n_21003_0_0'], axis=1)\n",
    "ica = ica.set_index('n_eid_14631')"
   ]
  },
  {
   "cell_type": "code",
   "execution_count": 151,
   "metadata": {
    "collapsed": true
   },
   "outputs": [],
   "source": [
    "GM_index = ['n_21003_0_0','n_25011_2_0', 'n_25012_2_0', 'n_25013_2_0',\n",
    "       'n_25014_2_0', 'n_25015_2_0', 'n_25016_2_0', 'n_25017_2_0',\n",
    "       'n_25018_2_0', 'n_25019_2_0', 'n_25020_2_0', 'n_25021_2_0',\n",
    "       'n_25022_2_0', 'n_25023_2_0', 'n_25024_2_0','n_25782_2_0','n_25783_2_0', 'n_25784_2_0', 'n_25785_2_0',\n",
    "       'n_25786_2_0', 'n_25787_2_0', 'n_25788_2_0', 'n_25789_2_0',\n",
    "       'n_25790_2_0', 'n_25791_2_0', 'n_25792_2_0', 'n_25793_2_0',\n",
    "       'n_25794_2_0', 'n_25795_2_0', 'n_25796_2_0', 'n_25797_2_0',\n",
    "       'n_25798_2_0', 'n_25799_2_0', 'n_25800_2_0', 'n_25801_2_0',\n",
    "       'n_25802_2_0', 'n_25803_2_0', 'n_25804_2_0', 'n_25805_2_0',\n",
    "       'n_25806_2_0', 'n_25807_2_0', 'n_25808_2_0', 'n_25809_2_0',\n",
    "       'n_25810_2_0', 'n_25811_2_0', 'n_25812_2_0', 'n_25813_2_0',\n",
    "       'n_25814_2_0', 'n_25815_2_0', 'n_25816_2_0', 'n_25817_2_0',\n",
    "       'n_25818_2_0', 'n_25819_2_0', 'n_25820_2_0', 'n_25821_2_0',\n",
    "       'n_25822_2_0', 'n_25823_2_0', 'n_25824_2_0', 'n_25825_2_0',\n",
    "       'n_25826_2_0', 'n_25827_2_0', 'n_25828_2_0', 'n_25829_2_0',\n",
    "       'n_25830_2_0', 'n_25831_2_0', 'n_25832_2_0', 'n_25833_2_0',\n",
    "       'n_25834_2_0', 'n_25835_2_0', 'n_25836_2_0', 'n_25837_2_0',\n",
    "       'n_25838_2_0', 'n_25839_2_0', 'n_25840_2_0', 'n_25841_2_0',\n",
    "       'n_25842_2_0', 'n_25843_2_0', 'n_25844_2_0', 'n_25845_2_0',\n",
    "       'n_25846_2_0', 'n_25847_2_0', 'n_25848_2_0', 'n_25849_2_0',\n",
    "       'n_25850_2_0', 'n_25851_2_0', 'n_25852_2_0', 'n_25853_2_0',\n",
    "       'n_25854_2_0', 'n_25855_2_0', 'n_25856_2_0', 'n_25857_2_0',\n",
    "       'n_25858_2_0', 'n_25859_2_0', 'n_25860_2_0', 'n_25861_2_0',\n",
    "       'n_25862_2_0', 'n_25863_2_0', 'n_25864_2_0', 'n_25865_2_0',\n",
    "       'n_25866_2_0', 'n_25867_2_0', 'n_25868_2_0', 'n_25869_2_0',\n",
    "       'n_25870_2_0', 'n_25871_2_0', 'n_25872_2_0', 'n_25873_2_0',\n",
    "       'n_25874_2_0', 'n_25875_2_0', 'n_25876_2_0', 'n_25877_2_0',\n",
    "       'n_25878_2_0', 'n_25879_2_0', 'n_25880_2_0', 'n_25881_2_0',\n",
    "       'n_25882_2_0', 'n_25883_2_0', 'n_25884_2_0', 'n_25885_2_0',\n",
    "       'n_25886_2_0', 'n_25887_2_0', 'n_25888_2_0', 'n_25889_2_0',\n",
    "       'n_25890_2_0', 'n_25891_2_0', 'n_25892_2_0', 'n_25893_2_0',\n",
    "       'n_25894_2_0', 'n_25895_2_0', 'n_25896_2_0', 'n_25897_2_0',\n",
    "       'n_25898_2_0', 'n_25899_2_0', 'n_25900_2_0', 'n_25901_2_0',\n",
    "       'n_25902_2_0', 'n_25903_2_0', 'n_25904_2_0', 'n_25905_2_0',\n",
    "       'n_25906_2_0', 'n_25907_2_0', 'n_25908_2_0', 'n_25909_2_0',\n",
    "       'n_25910_2_0', 'n_25911_2_0', 'n_25912_2_0', 'n_25913_2_0',\n",
    "       'n_25914_2_0', 'n_25915_2_0', 'n_25916_2_0', 'n_25917_2_0',\n",
    "       'n_25918_2_0', 'n_25919_2_0', 'n_25920_2_0']\n",
    "\n",
    "X_GM =  df_dropped[GM_index] #154\n",
    "X_GM = pd.merge(X_GM, add_GM, how='inner', left_index=True, right_index=True)\n",
    "X_GMnew = pd.DataFrame()\n",
    "X_GMnew[['n_21003_0_0']] = X_GM[['n_21003_0_0']]\n",
    "for i in GM_index[2:]:\n",
    "    #print i\n",
    "    X_GMnew[i] = X_GM[i].div(X_GM['n_25006_2_0'])\n",
    "    #X_GMnew = X_GMnew.drop(['n_25005_2_0','n_25006_2_0'],axis=1)"
   ]
  },
  {
   "cell_type": "code",
   "execution_count": 152,
   "metadata": {},
   "outputs": [
    {
     "name": "stdout",
     "output_type": "stream",
     "text": [
      "(11818, 235)\n",
      "(11818, 153)\n"
     ]
    }
   ],
   "source": [
    "df_dropped[X_GMnew.columns.values] = X_GMnew[X_GMnew.columns.values]\n",
    "df_dropped['n_25006_2_0'] = X_GM['n_25006_2_0']\n",
    "df_dropped['n_25005_2_0'] = X_GM['n_25005_2_0']\n",
    "df_dropped.head()\n",
    "print(df_dropped.shape)\n",
    "print(X_GMnew.shape)"
   ]
  },
  {
   "cell_type": "code",
   "execution_count": 153,
   "metadata": {
    "collapsed": true
   },
   "outputs": [],
   "source": [
    "df_dropped = pd.merge(df_dropped, add_DTI, left_index=True, right_index=True)\n",
    "df_dropped = pd.merge(df_dropped, ica, left_index=True, right_index=True)\n",
    "df_dropped = df_dropped.dropna()"
   ]
  },
  {
   "cell_type": "code",
   "execution_count": 154,
   "metadata": {},
   "outputs": [
    {
     "data": {
      "text/plain": [
       "<matplotlib.axes._subplots.AxesSubplot at 0x10a51df90>"
      ]
     },
     "execution_count": 154,
     "metadata": {},
     "output_type": "execute_result"
    },
    {
     "data": {
      "image/png": "[encoded data removed]",
      "text/plain": [
       "<Figure size 432x288 with 1 Axes>"
      ]
     },
     "metadata": {},
     "output_type": "display_data"
    }
   ],
   "source": [
    "%matplotlib inline\n",
    "import matplotlib.pyplot as plt\n",
    "import seaborn as sb\n",
    "\n",
    "sb.distplot(df_dropped['n_21003_0_0'], kde=False)"
   ]
  },
  {
   "cell_type": "code",
   "execution_count": 155,
   "metadata": {
    "collapsed": true
   },
   "outputs": [],
   "source": [
    "Gene_label = []\n",
    "filename = \"/Users/jilanxin/Documents/Biobank/apoe.txt\"\n",
    "with open(filename, \"r\") as myfile:\n",
    "    for line in myfile:\n",
    "        Gene_label.append(line.strip().split())\n",
    "        \n",
    "Gene_label_df = pd.DataFrame(Gene_label)\n",
    "\n",
    "Gene_label_df.columns = Gene_label_df.iloc[0]\n",
    "Gene_label_df.columns\n",
    "APOE4e4 = Gene_label_df[Gene_label_df[\"apoe\"].isin(['e4e4'])]\n",
    "APOE2e2 = Gene_label_df[Gene_label_df[\"apoe\"].isin(['e2e2'])]\n",
    "APOE3e3 = Gene_label_df[Gene_label_df[\"apoe\"].isin(['e3e3'])]"
   ]
  },
  {
   "cell_type": "markdown",
   "metadata": {},
   "source": [
    "# Check correlations for IPAQ"
   ]
  },
  {
   "cell_type": "code",
   "execution_count": 160,
   "metadata": {
    "collapsed": true
   },
   "outputs": [],
   "source": [
    "old_data_mat = pd.read_csv('/Users/jilanxin/Documents/Biobank/final_cleandata3.csv')"
   ]
  },
  {
   "cell_type": "code",
   "execution_count": 161,
   "metadata": {},
   "outputs": [],
   "source": [
    "ipaq = old_data_mat[['n_eid_14631','total_MET_min_per_wk_0_0','sex']]\n",
    "ipaq = ipaq.set_index('n_eid_14631')"
   ]
  },
  {
   "cell_type": "code",
   "execution_count": 162,
   "metadata": {},
   "outputs": [],
   "source": [
    "ipaq['sex'] = ipaq['sex']=='Male'"
   ]
  },
  {
   "cell_type": "code",
   "execution_count": 163,
   "metadata": {},
   "outputs": [
    {
     "name": "stdout",
     "output_type": "stream",
     "text": [
      "(nan, 1.0)\n"
     ]
    },
    {
     "data": {
      "text/plain": [
       "<matplotlib.collections.PathCollection at 0x10db99150>"
      ]
     },
     "execution_count": 163,
     "metadata": {},
     "output_type": "execute_result"
    },
    {
     "data": {
      "image/png": "[encoded data removed]",
      "text/plain": [
       "<Figure size 432x288 with 1 Axes>"
      ]
     },
     "metadata": {},
     "output_type": "display_data"
    }
   ],
   "source": [
    "from scipy import stats\n",
    "print(stats.pearsonr(old_data_mat['Fluid_intelligence_0'],old_data_mat['total_MET_min_per_wk_0_0']))\n",
    "plt.scatter(old_data_mat['Fluid_intelligence_0'],old_data_mat['total_MET_min_per_wk_0_0'])\n",
    "#plt.ylabel(\"ipaq\", fontsize=16)\n",
    "#plt.xlabel(\"age\", fontsize=16)"
   ]
  },
  {
   "cell_type": "code",
   "execution_count": 97,
   "metadata": {
    "collapsed": true
   },
   "outputs": [],
   "source": [
    "stats.pearsonr?"
   ]
  },
  {
   "cell_type": "code",
   "execution_count": 164,
   "metadata": {},
   "outputs": [],
   "source": [
    "df_dropped = pd.merge(df_dropped, ipaq, left_index=True, right_index=True)"
   ]
  },
  {
   "cell_type": "code",
   "execution_count": 165,
   "metadata": {},
   "outputs": [
    {
     "data": {
      "text/plain": [
       "Index([u'n_25001_2_0', u'n_25002_2_0', u'n_25011_2_0', u'n_25012_2_0',\n",
       "       u'n_25013_2_0', u'n_25014_2_0', u'n_25015_2_0', u'n_25016_2_0',\n",
       "       u'n_25017_2_0', u'n_25018_2_0',\n",
       "       ...\n",
       "       u'V48', u'V49', u'V50', u'V51', u'V52', u'V53', u'V54', u'V55',\n",
       "       u'total_MET_min_per_wk_0_0', u'sex'],\n",
       "      dtype='object', length=340)"
      ]
     },
     "execution_count": 165,
     "metadata": {},
     "output_type": "execute_result"
    }
   ],
   "source": [
    "df_dropped.dropna()\n",
    "df_dropped.shape\n",
    "df_dropped.columns"
   ]
  },
  {
   "cell_type": "code",
   "execution_count": 130,
   "metadata": {},
   "outputs": [
    {
     "data": {
      "text/html": [
       "<table class=\"simpletable\">\n",
       "<caption>OLS Regression Results</caption>\n",
       "<tr>\n",
       "  <th>Dep. Variable:</th>    <td>Task_duration_2_mean</td> <th>  R-squared:         </th> <td>   0.058</td> \n",
       "</tr>\n",
       "<tr>\n",
       "  <th>Model:</th>                     <td>OLS</td>         <th>  Adj. R-squared:    </th> <td>   0.056</td> \n",
       "</tr>\n",
       "<tr>\n",
       "  <th>Method:</th>               <td>Least Squares</td>    <th>  F-statistic:       </th> <td>   30.25</td> \n",
       "</tr>\n",
       "<tr>\n",
       "  <th>Date:</th>               <td>Thu, 17 Jan 2019</td>   <th>  Prob (F-statistic):</th> <td>1.79e-13</td> \n",
       "</tr>\n",
       "<tr>\n",
       "  <th>Time:</th>                   <td>11:31:05</td>       <th>  Log-Likelihood:    </th> <td> -5964.4</td> \n",
       "</tr>\n",
       "<tr>\n",
       "  <th>No. Observations:</th>        <td>   978</td>        <th>  AIC:               </th> <td>1.193e+04</td>\n",
       "</tr>\n",
       "<tr>\n",
       "  <th>Df Residuals:</th>            <td>   975</td>        <th>  BIC:               </th> <td>1.195e+04</td>\n",
       "</tr>\n",
       "<tr>\n",
       "  <th>Df Model:</th>                <td>     2</td>        <th>                     </th>     <td> </td>    \n",
       "</tr>\n",
       "<tr>\n",
       "  <th>Covariance Type:</th>        <td>nonrobust</td>      <th>                     </th>     <td> </td>    \n",
       "</tr>\n",
       "</table>\n",
       "<table class=\"simpletable\">\n",
       "<tr>\n",
       "              <td></td>                <th>coef</th>     <th>std err</th>      <th>t</th>      <th>P>|t|</th>  <th>[0.025</th>    <th>0.975]</th>  \n",
       "</tr>\n",
       "<tr>\n",
       "  <th>Intercept</th>                <td>  392.7772</td> <td>   27.177</td> <td>   14.452</td> <td> 0.000</td> <td>  339.444</td> <td>  446.110</td>\n",
       "</tr>\n",
       "<tr>\n",
       "  <th>age_0_0</th>                  <td>    3.7481</td> <td>    0.483</td> <td>    7.755</td> <td> 0.000</td> <td>    2.800</td> <td>    4.697</td>\n",
       "</tr>\n",
       "<tr>\n",
       "  <th>total_MET_min_per_wk_0_0</th> <td>   -0.0009</td> <td>    0.001</td> <td>   -0.767</td> <td> 0.443</td> <td>   -0.003</td> <td>    0.001</td>\n",
       "</tr>\n",
       "</table>\n",
       "<table class=\"simpletable\">\n",
       "<tr>\n",
       "  <th>Omnibus:</th>       <td>472.507</td> <th>  Durbin-Watson:     </th> <td>   2.073</td>\n",
       "</tr>\n",
       "<tr>\n",
       "  <th>Prob(Omnibus):</th> <td> 0.000</td>  <th>  Jarque-Bera (JB):  </th> <td>4702.981</td>\n",
       "</tr>\n",
       "<tr>\n",
       "  <th>Skew:</th>          <td> 1.969</td>  <th>  Prob(JB):          </th> <td>    0.00</td>\n",
       "</tr>\n",
       "<tr>\n",
       "  <th>Kurtosis:</th>      <td>12.995</td>  <th>  Cond. No.          </th> <td>3.44e+04</td>\n",
       "</tr>\n",
       "</table>"
      ],
      "text/plain": [
       "<class 'statsmodels.iolib.summary.Summary'>\n",
       "\"\"\"\n",
       "                             OLS Regression Results                             \n",
       "================================================================================\n",
       "Dep. Variable:     Task_duration_2_mean   R-squared:                       0.058\n",
       "Model:                              OLS   Adj. R-squared:                  0.056\n",
       "Method:                   Least Squares   F-statistic:                     30.25\n",
       "Date:                  Thu, 17 Jan 2019   Prob (F-statistic):           1.79e-13\n",
       "Time:                          11:31:05   Log-Likelihood:                -5964.4\n",
       "No. Observations:                   978   AIC:                         1.193e+04\n",
       "Df Residuals:                       975   BIC:                         1.195e+04\n",
       "Df Model:                             2                                         \n",
       "Covariance Type:              nonrobust                                         \n",
       "============================================================================================\n",
       "                               coef    std err          t      P>|t|      [0.025      0.975]\n",
       "--------------------------------------------------------------------------------------------\n",
       "Intercept                  392.7772     27.177     14.452      0.000     339.444     446.110\n",
       "age_0_0                      3.7481      0.483      7.755      0.000       2.800       4.697\n",
       "total_MET_min_per_wk_0_0    -0.0009      0.001     -0.767      0.443      -0.003       0.001\n",
       "==============================================================================\n",
       "Omnibus:                      472.507   Durbin-Watson:                   2.073\n",
       "Prob(Omnibus):                  0.000   Jarque-Bera (JB):             4702.981\n",
       "Skew:                           1.969   Prob(JB):                         0.00\n",
       "Kurtosis:                      12.995   Cond. No.                     3.44e+04\n",
       "==============================================================================\n",
       "\n",
       "Warnings:\n",
       "[1] Standard Errors assume that the covariance matrix of the errors is correctly specified.\n",
       "[2] The condition number is large, 3.44e+04. This might indicate that there are\n",
       "strong multicollinearity or other numerical problems.\n",
       "\"\"\""
      ]
     },
     "execution_count": 130,
     "metadata": {},
     "output_type": "execute_result"
    }
   ],
   "source": [
    "from statsmodels.formula.api import ols\n",
    "fomula = 'Task_duration_2_mean' +'~age_0_0+total_MET_min_per_wk_0_0'\n",
    "model = ols(fomula,old_data_mat).fit()\n",
    "model.summary()"
   ]
  },
  {
   "cell_type": "code",
   "execution_count": 148,
   "metadata": {},
   "outputs": [
    {
     "data": {
      "text/plain": [
       "(1536, 340)"
      ]
     },
     "execution_count": 148,
     "metadata": {},
     "output_type": "execute_result"
    }
   ],
   "source": [
    "df_dropped.shape"
   ]
  },
  {
   "cell_type": "code",
   "execution_count": 167,
   "metadata": {},
   "outputs": [
    {
     "name": "stdout",
     "output_type": "stream",
     "text": [
      "('n_25024_2_0', 2.0879273664598408, 0.037128673268757247, 4.1272456472251491e-09, -7.0418211790306659e-06)\n",
      "('n_25516_2_0', 1.9911886407590342, 0.046809018618185406, 9.6968751893017992e-10, 4.5657238733145405e-07)\n",
      "('n_25783_2_0', -2.1212140750255455, 0.03421902716424239, -7.4009535573566527e-08, -1.0804811101213558e-05)\n",
      "('n_25812_2_0', -2.1851863564622591, 0.029172393607065878, -2.53931140480419e-08, 1.5643699344170121e-05)\n",
      "('n_25826_2_0', -1.9704980440895392, 0.049135043996203137, -4.0283446510152559e-08, 6.1208940991514741e-06)\n",
      "('n_25848_2_0', 2.5918698059487504, 0.0097243892487188718, 1.9333451942822272e-08, 2.580149946555827e-06)\n",
      "('n_25849_2_0', 2.4552780978067976, 0.014295067712147565, 1.9148610480518297e-08, 3.4765137684330808e-06)\n",
      "('n_25887_2_0', 2.0897481925615198, 0.036964223296378419, 1.5352387038342149e-08, 1.2868470058112432e-05)\n",
      "('n_25888_2_0', 2.1357497193942776, 0.033011026173552074, 8.3382057899447257e-09, -4.9014623411788282e-06)\n",
      "('n_25897_2_0', 2.2656578099907669, 0.02374605196052177, 4.1657326288832284e-08, -2.4800940478187766e-05)\n",
      "('n_25910_2_0', 2.1824307663969398, 0.02937575476786463, 7.6859384428864531e-09, 7.3650879949579857e-07)\n",
      "('n_25911_2_0', 2.4574779551353685, 0.014208501814535498, 3.3355779487821127e-08, -6.7139972808020808e-06)\n",
      "('n_25912_2_0', 2.3219079810003507, 0.020494891482091663, 2.2000013883401249e-08, -2.0051831172842604e-06)\n",
      "('n_25913_2_0', 2.0963505187560334, 0.036373129021592218, 3.6277948537355206e-09, 7.9091582510458722e-07)\n",
      "('n_25917_2_0', 2.0100471741053298, 0.044770501457210309, 1.6647140805325397e-08, 4.9156908234014323e-06)\n",
      "('n_21003_0_0', -17.76011894854307, 1.64511886368238e-59, -2.0085658396923334e-15, 0.99999999999999978)\n",
      "('V2', -2.1920459858490866, 0.028671420836845346, -6.0279093458719821e-06, -0.0099110970772289825)\n",
      "('V44', -1.9926362187608324, 0.046649816839098877, -4.7401532697671922e-06, -0.0074267152834737657)\n",
      "('V48', -2.3509393129947602, 0.018974438858647434, -5.8008120512481368e-06, -0.0035914943112865844)\n",
      "('total_MET_min_per_wk_0_0', 30522051411612696.0, 0.0, 1.0000000000000002, -3.907985046680551e-14)\n"
     ]
    }
   ],
   "source": [
    "from statsmodels.formula.api import ols\n",
    "GM_ols=[]\n",
    "for cols in df_dropped.columns[2:-1]:\n",
    "    fomula = cols +'~n_21003_0_0+sex+total_MET_min_per_wk_0_0'\n",
    "    #print cols\n",
    "    model = ols(fomula,df_dropped).fit()\n",
    "    t_case, p_case = model.tvalues['total_MET_min_per_wk_0_0'], model.pvalues['total_MET_min_per_wk_0_0']\n",
    "    GM_ols.append([cols,t_case, p_case])\n",
    "    #print(cols,t_case,p_case)\n",
    "    if p_case < 0.05:\n",
    "        #print(cols,t_case,p_case,np.mean(X_GM_comp1[cols][X_GM_comp1[\"genome\"]==True]),np.mean(X_GM_comp1[cols][X_GM_comp1[\"genome\"]!=True]))\n",
    "        print(cols,t_case,p_case, model.params['total_MET_min_per_wk_0_0'], model.params['n_21003_0_0'])"
   ]
  },
  {
   "cell_type": "markdown",
   "metadata": {},
   "source": [
    "## REMOVE APOE E4e4; don't run this when training"
   ]
  },
  {
   "cell_type": "code",
   "execution_count": 7,
   "metadata": {
    "collapsed": true
   },
   "outputs": [],
   "source": [
    "E3e3 = df_dropped[df_dropped.index.isin(APOE3e3['n_eid_14631'])]"
   ]
  },
  {
   "cell_type": "code",
   "execution_count": 8,
   "metadata": {},
   "outputs": [
    {
     "data": {
      "text/plain": [
       "(2731, 338)"
      ]
     },
     "execution_count": 8,
     "metadata": {},
     "output_type": "execute_result"
    }
   ],
   "source": [
    "E3e3.shape"
   ]
  },
  {
   "cell_type": "code",
   "execution_count": 9,
   "metadata": {
    "collapsed": true
   },
   "outputs": [],
   "source": [
    "y_df = E3e3['n_21003_0_0']\n",
    "X_df = E3e3.drop(['n_21003_0_0'], axis=1)\n",
    "\n",
    "X = X_df.as_matrix().astype(np.float)\n",
    "y = y_df.as_matrix().astype(np.float)\n",
    "\n",
    "from sklearn.preprocessing import StandardScaler\n",
    "scaler = StandardScaler()\n",
    "X = scaler.fit_transform(X)\n"
   ]
  },
  {
   "cell_type": "code",
   "execution_count": 10,
   "metadata": {},
   "outputs": [
    {
     "name": "stdout",
     "output_type": "stream",
     "text": [
      "Averaged True Age:55.7067008422\n",
      "(2731, 337)\n"
     ]
    }
   ],
   "source": [
    "print(\"Averaged True Age:\"+str(np.mean(y)))\n",
    "print(X_df.shape)"
   ]
  },
  {
   "cell_type": "code",
   "execution_count": 11,
   "metadata": {},
   "outputs": [
    {
     "data": {
      "text/plain": [
       "337"
      ]
     },
     "execution_count": 11,
     "metadata": {},
     "output_type": "execute_result"
    }
   ],
   "source": [
    "feature_names = X_df.columns.values\n",
    "len(feature_names)"
   ]
  },
  {
   "cell_type": "code",
   "execution_count": 14,
   "metadata": {
    "collapsed": true
   },
   "outputs": [],
   "source": [
    "E4e4 = df_dropped[df_dropped.index.isin(APOE4e4['n_eid_14631'])]\n",
    "\n",
    "y_e4 = E4e4['n_21003_0_0']\n",
    "X_e4 = E4e4.drop(['n_21003_0_0'], axis=1)\n",
    "\n",
    "X_e4 = X_e4.as_matrix().astype(np.float)\n",
    "y_e4 = y_e4.as_matrix().astype(np.float)\n",
    "\n",
    "from sklearn.preprocessing import StandardScaler\n",
    "scaler = StandardScaler()\n",
    "X_e4 = scaler.fit_transform(X_e4)"
   ]
  },
  {
   "cell_type": "code",
   "execution_count": 15,
   "metadata": {
    "collapsed": true
   },
   "outputs": [],
   "source": [
    "E2e2 = df_dropped[df_dropped.index.isin(APOE2e2['n_eid_14631'])]\n",
    "\n",
    "y_e2 = E2e2['n_21003_0_0']\n",
    "X_e2 = E2e2.drop(['n_21003_0_0'], axis=1)\n",
    "\n",
    "X_e2 = X_e2.as_matrix().astype(np.float)\n",
    "y_e2 = y_e2.as_matrix().astype(np.float)\n",
    "\n",
    "from sklearn.preprocessing import StandardScaler\n",
    "scaler = StandardScaler()\n",
    "X_e2 = scaler.fit_transform(X_e2)"
   ]
  },
  {
   "cell_type": "code",
   "execution_count": 31,
   "metadata": {},
   "outputs": [
    {
     "name": "stdout",
     "output_type": "stream",
     "text": [
      "Train on 2457 samples, validate on 274 samples\n",
      "Epoch 1/100\n",
      "2457/2457 [==============================] - 2s 712us/step - loss: 52.3566 - mean_squared_error: 2803.5614 - mean_absolute_error: 52.3566 - val_loss: 43.8402 - val_mean_squared_error: 1988.4719 - val_mean_absolute_error: 43.8402\n",
      "Epoch 2/100\n",
      "2457/2457 [==============================] - 0s 135us/step - loss: 36.7812 - mean_squared_error: 1452.3766 - mean_absolute_error: 36.7812 - val_loss: 21.0426 - val_mean_squared_error: 540.0635 - val_mean_absolute_error: 21.0426\n",
      "Epoch 3/100\n",
      "2457/2457 [==============================] - 0s 142us/step - loss: 15.0413 - mean_squared_error: 392.9651 - mean_absolute_error: 15.0413 - val_loss: 14.8941 - val_mean_squared_error: 356.5610 - val_mean_absolute_error: 14.8941\n",
      "Epoch 4/100\n",
      "2457/2457 [==============================] - 0s 139us/step - loss: 19.5027 - mean_squared_error: 700.7433 - mean_absolute_error: 19.5027 - val_loss: 9.1696 - val_mean_squared_error: 133.7253 - val_mean_absolute_error: 9.1696\n",
      "Epoch 5/100\n",
      "2457/2457 [==============================] - 0s 141us/step - loss: 11.0873 - mean_squared_error: 247.9000 - mean_absolute_error: 11.0873 - val_loss: 14.2926 - val_mean_squared_error: 265.2674 - val_mean_absolute_error: 14.2926\n",
      "Epoch 6/100\n",
      "2457/2457 [==============================] - 0s 138us/step - loss: 13.1634 - mean_squared_error: 257.3466 - mean_absolute_error: 13.1634 - val_loss: 15.9256 - val_mean_squared_error: 309.7606 - val_mean_absolute_error: 15.9256\n",
      "Epoch 7/100\n",
      "2457/2457 [==============================] - 0s 168us/step - loss: 11.7702 - mean_squared_error: 224.0300 - mean_absolute_error: 11.7702 - val_loss: 8.3529 - val_mean_squared_error: 104.3307 - val_mean_absolute_error: 8.3529\n",
      "Epoch 8/100\n",
      "2457/2457 [==============================] - 0s 161us/step - loss: 9.1011 - mean_squared_error: 153.9940 - mean_absolute_error: 9.1011 - val_loss: 7.4027 - val_mean_squared_error: 86.2065 - val_mean_absolute_error: 7.4027\n",
      "Epoch 9/100\n",
      "2457/2457 [==============================] - 0s 172us/step - loss: 10.6018 - mean_squared_error: 210.9149 - mean_absolute_error: 10.6018 - val_loss: 6.9804 - val_mean_squared_error: 73.8308 - val_mean_absolute_error: 6.9804\n",
      "Epoch 10/100\n",
      "2457/2457 [==============================] - 0s 177us/step - loss: 8.2679 - mean_squared_error: 141.7868 - mean_absolute_error: 8.2679 - val_loss: 10.0375 - val_mean_squared_error: 139.9692 - val_mean_absolute_error: 10.0375\n",
      "Epoch 11/100\n",
      "2457/2457 [==============================] - 0s 142us/step - loss: 8.8005 - mean_squared_error: 137.0858 - mean_absolute_error: 8.8005 - val_loss: 9.2190 - val_mean_squared_error: 120.0021 - val_mean_absolute_error: 9.2190\n",
      "Epoch 12/100\n",
      "2457/2457 [==============================] - 1s 206us/step - loss: 7.8599 - mean_squared_error: 120.2479 - mean_absolute_error: 7.8599 - val_loss: 6.3791 - val_mean_squared_error: 62.6252 - val_mean_absolute_error: 6.3791\n",
      "Epoch 13/100\n",
      "2457/2457 [==============================] - 0s 144us/step - loss: 8.0606 - mean_squared_error: 128.9052 - mean_absolute_error: 8.0606 - val_loss: 6.1782 - val_mean_squared_error: 59.5672 - val_mean_absolute_error: 6.1782\n",
      "Epoch 14/100\n",
      "2457/2457 [==============================] - 1s 216us/step - loss: 7.5743 - mean_squared_error: 110.5176 - mean_absolute_error: 7.5743 - val_loss: 7.9239 - val_mean_squared_error: 90.3378 - val_mean_absolute_error: 7.9239\n",
      "Epoch 15/100\n",
      "2457/2457 [==============================] - 0s 152us/step - loss: 7.6140 - mean_squared_error: 96.7026 - mean_absolute_error: 7.6140 - val_loss: 8.4282 - val_mean_squared_error: 100.5755 - val_mean_absolute_error: 8.4282\n",
      "Epoch 16/100\n",
      "2457/2457 [==============================] - 1s 207us/step - loss: 7.0506 - mean_squared_error: 85.8916 - mean_absolute_error: 7.0506 - val_loss: 6.6651 - val_mean_squared_error: 66.1932 - val_mean_absolute_error: 6.6651\n",
      "Epoch 17/100\n",
      "2457/2457 [==============================] - 0s 161us/step - loss: 7.1473 - mean_squared_error: 93.6136 - mean_absolute_error: 7.1473 - val_loss: 6.4930 - val_mean_squared_error: 63.6226 - val_mean_absolute_error: 6.4930\n",
      "Epoch 18/100\n",
      "2457/2457 [==============================] - 0s 198us/step - loss: 6.9120 - mean_squared_error: 86.4383 - mean_absolute_error: 6.9120 - val_loss: 7.8758 - val_mean_squared_error: 87.5639 - val_mean_absolute_error: 7.8758\n",
      "Epoch 19/100\n",
      "2457/2457 [==============================] - 0s 163us/step - loss: 6.8683 - mean_squared_error: 81.4114 - mean_absolute_error: 6.8683 - val_loss: 7.6785 - val_mean_squared_error: 84.0953 - val_mean_absolute_error: 7.6785\n",
      "Epoch 20/100\n",
      "2457/2457 [==============================] - 0s 184us/step - loss: 6.8490 - mean_squared_error: 77.3978 - mean_absolute_error: 6.8490 - val_loss: 6.7270 - val_mean_squared_error: 66.6164 - val_mean_absolute_error: 6.7270\n",
      "Epoch 21/100\n",
      "2457/2457 [==============================] - 0s 144us/step - loss: 6.5887 - mean_squared_error: 77.5330 - mean_absolute_error: 6.5887 - val_loss: 7.3097 - val_mean_squared_error: 76.8163 - val_mean_absolute_error: 7.3097\n",
      "Epoch 22/100\n",
      "2457/2457 [==============================] - 1s 206us/step - loss: 6.4801 - mean_squared_error: 74.4531 - mean_absolute_error: 6.4801 - val_loss: 8.0902 - val_mean_squared_error: 92.4957 - val_mean_absolute_error: 8.0902\n",
      "Epoch 23/100\n",
      "2457/2457 [==============================] - 0s 157us/step - loss: 6.5638 - mean_squared_error: 72.1230 - mean_absolute_error: 6.5638 - val_loss: 7.1402 - val_mean_squared_error: 73.5020 - val_mean_absolute_error: 7.1402\n",
      "Epoch 24/100\n",
      "2457/2457 [==============================] - 0s 195us/step - loss: 6.3892 - mean_squared_error: 67.6776 - mean_absolute_error: 6.3892 - val_loss: 7.0302 - val_mean_squared_error: 71.6379 - val_mean_absolute_error: 7.0302\n",
      "Epoch 25/100\n",
      "2457/2457 [==============================] - 0s 149us/step - loss: 6.1570 - mean_squared_error: 62.3395 - mean_absolute_error: 6.1570 - val_loss: 8.0885 - val_mean_squared_error: 91.3865 - val_mean_absolute_error: 8.0885\n",
      "Epoch 26/100\n",
      "2457/2457 [==============================] - 0s 169us/step - loss: 6.3947 - mean_squared_error: 66.2135 - mean_absolute_error: 6.3947 - val_loss: 8.0179 - val_mean_squared_error: 90.4606 - val_mean_absolute_error: 8.0179\n",
      "Epoch 27/100\n",
      "2457/2457 [==============================] - 0s 157us/step - loss: 6.1981 - mean_squared_error: 62.3439 - mean_absolute_error: 6.1981 - val_loss: 7.0390 - val_mean_squared_error: 71.5977 - val_mean_absolute_error: 7.0390\n",
      "Epoch 28/100\n",
      "2457/2457 [==============================] - 1s 215us/step - loss: 6.0019 - mean_squared_error: 59.0828 - mean_absolute_error: 6.0019 - val_loss: 7.4331 - val_mean_squared_error: 79.0124 - val_mean_absolute_error: 7.4331\n",
      "Epoch 29/100\n",
      "2457/2457 [==============================] - 1s 216us/step - loss: 5.9754 - mean_squared_error: 56.8149 - mean_absolute_error: 5.9754 - val_loss: 8.0267 - val_mean_squared_error: 89.6395 - val_mean_absolute_error: 8.0267\n",
      "Epoch 30/100\n",
      "2457/2457 [==============================] - 0s 175us/step - loss: 5.9247 - mean_squared_error: 57.1279 - mean_absolute_error: 5.9247 - val_loss: 7.4418 - val_mean_squared_error: 78.4984 - val_mean_absolute_error: 7.4418\n",
      "Epoch 31/100\n",
      "2457/2457 [==============================] - 0s 202us/step - loss: 5.7162 - mean_squared_error: 53.9559 - mean_absolute_error: 5.7162 - val_loss: 8.1175 - val_mean_squared_error: 92.5565 - val_mean_absolute_error: 8.1175\n",
      "Epoch 32/100\n",
      "2457/2457 [==============================] - 0s 175us/step - loss: 5.6834 - mean_squared_error: 52.6754 - mean_absolute_error: 5.6834 - val_loss: 8.2007 - val_mean_squared_error: 94.5014 - val_mean_absolute_error: 8.2007\n",
      "Epoch 33/100\n",
      "2457/2457 [==============================] - 0s 158us/step - loss: 5.7066 - mean_squared_error: 51.7308 - mean_absolute_error: 5.7066 - val_loss: 7.7949 - val_mean_squared_error: 85.4283 - val_mean_absolute_error: 7.7949\n",
      "Epoch 34/100\n",
      "2457/2457 [==============================] - 1s 215us/step - loss: 5.7283 - mean_squared_error: 51.9199 - mean_absolute_error: 5.7283 - val_loss: 8.7005 - val_mean_squared_error: 103.7463 - val_mean_absolute_error: 8.7005\n",
      "Epoch 35/100\n",
      "2457/2457 [==============================] - 1s 215us/step - loss: 5.6816 - mean_squared_error: 51.5704 - mean_absolute_error: 5.6816 - val_loss: 8.3534 - val_mean_squared_error: 96.5615 - val_mean_absolute_error: 8.3534\n"
     ]
    },
    {
     "name": "stdout",
     "output_type": "stream",
     "text": [
      "Epoch 36/100\n",
      "2457/2457 [==============================] - 0s 147us/step - loss: 5.6590 - mean_squared_error: 51.7938 - mean_absolute_error: 5.6590 - val_loss: 8.6518 - val_mean_squared_error: 103.6192 - val_mean_absolute_error: 8.6518\n",
      "Epoch 37/100\n",
      "2457/2457 [==============================] - 0s 163us/step - loss: 5.6712 - mean_squared_error: 51.0011 - mean_absolute_error: 5.6712 - val_loss: 8.9310 - val_mean_squared_error: 109.8403 - val_mean_absolute_error: 8.9310\n",
      "Epoch 38/100\n",
      "2457/2457 [==============================] - 0s 199us/step - loss: 5.4674 - mean_squared_error: 48.2604 - mean_absolute_error: 5.4674 - val_loss: 8.7162 - val_mean_squared_error: 104.9306 - val_mean_absolute_error: 8.7162\n",
      "Epoch 39/100\n",
      "2457/2457 [==============================] - 0s 147us/step - loss: 5.4974 - mean_squared_error: 48.9069 - mean_absolute_error: 5.4974 - val_loss: 9.3659 - val_mean_squared_error: 118.4915 - val_mean_absolute_error: 9.3659\n",
      "Epoch 40/100\n",
      "2457/2457 [==============================] - 0s 198us/step - loss: 5.4161 - mean_squared_error: 47.3376 - mean_absolute_error: 5.4161 - val_loss: 8.8237 - val_mean_squared_error: 106.7057 - val_mean_absolute_error: 8.8237\n",
      "Epoch 41/100\n",
      "2457/2457 [==============================] - 0s 186us/step - loss: 5.4299 - mean_squared_error: 46.6646 - mean_absolute_error: 5.4299 - val_loss: 9.5340 - val_mean_squared_error: 121.3174 - val_mean_absolute_error: 9.5340\n",
      "Epoch 42/100\n",
      "2457/2457 [==============================] - 1s 233us/step - loss: 5.2725 - mean_squared_error: 44.3170 - mean_absolute_error: 5.2725 - val_loss: 8.9165 - val_mean_squared_error: 108.4484 - val_mean_absolute_error: 8.9165\n",
      "Epoch 43/100\n",
      "2457/2457 [==============================] - 0s 179us/step - loss: 5.2500 - mean_squared_error: 43.6155 - mean_absolute_error: 5.2500 - val_loss: 9.5953 - val_mean_squared_error: 123.5969 - val_mean_absolute_error: 9.5953\n",
      "Epoch 44/100\n",
      "2457/2457 [==============================] - 0s 158us/step - loss: 5.2511 - mean_squared_error: 43.5059 - mean_absolute_error: 5.2511 - val_loss: 9.5701 - val_mean_squared_error: 122.8140 - val_mean_absolute_error: 9.5701\n",
      "Epoch 45/100\n",
      "2457/2457 [==============================] - 1s 219us/step - loss: 5.1786 - mean_squared_error: 42.3215 - mean_absolute_error: 5.1786 - val_loss: 9.4480 - val_mean_squared_error: 118.6365 - val_mean_absolute_error: 9.4480\n",
      "Epoch 46/100\n",
      "2457/2457 [==============================] - 0s 203us/step - loss: 5.1292 - mean_squared_error: 42.5338 - mean_absolute_error: 5.1292 - val_loss: 10.2462 - val_mean_squared_error: 135.8283 - val_mean_absolute_error: 10.2462\n",
      "Epoch 47/100\n",
      "2457/2457 [==============================] - 0s 178us/step - loss: 4.9974 - mean_squared_error: 40.1391 - mean_absolute_error: 4.9974 - val_loss: 9.8385 - val_mean_squared_error: 127.7785 - val_mean_absolute_error: 9.8385\n",
      "Epoch 48/100\n",
      "2457/2457 [==============================] - 0s 149us/step - loss: 5.1432 - mean_squared_error: 42.5092 - mean_absolute_error: 5.1432 - val_loss: 10.0153 - val_mean_squared_error: 132.3569 - val_mean_absolute_error: 10.0153\n",
      "Epoch 49/100\n",
      "2457/2457 [==============================] - 0s 181us/step - loss: 5.0010 - mean_squared_error: 39.7770 - mean_absolute_error: 5.0010 - val_loss: 10.5417 - val_mean_squared_error: 143.6294 - val_mean_absolute_error: 10.5417\n",
      "Epoch 50/100\n",
      "2457/2457 [==============================] - 0s 156us/step - loss: 5.1112 - mean_squared_error: 41.7086 - mean_absolute_error: 5.1112 - val_loss: 10.2401 - val_mean_squared_error: 136.3613 - val_mean_absolute_error: 10.2401\n",
      "Epoch 51/100\n",
      "2457/2457 [==============================] - 0s 156us/step - loss: 5.0057 - mean_squared_error: 40.4876 - mean_absolute_error: 5.0057 - val_loss: 10.0666 - val_mean_squared_error: 131.8957 - val_mean_absolute_error: 10.0666\n",
      "Epoch 52/100\n",
      "2457/2457 [==============================] - 0s 148us/step - loss: 4.9292 - mean_squared_error: 38.0515 - mean_absolute_error: 4.9292 - val_loss: 10.3892 - val_mean_squared_error: 138.7938 - val_mean_absolute_error: 10.3892\n",
      "Epoch 53/100\n",
      "2457/2457 [==============================] - 0s 148us/step - loss: 4.9847 - mean_squared_error: 39.1456 - mean_absolute_error: 4.9847 - val_loss: 10.8229 - val_mean_squared_error: 148.5643 - val_mean_absolute_error: 10.8229\n",
      "Epoch 54/100\n",
      "2457/2457 [==============================] - 0s 159us/step - loss: 4.9348 - mean_squared_error: 38.2156 - mean_absolute_error: 4.9348 - val_loss: 10.6987 - val_mean_squared_error: 146.5461 - val_mean_absolute_error: 10.6987\n",
      "Epoch 55/100\n",
      "2457/2457 [==============================] - 0s 170us/step - loss: 4.8455 - mean_squared_error: 37.2853 - mean_absolute_error: 4.8455 - val_loss: 11.1301 - val_mean_squared_error: 158.2065 - val_mean_absolute_error: 11.1301\n",
      "Epoch 56/100\n",
      "2457/2457 [==============================] - 0s 180us/step - loss: 4.6866 - mean_squared_error: 35.6616 - mean_absolute_error: 4.6866 - val_loss: 10.6785 - val_mean_squared_error: 146.5254 - val_mean_absolute_error: 10.6785\n",
      "Epoch 57/100\n",
      "2457/2457 [==============================] - 1s 211us/step - loss: 4.7632 - mean_squared_error: 36.5978 - mean_absolute_error: 4.7632 - val_loss: 11.4117 - val_mean_squared_error: 161.8598 - val_mean_absolute_error: 11.4117\n",
      "Epoch 58/100\n",
      "2457/2457 [==============================] - 1s 324us/step - loss: 4.8266 - mean_squared_error: 37.7093 - mean_absolute_error: 4.8266 - val_loss: 10.9095 - val_mean_squared_error: 149.3328 - val_mean_absolute_error: 10.9095\n",
      "Epoch 59/100\n",
      "2457/2457 [==============================] - 1s 363us/step - loss: 4.7660 - mean_squared_error: 35.9201 - mean_absolute_error: 4.7660 - val_loss: 12.0218 - val_mean_squared_error: 176.1346 - val_mean_absolute_error: 12.0218\n",
      "Epoch 60/100\n",
      "2457/2457 [==============================] - 1s 324us/step - loss: 4.8113 - mean_squared_error: 35.7134 - mean_absolute_error: 4.8113 - val_loss: 11.0591 - val_mean_squared_error: 153.8158 - val_mean_absolute_error: 11.0591\n",
      "Epoch 61/100\n",
      "2457/2457 [==============================] - 1s 308us/step - loss: 4.5948 - mean_squared_error: 33.9563 - mean_absolute_error: 4.5948 - val_loss: 12.2621 - val_mean_squared_error: 183.7850 - val_mean_absolute_error: 12.2621\n",
      "Epoch 62/100\n",
      "2457/2457 [==============================] - 1s 287us/step - loss: 4.5594 - mean_squared_error: 33.9376 - mean_absolute_error: 4.5594 - val_loss: 11.9443 - val_mean_squared_error: 175.5277 - val_mean_absolute_error: 11.9443\n",
      "Epoch 63/100\n",
      "2457/2457 [==============================] - 1s 280us/step - loss: 4.4758 - mean_squared_error: 32.5929 - mean_absolute_error: 4.4758 - val_loss: 12.8312 - val_mean_squared_error: 198.8190 - val_mean_absolute_error: 12.8312\n",
      "Epoch 64/100\n",
      "2457/2457 [==============================] - 0s 173us/step - loss: 4.5434 - mean_squared_error: 32.4816 - mean_absolute_error: 4.5434 - val_loss: 11.8369 - val_mean_squared_error: 173.8125 - val_mean_absolute_error: 11.8369\n",
      "Epoch 65/100\n",
      "2457/2457 [==============================] - 0s 139us/step - loss: 4.6097 - mean_squared_error: 33.4660 - mean_absolute_error: 4.6097 - val_loss: 13.0027 - val_mean_squared_error: 204.3777 - val_mean_absolute_error: 13.0027\n",
      "Epoch 66/100\n",
      "2457/2457 [==============================] - 0s 136us/step - loss: 4.5352 - mean_squared_error: 32.6042 - mean_absolute_error: 4.5352 - val_loss: 12.0359 - val_mean_squared_error: 178.1216 - val_mean_absolute_error: 12.0359\n",
      "Epoch 67/100\n",
      "2457/2457 [==============================] - 0s 138us/step - loss: 4.5165 - mean_squared_error: 33.0165 - mean_absolute_error: 4.5165 - val_loss: 12.5858 - val_mean_squared_error: 190.9624 - val_mean_absolute_error: 12.5858\n",
      "Epoch 68/100\n",
      "2457/2457 [==============================] - 0s 135us/step - loss: 4.4221 - mean_squared_error: 31.2074 - mean_absolute_error: 4.4221 - val_loss: 12.9503 - val_mean_squared_error: 200.8984 - val_mean_absolute_error: 12.9503\n",
      "Epoch 69/100\n",
      "2457/2457 [==============================] - 0s 137us/step - loss: 4.5260 - mean_squared_error: 32.4210 - mean_absolute_error: 4.5260 - val_loss: 12.5763 - val_mean_squared_error: 191.0811 - val_mean_absolute_error: 12.5763\n",
      "Epoch 70/100\n",
      "2457/2457 [==============================] - 0s 134us/step - loss: 4.3939 - mean_squared_error: 31.0809 - mean_absolute_error: 4.3939 - val_loss: 13.3707 - val_mean_squared_error: 213.0388 - val_mean_absolute_error: 13.3707\n"
     ]
    },
    {
     "name": "stdout",
     "output_type": "stream",
     "text": [
      "Epoch 71/100\n",
      "2457/2457 [==============================] - 0s 136us/step - loss: 4.4222 - mean_squared_error: 30.9791 - mean_absolute_error: 4.4222 - val_loss: 13.1716 - val_mean_squared_error: 207.2398 - val_mean_absolute_error: 13.1716\n",
      "Epoch 72/100\n",
      "2457/2457 [==============================] - 0s 136us/step - loss: 4.4638 - mean_squared_error: 32.2475 - mean_absolute_error: 4.4638 - val_loss: 13.0977 - val_mean_squared_error: 205.1386 - val_mean_absolute_error: 13.0977\n",
      "Epoch 73/100\n",
      "2457/2457 [==============================] - 0s 144us/step - loss: 4.3368 - mean_squared_error: 29.9631 - mean_absolute_error: 4.3368 - val_loss: 13.6727 - val_mean_squared_error: 221.2068 - val_mean_absolute_error: 13.6727\n",
      "Epoch 74/100\n",
      "2457/2457 [==============================] - 0s 142us/step - loss: 4.3367 - mean_squared_error: 29.9414 - mean_absolute_error: 4.3367 - val_loss: 12.5372 - val_mean_squared_error: 191.3979 - val_mean_absolute_error: 12.5372\n",
      "Epoch 75/100\n",
      "2457/2457 [==============================] - 0s 138us/step - loss: 4.3422 - mean_squared_error: 30.1862 - mean_absolute_error: 4.3422 - val_loss: 14.0322 - val_mean_squared_error: 232.6853 - val_mean_absolute_error: 14.0322\n",
      "Epoch 76/100\n",
      "2457/2457 [==============================] - 0s 139us/step - loss: 4.2897 - mean_squared_error: 29.4313 - mean_absolute_error: 4.2897 - val_loss: 13.4580 - val_mean_squared_error: 215.9626 - val_mean_absolute_error: 13.4580\n",
      "Epoch 77/100\n",
      "2457/2457 [==============================] - 0s 142us/step - loss: 4.4009 - mean_squared_error: 31.0663 - mean_absolute_error: 4.4009 - val_loss: 13.6588 - val_mean_squared_error: 222.0937 - val_mean_absolute_error: 13.6588\n",
      "Epoch 78/100\n",
      "2457/2457 [==============================] - 0s 140us/step - loss: 4.1861 - mean_squared_error: 28.1546 - mean_absolute_error: 4.1861 - val_loss: 12.7847 - val_mean_squared_error: 198.2216 - val_mean_absolute_error: 12.7847\n",
      "Epoch 79/100\n",
      "2457/2457 [==============================] - 0s 139us/step - loss: 4.2794 - mean_squared_error: 29.1281 - mean_absolute_error: 4.2794 - val_loss: 14.0895 - val_mean_squared_error: 233.4643 - val_mean_absolute_error: 14.0895\n",
      "Epoch 80/100\n",
      "2457/2457 [==============================] - 0s 139us/step - loss: 4.2549 - mean_squared_error: 28.9060 - mean_absolute_error: 4.2549 - val_loss: 12.7221 - val_mean_squared_error: 195.0698 - val_mean_absolute_error: 12.7221\n",
      "Epoch 81/100\n",
      "2457/2457 [==============================] - 0s 138us/step - loss: 4.2724 - mean_squared_error: 29.1578 - mean_absolute_error: 4.2724 - val_loss: 14.8516 - val_mean_squared_error: 256.6953 - val_mean_absolute_error: 14.8516\n",
      "Epoch 82/100\n",
      "2457/2457 [==============================] - 0s 136us/step - loss: 4.2004 - mean_squared_error: 27.8417 - mean_absolute_error: 4.2004 - val_loss: 12.9068 - val_mean_squared_error: 202.0114 - val_mean_absolute_error: 12.9068\n",
      "Epoch 83/100\n",
      "2457/2457 [==============================] - 0s 158us/step - loss: 4.1884 - mean_squared_error: 27.8961 - mean_absolute_error: 4.1884 - val_loss: 15.2167 - val_mean_squared_error: 269.0544 - val_mean_absolute_error: 15.2167\n",
      "Epoch 84/100\n",
      "2457/2457 [==============================] - 0s 142us/step - loss: 4.2465 - mean_squared_error: 28.5278 - mean_absolute_error: 4.2465 - val_loss: 13.2274 - val_mean_squared_error: 209.2790 - val_mean_absolute_error: 13.2274\n",
      "Epoch 85/100\n",
      "2457/2457 [==============================] - 0s 128us/step - loss: 4.1110 - mean_squared_error: 26.4574 - mean_absolute_error: 4.1110 - val_loss: 14.2433 - val_mean_squared_error: 237.5833 - val_mean_absolute_error: 14.2433\n",
      "Epoch 86/100\n",
      "2457/2457 [==============================] - 0s 127us/step - loss: 4.2012 - mean_squared_error: 28.3085 - mean_absolute_error: 4.2012 - val_loss: 15.3299 - val_mean_squared_error: 270.4286 - val_mean_absolute_error: 15.3299\n",
      "Epoch 87/100\n",
      "2457/2457 [==============================] - 0s 170us/step - loss: 4.2485 - mean_squared_error: 29.1982 - mean_absolute_error: 4.2485 - val_loss: 13.4995 - val_mean_squared_error: 215.7896 - val_mean_absolute_error: 13.4995\n",
      "Epoch 88/100\n",
      "2457/2457 [==============================] - 0s 147us/step - loss: 4.0673 - mean_squared_error: 26.4368 - mean_absolute_error: 4.0673 - val_loss: 15.0254 - val_mean_squared_error: 259.6320 - val_mean_absolute_error: 15.0254\n",
      "Epoch 89/100\n",
      "2457/2457 [==============================] - 0s 147us/step - loss: 4.1472 - mean_squared_error: 26.9849 - mean_absolute_error: 4.1472 - val_loss: 13.9142 - val_mean_squared_error: 227.7289 - val_mean_absolute_error: 13.9142\n",
      "Epoch 90/100\n",
      "2457/2457 [==============================] - 0s 141us/step - loss: 4.0649 - mean_squared_error: 26.2193 - mean_absolute_error: 4.0649 - val_loss: 14.4371 - val_mean_squared_error: 244.1468 - val_mean_absolute_error: 14.4371\n",
      "Epoch 91/100\n",
      "2457/2457 [==============================] - 0s 139us/step - loss: 3.9505 - mean_squared_error: 24.7503 - mean_absolute_error: 3.9505 - val_loss: 14.4572 - val_mean_squared_error: 244.1223 - val_mean_absolute_error: 14.4572\n",
      "Epoch 92/100\n",
      "2457/2457 [==============================] - 0s 142us/step - loss: 3.9875 - mean_squared_error: 24.8400 - mean_absolute_error: 3.9875 - val_loss: 14.8332 - val_mean_squared_error: 253.5798 - val_mean_absolute_error: 14.8332\n",
      "Epoch 93/100\n",
      "2457/2457 [==============================] - 0s 140us/step - loss: 3.9419 - mean_squared_error: 24.5953 - mean_absolute_error: 3.9419 - val_loss: 14.8647 - val_mean_squared_error: 254.3986 - val_mean_absolute_error: 14.8647\n",
      "Epoch 94/100\n",
      "2457/2457 [==============================] - 0s 150us/step - loss: 4.0182 - mean_squared_error: 25.4318 - mean_absolute_error: 4.0182 - val_loss: 14.6857 - val_mean_squared_error: 249.9328 - val_mean_absolute_error: 14.6857\n",
      "Epoch 95/100\n",
      "2457/2457 [==============================] - 0s 146us/step - loss: 3.9276 - mean_squared_error: 24.8507 - mean_absolute_error: 3.9276 - val_loss: 14.8682 - val_mean_squared_error: 256.2277 - val_mean_absolute_error: 14.8682\n",
      "Epoch 96/100\n",
      "2457/2457 [==============================] - 0s 139us/step - loss: 4.0003 - mean_squared_error: 25.2823 - mean_absolute_error: 4.0003 - val_loss: 14.6088 - val_mean_squared_error: 247.6806 - val_mean_absolute_error: 14.6088\n",
      "Epoch 97/100\n",
      "2457/2457 [==============================] - 0s 140us/step - loss: 4.0510 - mean_squared_error: 25.8753 - mean_absolute_error: 4.0510 - val_loss: 14.6330 - val_mean_squared_error: 247.8668 - val_mean_absolute_error: 14.6330\n",
      "Epoch 98/100\n",
      "2457/2457 [==============================] - 0s 169us/step - loss: 3.8978 - mean_squared_error: 24.6240 - mean_absolute_error: 3.8978 - val_loss: 14.9736 - val_mean_squared_error: 258.6595 - val_mean_absolute_error: 14.9736\n",
      "Epoch 99/100\n",
      "2457/2457 [==============================] - 0s 131us/step - loss: 3.9066 - mean_squared_error: 24.8541 - mean_absolute_error: 3.9066 - val_loss: 15.1513 - val_mean_squared_error: 264.2443 - val_mean_absolute_error: 15.1513\n",
      "Epoch 100/100\n",
      "2457/2457 [==============================] - 0s 132us/step - loss: 3.8226 - mean_squared_error: 23.2925 - mean_absolute_error: 3.8226 - val_loss: 14.7891 - val_mean_squared_error: 253.3779 - val_mean_absolute_error: 14.7891\n"
     ]
    },
    {
     "data": {
      "text/plain": [
       "<keras.callbacks.History at 0x154f73b00>"
      ]
     },
     "execution_count": 31,
     "metadata": {},
     "output_type": "execute_result"
    }
   ],
   "source": [
    "from keras.models import Sequential\n",
    "from keras.layers import Dense\n",
    "from keras.layers import Dropout\n",
    "import numpy\n",
    "# fix random seed for reproducibility\n",
    "numpy.random.seed(7)\n",
    "\n",
    "model = Sequential()\n",
    "model.add(Dense(256, input_dim=337, activation='relu'))\n",
    "model.add(Dropout(0.5))\n",
    "model.add(Dense(1024, activation='relu'))\n",
    "model.add(Dropout(0.5))\n",
    "model.add(Dense(256, activation='relu'))\n",
    "model.add(Dense(1, activation='linear'))\n",
    "\n",
    "# Compile model\n",
    "model.compile(loss='mae', optimizer='adam', metrics=['mse','mae'])\n",
    "\n",
    "# Fit the model\n",
    "model.fit(X, y, epochs=100, batch_size=1024, validation_split=0.1)\n"
   ]
  },
  {
   "cell_type": "code",
   "execution_count": 23,
   "metadata": {},
   "outputs": [
    {
     "ename": "TypeError",
     "evalue": "'History' object is not subscriptable",
     "output_type": "error",
     "traceback": [
      "\u001b[0;31m---------------------------------------------------------------------------\u001b[0m",
      "\u001b[0;31mTypeError\u001b[0m                                 Traceback (most recent call last)",
      "\u001b[0;32m<ipython-input-23-2dd65b1af64e>\u001b[0m in \u001b[0;36m<module>\u001b[0;34m()\u001b[0m\n\u001b[1;32m      1\u001b[0m \u001b[0;31m# print(model.history.keys())\u001b[0m\u001b[0;34m\u001b[0m\u001b[0;34m\u001b[0m\u001b[0m\n\u001b[1;32m      2\u001b[0m \u001b[0;31m# \"Loss\"\u001b[0m\u001b[0;34m\u001b[0m\u001b[0;34m\u001b[0m\u001b[0m\n\u001b[0;32m----> 3\u001b[0;31m \u001b[0mplt\u001b[0m\u001b[0;34m.\u001b[0m\u001b[0mplot\u001b[0m\u001b[0;34m(\u001b[0m\u001b[0mmodel\u001b[0m\u001b[0;34m.\u001b[0m\u001b[0mhistory\u001b[0m\u001b[0;34m[\u001b[0m\u001b[0;34m'loss'\u001b[0m\u001b[0;34m]\u001b[0m\u001b[0;34m)\u001b[0m\u001b[0;34m\u001b[0m\u001b[0m\n\u001b[0m\u001b[1;32m      4\u001b[0m \u001b[0mplt\u001b[0m\u001b[0;34m.\u001b[0m\u001b[0mplot\u001b[0m\u001b[0;34m(\u001b[0m\u001b[0mmodel\u001b[0m\u001b[0;34m.\u001b[0m\u001b[0mhistory\u001b[0m\u001b[0;34m[\u001b[0m\u001b[0;34m'val_loss'\u001b[0m\u001b[0;34m]\u001b[0m\u001b[0;34m)\u001b[0m\u001b[0;34m\u001b[0m\u001b[0m\n\u001b[1;32m      5\u001b[0m \u001b[0mplt\u001b[0m\u001b[0;34m.\u001b[0m\u001b[0mtitle\u001b[0m\u001b[0;34m(\u001b[0m\u001b[0;34m'model loss'\u001b[0m\u001b[0;34m)\u001b[0m\u001b[0;34m\u001b[0m\u001b[0m\n",
      "\u001b[0;31mTypeError\u001b[0m: 'History' object is not subscriptable"
     ]
    }
   ],
   "source": [
    "# print(model.history.keys())\n",
    "# \"Loss\"\n",
    "plt.plot(model.history['MAE'])\n",
    "plt.plot(model.history['val_los'])\n",
    "plt.title('model loss')\n",
    "plt.ylabel('loss')\n",
    "plt.xlabel('epoch')\n",
    "plt.legend(['train', 'validation'], loc='upper left')\n",
    "plt.show()"
   ]
  },
  {
   "cell_type": "code",
   "execution_count": null,
   "metadata": {
    "collapsed": true
   },
   "outputs": [],
   "source": [
    "# evaluate the model\n",
    "scores = model.evaluate(X, Y)\n",
    "print(\"\\n%s: %.2f%%\" % (model.metrics_names[1], scores[1]*100))\n",
    "\n",
    "# calculate predictions\n",
    "predictions = model.predict(X)\n",
    "# round predictions\n",
    "rounded = [round(x[0]) for x in predictions]\n",
    "print(rounded)"
   ]
  }
 ],
 "metadata": {
  "kernelspec": {
   "display_name": "Python 3",
   "language": "python",
   "name": "python3"
  },
  "language_info": {
   "codemirror_mode": {
    "name": "ipython",
    "version": 3
   },
   "file_extension": ".py",
   "mimetype": "text/x-python",
   "name": "python",
   "nbconvert_exporter": "python",
   "pygments_lexer": "ipython3",
   "version": "3.6.5"
  }
 },
 "nbformat": 4,
 "nbformat_minor": 2
}
